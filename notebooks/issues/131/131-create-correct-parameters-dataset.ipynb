{
 "cells": [
  {
   "cell_type": "markdown",
   "metadata": {},
   "source": [
    "## Problem:\n",
    "The problem is that LWC and NBC are too low by a factor of 2.\n",
    "The origin of this issue is not yet clear!\n",
    "\n",
    "## Solution:\n",
    "simply multiply the scale factor of the parameter dataset by ``2``!!"
   ]
  },
  {
   "cell_type": "code",
   "execution_count": null,
   "metadata": {},
   "outputs": [],
   "source": [
    "import xarray as xr\n",
    "from pathlib import Path\n",
    "from sdm_eurec4a import RepositoryPath\n",
    "\n",
    "RepoPaths = RepositoryPath(\"levante\")"
   ]
  },
  {
   "cell_type": "markdown",
   "metadata": {},
   "source": [
    "### Data loading"
   ]
  },
  {
   "cell_type": "code",
   "execution_count": null,
   "metadata": {},
   "outputs": [],
   "source": [
    "OBS_data_dir = RepoPaths.data_dir\n",
    "input_path = OBS_data_dir / Path(\"model/input_v4.0/\")\n",
    "assert input_path.is_dir()\n",
    "output_path = OBS_data_dir / Path(\"model/input_v4.1/\")\n",
    "output_path.mkdir(exist_ok=True, parents=False)\n",
    "\n",
    "psd_name = \"particle_size_distribution_parameters.nc\"\n",
    "psd_linear_name = \"particle_size_distribution_parameters_linear_space.nc\"\n",
    "potential_temperature_name = \"potential_temperature_parameters.nc\"\n",
    "relative_humidity_name = \"relative_humidity_parameters.nc\"\n",
    "pressure_name = \"pressure_parameters.nc\"\n",
    "names = [psd_name, psd_linear_name, potential_temperature_name, relative_humidity_name, pressure_name]\n",
    "# copy all these file to the new directory"
   ]
  },
  {
   "cell_type": "markdown",
   "metadata": {},
   "source": [
    "### Copy and adjust datasets if necessary"
   ]
  },
  {
   "cell_type": "code",
   "execution_count": null,
   "metadata": {},
   "outputs": [],
   "source": [
    "for name in names:\n",
    "    ds = xr.open_dataset(input_path / Path(name))\n",
    "    ds.to_netcdf(output_path / Path(name))\n",
    "    ds.close()\n",
    "# modify the psd file\n",
    "\n",
    "for name in [psd_name, psd_linear_name]:\n",
    "    ds_parameters = xr.open_dataset(input_path / Path(name))\n",
    "    ds_parameters[\"scale_factor1\"] = 2 * ds_parameters[\"scale_factor1\"]\n",
    "    ds_parameters[\"scale_factor2\"] = 2 * ds_parameters[\"scale_factor2\"]\n",
    "    ds_parameters.to_netcdf(output_path / Path(name))\n",
    "    ds_parameters.close()"
   ]
  },
  {
   "cell_type": "markdown",
   "metadata": {},
   "source": [
    "### Validate the datasets are the same.\n",
    "nans in div are due to 0 / 0 calculation.\n",
    "The diff in scale factors is expected, BUT the div needs to be 2!"
   ]
  },
  {
   "cell_type": "code",
   "execution_count": null,
   "metadata": {},
   "outputs": [],
   "source": [
    "for name in names:\n",
    "    print(\"------\")\n",
    "    print(name)\n",
    "    ds = xr.open_dataset(input_path / Path(name))\n",
    "    ds_new = xr.open_dataset(output_path / Path(name))\n",
    "\n",
    "    ljust_front = 20\n",
    "    ljust_num = 11\n",
    "\n",
    "    print(\n",
    "        \"\".ljust(ljust_front),\n",
    "        \"div mean\".ljust(ljust_num),\n",
    "        \"div std\".ljust(ljust_num),\n",
    "        \"diff mean\".ljust(ljust_num),\n",
    "        \"diff std\".ljust(ljust_num),\n",
    "    )\n",
    "    for var in list(ds.variables):\n",
    "        var = str(var)\n",
    "        div_mean = f\"{((ds_new[var] / ds[var]).mean().values):.2e}\".ljust(ljust_num)\n",
    "        div_std = f\"{((ds_new[var] / ds[var]).std().values):.2e}\".ljust(ljust_num)\n",
    "        diff_mean = f\"{((ds_new[var]  - ds[var]).mean().values):.2e}\".ljust(ljust_num)\n",
    "        diff_std = f\"{((ds_new[var]  - ds[var]).std().values):.2e}\".ljust(ljust_num)\n",
    "\n",
    "        print(var.ljust(ljust_front), div_mean, div_std, diff_mean, diff_std)\n",
    "    ds.close()\n",
    "    ds_new.close()"
   ]
  }
 ],
 "metadata": {
  "kernelspec": {
   "display_name": "sdm_pysd_python312",
   "language": "python",
   "name": "python3"
  },
  "language_info": {
   "codemirror_mode": {
    "name": "ipython",
    "version": 3
   },
   "file_extension": ".py",
   "mimetype": "text/x-python",
   "name": "python",
   "nbconvert_exporter": "python",
   "pygments_lexer": "ipython3",
   "version": "3.12.8"
  }
 },
 "nbformat": 4,
 "nbformat_minor": 2
}
