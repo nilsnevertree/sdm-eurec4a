{
 "cells": [
  {
   "cell_type": "code",
   "execution_count": null,
   "metadata": {},
   "outputs": [],
   "source": [
    "import numpy as np\n",
    "import xarray as xr\n",
    "from pathlib import Path\n",
    "import matplotlib.pyplot as plt\n",
    "\n",
    "directory = Path(r\"C:\\Users\\Niebaum\\Desktop\\dataset\")"
   ]
  },
  {
   "cell_type": "code",
   "execution_count": null,
   "metadata": {},
   "outputs": [],
   "source": [
    "drop_sondes = xr.open_dataset(directory / \"drop_sondes.nc\")\n",
    "distance = xr.open_dataset(directory / \"distance_dropsondes_identified_clusters_rain_mask_5.nc\")\n",
    "safir = xr.open_dataset(directory / \"EUREC4A_SAFIRE_ATR_Core_1Hz_20200202_as200009_L2_V2.nc\")\n",
    "cloud_composite = xr.open_dataset(directory / \"train_cc.nc\")\n",
    "\n",
    "\n",
    "safir[\"time\"] = safir[\"time\"].astype(\"datetime64[s]\")\n",
    "cloud_composite[\"time\"] = cloud_composite[\"time\"].astype(\"datetime64[s]\")"
   ]
  },
  {
   "cell_type": "code",
   "execution_count": null,
   "metadata": {},
   "outputs": [],
   "source": [
    "time_slice = slice(\"2020-02-02 14:55\", \"2020-02-02 15:10\")\n",
    "new_time = cloud_composite[\"time\"].sel(time=time_slice)\n",
    "new_time_slice = slice(new_time.min(), new_time.max() + np.timedelta64(500, \"ms\"))"
   ]
  },
  {
   "cell_type": "code",
   "execution_count": null,
   "metadata": {},
   "outputs": [
    {
     "data": {
      "text/plain": [
       "(78, 78)"
      ]
     },
     "execution_count": null,
     "metadata": {},
     "output_type": "execute_result"
    }
   ],
   "source": [
    "ds1 = safir.sel(time=new_time_slice)\n",
    "ds2 = cloud_composite.sel(time=new_time_slice)\n",
    "len(ds1.time), len(ds2.time)"
   ]
  },
  {
   "cell_type": "code",
   "execution_count": null,
   "metadata": {},
   "outputs": [
    {
     "data": {
      "text/plain": [
       "(0.0, 0.7)"
      ]
     },
     "execution_count": null,
     "metadata": {},
     "output_type": "execute_result"
    }
   ],
   "source": [
    "plt.plot(ds1[\"LWC\"], 1e3 * ds2[\"liquid_water_content\"], marker=\"x\", linestyle=\"None\")\n",
    "# plot 1 to 1 line\n",
    "plt.plot([0, 1], [0, 1])\n",
    "plt.xlim([0, 0.7])\n",
    "plt.ylim([0, 0.7])"
   ]
  },
  {
   "cell_type": "code",
   "execution_count": null,
   "metadata": {},
   "outputs": [],
   "source": [
    "ds1[\"ABS_HU1\"]"
   ]
  },
  {
   "cell_type": "code",
   "execution_count": null,
   "metadata": {},
   "outputs": [
    {
     "data": {
      "text/plain": [
       "<matplotlib.collections.PathCollection at 0x18ccc705ba0>"
      ]
     },
     "execution_count": null,
     "metadata": {},
     "output_type": "execute_result"
    }
   ],
   "source": [
    "plt.scatter(\n",
    "    ds1[\"ABS_HU1\"],\n",
    "    ds1[\"ABS_HU2\"],\n",
    "    marker=\"x\",\n",
    "    linestyle=\"None\",\n",
    ")"
   ]
  },
  {
   "cell_type": "code",
   "execution_count": null,
   "metadata": {},
   "outputs": [],
   "source": [
    "def absolte_to_specific(\n",
    "    absolute_humidity: xr.DataArray,\n",
    "    pressure: xr.DataArray,\n",
    "    temperature: xr.DataArray,\n",
    "    R_v: float = 461,  # J K-1 kg-1\n",
    "    epsilon: float = 0.622,\n",
    "):\n",
    "\n",
    "    e = R_v * absolute_humidity * temperature\n",
    "\n",
    "    return epsilon * e / (pressure)  #   - e * (epsilon - 1))\n",
    "\n",
    "\n",
    "q2 = absolte_to_specific(ds1[\"ABS_HU1\"], ds1[\"PRESSURE\"], ds1[\"TEMPERATURE\"])"
   ]
  },
  {
   "cell_type": "code",
   "execution_count": null,
   "metadata": {},
   "outputs": [
    {
     "data": {
      "text/plain": [
       "[<matplotlib.lines.Line2D at 0x18cd2c3d9f0>]"
      ]
     },
     "execution_count": null,
     "metadata": {},
     "output_type": "execute_result"
    }
   ],
   "source": [
    "# q1.plot()\n",
    "q2.plot()"
   ]
  }
 ],
 "metadata": {
  "kernelspec": {
   "display_name": "climNum",
   "language": "python",
   "name": "python3"
  },
  "language_info": {
   "codemirror_mode": {
    "name": "ipython",
    "version": 3
   },
   "file_extension": ".py",
   "mimetype": "text/x-python",
   "name": "python",
   "nbconvert_exporter": "python",
   "pygments_lexer": "ipython3",
   "version": "3.10.13"
  }
 },
 "nbformat": 4,
 "nbformat_minor": 2
}
