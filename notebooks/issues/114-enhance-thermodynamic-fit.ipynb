{
 "cells": [
  {
   "cell_type": "code",
   "execution_count": null,
   "metadata": {},
   "outputs": [],
   "source": [
    "import numpy as np\n",
    "import xarray as xr\n",
    "from pathlib import Path\n",
    "import matplotlib.pyplot as plt\n",
    "import matplotlib.colors as mcolors\n",
    "from sdm_eurec4a import RepositoryPath\n",
    "from sdm_eurec4a.conversions import relative_humidity_partial_density, relative_humidity_dewpoint\n",
    "from sdm_eurec4a.visulization import set_custom_rcParams, label_from_attrs\n",
    "from sdm_eurec4a.reductions import mean_and_stderror_of_mean\n",
    "from sdm_eurec4a.identifications import match_clouds_and_dropsondes, match_clouds_and_cloudcomposite\n",
    "\n",
    "default_colors = set_custom_rcParams()\n",
    "repo_dir = RepositoryPath(\"levante\").get_repo_dir()"
   ]
  },
  {
   "cell_type": "code",
   "execution_count": null,
   "metadata": {},
   "outputs": [],
   "source": [
    "drop_sondes = xr.open_dataset(repo_dir / \"data/observation/dropsonde/processed/drop_sondes.nc\")\n",
    "distance = xr.open_dataset(\n",
    "    repo_dir\n",
    "    / \"data/observation/combined/distance/distance_dropsondes_identified_clusters_rain_mask_5.nc\"\n",
    ")\n",
    "safire = xr.open_dataset(repo_dir / \"data/observation/safire_core/processed/safire_core.nc\")\n",
    "cloud_composite = xr.open_dataset(\n",
    "    repo_dir / \"data/observation/cloud_composite/processed/cloud_composite_SI_units_20241025.nc\"\n",
    ")\n",
    "identified_clusters = xr.open_dataset(\n",
    "    repo_dir\n",
    "    / \"data/observation/cloud_composite/processed/identified_clusters/identified_clusters_rain_mask_5.nc\"\n",
    ")\n",
    "\n",
    "\n",
    "def select_subset(ds: xr.Dataset, altitude_name=\"altitude\", drop=False):\n",
    "\n",
    "    mask = (ds[altitude_name] <= 1200) & (ds[altitude_name] >= 500)\n",
    "    return ds.where(mask, drop=drop)\n",
    "\n",
    "\n",
    "safire = select_subset(safire, \"altitude\")\n",
    "cloud_composite = select_subset(cloud_composite, \"alt\")\n",
    "identified_clusters = select_subset(identified_clusters, \"alt\", drop=True)\n",
    "\n",
    "safire[\"relative_humidity_1\"] = relative_humidity = relative_humidity_partial_density(\n",
    "    temperature=safire[\"temperature\"],\n",
    "    partial_density=safire[\"absolute_humidity_1\"],\n",
    "    specific_gas_constant=461.5,\n",
    ")\n",
    "safire[\"relative_humidity_2\"] = relative_humidity = relative_humidity_partial_density(\n",
    "    temperature=safire[\"temperature\"],\n",
    "    partial_density=safire[\"absolute_humidity_2\"],\n",
    "    specific_gas_constant=461.5,\n",
    ")"
   ]
  },
  {
   "cell_type": "markdown",
   "metadata": {},
   "source": [
    "# Use the SAFIRE-CORE relative humidity values"
   ]
  },
  {
   "cell_type": "code",
   "execution_count": null,
   "metadata": {},
   "outputs": [],
   "source": [
    "shared_times = np.intersect1d(safire[\"time\"], cloud_composite[\"time\"])\n",
    "safire_shared = safire.sel(time=shared_times)\n",
    "cloud_composite_shared = cloud_composite.sel(time=shared_times)"
   ]
  },
  {
   "cell_type": "markdown",
   "metadata": {},
   "source": [
    "### Liquid water content\n",
    "\n",
    "It seems that the liquid water content for the SAFIRE-CORE is not good. There are negative values!"
   ]
  },
  {
   "cell_type": "code",
   "execution_count": null,
   "metadata": {},
   "outputs": [
    {
     "data": {
      "text/plain": [
       "Text(0, 0.5, 'COMPOSITE Liquid Water Content $\\\\left[  g m^{-3}  \\\\right]$')"
      ]
     },
     "execution_count": null,
     "metadata": {},
     "output_type": "execute_result"
    }
   ],
   "source": [
    "fig, ax = plt.subplots()\n",
    "ax.scatter(\n",
    "    x=safire_shared[\"liquid_water_content\"],\n",
    "    y=cloud_composite_shared[\"liquid_water_content\"],\n",
    "    marker=\".\",\n",
    "    alpha=0.2,\n",
    ")\n",
    "ax.set_xlabel(\"SAFIRE-CORE \" + label_from_attrs(safire_shared[\"liquid_water_content\"]))\n",
    "ax.set_ylabel(\"COMPOSITE \" + label_from_attrs(safire_shared[\"liquid_water_content\"]))"
   ]
  },
  {
   "cell_type": "code",
   "execution_count": null,
   "metadata": {},
   "outputs": [
    {
     "data": {
      "text/plain": [
       "Text(0.5, 0.98, 'Liquid Water Content comparison with R = 0.31')"
      ]
     },
     "execution_count": null,
     "metadata": {},
     "output_type": "execute_result"
    }
   ],
   "source": [
    "fig = plt.figure()\n",
    "gs = fig.add_gridspec(1, 11, hspace=1, wspace=1)\n",
    "\n",
    "ax_cc = fig.add_subplot(gs[0:9])\n",
    "cax = fig.add_subplot(gs[-1])\n",
    "\n",
    "range = [[-0.05, 3], [-0.05, 3]]\n",
    "\n",
    "_, _, _, mappable = ax_cc.hist2d(\n",
    "    safire_shared[\"liquid_water_content\"],\n",
    "    cloud_composite_shared[\"liquid_water_content\"],\n",
    "    range=range,\n",
    "    bins=100,\n",
    "    # marker=\".\",\n",
    "    # alpha=0.2,\n",
    "    norm=mcolors.LogNorm(vmax=100, vmin=1),\n",
    "    cmap=\"plasma\",\n",
    ")\n",
    "\n",
    "fig.colorbar(mappable=mappable, cax=cax, label=\"Occurence\")\n",
    "\n",
    "# ax.set_yscale('log')\n",
    "ax_cc.set_xlabel(\"SAFIRE-CORE \" + label_from_attrs(safire_shared[\"liquid_water_content\"]))\n",
    "ax_cc.set_ylabel(\"COMPOSITE \" + label_from_attrs(cloud_composite_shared[\"liquid_water_content\"]))\n",
    "\n",
    "corr = xr.corr(safire_shared[\"liquid_water_content\"], cloud_composite_shared[\"liquid_water_content\"])\n",
    "\n",
    "fig.suptitle(f\"Liquid Water Content comparison with R = {corr.data:.2f}\", fontsize=\"medium\")\n",
    "# fig.tight_layout()"
   ]
  },
  {
   "cell_type": "markdown",
   "metadata": {},
   "source": [
    "It can be seen, that the application of ta rolling mean does not help the problem"
   ]
  },
  {
   "cell_type": "code",
   "execution_count": null,
   "metadata": {},
   "outputs": [
    {
     "data": {
      "text/plain": [
       "Text(0.5, 0.98, 'Liquid Water Content comparison with R = 0.31')"
      ]
     },
     "execution_count": null,
     "metadata": {},
     "output_type": "execute_result"
    }
   ],
   "source": [
    "fig = plt.figure()\n",
    "gs = fig.add_gridspec(1, 11, hspace=1, wspace=1)\n",
    "\n",
    "ax_cc = fig.add_subplot(gs[0:9])\n",
    "cax = fig.add_subplot(gs[-1])\n",
    "\n",
    "range = [[-0.05, 3], [-0.05, 3]]\n",
    "\n",
    "_, _, _, mappable = ax_cc.hist2d(\n",
    "    safire_shared[\"liquid_water_content\"].rolling(time=10).mean(skipna=True),\n",
    "    cloud_composite_shared[\"liquid_water_content\"].rolling(time=10).mean(skipna=True),\n",
    "    range=range,\n",
    "    bins=100,\n",
    "    # marker=\".\",\n",
    "    # alpha=0.2,\n",
    "    norm=mcolors.LogNorm(vmax=100, vmin=1),\n",
    "    cmap=\"plasma\",\n",
    ")\n",
    "\n",
    "fig.colorbar(mappable=mappable, cax=cax, label=\"Occurence\")\n",
    "\n",
    "# ax.set_yscale('log')\n",
    "ax_cc.set_xlabel(\"SAFIRE-CORE \" + label_from_attrs(safire_shared[\"liquid_water_content\"]))\n",
    "ax_cc.set_ylabel(\"COMPOSITE \" + label_from_attrs(cloud_composite_shared[\"liquid_water_content\"]))\n",
    "\n",
    "corr = xr.corr(safire_shared[\"liquid_water_content\"], cloud_composite_shared[\"liquid_water_content\"])\n",
    "\n",
    "fig.suptitle(f\"Liquid Water Content comparison with R = {corr.data:.2f}\", fontsize=\"medium\")\n",
    "# fig.tight_layout()"
   ]
  },
  {
   "cell_type": "code",
   "execution_count": null,
   "metadata": {},
   "outputs": [
    {
     "data": {
      "text/plain": [
       "<matplotlib.collections.PathCollection at 0x7ffebc132d80>"
      ]
     },
     "execution_count": null,
     "metadata": {},
     "output_type": "execute_result"
    }
   ],
   "source": [
    "lags = np.arange(-20, 21, 1)\n",
    "corr = []\n",
    "corr_cc = []\n",
    "corr_ds = []\n",
    "\n",
    "\n",
    "ds1 = safire_shared[\"liquid_water_content\"].rolling(time=10).mean(skipna=True)\n",
    "ds2 = cloud_composite_shared[\"liquid_water_content\"].rolling(time=10).mean(skipna=True)\n",
    "\n",
    "for lag in lags:\n",
    "    corr.append(\n",
    "        xr.corr(\n",
    "            ds1.shift(time=lag),\n",
    "            ds2,\n",
    "        )\n",
    "    )\n",
    "    corr_cc.append(\n",
    "        xr.corr(\n",
    "            ds2.shift(time=lag),\n",
    "            ds2,\n",
    "        )\n",
    "    )\n",
    "    corr_ds.append(\n",
    "        xr.corr(\n",
    "            ds1.shift(time=lag),\n",
    "            ds1,\n",
    "        )\n",
    "    )\n",
    "\n",
    "plt.scatter(lags, corr)\n",
    "plt.scatter(lags, corr_cc, marker=\"x\")\n",
    "plt.scatter(lags, corr_ds, marker=\"+\")"
   ]
  },
  {
   "cell_type": "markdown",
   "metadata": {},
   "source": [
    "#### Relation of the Relative humidity to the LWCs"
   ]
  },
  {
   "cell_type": "code",
   "execution_count": null,
   "metadata": {},
   "outputs": [
    {
     "data": {
      "text/plain": [
       "Text(0.5, 0.98, 'Relative Humidity vs Liquid Water Content\\n3.50% of measurements has RH > 100%\\n1.45% of measurements has RH > 102%')"
      ]
     },
     "execution_count": null,
     "metadata": {},
     "output_type": "execute_result"
    }
   ],
   "source": [
    "mask = safire_shared[\"relative_humidity_1\"] > 100\n",
    "\n",
    "ds = safire_shared  # .where(mask)\n",
    "cc = cloud_composite_shared  # .sel(time = ds.time)\n",
    "\n",
    "above_102 = (ds[\"relative_humidity_1\"] > 102).sum()\n",
    "above_100 = (ds[\"relative_humidity_1\"] > 100).sum()\n",
    "\n",
    "fraction_100 = 100 * above_100 / np.isfinite(ds[\"relative_humidity_1\"]).sum()\n",
    "fraction_102 = 100 * above_102 / np.isfinite(ds[\"relative_humidity_1\"]).sum()\n",
    "\n",
    "# fig, axs = plt.subplots(ncols = 2, figsize = (9, 6))\n",
    "\n",
    "fig = plt.figure()\n",
    "gs = fig.add_gridspec(11, 21, hspace=1, wspace=1)\n",
    "\n",
    "ax_cc = fig.add_subplot(gs[1:, 0:9])\n",
    "ax_ds = fig.add_subplot(gs[1:, 10:19], sharey=ax_cc, sharex=ax_cc)\n",
    "cax = fig.add_subplot(gs[1:, -1])\n",
    "\n",
    "style = dict(\n",
    "    range=[[10, 130], [-0.55, 2.5]],\n",
    "    bins=[30, 50],\n",
    "    norm=mcolors.LogNorm(vmax=1e3, vmin=1),\n",
    "    cmap=\"plasma\",\n",
    ")\n",
    "\n",
    "\n",
    "ax_cc.hist2d(ds[\"relative_humidity_1\"], cc[\"liquid_water_content\"], **style)\n",
    "_, _, _, mappable = ax_ds.hist2d(ds[\"relative_humidity_1\"], ds[\"liquid_water_content\"], **style)\n",
    "\n",
    "fig.colorbar(mappable=mappable, cax=cax, label=\"Occurence\")\n",
    "\n",
    "for ax in [ax_cc, ax_ds]:\n",
    "    ax.axvline(100, color=\"black\", linestyle=\"--\")\n",
    "    ax.axhline(0.0, color=\"black\", linestyle=\"--\", alpha=0.5)\n",
    "\n",
    "\n",
    "# ax.set_yscale('log')\n",
    "ax_cc.set_xlabel(label_from_attrs(ds[\"relative_humidity_1\"]))\n",
    "ax_cc.set_ylabel(label_from_attrs(ds[\"liquid_water_content\"]))\n",
    "ax_ds.set_xlabel(label_from_attrs(ds[\"relative_humidity_1\"]))\n",
    "# ax_ds.set_ylabel(label_from_attrs(ds[\"liquid_water_content\"]))\n",
    "ax_cc.set_title(\"Cloud Composite LWC\")\n",
    "ax_ds.set_title(\"SAFIRE-CORE LWC\")\n",
    "\n",
    "fig.suptitle(\n",
    "    f\"Relative Humidity vs Liquid Water Content\\n{fraction_100.data:.2f}% of measurements has RH > 100%\\n{fraction_102.data:.2f}% of measurements has RH > 102%\",\n",
    "    fontsize=\"medium\",\n",
    ")\n",
    "# fig.tight_layout()"
   ]
  },
  {
   "cell_type": "markdown",
   "metadata": {},
   "source": [
    "### Single flight track\n",
    "\n",
    "We can see very high relative humidity values, exceeding 110%, which should not be the case.\n",
    "There can be multiple explanations for this:\n",
    "1. The calculations we use are not good. Maybe we need to consider the temperature dependecy of $L_V$ more. But we already use the most accurate estimation by Murphy and Koop!\n",
    "2. The temperature and absolute humidity values are not well related to each other. BUT the values exceed 100% for a consistent timeperiod  "
   ]
  },
  {
   "cell_type": "code",
   "execution_count": null,
   "metadata": {},
   "outputs": [],
   "source": [
    "single_flight_time_slice = slice(\"2020-02-13T08:45:00\", \"2020-02-13T11:00\")\n",
    "ds = safire.sel(time=single_flight_time_slice)\n",
    "cc = cloud_composite.sel(time=single_flight_time_slice)\n",
    "ic = identified_clusters.sel(time=single_flight_time_slice)"
   ]
  },
  {
   "cell_type": "markdown",
   "metadata": {},
   "source": [
    "Liquid water content"
   ]
  },
  {
   "cell_type": "code",
   "execution_count": null,
   "metadata": {},
   "outputs": [
    {
     "data": {
      "text/plain": [
       "Text(0.5, 1.0, 'Flight track and identified clusters')"
      ]
     },
     "execution_count": null,
     "metadata": {},
     "output_type": "execute_result"
    }
   ],
   "source": [
    "plt.figure(figsize=(3, 3))\n",
    "plt.plot(\n",
    "    ds[\"longitude\"],\n",
    "    ds[\"latitude\"],\n",
    "    marker=\"None\",\n",
    "    label=\"Flight track\",\n",
    ")\n",
    "plt.scatter(\n",
    "    ic.lon,\n",
    "    ic.lat,\n",
    "    color=\"k\",\n",
    "    label=\"identified clusters\",\n",
    ")\n",
    "\n",
    "plt.xlabel(\"Longitude\")\n",
    "plt.ylabel(\"Latitude\")\n",
    "plt.title(\"Flight track and identified clusters\")"
   ]
  },
  {
   "cell_type": "code",
   "execution_count": null,
   "metadata": {},
   "outputs": [
    {
     "data": {
      "text/plain": [
       "(0.03, 0.5614138745723619)"
      ]
     },
     "execution_count": null,
     "metadata": {},
     "output_type": "execute_result"
    }
   ],
   "source": [
    "fig, ax = plt.subplots()\n",
    "\n",
    "ax.plot(\n",
    "    ds[\"time\"],\n",
    "    ds[\"liquid_water_content\"],\n",
    "    label=\"SAFIRE-CORE\",\n",
    ")\n",
    "\n",
    "ax.plot(\n",
    "    cc[\"time\"],\n",
    "    cc[\"liquid_water_content\"],\n",
    "    label=\"Composite\",\n",
    ")\n",
    "\n",
    "ax.set_xlabel(\"Time\")\n",
    "ax.set_ylabel(label_from_attrs(ds[\"liquid_water_content\"]))\n",
    "ax.legend()\n",
    "# ax.set_yscale(\"log\")\n",
    "ax.set_ylim(3e-2, None)"
   ]
  },
  {
   "cell_type": "code",
   "execution_count": null,
   "metadata": {},
   "outputs": [],
   "source": [
    "fig, axs = plt.subplots(nrows=2, sharex=True, figsize=(9, 6))\n",
    "\n",
    "for ax in axs:\n",
    "    i = 0\n",
    "    for s, e in zip(ic[\"start\"], ic[\"end\"]):\n",
    "        if i == 0:\n",
    "            label = \"Rain Clouds\"\n",
    "        else:\n",
    "            label = None\n",
    "        ax.axvspan(s.data, e.data, color=\"grey\", alpha=0.5, label=label)\n",
    "        i += 1\n",
    "twinx_axs = [ax.twinx() for ax in axs]\n",
    "\n",
    "\n",
    "ds[\"relative_humidity_1\"].plot(\n",
    "    ax=axs[0],\n",
    "    linestyle=\"-\",\n",
    "    marker=\"None\",\n",
    "    label=\"RH\",\n",
    "    color=default_colors[0],\n",
    ")\n",
    "ds[\"relative_humidity_1\"].where(ds[\"relative_humidity_1\"] > 100).plot(\n",
    "    ax=axs[0],\n",
    "    linestyle=\"None\",\n",
    "    marker=\".\",\n",
    "    label=\"RH > 100 %\",\n",
    "    color=default_colors[1],\n",
    ")\n",
    "\n",
    "ah = 1e3 * ds[\"absolute_humidity_1\"]\n",
    "ah.attrs.update(units=\"g/m^3\", long_name=\"Absolute humidity\")\n",
    "\n",
    "ah.plot(\n",
    "    ax=twinx_axs[0],\n",
    "    linestyle=\"-\",\n",
    "    marker=\"None\",\n",
    "    label=\"AH\",\n",
    "    color=default_colors[2],\n",
    ")\n",
    "ah.where(ds[\"relative_humidity_1\"] > 100).plot(\n",
    "    ax=twinx_axs[0],\n",
    "    linestyle=\"None\",\n",
    "    marker=\".\",\n",
    "    label=\"AH for RH > 100 %\",\n",
    "    color=default_colors[3],\n",
    ")\n",
    "\n",
    "# SETUP SECOND PLOT\n",
    "\n",
    "ds[\"relative_humidity_2\"].plot(\n",
    "    ax=axs[1],\n",
    "    linestyle=\"-\",\n",
    "    marker=\"None\",\n",
    "    label=\"RH\",\n",
    "    color=default_colors[0],\n",
    ")\n",
    "ds[\"relative_humidity_2\"].where(ds[\"relative_humidity_2\"] > 100).plot(\n",
    "    ax=axs[1],\n",
    "    linestyle=\"None\",\n",
    "    marker=\".\",\n",
    "    label=\"RH > 100 %\",\n",
    "    color=default_colors[1],\n",
    ")\n",
    "\n",
    "ah = 1e3 * ds[\"absolute_humidity_2\"]\n",
    "ah.attrs.update(units=\"g/m^3\", long_name=\"Absolute humidity\")\n",
    "\n",
    "ah.plot(\n",
    "    ax=twinx_axs[1],\n",
    "    linestyle=\"-\",\n",
    "    marker=\"None\",\n",
    "    label=\"AH\",\n",
    "    color=default_colors[2],\n",
    ")\n",
    "ah.where(ds[\"relative_humidity_2\"] > 100).plot(\n",
    "    ax=twinx_axs[1],\n",
    "    linestyle=\"None\",\n",
    "    marker=\".\",\n",
    "    label=\"AH for RH > 100 %\",\n",
    "    color=default_colors[3],\n",
    ")\n",
    "\n",
    "\n",
    "fig.suptitle(\n",
    "    f\"SAFIRE-CORE relative humidity and absolute humidity\\nFlight number {ds.flight_number.mean().data}\",\n",
    "    fontsize=\"medium\",\n",
    ")\n",
    "axs[0].set_ylabel(label_from_attrs(ds[\"relative_humidity_1\"]))\n",
    "axs[1].set_ylabel(label_from_attrs(ah))\n",
    "axs[1].set_xlabel(\"Time\")\n",
    "axs[0].legend(loc=\"lower left\")\n",
    "twinx_axs[0].legend(loc=\"lower right\")\n",
    "\n",
    "axs[0].set_title(ds[\"absolute_humidity_1\"].attrs[\"comment\"])\n",
    "axs[1].set_title(ds[\"absolute_humidity_2\"].attrs[\"comment\"])\n",
    "\n",
    "fig.tight_layout()"
   ]
  },
  {
   "cell_type": "code",
   "execution_count": null,
   "metadata": {},
   "outputs": [],
   "source": [
    "fig, axs = plt.subplots(nrows=1, sharex=True, figsize=(9, 4.5))\n",
    "axs = [axs]\n",
    "twinx_axs = [ax.twinx() for ax in axs]\n",
    "\n",
    "ds[\"relative_humidity_1\"].plot(\n",
    "    ax=axs[0],\n",
    "    linestyle=\"-\",\n",
    "    marker=\"None\",\n",
    "    label=\"RH\",\n",
    "    color=default_colors[0],\n",
    ")\n",
    "ds[\"relative_humidity_1\"].where(ds[\"relative_humidity_1\"] > 100).plot(\n",
    "    ax=axs[0],\n",
    "    linestyle=\"None\",\n",
    "    marker=\".\",\n",
    "    label=\"RH > 100 %\",\n",
    "    color=default_colors[1],\n",
    ")\n",
    "\n",
    "ah = 1e3 * ds[\"absolute_humidity_1\"]\n",
    "ah.attrs.update(units=\"g/m^3\", long_name=\"Absolute humidity\")\n",
    "\n",
    "ah.plot(\n",
    "    ax=twinx_axs[0],\n",
    "    linestyle=\"-\",\n",
    "    marker=\"None\",\n",
    "    label=\"AH\",\n",
    "    color=default_colors[2],\n",
    ")\n",
    "ah.where(ds[\"relative_humidity_1\"] > 100).plot(\n",
    "    ax=twinx_axs[0],\n",
    "    linestyle=\"None\",\n",
    "    marker=\".\",\n",
    "    label=\"AH for RH > 100 %\",\n",
    "    color=default_colors[3],\n",
    ")\n",
    "\n",
    "fig.suptitle(\n",
    "    f\"SAFIRE-CORE relative humidity and absolute humidity\\nFlight number {ds.flight_number.mean().data}\",\n",
    "    fontsize=\"medium\",\n",
    ")\n",
    "axs[0].set_ylabel(label_from_attrs(ds[\"relative_humidity_1\"]))\n",
    "axs[0].set_xlabel(\"Time\")\n",
    "axs[0].legend(loc=\"lower left\")\n",
    "twinx_axs[0].legend(loc=\"lower right\")\n",
    "\n",
    "axs[0].set_title(ds[\"absolute_humidity_1\"].attrs[\"comment\"])\n",
    "\n",
    "fig.tight_layout()"
   ]
  },
  {
   "cell_type": "code",
   "execution_count": null,
   "metadata": {},
   "outputs": [
    {
     "data": {
      "text/plain": [
       "Text(0.5, 0.92, 'ATR trajectory with relative humidity for flight NUM [19.]')"
      ]
     },
     "execution_count": null,
     "metadata": {},
     "output_type": "execute_result"
    }
   ],
   "source": [
    "# plot the trajectory of the ATR aircraft in 3D with colors indicating the relative humidity\n",
    "\n",
    "longitude = ds[\"longitude\"]\n",
    "latitude = ds[\"latitude\"]\n",
    "altitude = ds[\"altitude\"]\n",
    "# color = ds['time'].where(mask)\n",
    "color = ds[\"relative_humidity_1\"].rolling(time=10).mean()\n",
    "\n",
    "\n",
    "fig = plt.figure(figsize=(8, 6))\n",
    "gs = fig.add_gridspec(10, 100)\n",
    "\n",
    "ax = fig.add_subplot(gs[:, :], projection=\"3d\")\n",
    "cax = fig.add_subplot(gs[2:-2, -3:])\n",
    "\n",
    "sc = ax.scatter(longitude, latitude, altitude, c=color, cmap=\"Blues\", marker=\".\")\n",
    "ax.scatter(\n",
    "    longitude.where(color >= 100),\n",
    "    latitude.where(color >= 100),\n",
    "    altitude.where(color >= 100),\n",
    "    color=\"red\",\n",
    "    marker=\"X\",\n",
    "    zorder=10,\n",
    ")\n",
    "fig.colorbar(cax=cax, mappable=sc, label=label_from_attrs(relative_humidity))\n",
    "\n",
    "ax.set_xlabel(\"Longitude\")\n",
    "ax.set_ylabel(\"Latitude\")\n",
    "ax.set_zlabel(\"Altitude\")\n",
    "\n",
    "flight_Numbers = np.unique((ds[\"flight_number\"])[~np.isnan((ds[\"flight_number\"]))])\n",
    "ax.set_title(f\"ATR trajectory with relative humidity for flight NUM {flight_Numbers}\")\n",
    "\n",
    "# fig.tight_layout()"
   ]
  },
  {
   "cell_type": "markdown",
   "metadata": {},
   "source": [
    "# Optimize the linear fits of the thermodynamic profiles"
   ]
  },
  {
   "cell_type": "markdown",
   "metadata": {},
   "source": [
    "identified_clusters"
   ]
  },
  {
   "cell_type": "code",
   "execution_count": null,
   "metadata": {},
   "outputs": [
    {
     "data": {
      "text/plain": [
       "(0.0, 1200.0)"
      ]
     },
     "execution_count": null,
     "metadata": {},
     "output_type": "execute_result"
    }
   ],
   "source": [
    "cloud_id = np.random.choice(identified_clusters[\"cloud_id\"].values)\n",
    "\n",
    "\n",
    "# time_slice = slice(ic.start.data, ic.end.data)\n",
    "# extended_time_slice = slice(ic.start.data - np.timedelta64(20, \"s\"), ic.end.data + np.timedelta64(20, \"s\"))\n",
    "# extended_time_slice = time_slice\n",
    "# ic = identified_clusters.sel(time = single_flight_time_slice)\n",
    "ic = identified_clusters.swap_dims({\"time\": \"cloud_id\"}).sel(cloud_id=cloud_id)\n",
    "\n",
    "drop_sondes_selected = match_clouds_and_dropsondes(\n",
    "    ds_clouds=ic,\n",
    "    ds_sonde=drop_sondes,\n",
    "    ds_distance=distance,\n",
    "    max_temporal_distance=np.timedelta64(2, \"h\"),\n",
    "    max_spatial_distance=0.5e2,\n",
    ")\n",
    "drop_sondes_selected_large = match_clouds_and_dropsondes(\n",
    "    ds_clouds=ic,\n",
    "    ds_sonde=drop_sondes,\n",
    "    ds_distance=distance,\n",
    "    max_temporal_distance=np.timedelta64(12, \"h\"),\n",
    "    max_spatial_distance=1e2,\n",
    ")\n",
    "\n",
    "if drop_sondes_selected[\"time\"].size == 0:\n",
    "    raise ValueError(\"No dropsondes found for the selected cloud\")\n",
    "\n",
    "cloud_composite_selected = match_clouds_and_cloudcomposite(\n",
    "    ds_clouds=ic,\n",
    "    ds_cloudcomposite=cloud_composite,\n",
    ")\n",
    "\n",
    "\n",
    "# cloud_composite_selected = cloud_composite_selected.sel(time = time_slice)\n",
    "safire_selected = safire.sel(time=cloud_composite_selected[\"time\"])\n",
    "\n",
    "plt.plot(\n",
    "    1e2 * drop_sondes_selected[\"relative_humidity\"].T,\n",
    "    drop_sondes_selected[\"alt\"],\n",
    "    color=\"grey\",\n",
    "    alpha=0.5,\n",
    ")\n",
    "\n",
    "plt.plot(\n",
    "    1e2 * drop_sondes_selected_large[\"relative_humidity\"].T,\n",
    "    drop_sondes_selected_large[\"alt\"],\n",
    "    color=\"grey\",\n",
    "    alpha=0.1,\n",
    ")\n",
    "\n",
    "\n",
    "plt.axhline(cloud_composite_selected[\"alt\"].mean(), color=\"grey\", linestyle=\"-\", alpha=0.3, zorder=0)\n",
    "\n",
    "m, sem = mean_and_stderror_of_mean(safire_selected[\"relative_humidity_1\"], dims=(\"time\",))\n",
    "m, sem = safire_selected[\"relative_humidity_1\"].mean(skipna=True), safire_selected[\n",
    "    \"relative_humidity_1\"\n",
    "].std(skipna=True)\n",
    "\n",
    "plt.errorbar(\n",
    "    x=m,\n",
    "    xerr=sem,\n",
    "    y=safire_selected[\"altitude\"].mean(),\n",
    "    marker=\".\",\n",
    "    alpha=0.3,\n",
    "    color=\"red\",\n",
    ")\n",
    "\n",
    "m, sem = mean_and_stderror_of_mean(safire_selected[\"relative_humidity_2\"], dims=(\"time\",))\n",
    "m, sem = safire_selected[\"relative_humidity_2\"].mean(skipna=True), safire_selected[\n",
    "    \"relative_humidity_2\"\n",
    "].std(skipna=True)\n",
    "plt.errorbar(\n",
    "    x=m,\n",
    "    xerr=sem,\n",
    "    y=safire_selected[\"altitude\"].mean(),\n",
    "    marker=\".\",\n",
    "    alpha=0.3,\n",
    "    color=\"blue\",\n",
    ")\n",
    "plt.ylim(0, 1200)"
   ]
  },
  {
   "cell_type": "code",
   "execution_count": null,
   "metadata": {},
   "outputs": [],
   "source": [
    "drop_sondes_selected"
   ]
  }
 ],
 "metadata": {
  "kernelspec": {
   "display_name": "sdm_eurec4a_env312",
   "language": "python",
   "name": "python3"
  },
  "language_info": {
   "codemirror_mode": {
    "name": "ipython",
    "version": 3
   },
   "file_extension": ".py",
   "mimetype": "text/x-python",
   "name": "python",
   "nbconvert_exporter": "python",
   "pygments_lexer": "ipython3",
   "version": "3.12.1"
  }
 },
 "nbformat": 4,
 "nbformat_minor": 2
}
