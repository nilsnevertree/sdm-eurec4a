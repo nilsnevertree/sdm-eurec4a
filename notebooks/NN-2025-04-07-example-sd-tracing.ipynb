{
 "cells": [
  {
   "cell_type": "code",
   "execution_count": null,
   "metadata": {},
   "outputs": [],
   "source": [
    "import numpy as np\n",
    "import xarray as xr\n",
    "import awkward as ak\n",
    "from pathlib import Path\n",
    "import matplotlib.pyplot as plt\n",
    "import matplotlib.colors as mcolors\n",
    "\n",
    "from pySD.sdmout_src import pysetuptxt, supersdata"
   ]
  },
  {
   "cell_type": "code",
   "execution_count": null,
   "metadata": {},
   "outputs": [],
   "source": [
    "def sizeof_fmt(num, suffix=\"B\"):\n",
    "    \"\"\"https://stackoverflow.com/a/1094933/16372843\"\"\"\n",
    "    for unit in (\"\", \"Ki\", \"Mi\", \"Gi\", \"Ti\", \"Pi\", \"Ei\", \"Zi\"):\n",
    "        if abs(num) < 1024.0:\n",
    "            return f\"{num:3.1f}{unit}{suffix}\"\n",
    "        num /= 1024.0\n",
    "    return f\"{num:.1f}Yi{suffix}\""
   ]
  },
  {
   "cell_type": "markdown",
   "metadata": {},
   "source": [
    "## Load zarr dataset"
   ]
  },
  {
   "cell_type": "code",
   "execution_count": null,
   "metadata": {},
   "outputs": [],
   "source": [
    "data_dir = Path(\"/home/m/m301096/CLEO/data/output_v4.2/coalbure_condensation_large/cluster_384/\")\n",
    "\n",
    "setupfile_path = data_dir / \"config\" / \"eurec4a1d_setup.txt\"\n",
    "statsfile_path = data_dir / \"config\" / \"eurec4a1d_stats.txt\"\n",
    "zarr_path = data_dir / \"eurec4a1d_sol.zarr\"\n",
    "\n",
    "# read in constants and config file from setup .txt file\n",
    "config = pysetuptxt.get_config(str(setupfile_path), nattrs=3, isprint=False)\n",
    "consts = pysetuptxt.get_consts(str(setupfile_path), isprint=False)\n",
    "# display(consts)\n",
    "# display(config)"
   ]
  },
  {
   "cell_type": "code",
   "execution_count": null,
   "metadata": {},
   "outputs": [],
   "source": [
    "ds_zarr = xr.open_zarr(zarr_path, consolidated=False)\n",
    "ds_zarr = ds_zarr.rename({\"gbxindex\": \"gridbox\"})\n",
    "ds_zarr[\"time\"] = np.round(ds_zarr[\"time\"], 1)\n",
    "ds_zarr"
   ]
  },
  {
   "cell_type": "markdown",
   "metadata": {},
   "source": [
    "## Example without explanation\n",
    "\n",
    "Goal: Extract maximum radius of superdroplets within a gridbox.\n",
    "\n",
    "**NOTE:** The name *index* should really be thought of as **dimension** or **coordinate**\n",
    "\n",
    "We can create a new coordinate, by converting the attribute into a coordinate (here still named index).\n",
    "Only this class instance can be used as a coordinate in the dataset. "
   ]
  },
  {
   "cell_type": "code",
   "execution_count": null,
   "metadata": {},
   "outputs": [
    {
     "name": "stdout",
     "output_type": "stream",
     "text": [
      "---- Superdrop Properties -----\n",
      "RHO_L = 998.203 Kg/m^3\n",
      "RHO_SOL = 2016.5 Kg/m^3\n",
      "MR_SOL = 0.05844277 Kg/mol\n",
      "IONIC = 2.0\n",
      "-------------------------------\n"
     ]
    },
    {
     "name": "stdout",
     "output_type": "stream",
     "text": [
      "Attribute coord1 not found in dataset\n",
      "Attribute coord2 not found in dataset\n"
     ]
    }
   ],
   "source": [
    "# craete the dataset class\n",
    "example_dataset = supersdata.SupersDataNew(\n",
    "    dataset=ds_zarr,\n",
    "    consts=consts,\n",
    ")\n",
    "\n",
    "# create data format, which can be used as coordinate for 'time' and gridbox 'sdgbxindex'\n",
    "example_dataset.set_attribute(example_dataset[\"time\"].attribute_to_indexer_unique())\n",
    "example_dataset.set_attribute(example_dataset[\"sdgbxindex\"].attribute_to_indexer_unique())\n",
    "\n",
    "# make these actual coordinates\n",
    "example_dataset.index_by_indexer(index=example_dataset[\"time\"])\n",
    "example_dataset.index_by_indexer(index=example_dataset[\"sdgbxindex\"])"
   ]
  },
  {
   "cell_type": "markdown",
   "metadata": {},
   "source": [
    "The dataset will have coordinates\n",
    "1. ``time``\n",
    "2. ``sdgbxindex``\n",
    "3. A ragged coordinate without a name. You have to know what data it contains.\n",
    "   In this case, for time T and gridbox G, it contains data of all superdroplets which are within gridbox G at timestep T. \n",
    "\n",
    "Below an example for the ``radius`` attribute"
   ]
  },
  {
   "cell_type": "code",
   "execution_count": null,
   "metadata": {},
   "outputs": [
    {
     "name": "stdout",
     "output_type": "stream",
     "text": [
      "radius (micro-m)\n",
      "1801 * 39 * var * float64\n"
     ]
    }
   ],
   "source": [
    "print(example_dataset[\"radius\"])"
   ]
  },
  {
   "cell_type": "markdown",
   "metadata": {},
   "source": [
    "Now we can extract the maximum radius of superdroplets with the ``ak.nanmax`` function.\n",
    "\n",
    "The output coordinates will be ``time``, ``sdgbxindex``. "
   ]
  },
  {
   "cell_type": "code",
   "execution_count": null,
   "metadata": {},
   "outputs": [
    {
     "data": {
      "text/plain": [
       "Text(0.5, 1.0, 'Maximum radius of superdroplets')"
      ]
     },
     "execution_count": null,
     "metadata": {},
     "output_type": "execute_result"
    }
   ],
   "source": [
    "# apply an awkward array function to the last dimension in the dataset ('time', 'sdgbxindex', ...)\n",
    "minimum_radius_gridbox = example_dataset.attribute_to_DataArray_reduction(\n",
    "    attribute_name=\"radius\", reduction_func=ak.nanmax\n",
    ")\n",
    "minimum_radius_gridbox.T.plot(norm=mcolors.LogNorm())\n",
    "plt.title(\"Maximum radius of superdroplets\")"
   ]
  },
  {
   "cell_type": "markdown",
   "metadata": {},
   "source": [
    "## Background"
   ]
  },
  {
   "cell_type": "markdown",
   "metadata": {},
   "source": [
    "You can see, that the dataset, contains a number of ``attributes``.\n",
    "A better name would be ``variables``, as in xarray Datasets.\n",
    "\n",
    "- The original variables from the zarr dataset were: ``['coord3', 'msol', 'radius', 'sdId', 'sdgbxindex', 'xi']``.\n",
    "- New variables are added for convience to this data vector of shape [6 x N], creating a vector of [9 x N]. N is the length of the ``superdroplets`` dimension. \n",
    "    - Theses are ``['mass', 'mass_represented', 'time']``\n",
    "    - ``mass`` ($m$) is simply the mass of each superdroplet if it would be a sphere.\n",
    "    - ``mass_represented`` is $\\xi \\cdot m$\n",
    "\n",
    "### How to deal with ``time``\n",
    "\n",
    "The original dimension ``time`` is not very different, from the other values of the given data vector.\n",
    "We can add the corresponding value of ``time`` to each of the N vector, along the ``superdroplets`` dimension.\n",
    "Now, each value in the underlying awkward-arrays contains related data. "
   ]
  },
  {
   "cell_type": "code",
   "execution_count": null,
   "metadata": {},
   "outputs": [
    {
     "name": "stdout",
     "output_type": "stream",
     "text": [
      "---- Superdrop Properties -----\n",
      "RHO_L = 998.203 Kg/m^3\n",
      "RHO_SOL = 2016.5 Kg/m^3\n",
      "MR_SOL = 0.05844277 Kg/mol\n",
      "IONIC = 2.0\n",
      "-------------------------------\n"
     ]
    },
    {
     "name": "stdout",
     "output_type": "stream",
     "text": [
      "Attribute coord1 not found in dataset\n",
      "Attribute coord2 not found in dataset\n"
     ]
    }
   ],
   "source": [
    "dataset = supersdata.SupersDataNew(\n",
    "    dataset=ds_zarr,\n",
    "    consts=consts,\n",
    ")"
   ]
  },
  {
   "cell_type": "code",
   "execution_count": null,
   "metadata": {},
   "outputs": [
    {
     "name": "stdout",
     "output_type": "stream",
     "text": [
      "Attributes:\n",
      "--------------\n",
      "sdId ()\n",
      "41082535 * uint32\n",
      "sdgbxindex ()\n",
      "41082535 * uint32\n",
      "xi ()\n",
      "41082535 * float64\n",
      "radius (micro-m)\n",
      "41082535 * float64\n",
      "msol (g)\n",
      "41082535 * float64\n",
      "coord3 (m)\n",
      "41082535 * float64\n",
      "time (s)\n",
      "41082535 * float64\n",
      "mass (kg)\n",
      "41082535 * float64\n",
      "mass_represented (kg)\n",
      "41082535 * float64\n",
      "\n",
      "Indexes:\n",
      "--------------\n",
      "\n"
     ]
    }
   ],
   "source": [
    "print(dataset)"
   ]
  },
  {
   "cell_type": "markdown",
   "metadata": {},
   "source": [
    "We can also take a look at the attributes, and will see that they are all SupersAttribute."
   ]
  },
  {
   "cell_type": "code",
   "execution_count": null,
   "metadata": {},
   "outputs": [
    {
     "data": {
      "text/plain": [
       "{'sdId': <pySD.sdmout_src.supersdata.SupersAttribute at 0x7ffb64766bd0>,\n",
       " 'sdgbxindex': <pySD.sdmout_src.supersdata.SupersAttribute at 0x7ffb64427020>,\n",
       " 'xi': <pySD.sdmout_src.supersdata.SupersAttribute at 0x7ffb40210ef0>,\n",
       " 'radius': <pySD.sdmout_src.supersdata.SupersAttribute at 0x7ffb4057cd70>,\n",
       " 'msol': <pySD.sdmout_src.supersdata.SupersAttribute at 0x7ffb403b0da0>,\n",
       " 'coord3': <pySD.sdmout_src.supersdata.SupersAttribute at 0x7ffb647ab2c0>,\n",
       " 'time': <pySD.sdmout_src.supersdata.SupersAttribute at 0x7ffb405e8b60>,\n",
       " 'mass': <pySD.sdmout_src.supersdata.SupersAttribute at 0x7ffb40212300>,\n",
       " 'mass_represented': <pySD.sdmout_src.supersdata.SupersAttribute at 0x7ffb4024e3f0>}"
      ]
     },
     "execution_count": null,
     "metadata": {},
     "output_type": "execute_result"
    }
   ],
   "source": [
    "dataset.attributes"
   ]
  },
  {
   "cell_type": "markdown",
   "metadata": {},
   "source": [
    "Each ``SupersAttribute`` has it's data stored as awkward array"
   ]
  },
  {
   "cell_type": "code",
   "execution_count": null,
   "metadata": {},
   "outputs": [
    {
     "name": "stdout",
     "output_type": "stream",
     "text": [
      "sdId ()\n",
      "41082535 * uint32\n"
     ]
    },
    {
     "data": {
      "text/html": [
       "<pre>[768,\n",
       " 256,\n",
       " 512,\n",
       " 257,\n",
       " 769,\n",
       " 258,\n",
       " 770,\n",
       " 259,\n",
       " 0,\n",
       " 771,\n",
       " ...,\n",
       " 1843868,\n",
       " 1843387,\n",
       " 1843752,\n",
       " 1843452,\n",
       " 1843214,\n",
       " 1843638,\n",
       " 1843885,\n",
       " 1844214,\n",
       " 1844058]\n",
       "-----------------------\n",
       "backend: cpu\n",
       "nbytes: 164.3 MB\n",
       "type: 41082535 * uint32</pre>"
      ],
      "text/plain": [
       "<Array [768, 256, 512, ..., 1843885, 1844214, 1844058] type='41082535 * uint32'>"
      ]
     },
     "metadata": {},
     "output_type": "display_data"
    }
   ],
   "source": [
    "print(dataset[\"sdId\"])\n",
    "display(dataset[\"sdId\"].data)"
   ]
  },
  {
   "cell_type": "markdown",
   "metadata": {},
   "source": [
    "## How to track superdroplets\n",
    "\n",
    "\n",
    "If we want to track all the superdroplets, we can think of the ``sdId`` data to become a new dimension of the dataset, similar to an xarray Dataset."
   ]
  },
  {
   "cell_type": "code",
   "execution_count": null,
   "metadata": {},
   "outputs": [
    {
     "name": "stdout",
     "output_type": "stream",
     "text": [
      "---- Superdrop Properties -----\n",
      "RHO_L = 998.203 Kg/m^3\n",
      "RHO_SOL = 2016.5 Kg/m^3\n",
      "MR_SOL = 0.05844277 Kg/mol\n",
      "IONIC = 2.0\n",
      "-------------------------------\n"
     ]
    },
    {
     "name": "stdout",
     "output_type": "stream",
     "text": [
      "Attribute coord1 not found in dataset\n",
      "Attribute coord2 not found in dataset\n",
      "sdId ()\n",
      "coord: [0, 1, 2, 3, 4, 5, 6, ..., 1844218, 1844219, 1844220, 1844221, 1844222, 1844223]\n",
      "41082535 * uint32\n",
      "41082535 * int64\n"
     ]
    }
   ],
   "source": [
    "# the method creates a new dimension, which contains all unique valus in the ``sdId`` data as coordinate values\n",
    "dataset1 = supersdata.SupersDataNew(\n",
    "    dataset=ds_zarr,\n",
    "    consts=consts,\n",
    ")\n",
    "superdroplet_dimension = dataset1[\"sdId\"].attribute_to_indexer_unique()\n",
    "print(superdroplet_dimension)"
   ]
  },
  {
   "cell_type": "markdown",
   "metadata": {},
   "source": [
    "This data class, has a attribute ``coord``.\n",
    "This is smaller, than the original data, because it only contains all the superdroplet IDs."
   ]
  },
  {
   "cell_type": "code",
   "execution_count": null,
   "metadata": {},
   "outputs": [
    {
     "name": "stdout",
     "output_type": "stream",
     "text": [
      "[0, 1, 2, 3, 4, 5, 6, ..., 1844218, 1844219, 1844220, 1844221, 1844222, 1844223]\n"
     ]
    }
   ],
   "source": [
    "print(superdroplet_dimension.coord)"
   ]
  },
  {
   "cell_type": "markdown",
   "metadata": {},
   "source": [
    "We have to add this new instance to the dataset. I know it's not super clean :/"
   ]
  },
  {
   "cell_type": "code",
   "execution_count": null,
   "metadata": {},
   "outputs": [],
   "source": [
    "dataset1.set_attribute(superdroplet_dimension)"
   ]
  },
  {
   "cell_type": "markdown",
   "metadata": {},
   "source": [
    "After this, we can transform the whole dataset, to have the ``sdId`` as a first dimension:"
   ]
  },
  {
   "cell_type": "code",
   "execution_count": null,
   "metadata": {},
   "outputs": [
    {
     "name": "stdout",
     "output_type": "stream",
     "text": [
      "Attributes:\n",
      "--------------\n",
      "sdId ()\n",
      "coord: [0, 1, 2, 3, 4, 5, 6, ..., 1844218, 1844219, 1844220, 1844221, 1844222, 1844223]\n",
      "1844224 * var * uint32\n",
      "1844224 * var * int64\n",
      "sdgbxindex ()\n",
      "1844224 * var * uint32\n",
      "xi ()\n",
      "1844224 * var * float64\n",
      "radius (micro-m)\n",
      "1844224 * var * float64\n",
      "msol (g)\n",
      "1844224 * var * float64\n",
      "coord3 (m)\n",
      "1844224 * var * float64\n",
      "time (s)\n",
      "1844224 * var * float64\n",
      "mass (kg)\n",
      "1844224 * var * float64\n",
      "mass_represented (kg)\n",
      "1844224 * var * float64\n",
      "\n",
      "Indexes:\n",
      "--------------\n",
      "sdId\n",
      "[0, 1, 2, 3, 4, 5, 6, ..., 1844218, 1844219, 1844220, 1844221, 1844222, 1844223]\n",
      "\n"
     ]
    }
   ],
   "source": [
    "dataset1.index_by_indexer(dataset1[\"sdId\"])\n",
    "print(dataset1)"
   ]
  },
  {
   "cell_type": "markdown",
   "metadata": {},
   "source": [
    "lets say we want to extract the trajectorie of the superdroplets, we can create a xarray Dataset which contains all the information.\n",
    "\n",
    "The ragged_dimesion in this case, will be the ``timestep`` relative to the spawning of the superdroplet.\n",
    "\n",
    "The output DataArray needs to be big, because it is really sparse, due to the shear amount of superdroplets.\n",
    "But mainly, because some of them will be present in the whole simulation and some will only be present for one single timestep."
   ]
  },
  {
   "cell_type": "code",
   "execution_count": null,
   "metadata": {},
   "outputs": [
    {
     "name": "stdout",
     "output_type": "stream",
     "text": [
      "The dataset has a size of 17.9GiB\n"
     ]
    }
   ],
   "source": [
    "# vertical = dataset1.attribute_to_DataArray(attribute_name = 'coord3')\n",
    "\n",
    "# print(f\"The dataset has a size of {sizeof_fmt(vertical.nbytes)}\")"
   ]
  },
  {
   "cell_type": "code",
   "execution_count": null,
   "metadata": {},
   "outputs": [
    {
     "name": "stdout",
     "output_type": "stream",
     "text": [
      "Only 1.7135635367504165 % are filled with data\n"
     ]
    }
   ],
   "source": [
    "# filled_precentage = (np.isfinite(vertical).sum() / np.size(vertical) * 100).data\n",
    "# print(f\"Only {filled_precentage} % are filled with data\")"
   ]
  },
  {
   "cell_type": "code",
   "execution_count": null,
   "metadata": {},
   "outputs": [],
   "source": [
    "# # get bytes in human readable form\n",
    "# timestepping = 2\n",
    "# nplot = 1000\n",
    "# np.random.seed(234)\n",
    "# plt.plot(\n",
    "#     vertical['ragged_dimension_1'] * timestepping,\n",
    "#     vertical.sel(sdId = np.random.choice(vertical['sdId'], nplot)).T,\n",
    "#     marker = '',\n",
    "# );"
   ]
  },
  {
   "cell_type": "markdown",
   "metadata": {},
   "source": [
    "### Slow, so the better option would be to extract the awkward-array"
   ]
  },
  {
   "cell_type": "code",
   "execution_count": null,
   "metadata": {},
   "outputs": [],
   "source": [
    "trajectories = dataset1[\"coord3\"].data\n",
    "\n",
    "# only use superdroplets, which are in the simulation for more than 50 timesteps but not longer than 100 timesteps\n",
    "\n",
    "individual_existence_timesteps = ak.num(trajectories)\n",
    "\n",
    "mask = individual_existence_timesteps >= 10\n",
    "trajectories = trajectories[mask]\n",
    "\n",
    "# get the number of superdroplets, which fulfill this\n",
    "N = ak.num(trajectories, axis=0)\n",
    "\n",
    "ids = np.random.randint(0, N, 100)\n",
    "trajectories = trajectories[ids]\n",
    "\n",
    "# get the longest existance time\n",
    "length = ak.max(ak.num(trajectories, axis=1))\n",
    "\n",
    "np_trajectories = ak.pad_none(trajectories, length, axis=1).to_numpy()"
   ]
  },
  {
   "cell_type": "code",
   "execution_count": null,
   "metadata": {},
   "outputs": [],
   "source": [
    "plt.plot(np_trajectories.T);"
   ]
  },
  {
   "cell_type": "markdown",
   "metadata": {},
   "source": [
    "The part above could be solved, by adding a ``.sel`` and ``.where`` method to the ``SupersDataNew`` class"
   ]
  },
  {
   "cell_type": "markdown",
   "metadata": {},
   "source": [
    "### Slow, so what is the good thing then in the end?\n",
    "\n",
    "The advantage comes, when you want to perform reduction calculations on the data.\n",
    "\n",
    "For instance, you want to know what is the minimum radius, which a superdroplet will have during it's simulation.\n",
    "\n",
    "You can pass the ``ak.nanmin`` reduction function and get a DataArray containg the data.\n"
   ]
  },
  {
   "cell_type": "code",
   "execution_count": null,
   "metadata": {},
   "outputs": [],
   "source": [
    "minimum_radius_lagrange = dataset.attribute_to_DataArray_reduction(\n",
    "    attribute_name=\"radius\", reduction_func=ak.nanmin\n",
    ")\n",
    "minimum_radius_lagrange"
   ]
  },
  {
   "cell_type": "markdown",
   "metadata": {},
   "source": [
    "# More powerful: Eulerian transformation with a reduction applied,\n",
    "\n",
    "Let's say, we want to know what the minimum radius within a all gridboxes over all timesteps is.\n",
    "\n",
    "We need to have dimensions/coordinates\n",
    "- time\n",
    "- sdgbxindex\n",
    "\n",
    "The we select the radius and extract the minimum values using the ak.nanmin reduction function.\n",
    "\n",
    "Setting the dimension/coordinate takes a while.\n",
    "But getting the reduced dataset is pretty quick."
   ]
  },
  {
   "cell_type": "code",
   "execution_count": null,
   "metadata": {},
   "outputs": [
    {
     "name": "stdout",
     "output_type": "stream",
     "text": [
      "---- Superdrop Properties -----\n",
      "RHO_L = 998.203 Kg/m^3\n",
      "RHO_SOL = 2016.5 Kg/m^3\n",
      "MR_SOL = 0.05844277 Kg/mol\n",
      "IONIC = 2.0\n",
      "-------------------------------\n"
     ]
    },
    {
     "name": "stdout",
     "output_type": "stream",
     "text": [
      "Attribute coord1 not found in dataset\n",
      "Attribute coord2 not found in dataset\n"
     ]
    }
   ],
   "source": [
    "dataset2 = supersdata.SupersDataNew(\n",
    "    dataset=ds_zarr,\n",
    "    consts=consts,\n",
    ")\n",
    "dataset2.set_attribute(dataset2[\"time\"].attribute_to_indexer_unique())\n",
    "dataset2.set_attribute(dataset2[\"sdgbxindex\"].attribute_to_indexer_unique())\n",
    "\n",
    "dataset2.index_by_indexer(index=dataset2[\"time\"])\n",
    "dataset2.index_by_indexer(index=dataset2[\"sdgbxindex\"])"
   ]
  },
  {
   "cell_type": "code",
   "execution_count": null,
   "metadata": {},
   "outputs": [
    {
     "name": "stdout",
     "output_type": "stream",
     "text": [
      "Attributes:\n",
      "--------------\n",
      "sdId ()\n",
      "1801 * 39 * var * uint32\n",
      "sdgbxindex ()\n",
      "coord: [0, 1, 2, 3, 4, 5, 6, 7, 8, 9, 10, ..., 29, 30, 31, 32, 33, 34, 35, 36, 37, 38]\n",
      "1801 * 39 * var * uint32\n",
      "1801 * 39 * var * int64\n",
      "xi ()\n",
      "1801 * 39 * var * float64\n",
      "radius (micro-m)\n",
      "1801 * 39 * var * float64\n",
      "msol (g)\n",
      "1801 * 39 * var * float64\n",
      "coord3 (m)\n",
      "1801 * 39 * var * float64\n",
      "time (s)\n",
      "coord: [0, 2, 4, 6, 8, 10, ..., 3.59e+03, 3.59e+03, 3.6e+03, 3.6e+03, 3.6e+03]\n",
      "1801 * 39 * var * float64\n",
      "1801 * 39 * var * int64\n",
      "mass (kg)\n",
      "1801 * 39 * var * float64\n",
      "mass_represented (kg)\n",
      "1801 * 39 * var * float64\n",
      "\n",
      "Indexes:\n",
      "--------------\n",
      "time\n",
      "[0, 2, 4, 6, 8, 10, ..., 3.59e+03, 3.59e+03, 3.6e+03, 3.6e+03, 3.6e+03]\n",
      "sdgbxindex\n",
      "[0, 1, 2, 3, 4, 5, 6, 7, 8, 9, 10, ..., 29, 30, 31, 32, 33, 34, 35, 36, 37, 38]\n",
      "\n"
     ]
    }
   ],
   "source": [
    "print(dataset2)"
   ]
  },
  {
   "cell_type": "code",
   "execution_count": null,
   "metadata": {},
   "outputs": [],
   "source": [
    "minimum_radius_gridbox = dataset2.attribute_to_DataArray_reduction(\n",
    "    attribute_name=\"radius\", reduction_func=ak.nanmin\n",
    ")\n",
    "minimum_radius_gridbox"
   ]
  },
  {
   "cell_type": "code",
   "execution_count": null,
   "metadata": {},
   "outputs": [
    {
     "data": {
      "text/plain": [
       "<matplotlib.collections.QuadMesh at 0x7ffb4025c4a0>"
      ]
     },
     "execution_count": null,
     "metadata": {},
     "output_type": "execute_result"
    }
   ],
   "source": [
    "minimum_radius_gridbox.T.plot(norm=mcolors.LogNorm())"
   ]
  },
  {
   "cell_type": "markdown",
   "metadata": {},
   "source": [
    "If we want to extract all radii present in each gridbox for each timestep, there will be a ragged dimension, which we fill up with ``nan``.\n",
    "\n",
    "The ``ragged_dimension`` in this case will be a simple count for superdroplets in a gridbox.\n",
    "\n",
    "The output DataArray has the dimensions:\n",
    "1. time,\n",
    "2. sdgbxindex,\n",
    "3. ragged dimension (see above)"
   ]
  },
  {
   "cell_type": "code",
   "execution_count": null,
   "metadata": {},
   "outputs": [],
   "source": [
    "radius_gridbox = dataset2.attribute_to_DataArray(attribute_name=\"radius\")\n",
    "radius_gridbox"
   ]
  }
 ],
 "metadata": {
  "kernelspec": {
   "display_name": "sdm_pysd_python312",
   "language": "python",
   "name": "python3"
  },
  "language_info": {
   "codemirror_mode": {
    "name": "ipython",
    "version": 3
   },
   "file_extension": ".py",
   "mimetype": "text/x-python",
   "name": "python",
   "nbconvert_exporter": "python",
   "pygments_lexer": "ipython3",
   "version": "3.12.8"
  }
 },
 "nbformat": 4,
 "nbformat_minor": 2
}
