{
 "cells": [
  {
   "cell_type": "code",
   "execution_count": null,
   "metadata": {},
   "outputs": [],
   "source": [
    "import os\n",
    "\n",
    "from pathlib import Path\n",
    "\n",
    "import cartopy.crs as ccrs\n",
    "import cartopy.feature as cfeature\n",
    "import matplotlib as mpl\n",
    "import matplotlib.dates as mdates\n",
    "import matplotlib.pyplot as plt\n",
    "import numpy as np\n",
    "import xarray as xr\n",
    "\n",
    "from sdm_eurec4a.visulization import set_custom_rcParams\n",
    "from sdm_eurec4a.identifications import match_clouds_and_cloudcomposite"
   ]
  },
  {
   "cell_type": "code",
   "execution_count": null,
   "metadata": {},
   "outputs": [
    {
     "name": "stdout",
     "output_type": "stream",
     "text": [
      "/home/m/m301096/repositories/sdm-eurec4a/notebooks\n",
      "/home/m/m301096/repositories/sdm-eurec4a\n"
     ]
    }
   ],
   "source": [
    "plt.style.use(\"default\")\n",
    "default_colors = set_custom_rcParams()\n",
    "\n",
    "# Example dataset\n",
    "script_path = Path().absolute()\n",
    "print(script_path)\n",
    "\n",
    "REPOSITORY_ROOT = Path(script_path).parent\n",
    "print(REPOSITORY_ROOT)\n",
    "\n",
    "\n",
    "fig_path = REPOSITORY_ROOT / Path(\"results/cluster_identification/\")\n",
    "fig_path.mkdir(parents=True, exist_ok=True)"
   ]
  },
  {
   "cell_type": "code",
   "execution_count": null,
   "metadata": {},
   "outputs": [],
   "source": [
    "# Load data\n",
    "\n",
    "mask_name = \"cloud_mask\"\n",
    "\n",
    "identified_clouds = xr.open_dataset(\n",
    "    REPOSITORY_ROOT\n",
    "    / Path(\n",
    "        f\"data/observation/cloud_composite/processed/identified_clouds/identified_clouds_{mask_name}.nc\"\n",
    "    )\n",
    ")\n",
    "# select only clouds which are between 800 and 1100 m\n",
    "ds_clouds = identified_clouds.where(\n",
    "    (identified_clouds.alt >= 800) & (identified_clouds.alt <= 1100), drop=True\n",
    ")\n",
    "\n",
    "identified_clusters = xr.open_dataset(\n",
    "    REPOSITORY_ROOT\n",
    "    / Path(\n",
    "        f\"data/observation/cloud_composite/processed/identified_clusters/identified_clusters_{mask_name}_10.nc\"\n",
    "    )\n",
    ")\n",
    "ds_clusters = identified_clusters.where(\n",
    "    (identified_clusters.alt >= 800) & (identified_clusters.alt <= 1100), drop=True\n",
    ")\n",
    "\n",
    "cloud_composite = xr.open_dataset(\n",
    "    REPOSITORY_ROOT / Path(\"data/observation/cloud_composite/processed/cloud_composite.nc\"),\n",
    "    chunks={\"time\": 1000},\n",
    ")"
   ]
  },
  {
   "cell_type": "code",
   "execution_count": null,
   "metadata": {},
   "outputs": [
    {
     "data": {
      "text/plain": [
       "Text(0.5, 1.0, 'Duration of clouds and clusters')"
      ]
     },
     "execution_count": null,
     "metadata": {},
     "output_type": "execute_result"
    }
   ],
   "source": [
    "# Plotting relation of duration and LWC of clouds\n",
    "\n",
    "fig, ax = plt.subplots(1, 1, figsize=(5, 3), sharex=True, sharey=True)\n",
    "\n",
    "ax.hist(\n",
    "    ds_clouds.duration.data.astype(\"timedelta64[s]\").astype(float),\n",
    "    bins=np.arange(0, 50, 2),\n",
    "    label=\"Clouds\",\n",
    "    alpha=0.75,\n",
    ")\n",
    "# For clusters\n",
    "ax.hist(\n",
    "    ds_clusters.duration.data.astype(\"timedelta64[s]\").astype(float),\n",
    "    bins=np.arange(0, 50, 2),\n",
    "    label=\"Clusters\",\n",
    "    alpha=0.75,\n",
    ")\n",
    "ax.set_xlabel(\"Duration in s\")\n",
    "ax.set_ylabel(\"Occurence\")\n",
    "ax.legend()\n",
    "ax.set_title(\"Duration of clouds and clusters\")"
   ]
  },
  {
   "cell_type": "code",
   "execution_count": null,
   "metadata": {},
   "outputs": [],
   "source": [
    "time_slice = slice(\"2020-01-26 18:10:10\", \"2020-01-26 18:11:10\")\n",
    "fig, ax = plt.subplots(ncols=1, nrows=1, figsize=(9, 4))\n",
    "\n",
    "single_clouds = ds_clouds.sel(time=time_slice)\n",
    "single_cluster = ds_clusters.sel(time=time_slice)\n",
    "\n",
    "\n",
    "ax.scatter(\n",
    "    cloud_composite.sel(time=time_slice).time,\n",
    "    cloud_composite.sel(time=time_slice).cloud_mask,\n",
    "    marker=\".\",\n",
    "    label=\"Cloud composite\",\n",
    ")\n",
    "\n",
    "y = np.arange(0, 2)\n",
    "for select_time in single_clouds.time:\n",
    "    ax.fill_betweenx(\n",
    "        y=y,\n",
    "        x1=single_clouds.sel(time=select_time).start,\n",
    "        x2=single_clouds.sel(time=select_time).end,\n",
    "        color=\"k\",\n",
    "        alpha=0.2,\n",
    "    )\n",
    "ax.fill_betweenx(\n",
    "    y=y, x1=single_cluster.start, x2=single_cluster.end, label=\"Cloud cluster\", color=\"r\", alpha=0.2\n",
    ")\n",
    "\n",
    "ax.legend()\n",
    "plt.fill_between\n",
    "\n",
    "ax.set_ylim(-0.1, 1.1)\n",
    "ax.set_yticks([0, 1])\n",
    "ax.set_ylim(-0.1, 1.5)\n",
    "ax.set_ylabel(\"Cloud mask 0/1\")\n",
    "ax.set_title(f\"Clouds in cloud cluster (2020-01-26)\")\n",
    "fig.savefig(\"Cloud_Cluster.svg\", bbox_inches=\"tight\")"
   ]
  }
 ],
 "metadata": {
  "kernelspec": {
   "display_name": "sdm_eurec4a_env312",
   "language": "python",
   "name": "python3"
  },
  "language_info": {
   "codemirror_mode": {
    "name": "ipython",
    "version": 3
   },
   "file_extension": ".py",
   "mimetype": "text/x-python",
   "name": "python",
   "nbconvert_exporter": "python",
   "pygments_lexer": "ipython3",
   "version": "3.1.0"
  }
 },
 "nbformat": 4,
 "nbformat_minor": 2
}
