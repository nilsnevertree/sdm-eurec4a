{
 "cells": [
  {
   "cell_type": "code",
   "execution_count": null,
   "metadata": {},
   "outputs": [],
   "source": [
    "import numpy as np\n",
    "import xarray as xr\n",
    "from pathlib import Path\n",
    "\n",
    "from sdm_eurec4a.visulization import set_custom_rcParams, label_from_attrs\n",
    "from sdm_eurec4a.reductions import mean_and_stderror_of_mean\n",
    "\n",
    "default_colors = set_custom_rcParams()\n",
    "\n",
    "import matplotlib.pyplot as plt"
   ]
  },
  {
   "cell_type": "code",
   "execution_count": null,
   "metadata": {},
   "outputs": [],
   "source": [
    "data_dir = Path(\n",
    "    \"/home/m/m301096/CLEO/data/output_v4.0/coalbure_condensation_large/combined/eulerian_dataset_combined.nc\"\n",
    ")\n",
    "ds = xr.open_dataset(data_dir)\n",
    "ds = ds.isel(time=slice(0, -1))"
   ]
  },
  {
   "cell_type": "code",
   "execution_count": null,
   "metadata": {},
   "outputs": [
    {
     "data": {
      "text/plain": [
       "<matplotlib.legend.Legend at 0x7fff9123a420>"
      ]
     },
     "execution_count": null,
     "metadata": {},
     "output_type": "execute_result"
    }
   ],
   "source": [
    "microphysics = (\n",
    "    # 'null_microphysics',\n",
    "    \"condensation\",\n",
    "    \"collision_condensation\",\n",
    "    \"coalbure_condensation_small\",\n",
    "    # 'coalbure_condensation_large',\n",
    ")\n",
    "compare_ds = xr.open_dataset(\n",
    "    f\"/home/m/m301096/CLEO/data/output_v4.0/condensation/combined/eulerian_dataset_combined.nc\"\n",
    ")\n",
    "compare_ds = compare_ds.isel(time=slice(0, -1))\n",
    "compare_da = compare_ds[\"massdelta_condensation\"]\n",
    "\n",
    "\n",
    "for mp, color in zip(microphysics, default_colors):\n",
    "\n",
    "    data_dir = Path(f\"/home/m/m301096/CLEO/data/output_v4.0/{mp}/combined/eulerian_dataset_combined.nc\")\n",
    "    ds = xr.open_dataset(data_dir)\n",
    "    ds = ds.isel(time=slice(0, -1))\n",
    "\n",
    "    da = ds[\"massdelta_condensation\"]\n",
    "\n",
    "    da_mean, da_std = mean_and_stderror_of_mean(\n",
    "        da.sel(time=slice(2000, 3400)),\n",
    "        dims=\"time\",\n",
    "    )\n",
    "    compare_da_mean, compare_da_std = mean_and_stderror_of_mean(\n",
    "        compare_da.sel(time=slice(2000, 3400)),\n",
    "        dims=\"time\",\n",
    "    )\n",
    "\n",
    "    # da_mean = da_mean - compare_da_mean\n",
    "    # da_std = np.sqrt(da_std**2 + compare_da_std**2)\n",
    "\n",
    "    m, s = mean_and_stderror_of_mean(data=da_mean, dims=\"cloud_id\", data_std=da_std)\n",
    "\n",
    "    plt.plot(\n",
    "        da_mean.T,\n",
    "        da_mean[\"gridbox\"],\n",
    "        color=color,\n",
    "        alpha=0.4,\n",
    "    )\n",
    "    plt.plot(\n",
    "        m,\n",
    "        m[\"gridbox\"],\n",
    "        color=color,\n",
    "        linestyle=\"-\",\n",
    "        label=mp,\n",
    "    )\n",
    "    plt.fill_betweenx(\n",
    "        m[\"gridbox\"],\n",
    "        m - s,\n",
    "        m + s,\n",
    "        color=color,\n",
    "        alpha=0.3,\n",
    "    )\n",
    "\n",
    "# plt.xlim(-0.2e-6, 1e-7)\n",
    "# plt.xscale(\"symlog\", linthresh=1e-9)\n",
    "plt.legend()"
   ]
  }
 ],
 "metadata": {
  "kernelspec": {
   "display_name": "sdm_pysd_env312",
   "language": "python",
   "name": "python3"
  },
  "language_info": {
   "codemirror_mode": {
    "name": "ipython",
    "version": 3
   },
   "file_extension": ".py",
   "mimetype": "text/x-python",
   "name": "python",
   "nbconvert_exporter": "python",
   "pygments_lexer": "ipython3",
   "version": "3.12.1"
  }
 },
 "nbformat": 4,
 "nbformat_minor": 2
}
