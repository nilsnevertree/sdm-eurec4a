{
 "cells": [
  {
   "cell_type": "code",
   "execution_count": null,
   "metadata": {},
   "outputs": [],
   "source": [
    "import numpy as np\n",
    "import xarray as xr\n",
    "from pathlib import Path\n",
    "\n",
    "from sdm_eurec4a.visulization import set_custom_rcParams, label_from_attrs\n",
    "\n",
    "set_custom_rcParams()\n",
    "\n",
    "import matplotlib.pyplot as plt"
   ]
  },
  {
   "cell_type": "code",
   "execution_count": null,
   "metadata": {},
   "outputs": [],
   "source": [
    "from pySD.sdmout_src import supersdata\n",
    "from pySD.sdmout_src import pygbxsdat, pysetuptxt, supersdata"
   ]
  },
  {
   "cell_type": "code",
   "execution_count": null,
   "metadata": {},
   "outputs": [],
   "source": [
    "data_dir = Path(\n",
    "    \"/home/m/m301096/CLEO/data/output_v4.1/condensation/combined/eulerian_dataset_combined.nc\"\n",
    ")\n",
    "full_ds = xr.open_dataset(data_dir)\n",
    "\n",
    "ds = full_ds.sel(time=slice(150, None))\n",
    "ds"
   ]
  },
  {
   "cell_type": "code",
   "execution_count": null,
   "metadata": {},
   "outputs": [],
   "source": [
    "data = (\n",
    "    1e3\n",
    "    * (ds[\"mass_represented\"] / ds[\"gridbox_volume\"])\n",
    "    .mean(dim=\"time\", keep_attrs=True, skipna=True)\n",
    "    .compute()\n",
    ")\n",
    "\n",
    "\n",
    "fig, axs = plt.subplots(nrows=3, figsize=(8, 6))\n",
    "\n",
    "for _ax in axs[:2]:\n",
    "    _ax.plot(\n",
    "        data.sum(\"radius_bins\").T,\n",
    "        ds[\"gridbox_coord3\"].T,\n",
    "    )\n",
    "\n",
    "    _ax.set_ylabel(\"Height [m]\")\n",
    "    _ax.set_xlabel(\"Mass concentration [g/m³]\")\n",
    "\n",
    "axs[1].set_xscale(\"log\")\n",
    "\n",
    "axs[2].hist(\n",
    "    1e2 * (data.sel(gridbox=1) / data.sel(gridbox=ds[\"max_gridbox\"])).values.flatten(),\n",
    "    bins=np.arange(0, 200, 10),\n",
    ")\n",
    "\n",
    "fig.tight_layout()"
   ]
  },
  {
   "cell_type": "code",
   "execution_count": null,
   "metadata": {},
   "outputs": [
    {
     "name": "stderr",
     "output_type": "stream",
     "text": [
      "/tmp/ipykernel_962289/2937134083.py:15: UserWarning: Data has no positive values, and therefore cannot be log-scaled.\n",
      "  axs[1].set_xscale('log')\n"
     ]
    }
   ],
   "source": [
    "data = 1e3 * (ds[\"mass_difference\"] / ds[\"gridbox_volume\"]).mean(dim=\"time\", keep_attrs=True).compute()\n",
    "\n",
    "\n",
    "fig, axs = plt.subplots(nrows=2, figsize=(8, 6))\n",
    "\n",
    "for _ax in axs:\n",
    "    _ax.plot(\n",
    "        data.sum(\"radius_bins\").T,\n",
    "        ds[\"gridbox_coord3\"].T,\n",
    "    )\n",
    "\n",
    "    _ax.set_ylabel(\"Height [m]\")\n",
    "    _ax.set_xlabel(\"Mass concentration [g/m³]\")\n",
    "\n",
    "axs[1].set_xscale(\"log\")\n",
    "\n",
    "fig.tight_layout()"
   ]
  },
  {
   "cell_type": "code",
   "execution_count": null,
   "metadata": {},
   "outputs": [],
   "source": [
    "single_data_dir = Path(\n",
    "    \"/home/m/m301096/CLEO/data/output_v4.1/condensation/cluster_110/processed/eulerian_dataset.nc\"\n",
    ")\n",
    "single_ds = xr.open_dataset(single_data_dir)\n",
    "ds = single_ds.sel(time=slice(150, None))\n",
    "ds"
   ]
  },
  {
   "cell_type": "code",
   "execution_count": null,
   "metadata": {},
   "outputs": [
    {
     "data": {
      "text/plain": [
       "Text(0.5, 0, 'Radius µm')"
      ]
     },
     "execution_count": null,
     "metadata": {},
     "output_type": "execute_result"
    }
   ],
   "source": [
    "data = (\n",
    "    1e3\n",
    "    * (single_ds[\"mass_represented\"] / single_ds[\"gridbox_volume\"])\n",
    "    .mean(dim=\"time\", keep_attrs=True)\n",
    "    .compute()\n",
    ")\n",
    "\n",
    "\n",
    "fig, axs = plt.subplots(ncols=2, width_ratios=[1, 0.25], figsize=(10, 5), sharey=True)\n",
    "\n",
    "pcm = axs[0].pcolormesh(\n",
    "    single_ds[\"radius_bins\"], single_ds[\"gridbox_coord3\"], data, shading=\"auto\", cmap=\"Reds\"\n",
    ")\n",
    "fig.colorbar(mappable=pcm, ax=axs[0], label=\"Mass concentration [g/m³]\")\n",
    "\n",
    "axs[0].set_xscale(\"log\")\n",
    "axs[0].set_ylabel(\"Height [m]\")\n",
    "axs[1].plot(\n",
    "    data.sum(\"radius_bins\"),\n",
    "    single_ds[\"gridbox_coord3\"],\n",
    ")\n",
    "\n",
    "axs[0].set_xlabel(\"Radius µm\")"
   ]
  },
  {
   "cell_type": "code",
   "execution_count": null,
   "metadata": {},
   "outputs": [],
   "source": []
  }
 ],
 "metadata": {
  "kernelspec": {
   "display_name": "sdm_pysd_env312",
   "language": "python",
   "name": "python3"
  },
  "language_info": {
   "codemirror_mode": {
    "name": "ipython",
    "version": 3
   },
   "file_extension": ".py",
   "mimetype": "text/x-python",
   "name": "python",
   "nbconvert_exporter": "python",
   "pygments_lexer": "ipython3",
   "version": "3.12.1"
  }
 },
 "nbformat": 4,
 "nbformat_minor": 2
}
