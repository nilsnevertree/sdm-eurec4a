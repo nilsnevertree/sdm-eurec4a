{
 "cells": [
  {
   "cell_type": "code",
   "execution_count": null,
   "metadata": {},
   "outputs": [],
   "source": [
    "import numpy as np\n",
    "import xarray as xr\n",
    "from pathlib import Path\n",
    "\n",
    "from sdm_eurec4a.visulization import set_custom_rcParams, label_from_attrs\n",
    "from sdm_eurec4a.reductions import mean_and_stderror_of_mean\n",
    "\n",
    "set_custom_rcParams()\n",
    "\n",
    "import matplotlib.pyplot as plt"
   ]
  },
  {
   "cell_type": "code",
   "execution_count": null,
   "metadata": {},
   "outputs": [],
   "source": [
    "data_dir = Path(\n",
    "    \"/home/m/m301096/CLEO/data/debug_output/long_duration_128/collision_condensation/combined/eulerian_dataset_combined.nc\"\n",
    ")\n",
    "ds = xr.open_dataset(data_dir)\n",
    "ds[\"radius_bins\"].attrs.update(long_name=\"Radius\", units=\"µm\")"
   ]
  },
  {
   "cell_type": "code",
   "execution_count": null,
   "metadata": {},
   "outputs": [],
   "source": [
    "data = (\n",
    "    1e3\n",
    "    * (ds[\"mass_represented\"] / ds[\"gridbox_volume\"])\n",
    "    .mean(dim=\"time\", keep_attrs=True, skipna=True)\n",
    "    .compute()\n",
    ")\n",
    "\n",
    "\n",
    "fig, axs = plt.subplots(nrows=3, figsize=(8, 6))\n",
    "\n",
    "for _ax in axs[:2]:\n",
    "    _ax.plot(\n",
    "        data.sum(\"radius_bins\").T,\n",
    "        ds[\"gridbox_coord3\"].T,\n",
    "    )\n",
    "\n",
    "    _ax.set_ylabel(\"Height [m]\")\n",
    "    _ax.set_xlabel(\"Mass concentration [g/m³]\")\n",
    "\n",
    "axs[1].set_xscale(\"log\")\n",
    "\n",
    "axs[2].hist(\n",
    "    1e2 * (data.sel(gridbox=1) / data.sel(gridbox=ds[\"max_gridbox\"])).values.flatten(),\n",
    "    bins=np.arange(0, 200, 10),\n",
    ")\n",
    "\n",
    "fig.tight_layout()"
   ]
  },
  {
   "cell_type": "code",
   "execution_count": null,
   "metadata": {},
   "outputs": [],
   "source": [
    "data = 1e3 * (ds[\"mass_difference\"] / ds[\"gridbox_volume\"]).mean(dim=\"time\", keep_attrs=True).compute()\n",
    "\n",
    "\n",
    "fig, axs = plt.subplots(nrows=2, figsize=(8, 6))\n",
    "\n",
    "for _ax in axs:\n",
    "    _ax.plot(\n",
    "        data.sum(\"radius_bins\").T,\n",
    "        ds[\"gridbox_coord3\"].T,\n",
    "    )\n",
    "\n",
    "    _ax.set_ylabel(\"Height [m]\")\n",
    "    _ax.set_xlabel(\"Mass concentration [g/m³]\")\n",
    "\n",
    "axs[1].set_xscale(\"log\")\n",
    "\n",
    "fig.tight_layout()"
   ]
  },
  {
   "cell_type": "markdown",
   "metadata": {},
   "source": [
    "plot the cloud and subcloud layer PSD and MSD"
   ]
  },
  {
   "cell_type": "code",
   "execution_count": null,
   "metadata": {},
   "outputs": [],
   "source": [
    "ds_select = ds.sel(gridbox=ds[\"max_gridbox\"])\n",
    "psd = ds_select[\"xi\"] / ds_select[\"gridbox_volume\"]\n",
    "psd.attrs.update(\n",
    "    {\n",
    "        \"long_name\": \"Particle size distribution\",\n",
    "        \"units\": \"m^{-3}\",\n",
    "        \"standard_name\": \"particle_size_distribution\",\n",
    "    }\n",
    ")\n",
    "\n",
    "msd = 1e3 * (ds_select[\"mass_represented\"] / ds_select[\"gridbox_volume\"])\n",
    "msd.attrs.update(\n",
    "    {\n",
    "        \"long_name\": \"Mass size distribution\",\n",
    "        \"units\": \"g m^{-3}\",\n",
    "        \"standard_name\": \"mass_size_distribution\",\n",
    "    }\n",
    ")"
   ]
  },
  {
   "cell_type": "code",
   "execution_count": null,
   "metadata": {},
   "outputs": [],
   "source": [
    "fig, axs = plt.subplots(ncols=2, figsize=(8, 6))\n",
    "\n",
    "psd_m, psd_sem = mean_and_stderror_of_mean(psd, dims=(\"time\",))\n",
    "\n",
    "axs[0].plot(\n",
    "    psd[\"radius_bins\"],\n",
    "    psd_m.T,\n",
    "    alpha=0.5,\n",
    ")\n",
    "axs[0].set_yscale(\"log\")\n",
    "axs[0].set_ylabel(label_from_attrs(psd))\n",
    "\n",
    "axs[1].plot(msd[\"radius_bins\"], msd.mean(dim=\"time\").T)\n",
    "axs[1].set_ylabel(label_from_attrs(msd))\n",
    "\n",
    "for _ax in axs:\n",
    "    _ax.set_xlabel(label_from_attrs(ds_select[\"radius_bins\"]))\n",
    "    _ax.set_xscale(\"log\")"
   ]
  },
  {
   "cell_type": "code",
   "execution_count": null,
   "metadata": {},
   "outputs": [],
   "source": [
    "from sdm_eurec4a.identifications import match_clouds_and_cloudcomposite\n",
    "from sdm_eurec4a import RepositoryPath\n",
    "from tqdm import tqdm\n",
    "\n",
    "RP = RepositoryPath(\"levante\")\n",
    "repo_dir = RP.repo_dir\n",
    "data_dir = RP.data_dir\n",
    "\n",
    "ds_clouds = xr.open_dataset(\n",
    "    repo_dir\n",
    "    / \"data/observation/cloud_composite/processed/identified_clusters/identified_clusters_rain_mask_5.nc\"\n",
    ")\n",
    "ds_clouds = ds_clouds.swap_dims({\"time\": \"cloud_id\"})\n",
    "ds_cloud_composite = xr.open_dataset(\n",
    "    repo_dir / \"data/observation/cloud_composite/processed/cloud_composite_SI_units_20241025.nc\"\n",
    ")"
   ]
  },
  {
   "cell_type": "code",
   "execution_count": null,
   "metadata": {},
   "outputs": [
    {
     "name": "stderr",
     "output_type": "stream",
     "text": [
      "100%|██████████| 128/128 [00:06<00:00, 21.16it/s]\n"
     ]
    }
   ],
   "source": [
    "lwc_obs_mean_list = []\n",
    "lwc_obs_sem_list = []\n",
    "nbc_obs_mean_list = []\n",
    "nbc_obs_sem_list = []\n",
    "psd_obs_mean_list = []\n",
    "psd_obs_sem_list = []\n",
    "\n",
    "for cloud_id in tqdm(ds[\"cloud_id\"]):\n",
    "    ds_select = match_clouds_and_cloudcomposite(\n",
    "        ds_clouds=ds_clouds.sel(cloud_id=cloud_id),\n",
    "        ds_cloudcomposite=ds_cloud_composite.sel(radius=slice(52e-6, 3e-3)),\n",
    "    )\n",
    "    m, s = mean_and_stderror_of_mean(ds_select[\"liquid_water_content\"], dims=(\"time\",))\n",
    "    m, s = m.expand_dims(dim=dict(cloud_id=[cloud_id])), s.expand_dims(dim=dict(cloud_id=[cloud_id]))\n",
    "    lwc_obs_mean_list.append(m)\n",
    "    lwc_obs_sem_list.append(s)\n",
    "\n",
    "    nbc = ds_select[\"particle_size_distribution_non_normalized\"].sum(\"radius\", keep_attrs=True)\n",
    "    m, s = mean_and_stderror_of_mean(nbc, dims=(\"time\",))\n",
    "    m, s = m.expand_dims(dim=dict(cloud_id=[cloud_id])), s.expand_dims(dim=dict(cloud_id=[cloud_id]))\n",
    "\n",
    "    nbc_obs_mean_list.append(m)\n",
    "    nbc_obs_sem_list.append(s)\n",
    "\n",
    "    psd = ds_select[\"particle_size_distribution_non_normalized\"]\n",
    "    m, s = mean_and_stderror_of_mean(psd, dims=(\"time\",))\n",
    "    m, s = m.expand_dims(dim=dict(cloud_id=[cloud_id])), s.expand_dims(dim=dict(cloud_id=[cloud_id]))\n",
    "\n",
    "    psd_obs_mean_list.append(m)\n",
    "    psd_obs_sem_list.append(s)\n",
    "\n",
    "\n",
    "lwc_obs_mean = xr.concat(lwc_obs_mean_list, dim=\"cloud_id\")\n",
    "lwc_obs_sem = xr.concat(lwc_obs_sem_list, dim=\"cloud_id\")\n",
    "nbc_obs_mean = xr.concat(nbc_obs_mean_list, dim=\"cloud_id\")\n",
    "nbc_obs_sem = xr.concat(nbc_obs_sem_list, dim=\"cloud_id\")\n",
    "psd_obs_mean = xr.concat(psd_obs_mean_list, dim=\"cloud_id\")\n",
    "psd_obs_sem = xr.concat(psd_obs_sem_list, dim=\"cloud_id\")"
   ]
  },
  {
   "cell_type": "code",
   "execution_count": null,
   "metadata": {},
   "outputs": [],
   "source": [
    "ds_select = ds.sel(gridbox=ds[\"max_gridbox\"]).sel(radius_bins=slice(52, 3e3))\n",
    "\n",
    "lwc = 1e3 * ds_select[\"mass_represented\"].sum(\"radius_bins\") / ds_select[\"gridbox_volume\"]\n",
    "lwc_cleo_mean, lwc_cleo_sem = mean_and_stderror_of_mean(lwc, dims=(\"time\",))\n",
    "\n",
    "nbc = ds_select[\"xi\"].sum(\"radius_bins\") / ds_select[\"gridbox_volume\"]\n",
    "nbc_cleo_mean, nbc_cleo_sem = mean_and_stderror_of_mean(nbc, dims=(\"time\",))\n",
    "\n",
    "psd = ds_select[\"xi\"] / ds_select[\"gridbox_volume\"]\n",
    "psd_cleo_mean, psd_cleo_sem = mean_and_stderror_of_mean(psd, dims=(\"time\",))"
   ]
  },
  {
   "cell_type": "code",
   "execution_count": null,
   "metadata": {},
   "outputs": [
    {
     "data": {
      "text/plain": [
       "<ErrorbarContainer object of 3 artists>"
      ]
     },
     "execution_count": null,
     "metadata": {},
     "output_type": "execute_result"
    }
   ],
   "source": [
    "fig, axs = plt.subplots(ncols=2, figsize=(8, 6))\n",
    "\n",
    "axs[0].errorbar(\n",
    "    x=nbc_obs_mean,\n",
    "    xerr=2 * nbc_obs_sem,\n",
    "    y=nbc_cleo_mean,\n",
    "    yerr=2 * nbc_cleo_sem,\n",
    "    linestyle=\"\",\n",
    "    marker=\".\",\n",
    ")\n",
    "\n",
    "axs[1].errorbar(\n",
    "    x=lwc_obs_mean,\n",
    "    xerr=2 * lwc_obs_sem,\n",
    "    y=lwc_cleo_mean,\n",
    "    yerr=2 * lwc_cleo_sem,\n",
    "    linestyle=\"\",\n",
    "    marker=\".\",\n",
    ")"
   ]
  },
  {
   "cell_type": "code",
   "execution_count": null,
   "metadata": {},
   "outputs": [],
   "source": [
    "import matplotlib.colors as mcolors"
   ]
  }
 ],
 "metadata": {
  "kernelspec": {
   "display_name": "sdm_pysd_python312",
   "language": "python",
   "name": "python3"
  },
  "language_info": {
   "codemirror_mode": {
    "name": "ipython",
    "version": 3
   },
   "file_extension": ".py",
   "mimetype": "text/x-python",
   "name": "python",
   "nbconvert_exporter": "python",
   "pygments_lexer": "ipython3",
   "version": "3.12.1"
  }
 },
 "nbformat": 4,
 "nbformat_minor": 2
}
