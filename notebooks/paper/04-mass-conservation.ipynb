{
 "cells": [
  {
   "cell_type": "code",
   "execution_count": null,
   "metadata": {},
   "outputs": [],
   "source": [
    "import numpy as np\n",
    "import xarray as xr\n",
    "from pathlib import Path\n",
    "import awkward as ak\n",
    "from typing import List, Tuple, Dict\n",
    "\n",
    "import matplotlib.pyplot as plt\n",
    "import matplotlib.colors as mcolors\n",
    "import seaborn as sns\n",
    "from sdm_eurec4a.visulization import set_custom_rcParams\n",
    "from sdm_eurec4a.reductions import mean_and_stderror_of_mean\n",
    "\n",
    "from pySD.sdmout_src import sdtracing\n",
    "from pySD.sdmout_src import supersdata\n",
    "from pySD.sdmout_src import pygbxsdat, pysetuptxt, supersdata\n",
    "\n",
    "set_custom_rcParams()\n",
    "\n",
    "from sdm_eurec4a import RepositoryPath\n",
    "\n",
    "RP = RepositoryPath(\"levante\")"
   ]
  },
  {
   "cell_type": "code",
   "execution_count": null,
   "metadata": {},
   "outputs": [],
   "source": [
    "# microphysics = \"null_microphysics\"\n",
    "# microphysics = \"condensation\"\n",
    "# microphysics = \"collision_condensation\"\n",
    "microphysics = \"coalbure_condensation_large\"\n",
    "# microphysics = \"coalbure_condensation_small\"\n",
    "\n",
    "fig_dir = RP.repo_dir / \"results/notebooks/paper/mass_conservation\" / microphysics\n",
    "fig_dir.mkdir(exist_ok=True, parents=True)"
   ]
  },
  {
   "cell_type": "code",
   "execution_count": null,
   "metadata": {},
   "outputs": [
    {
     "name": "stdout",
     "output_type": "stream",
     "text": [
      "Reading binary file:\n",
      " /home/m/m301096/CLEO/data/output_v4.0/coalbure_condensation_large/cluster_384/share/eurec4a1d_ddimlessGBxboundaries.dat\n"
     ]
    }
   ],
   "source": [
    "data_dir = Path(f\"/home/m/m301096/CLEO/data/output_v4.0/{microphysics}/cluster_384\")\n",
    "cloud_id = int(data_dir.name.split(\"_\")[1])\n",
    "\n",
    "# output_dir = data_dir / \"processed\"\n",
    "# output_dir.mkdir(exist_ok=True, parents=False)\n",
    "\n",
    "# output_path = output_dir / \"eulerian_dataset.nc\"\n",
    "# output_path.parent.mkdir(exist_ok=True)\n",
    "\n",
    "setupfile_path = data_dir / \"config\" / \"eurec4a1d_setup.txt\"\n",
    "statsfile_path = data_dir / \"config\" / \"eurec4a1d_stats.txt\"\n",
    "zarr_path = data_dir / \"eurec4a1d_sol.zarr\"\n",
    "gridfile_path = data_dir / \"share/eurec4a1d_ddimlessGBxboundaries.dat\"\n",
    "\n",
    "\n",
    "# read in constants and intial setup from setup .txt file\n",
    "config = pysetuptxt.get_config(str(setupfile_path), nattrs=3, isprint=False)\n",
    "consts = pysetuptxt.get_consts(str(setupfile_path), isprint=False)\n",
    "gridbox_dict = pygbxsdat.get_gridboxes(str(gridfile_path), consts[\"COORD0\"], isprint=False)\n",
    "\n",
    "ds_zarr = xr.open_zarr(zarr_path, consolidated=False)\n",
    "ds_zarr = ds_zarr.rename({\"gbxindex\": \"gridbox\"})\n",
    "ds_zarr[\"time\"] = np.round(ds_zarr[\"time\"], 1)\n",
    "\n",
    "\n",
    "ds_eulerian = xr.open_dataset(data_dir / \"processed/eulerian_dataset.nc\")\n",
    "ds_eulerian[\"time\"] = np.round(ds_eulerian[\"time\"], 1)\n",
    "# ds_eulerian['radius_bins'] = ds_eulerian['radius_bins'].where(ds_eulerian['radius_bins'] > 0, 1e-3)\n",
    "ds_eulerian"
   ]
  },
  {
   "cell_type": "markdown",
   "metadata": {},
   "source": [
    "## Attempt to understand conservation of mass in the setup\n",
    "\n",
    "This is a bit like in a reservoir.\n",
    "\n",
    "We have:\n",
    "- $\\mathit{I}$   Inflow of SDs \n",
    "- $\\mathit{O}$   Outflow of SDs\n",
    "- $\\mathit{R}$   Reservoir of SDs within the domain \n",
    "\n",
    "\n",
    "For gridboxes $g \\in \\left[0, G\\right]$\n",
    "For time $t \\in \\left[0, T\\right]$\n",
    "For time $i \\in \\left[0, S\\right]$\n",
    "\n",
    "\n",
    "- The inflow at time t is given by the first time instance of a Droplet, in the top most SUBCLOUD gridbox. This should be the second timestep of existence.\n",
    "- The outflow is given by the last timestep of existance.\n",
    "- The resevoir are all OTHER values at this timestep for ALL gridboxes.\n",
    "\n",
    "The differnce should be exactly in line with CLEOs output of ``masscondensed`` $dM$\n",
    "\n",
    "$I = R + O + dM$"
   ]
  },
  {
   "cell_type": "markdown",
   "metadata": {},
   "source": [
    "We need to use the represented mass for each SDs"
   ]
  },
  {
   "cell_type": "code",
   "execution_count": null,
   "metadata": {},
   "outputs": [
    {
     "name": "stdout",
     "output_type": "stream",
     "text": [
      "---- Superdrop Properties -----\n",
      "RHO_L = 998.203 Kg/m^3\n",
      "RHO_SOL = 2016.5 Kg/m^3\n",
      "MR_SOL = 0.05844277 Kg/mol\n",
      "IONIC = 2.0\n",
      "-------------------------------\n"
     ]
    },
    {
     "name": "stdout",
     "output_type": "stream",
     "text": [
      "Attribute coord1 not found in dataset\n",
      "Attribute coord2 not found in dataset\n"
     ]
    }
   ],
   "source": [
    "dataset = supersdata.SupersDataNew(\n",
    "    dataset=ds_zarr,\n",
    "    consts=consts,\n",
    ")\n",
    "dataset.set_attribute(dataset[\"sdId\"].attribute_to_indexer_unique())\n",
    "dataset.index_by_indexer(dataset[\"sdId\"])"
   ]
  },
  {
   "cell_type": "code",
   "execution_count": null,
   "metadata": {},
   "outputs": [],
   "source": [
    "def create_init_exit_reservoir_data(dataset: supersdata.SupersDataNew) -> Tuple[\n",
    "    supersdata.SupersDataSimple,\n",
    "    supersdata.SupersDataSimple,\n",
    "    supersdata.SupersDataSimple,\n",
    "]:\n",
    "\n",
    "    data = dataset[\"time\"].data\n",
    "    mask = ak.num(data, axis=-1) > 1\n",
    "\n",
    "    dataset_init = supersdata.SupersDataSimple([])\n",
    "    dataset_exit = supersdata.SupersDataSimple([])\n",
    "    dataset_reservoir = supersdata.SupersDataSimple([])\n",
    "\n",
    "    for key, attribute in dataset.attributes.items():\n",
    "        data = attribute.data\n",
    "        data = data[mask]\n",
    "        init_data = data[:, 1]\n",
    "        exit_data = data[:, -1]\n",
    "        reservoir_data = data[:, 1:-1]\n",
    "        reservoir_data = ak.flatten(reservoir_data, axis=-1)\n",
    "\n",
    "        dataset_init.set_attribute(\n",
    "            supersdata.SupersAttribute(\n",
    "                name=key, data=init_data, units=attribute.units, metadata=attribute.metadata\n",
    "            )\n",
    "        )\n",
    "        dataset_exit.set_attribute(\n",
    "            supersdata.SupersAttribute(\n",
    "                name=key, data=exit_data, units=attribute.units, metadata=attribute.metadata\n",
    "            )\n",
    "        )\n",
    "        dataset_reservoir.set_attribute(\n",
    "            supersdata.SupersAttribute(\n",
    "                name=key, data=reservoir_data, units=attribute.units, metadata=attribute.metadata\n",
    "            )\n",
    "        )\n",
    "\n",
    "    return dataset_init, dataset_exit, dataset_reservoir\n",
    "\n",
    "\n",
    "dataset_init, dataset_exit, dataset_reservoir = create_init_exit_reservoir_data(dataset)"
   ]
  },
  {
   "cell_type": "code",
   "execution_count": null,
   "metadata": {},
   "outputs": [],
   "source": [
    "dataset_init.set_attribute(dataset_init[\"time\"].attribute_to_indexer_unique())\n",
    "dataset_init.index_by_indexer(dataset_init[\"time\"])\n",
    "\n",
    "dataset_exit.set_attribute(dataset_exit[\"time\"].attribute_to_indexer_unique())\n",
    "dataset_exit.index_by_indexer(dataset_exit[\"time\"])\n",
    "\n",
    "dataset_reservoir.set_attribute(dataset_reservoir[\"time\"].attribute_to_indexer_unique())\n",
    "dataset_reservoir.set_attribute(dataset_reservoir[\"sdgbxindex\"].attribute_to_indexer_unique())\n",
    "dataset_reservoir.index_by_indexer(dataset_reservoir[\"time\"])\n",
    "dataset_reservoir.index_by_indexer(dataset_reservoir[\"sdgbxindex\"])"
   ]
  },
  {
   "cell_type": "markdown",
   "metadata": {},
   "source": [
    "We can only use the timesteps up to the last time!!!!"
   ]
  },
  {
   "cell_type": "code",
   "execution_count": null,
   "metadata": {},
   "outputs": [],
   "source": [
    "da_init = dataset_init.attribute_to_DataArray_reduction(\"mass_represented\", reduction_func=ak.sum)\n",
    "da_exit = dataset_exit.attribute_to_DataArray_reduction(\"mass_represented\", reduction_func=ak.sum)\n",
    "da_reservoir = dataset_reservoir.attribute_to_DataArray_reduction(\n",
    "    \"mass_represented\", reduction_func=ak.sum\n",
    ")\n",
    "\n",
    "\n",
    "da_init = da_init.isel(time=slice(0, -1))\n",
    "da_exit = da_exit.isel(time=slice(0, -1))\n",
    "da_reservoir = da_reservoir.isel(time=slice(0, -1))"
   ]
  },
  {
   "cell_type": "code",
   "execution_count": null,
   "metadata": {},
   "outputs": [],
   "source": [
    "da_dM = ds_eulerian[\"massdelta_condensation\"].isel(time=slice(0, -1)).isel(gridbox=slice(0, -1))\n",
    "# make sure to have kg per gridbox\n",
    "da_dM = da_dM * ds_eulerian[\"gridbox_volume\"]\n",
    "# make sure to have per timestep NOT per second\n",
    "da_dM = da_dM * ds_eulerian[\"time\"].diff(\"time\").mean()\n",
    "# correct the Vorzeichen\n",
    "da_dM = -da_dM\n",
    "# rename gridbox to sdgbxindex\n",
    "da_dM = da_dM.rename({\"gridbox\": \"sdgbxindex\"})\n",
    "\n",
    "da_dM"
   ]
  },
  {
   "cell_type": "code",
   "execution_count": null,
   "metadata": {},
   "outputs": [],
   "source": [
    "da_init.rolling(time=10).mean().plot(label=\"I smoothed\\n(inflow mass in topmost gridbox)\")\n",
    "da_exit.rolling(time=10).mean().plot(label=\"O smoothed\\n(outflow mass in topmost gridbox)\")\n",
    "plt.legend(loc=\"center right\")\n",
    "\n",
    "plt.savefig(fig_dir / \"mass_conservation_inflow_outflow.png\", dpi=300)\n",
    "\n",
    "plt.figure()\n",
    "(da_init - da_exit).plot(label=\"$I_{cs} - O_{cs}$\")\n",
    "\n",
    "da_reservoir.sum(\"sdgbxindex\").diff(\"time\").plot(label=\"R reservoir\")\n",
    "plt.legend(loc=\"upper right\")\n",
    "plt.savefig(fig_dir / \"mass_conservation_reservoir.png\", dpi=300)\n",
    "\n",
    "plt.figure()\n",
    "(da_init - da_exit - da_reservoir.sum(\"sdgbxindex\").diff(\"time\")).plot(label=\"$I_{cs} - O_{cs} - R$\")\n",
    "\n",
    "da_dM.sum(\"sdgbxindex\").plot(label=\"dM\")\n",
    "\n",
    "plt.legend(loc=\"upper left\")\n",
    "\n",
    "plt.savefig(fig_dir / \"mass_conservation_residual_dM.png\", dpi=300)\n",
    "plt.figure()\n",
    "(da_init - da_exit - da_reservoir.sum(\"sdgbxindex\").diff(\"time\") - da_dM.sum(\"sdgbxindex\")).plot(\n",
    "    label=\"$I_{cs} - O_{cs} - R - dM$\", color=\"k\"\n",
    ")\n",
    "plt.legend(loc=\"upper right\")\n",
    "\n",
    "plt.savefig(fig_dir / \"mass_conservation_residual.png\", dpi=300)"
   ]
  },
  {
   "cell_type": "code",
   "execution_count": null,
   "metadata": {},
   "outputs": [
    {
     "data": {
      "text/plain": [
       "(0.0, 3500.0)"
      ]
     },
     "execution_count": null,
     "metadata": {},
     "output_type": "execute_result"
    }
   ],
   "source": [
    "fig, ax = plt.subplots()\n",
    "\n",
    "\n",
    "data = 100 * da_exit / da_init\n",
    "\n",
    "m, sem = mean_and_stderror_of_mean(data.sel(time=slice(1000, 1300)), dims=\"time\")\n",
    "s = data.std(\"time\")\n",
    "ax.plot(data[\"time\"], data)\n",
    "\n",
    "ax.axhline(100, color=\"k\", linestyle=\"--\")\n",
    "ax.axhline(m, color=\"b\", linestyle=\"-\")\n",
    "\n",
    "ax.fill_between(data[\"time\"], m - sem, m + sem, color=\"b\", alpha=0.3)\n",
    "ax.fill_between(data[\"time\"], m - s, m + s, color=\"r\", alpha=0.3)\n",
    "ax.set_xlim(0, 3500)"
   ]
  },
  {
   "cell_type": "code",
   "execution_count": null,
   "metadata": {},
   "outputs": [],
   "source": [
    "da_init.rolling(time=10).mean().plot(label=\"I smoothed\\n(inflow mass in topmost gridbox)\")\n",
    "da_exit.rolling(time=10).mean().plot(label=\"O smoothed\\n(outflow mass in topmost gridbox)\")\n",
    "plt.legend(loc=\"center right\")\n",
    "\n",
    "plt.savefig(fig_dir / \"cumsum_mass_conservation_inflow_outflow_smoothed.png\", dpi=300)\n",
    "\n",
    "plt.figure()\n",
    "da_init.cumsum(\"time\").plot(label=\"$I_{cs}$ (cumulative sum over time)\")\n",
    "da_exit.cumsum(\"time\").plot(label=\"$O_{cs}$ (cumulative sum over time)\")\n",
    "plt.legend(loc=\"center right\")\n",
    "plt.savefig(fig_dir / \"cumsum_mass_conservation_inflow_outflow.png\", dpi=300)\n",
    "\n",
    "plt.figure()\n",
    "(da_init.cumsum(\"time\") - da_exit.cumsum(\"time\")).plot(label=\"$I_{cs} - O_{cs}$\")\n",
    "\n",
    "da_reservoir.sum(\"sdgbxindex\").plot(label=\"R (reservoir)\")\n",
    "plt.legend(loc=\"center right\")\n",
    "plt.savefig(fig_dir / \"cumsum_mass_conservation_reservoir.png\", dpi=300)\n",
    "\n",
    "plt.figure()\n",
    "(da_init.cumsum(\"time\") - da_exit.cumsum(\"time\") - da_reservoir.sum(\"sdgbxindex\")).plot(\n",
    "    label=\"$I_{cs} - O_{cs} - R$\"\n",
    ")\n",
    "\n",
    "da_dM.sum(\"sdgbxindex\").cumsum(\"time\").plot(label=\"dM\")\n",
    "\n",
    "plt.legend(loc=\"center left\")\n",
    "\n",
    "plt.savefig(fig_dir / \"cumsum_mass_conservation_residual_dM.png\", dpi=300)\n",
    "plt.figure()\n",
    "(\n",
    "    da_init.cumsum(\"time\")\n",
    "    - da_exit.cumsum(\"time\")\n",
    "    - da_reservoir.sum(\"sdgbxindex\")\n",
    "    - da_dM.sum(\"sdgbxindex\").cumsum(\"time\")\n",
    ").plot(label=\"$I_{cs} - O_{cs} - R - dM$\", color=\"k\")\n",
    "plt.legend(loc=\"center right\")\n",
    "plt.savefig(fig_dir / \"cumsum_mass_conservation_residual.png\", dpi=300)"
   ]
  },
  {
   "cell_type": "code",
   "execution_count": null,
   "metadata": {},
   "outputs": [],
   "source": []
  }
 ],
 "metadata": {
  "kernelspec": {
   "display_name": "sdm_pysd_env312",
   "language": "python",
   "name": "python3"
  },
  "language_info": {
   "codemirror_mode": {
    "name": "ipython",
    "version": 3
   },
   "file_extension": ".py",
   "mimetype": "text/x-python",
   "name": "python",
   "nbconvert_exporter": "python",
   "pygments_lexer": "ipython3",
   "version": "3.12.1"
  }
 },
 "nbformat": 4,
 "nbformat_minor": 2
}
