{
 "cells": [
  {
   "cell_type": "code",
   "execution_count": null,
   "metadata": {},
   "outputs": [
    {
     "data": {
      "text/plain": [
       "['#CC6677', '#6E9CB3', '#CA8727', '#44AA99', '#AA4499', '#D6BE49', '#A494F5']"
      ]
     },
     "execution_count": null,
     "metadata": {},
     "output_type": "execute_result"
    }
   ],
   "source": [
    "import numpy as np\n",
    "import xarray as xr\n",
    "from pathlib import Path\n",
    "\n",
    "from sdm_eurec4a.visulization import set_custom_rcParams\n",
    "\n",
    "set_custom_rcParams()"
   ]
  },
  {
   "cell_type": "code",
   "execution_count": null,
   "metadata": {},
   "outputs": [],
   "source": [
    "from pySD.sdmout_src import supersdata\n",
    "from pySD.sdmout_src import pygbxsdat, pysetuptxt, supersdata"
   ]
  },
  {
   "cell_type": "code",
   "execution_count": null,
   "metadata": {},
   "outputs": [
    {
     "name": "stdout",
     "output_type": "stream",
     "text": [
      "Reading binary file:\n",
      " /home/m/m301096/CLEO/data/output_v4.1/condensation/cluster_100/share/eurec4a1d_ddimlessGBxboundaries.dat\n",
      "---- Superdrop Properties -----\n",
      "RHO_L = 998.203 Kg/m^3\n",
      "RHO_SOL = 2016.5 Kg/m^3\n",
      "MR_SOL = 0.05844277 Kg/mol\n",
      "IONIC = 2.0\n",
      "-------------------------------\n",
      "supers dataset path:  /home/m/m301096/CLEO/data/output_v4.1/condensation/cluster_100/eurec4a1d_sol.zarr\n",
      "Attribute coord1 not found in dataset\n",
      "Attribute coord2 not found in dataset\n"
     ]
    }
   ],
   "source": [
    "data_dir = Path(\"/home/m/m301096/CLEO/data/output_v4.1/condensation/cluster_100/\")\n",
    "\n",
    "cloud_id = int(data_dir.name.split(\"_\")[1])\n",
    "\n",
    "output_dir = data_dir / \"processed\"\n",
    "output_dir.mkdir(exist_ok=True, parents=False)\n",
    "\n",
    "output_path = output_dir / \"eulerian_dataset.nc\"\n",
    "output_path.parent.mkdir(exist_ok=True)\n",
    "\n",
    "setupfile_path = data_dir / \"config\" / \"eurec4a1d_setup.txt\"\n",
    "statsfile_path = data_dir / \"config\" / \"eurec4a1d_stats.txt\"\n",
    "zarr_path = data_dir / \"eurec4a1d_sol.zarr\"\n",
    "gridfile_path = data_dir / \"share/eurec4a1d_ddimlessGBxboundaries.dat\"\n",
    "\n",
    "# read in constants and intial setup from setup .txt file\n",
    "config = pysetuptxt.get_config(str(setupfile_path), nattrs=3, isprint=False)\n",
    "consts = pysetuptxt.get_consts(str(setupfile_path), isprint=False)\n",
    "gridbox_dict = pygbxsdat.get_gridboxes(str(gridfile_path), consts[\"COORD0\"], isprint=False)\n",
    "\n",
    "ds_zarr = xr.open_zarr(zarr_path, consolidated=False)\n",
    "ds_zarr = ds_zarr.rename({\"gbxindex\": \"gridbox\"})\n",
    "ds_zarr = ds_zarr.compute()\n",
    "\n",
    "# Use the SupersDataNew class to read the dataset\n",
    "dataset = supersdata.SupersDataNew(dataset=str(zarr_path), consts=consts)\n",
    "\n",
    "dataset.set_attribute(dataset[\"sdId\"].attribute_to_indexer_unique())\n",
    "dataset.index_by_indexer(dataset[\"sdId\"])"
   ]
  },
  {
   "cell_type": "code",
   "execution_count": null,
   "metadata": {},
   "outputs": [
    {
     "name": "stdout",
     "output_type": "stream",
     "text": [
      "Number of xi above zero: 576253\n",
      "Number of xi equal to zero: 484049\n",
      "Number of xi below zero: 0\n"
     ]
    }
   ],
   "source": [
    "number_above_zero = (ds_zarr[\"xi\"] > 0).sum().values\n",
    "number_equal_zero = (ds_zarr[\"xi\"] == 0).sum().values\n",
    "number_below_zero = (ds_zarr[\"xi\"] < 0).sum().values\n",
    "\n",
    "print(f\"Number of xi above zero: {number_above_zero}\")\n",
    "print(f\"Number of xi equal to zero: {number_equal_zero}\")\n",
    "print(f\"Number of xi below zero: {number_below_zero}\")"
   ]
  },
  {
   "cell_type": "code",
   "execution_count": null,
   "metadata": {},
   "outputs": [
    {
     "data": {
      "text/plain": [
       "Text(0.5, 1.0, 'Cloud 100 Validate $\\\\xi$')"
      ]
     },
     "execution_count": null,
     "metadata": {},
     "output_type": "execute_result"
    }
   ],
   "source": [
    "import matplotlib.pyplot as plt\n",
    "import awkward as ak\n",
    "\n",
    "r = ak.flatten(dataset[\"radius\"].data)\n",
    "xi = ak.flatten(dataset[\"xi\"].data)\n",
    "\n",
    "mask = xi == 0\n",
    "\n",
    "plt.plot(r[~mask], xi[~mask], \".\", label=r\"$\\xi$ == 0\")\n",
    "\n",
    "plt.plot(r[mask], xi[mask], \".\", label=r\"$\\xi$ != 0\")\n",
    "plt.xscale(\"log\")\n",
    "plt.legend()\n",
    "# plt.ylim(0, 4)\n",
    "plt.xlabel(\"Radius in µm\")\n",
    "plt.ylabel(r\"Multiplicity $\\xi$\")\n",
    "plt.title(rf\"Cloud {cloud_id} Validate $\\xi$\")"
   ]
  },
  {
   "cell_type": "code",
   "execution_count": null,
   "metadata": {},
   "outputs": [],
   "source": [
    "import matplotlib.pyplot as plt\n",
    "import awkward as ak\n",
    "\n",
    "r = dataset[\"radius\"].data\n",
    "xi = dataset[\"xi\"].data\n",
    "\n",
    "mask = ak.num(r) > 10\n",
    "\n",
    "r[mask]\n",
    "xi[mask]"
   ]
  }
 ],
 "metadata": {
  "kernelspec": {
   "display_name": "sdm_pysd_env312",
   "language": "python",
   "name": "python3"
  },
  "language_info": {
   "codemirror_mode": {
    "name": "ipython",
    "version": 3
   },
   "file_extension": ".py",
   "mimetype": "text/x-python",
   "name": "python",
   "nbconvert_exporter": "python",
   "pygments_lexer": "ipython3",
   "version": "3.12.1"
  }
 },
 "nbformat": 4,
 "nbformat_minor": 2
}
