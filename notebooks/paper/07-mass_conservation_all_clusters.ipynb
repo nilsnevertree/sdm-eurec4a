{
 "cells": [
  {
   "cell_type": "code",
   "execution_count": null,
   "metadata": {},
   "outputs": [],
   "source": [
    "import numpy as np\n",
    "import xarray as xr\n",
    "from pathlib import Path\n",
    "\n",
    "from sdm_eurec4a.visulization import set_custom_rcParams, label_from_attrs\n",
    "from sdm_eurec4a.reductions import mean_and_stderror_of_mean\n",
    "\n",
    "default_colors = set_custom_rcParams()\n",
    "\n",
    "import matplotlib.pyplot as plt"
   ]
  },
  {
   "cell_type": "code",
   "execution_count": null,
   "metadata": {},
   "outputs": [],
   "source": [
    "data_dir = Path(\n",
    "    \"/home/m/m301096/CLEO/data/output_v4.0/coalbure_condensation_large/combined/conservation_dataset_combined.nc\"\n",
    ")\n",
    "ds = xr.open_dataset(data_dir)\n",
    "ds = ds.isel(time=slice(0, -1))\n",
    "\n",
    "ds[\"sum\"] = -ds[\"reservoir_change\"] + ds[\"inflow\"] + ds[\"outflow\"] + ds[\"source\"]"
   ]
  },
  {
   "cell_type": "code",
   "execution_count": null,
   "metadata": {},
   "outputs": [],
   "source": [
    "fig, axs = plt.subplots(2, 2, figsize=(10, 10), sharex=True, sharey=False)\n",
    "\n",
    "axs = axs.flatten()\n",
    "\n",
    "for cloud_id in ds[\"cloud_id\"]:\n",
    "\n",
    "    axs[0].plot(\n",
    "        ds[\"time\"],\n",
    "        ds[\"inflow\"].sel(cloud_id=cloud_id),\n",
    "        label=label_from_attrs(ds[\"cloud_id\"].sel(cloud_id=cloud_id)),\n",
    "    )\n",
    "    axs[1].plot(\n",
    "        ds[\"time\"],\n",
    "        ds[\"outflow\"].sel(cloud_id=cloud_id),\n",
    "        label=label_from_attrs(ds[\"cloud_id\"].sel(cloud_id=cloud_id)),\n",
    "    )\n",
    "    axs[2].plot(\n",
    "        ds[\"time\"],\n",
    "        ds[\"source\"].sel(cloud_id=cloud_id),\n",
    "        label=label_from_attrs(ds[\"cloud_id\"].sel(cloud_id=cloud_id)),\n",
    "    )\n",
    "    axs[3].plot(\n",
    "        ds[\"time\"],\n",
    "        ds[\"sum\"].sel(cloud_id=cloud_id),\n",
    "        label=label_from_attrs(ds[\"cloud_id\"].sel(cloud_id=cloud_id)),\n",
    "    )"
   ]
  },
  {
   "cell_type": "code",
   "execution_count": null,
   "metadata": {},
   "outputs": [
    {
     "data": {
      "text/plain": [
       "<matplotlib.legend.Legend at 0x7fff87a0f3b0>"
      ]
     },
     "execution_count": null,
     "metadata": {},
     "output_type": "execute_result"
    }
   ],
   "source": [
    "microphysics = (\n",
    "    # 'null_microphysics',\n",
    "    \"condensation\",\n",
    "    \"collision_condensation\",\n",
    "    \"coalbure_condensation_small\",\n",
    "    \"coalbure_condensation_large\",\n",
    ")\n",
    "for mp, color in zip(microphysics, default_colors):\n",
    "\n",
    "    data_dir = Path(\n",
    "        f\"/home/m/m301096/CLEO/data/output_v4.0/{mp}/combined/conservation_dataset_combined.nc\"\n",
    "    )\n",
    "    ds = xr.open_dataset(data_dir)\n",
    "    ds = ds.isel(time=slice(0, -1))\n",
    "\n",
    "    ds[\"sum\"] = -ds[\"reservoir_change\"] + ds[\"inflow\"] + ds[\"outflow\"] + ds[\"source\"]\n",
    "\n",
    "    ds_mean, ds_std = mean_and_stderror_of_mean(\n",
    "        ds.sel(time=slice(1000, 3400)),\n",
    "        dims=\"time\",\n",
    "    )\n",
    "\n",
    "    # ds_mean = ds.sel(time = slice(1000, 3400)).mean('time')\n",
    "    # ds_std = ds.sel(time = slice(1000, 3400)).std('time')\n",
    "\n",
    "    A = -100 * ds_mean[\"source\"]\n",
    "    B = ds_mean[\"inflow\"]\n",
    "    sigma_A = -100 * ds_std[\"source\"]\n",
    "    sigma_B = ds_std[\"inflow\"]\n",
    "\n",
    "    f = A / B\n",
    "    sigma_f = f * np.sqrt((sigma_A / A) ** 2 + (sigma_B / B) ** 2)\n",
    "\n",
    "    m, s = mean_and_stderror_of_mean(data=f, dims=\"cloud_id\", data_std=sigma_f)\n",
    "\n",
    "    plt.hist(f, alpha=0.1, bins=np.linspace(-5, 20, 50), color=color)\n",
    "    plt.axvline(m, label=mp, alpha=1, color=color)\n",
    "    plt.fill_betweenx([0, 20], m - s, m + s, alpha=0.2, color=color)\n",
    "    # plt.hist(out_inf, label = mp, alpha = 0.5, bins = np.linspace(-100, 100, 50))\n",
    "    # plt.plot(source - out_inf, label = mp, alpha = 0.5)\n",
    "\n",
    "plt.legend()"
   ]
  },
  {
   "cell_type": "code",
   "execution_count": null,
   "metadata": {},
   "outputs": [],
   "source": [
    "ds"
   ]
  },
  {
   "cell_type": "code",
   "execution_count": null,
   "metadata": {},
   "outputs": [],
   "source": [
    "microphysics = (\n",
    "    # 'null_microphysics',\n",
    "    \"condensation\",\n",
    "    \"collision_condensation\",\n",
    "    \"coalbure_condensation_small\",\n",
    "    \"coalbure_condensation_large\",\n",
    ")\n",
    "\n",
    "for mp, color, marker in zip(microphysics, default_colors, [\".\", \"x\", \"+\", \"1\", \"2\"]):\n",
    "\n",
    "    data_dir = Path(\n",
    "        f\"/home/m/m301096/CLEO/data/output_v4.0/{mp}/combined/conservation_dataset_combined.nc\"\n",
    "    )\n",
    "    ds = xr.open_dataset(data_dir)\n",
    "    ds = 0.5 * ds.isel(time=slice(0, -1))\n",
    "\n",
    "    ds[\"sum\"] = -ds[\"reservoir_change\"] + ds[\"inflow\"] + ds[\"outflow\"] + ds[\"source\"]\n",
    "\n",
    "    ds_mean, ds_std = mean_and_stderror_of_mean(\n",
    "        ds.sel(time=slice(1000, 3400)),\n",
    "        dims=\"time\",\n",
    "    )\n",
    "    # ds_mean = ds.sel(time = slice(1000, 3400)).mean('time')\n",
    "    # ds_std = ds.sel(time = slice(1000, 3400)).std('time')\n",
    "\n",
    "    # ds_mean = ds.sel(time = slice(1000, 3400)).mean('time')\n",
    "    # ds_std = ds.sel(time = slice(1000, 3400)).std('time')\n",
    "\n",
    "    A = -100 * ds_mean[\"source\"]\n",
    "    B = ds_mean[\"inflow\"]\n",
    "    sigma_A = -100 * ds_std[\"source\"]\n",
    "    sigma_B = ds_std[\"inflow\"]\n",
    "\n",
    "    f = A / B\n",
    "    sigma_f = f * np.sqrt((sigma_A / A) ** 2 + (sigma_B / B) ** 2)\n",
    "    # sigma_f = ds_std['source']\n",
    "    # f = -ds_mean['source']\n",
    "\n",
    "    m, s = mean_and_stderror_of_mean(data=f, dims=\"cloud_id\", data_std=sigma_f)\n",
    "\n",
    "    plt.errorbar(\n",
    "        x=ds_mean[\"inflow\"],\n",
    "        y=f,\n",
    "        yerr=sigma_f,\n",
    "        color=color,\n",
    "        alpha=0.8,\n",
    "        marker=marker,\n",
    "        linestyle=\"None\",\n",
    "    )\n",
    "    plt.axhline(m, label=mp, alpha=1, color=color, linestyle=\"--\")\n",
    "    # plt.fill_between([0, 100], m - 2* s, m + 2*s, alpha = 0.2, color = color)\n",
    "    # plt.hist(out_inf, label = mp, alpha = 0.5, bins = np.linspace(-100, 100, 50))\n",
    "    # plt.plot(source - out_inf, label = mp, alpha = 0.5)\n",
    "\n",
    "plt.legend(loc=\"lower left\")\n",
    "plt.xscale(\"log\")\n",
    "plt.yscale(\"log\")"
   ]
  },
  {
   "cell_type": "code",
   "execution_count": null,
   "metadata": {},
   "outputs": [],
   "source": []
  }
 ],
 "metadata": {
  "kernelspec": {
   "display_name": "sdm_pysd_env312",
   "language": "python",
   "name": "python3"
  },
  "language_info": {
   "codemirror_mode": {
    "name": "ipython",
    "version": 3
   },
   "file_extension": ".py",
   "mimetype": "text/x-python",
   "name": "python",
   "nbconvert_exporter": "python",
   "pygments_lexer": "ipython3",
   "version": "3.12.1"
  }
 },
 "nbformat": 4,
 "nbformat_minor": 2
}
