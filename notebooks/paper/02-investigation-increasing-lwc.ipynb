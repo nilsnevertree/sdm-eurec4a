{
 "cells": [
  {
   "cell_type": "code",
   "execution_count": null,
   "metadata": {},
   "outputs": [],
   "source": [
    "import numpy as np\n",
    "import xarray as xr\n",
    "from pathlib import Path\n",
    "import awkward as ak\n",
    "\n",
    "import matplotlib.pyplot as plt\n",
    "import matplotlib.colors as mcolors\n",
    "import seaborn as sns\n",
    "from sdm_eurec4a.visulization import set_custom_rcParams\n",
    "\n",
    "\n",
    "from pySD.sdmout_src import sdtracing\n",
    "from pySD.sdmout_src import supersdata\n",
    "from pySD.sdmout_src import pygbxsdat, pysetuptxt, supersdata\n",
    "\n",
    "set_custom_rcParams()\n",
    "strength_cmap = sns.cubehelix_palette(start=0.5, rot=-0.5, as_cmap=True)"
   ]
  },
  {
   "cell_type": "code",
   "execution_count": null,
   "metadata": {},
   "outputs": [],
   "source": [
    "microphysics = \"condensation\"\n",
    "microphysics = \"collision_condensation\"\n",
    "microphysics = \"coalbure_condensation_large\"\n",
    "# microphysics = \"coalbure_condensation_small\""
   ]
  },
  {
   "cell_type": "code",
   "execution_count": null,
   "metadata": {},
   "outputs": [
    {
     "name": "stdout",
     "output_type": "stream",
     "text": [
      "Reading binary file:\n",
      " /home/m/m301096/CLEO/data/output_v4.0/coalbure_condensation_large/cluster_384/share/eurec4a1d_ddimlessGBxboundaries.dat\n"
     ]
    }
   ],
   "source": [
    "data_dir = Path(f\"/home/m/m301096/CLEO/data/output_v4.0/{microphysics}/cluster_384\")\n",
    "cloud_id = int(data_dir.name.split(\"_\")[1])\n",
    "\n",
    "# output_dir = data_dir / \"processed\"\n",
    "# output_dir.mkdir(exist_ok=True, parents=False)\n",
    "\n",
    "# output_path = output_dir / \"eulerian_dataset.nc\"\n",
    "# output_path.parent.mkdir(exist_ok=True)\n",
    "\n",
    "setupfile_path = data_dir / \"config\" / \"eurec4a1d_setup.txt\"\n",
    "statsfile_path = data_dir / \"config\" / \"eurec4a1d_stats.txt\"\n",
    "zarr_path = data_dir / \"eurec4a1d_sol.zarr\"\n",
    "gridfile_path = data_dir / \"share/eurec4a1d_ddimlessGBxboundaries.dat\"\n",
    "\n",
    "\n",
    "# read in constants and intial setup from setup .txt file\n",
    "config = pysetuptxt.get_config(str(setupfile_path), nattrs=3, isprint=False)\n",
    "consts = pysetuptxt.get_consts(str(setupfile_path), isprint=False)\n",
    "gridbox_dict = pygbxsdat.get_gridboxes(str(gridfile_path), consts[\"COORD0\"], isprint=False)\n",
    "\n",
    "ds_zarr = xr.open_zarr(zarr_path, consolidated=False)\n",
    "ds_zarr = ds_zarr.rename({\"gbxindex\": \"gridbox\"})\n",
    "ds_zarr[\"time\"] = np.round(ds_zarr[\"time\"], 1)\n",
    "ds_zarr = ds_zarr.compute()\n",
    "\n",
    "\n",
    "ds_eulerian = xr.open_dataset(data_dir / \"processed/eulerian_dataset.nc\")\n",
    "ds_eulerian[\"time\"] = np.round(ds_eulerian[\"time\"], 1)\n",
    "ds_eulerian[\"radius_bins\"] = ds_eulerian[\"radius_bins\"].where(ds_eulerian[\"radius_bins\"] > 0, 1e-3)"
   ]
  },
  {
   "cell_type": "code",
   "execution_count": null,
   "metadata": {},
   "outputs": [
    {
     "data": {
      "text/plain": [
       "[<matplotlib.lines.Line2D at 0x7fff5b389be0>]"
      ]
     },
     "execution_count": null,
     "metadata": {},
     "output_type": "execute_result"
    }
   ],
   "source": [
    "fig, axs = plt.subplots(ncols=2, figsize=(6, 3), sharey=True)\n",
    "ds_eulerian[\"relative_humidity\"].plot(y=\"gridbox\", ax=axs[0])\n",
    "ds_eulerian[\"air_temperature\"].plot(y=\"gridbox\", ax=axs[1])"
   ]
  },
  {
   "cell_type": "code",
   "execution_count": null,
   "metadata": {},
   "outputs": [
    {
     "data": {
      "text/plain": [
       "[<matplotlib.lines.Line2D at 0x7fff5aff1820>]"
      ]
     },
     "execution_count": null,
     "metadata": {},
     "output_type": "execute_result"
    }
   ],
   "source": [
    "ds_eulerian[\"massdelta_condensation\"].sel(time=slice(2000, 3000)).mean(\"time\").plot(y=\"gridbox\")"
   ]
  },
  {
   "cell_type": "code",
   "execution_count": null,
   "metadata": {},
   "outputs": [],
   "source": [
    "stationary_phase = slice(1500, 3500)\n",
    "\n",
    "fig, axs = plt.subplots(ncols=2, figsize=(8, 4), sharey=True, width_ratios=[1, 0.5])\n",
    "\n",
    "data = 1 / (100**2 * 20) * ds_zarr[\"massmom1\"].sel(gridbox=slice(0, 37))\n",
    "\n",
    "data.plot(ax=axs[0], x=\"time\", y=\"gridbox\", cmap=\"plasma_r\")\n",
    "data.sel(time=stationary_phase).mean(\"time\").plot(ax=axs[1], y=\"gridbox\")\n",
    "# data.sel(time = stationary_phase).median(\"time\").plot(ax = axs[1], y=\"gridbox\")\n",
    "\n",
    "axs[0].axvline(stationary_phase.start, color=\"k\")\n",
    "axs[0].axvline(stationary_phase.stop, color=\"k\")\n",
    "\n",
    "axs[0].set_title(\"Temporal evolution with stationary phase in black\")\n",
    "axs[1].set_title(\"Mean over stationary phase\")\n",
    "\n",
    "fig.tight_layout()"
   ]
  },
  {
   "cell_type": "code",
   "execution_count": null,
   "metadata": {},
   "outputs": [],
   "source": [
    "stationary_phase = slice(1500, 3500)\n",
    "\n",
    "gridboxes = [30, 25, 20, 15]\n",
    "\n",
    "for gbx in gridboxes:\n",
    "    fig, axs = plt.subplots(ncols=2, figsize=(8, 4), sharey=True, width_ratios=[1, 0.5])\n",
    "\n",
    "    data = (ds_eulerian[\"xi\"] / ds_eulerian[\"gridbox_volume\"]).sel(gridbox=gbx)\n",
    "\n",
    "    # data = data.rolling(time = 30, center = True).mean()\n",
    "\n",
    "    data.plot(ax=axs[0], x=\"time\", y=\"radius_bins\", cmap=strength_cmap, vmin=0)\n",
    "    data.sel(time=stationary_phase).mean(\"time\").plot(ax=axs[1], y=\"radius_bins\")\n",
    "    # data.sel(time = stationary_phase).median(\"time\").plot(ax = axs[1], y=\"gridbox\")\n",
    "\n",
    "    axs[0].set_yscale(\"log\")\n",
    "    axs[0].set_ylim(50, None)\n",
    "\n",
    "    axs[0].axvline(stationary_phase.start, color=\"k\")\n",
    "    axs[0].axvline(stationary_phase.stop, color=\"k\")\n",
    "\n",
    "    axs[0].set_title(\"Temporal evolution with stationary phase in black\")\n",
    "    axs[1].set_title(\"Mean over stationary phase\")\n",
    "    fig.suptitle(f\"Number of superdroplets within gridbox {gbx}\")\n",
    "    fig.tight_layout()"
   ]
  },
  {
   "cell_type": "code",
   "execution_count": null,
   "metadata": {},
   "outputs": [],
   "source": [
    "stationary_phase = slice(1500, 3500)\n",
    "\n",
    "number_slices = (\n",
    "    slice(0, np.inf),\n",
    "    slice(1000, 3000),\n",
    "    slice(400, 1000),\n",
    "    slice(200, 400),\n",
    "    slice(105, 200),\n",
    "    slice(75, 105),\n",
    "    slice(5, 75),\n",
    "    slice(0, 5),\n",
    ")\n",
    "for nslice in number_slices:\n",
    "    fig, axs = plt.subplots(ncols=2, figsize=(8, 4), sharey=True, width_ratios=[1, 0.5])\n",
    "\n",
    "    data = ds_eulerian[\"gridbox_volume\"].sel(gridbox=0) * (\n",
    "        ds_eulerian[\"number_superdroplets\"] / ds_eulerian[\"gridbox_volume\"]\n",
    "    ).sel(gridbox=slice(0, 37)).sel(radius_bins=nslice).sum(\"radius_bins\")\n",
    "\n",
    "    data.plot(ax=axs[0], x=\"time\", y=\"gridbox\", cmap=strength_cmap)\n",
    "    data.sel(time=stationary_phase).mean(\"time\").plot(ax=axs[1], y=\"gridbox\")\n",
    "    # data.sel(time = stationary_phase).median(\"time\").plot(ax = axs[1], y=\"gridbox\")\n",
    "\n",
    "    axs[0].axvline(stationary_phase.start, color=\"k\")\n",
    "    axs[0].axvline(stationary_phase.stop, color=\"k\")\n",
    "\n",
    "    axs[0].set_title(\"Temporal evolution with stationary phase in black\")\n",
    "    axs[1].set_title(\"Mean over stationary phase\")\n",
    "    fig.suptitle(f\"Number of superdroplets with radius {nslice.start} and {nslice.stop} µm\")\n",
    "    fig.tight_layout()"
   ]
  },
  {
   "cell_type": "code",
   "execution_count": null,
   "metadata": {},
   "outputs": [],
   "source": [
    "stationary_phase = slice(1500, 3500)\n",
    "\n",
    "gridboxes = [30, 25, 20, 15]\n",
    "\n",
    "for gbx in gridboxes:\n",
    "    fig, axs = plt.subplots(ncols=2, figsize=(8, 4), sharey=True, width_ratios=[1, 0.5])\n",
    "\n",
    "    data = ds_eulerian[\"number_superdroplets\"].sel(gridbox=gbx)\n",
    "\n",
    "    data.plot(ax=axs[0], x=\"time\", y=\"radius_bins\", cmap=strength_cmap)\n",
    "    data.sel(time=stationary_phase).mean(\"time\").plot(ax=axs[1], y=\"radius_bins\")\n",
    "    # data.sel(time = stationary_phase).median(\"time\").plot(ax = axs[1], y=\"gridbox\")\n",
    "\n",
    "    axs[0].set_yscale(\"log\")\n",
    "    axs[0].set_ylim(50, None)\n",
    "\n",
    "    axs[0].axvline(stationary_phase.start, color=\"k\")\n",
    "    axs[0].axvline(stationary_phase.stop, color=\"k\")\n",
    "\n",
    "    axs[0].set_title(\"Temporal evolution with stationary phase in black\")\n",
    "    axs[1].set_title(\"Mean over stationary phase\")\n",
    "    fig.suptitle(f\"Number of superdroplets within gridbox {gbx}\")\n",
    "    fig.tight_layout()"
   ]
  },
  {
   "cell_type": "code",
   "execution_count": null,
   "metadata": {},
   "outputs": [],
   "source": [
    "data"
   ]
  },
  {
   "cell_type": "code",
   "execution_count": null,
   "metadata": {},
   "outputs": [],
   "source": [
    "stationary_phase = slice(1500, 3500)\n",
    "\n",
    "time_slices = (\n",
    "    slice(0, 50),\n",
    "    slice(50, 200),\n",
    "    slice(200, 1000),\n",
    "    slice(1000, 2000),\n",
    "    slice(2000, 3000),\n",
    "    slice(3000, 3500),\n",
    ")\n",
    "\n",
    "for tslice in time_slices:\n",
    "    fig, axs = plt.subplots(ncols=2, figsize=(8, 4), sharey=True, width_ratios=[1, 0.5])\n",
    "\n",
    "    data = ds_eulerian[\"gridbox_volume\"].sel(gridbox=0) * (\n",
    "        ds_eulerian[\"number_superdroplets\"] / ds_eulerian[\"gridbox_volume\"]\n",
    "    ).sel(time=tslice).sel(radius_bins=slice(1, None)).mean(\"time\")\n",
    "\n",
    "    data.plot(ax=axs[0], x=\"radius_bins\", y=\"gridbox\", cmap=strength_cmap)\n",
    "    data.sum(\"radius_bins\").plot(ax=axs[1], y=\"gridbox\")\n",
    "    # data.sel(time = stationary_phase).median(\"time\").plot(ax = axs[1], y=\"gridbox\")\n",
    "\n",
    "    axs[0].set_xscale(\"log\")\n",
    "    axs[0].set_xlim(1, None)\n",
    "    axs[0].axvline(stationary_phase.start, color=\"k\")\n",
    "    axs[0].axvline(stationary_phase.stop, color=\"k\")\n",
    "\n",
    "    axs[0].set_title(\"Temporal evolution with stationary phase in black\")\n",
    "    axs[1].set_title(\"Mean over stationary phase\")\n",
    "\n",
    "    fig.suptitle(f\"Time slice {tslice.start} to {tslice.stop} s\")\n",
    "\n",
    "    fig.tight_layout()"
   ]
  },
  {
   "cell_type": "code",
   "execution_count": null,
   "metadata": {},
   "outputs": [],
   "source": [
    "strength_cmap = sns.cubehelix_palette(start=0.5, rot=-0.5, as_cmap=True)\n",
    "stationary_phase = slice(1500, 3500)\n",
    "\n",
    "time_slices = (\n",
    "    slice(0, 50),\n",
    "    slice(50, 200),\n",
    "    slice(200, 1000),\n",
    "    slice(1000, 2000),\n",
    "    slice(2000, 3000),\n",
    ")\n",
    "\n",
    "for tslice in time_slices:\n",
    "    fig, axs = plt.subplots(ncols=2, figsize=(8, 4), sharey=True, width_ratios=[1, 0.5])\n",
    "\n",
    "    data = 1e3 * (ds_eulerian[\"mass_represented\"] / ds_eulerian[\"gridbox_volume\"]).sel(time=tslice).sel(\n",
    "        radius_bins=slice(1, None)\n",
    "    ).mean(\"time\")\n",
    "\n",
    "    data.plot(ax=axs[0], x=\"radius_bins\", y=\"gridbox\", cmap=strength_cmap)\n",
    "    data.sum(\"radius_bins\").plot(ax=axs[1], y=\"gridbox\")\n",
    "    # data.sel(time = stationary_phase).median(\"time\").plot(ax = axs[1], y=\"gridbox\")\n",
    "\n",
    "    axs[0].set_xscale(\"log\")\n",
    "    axs[0].set_xlim(1, None)\n",
    "    axs[0].axvline(stationary_phase.start, color=\"k\")\n",
    "    axs[0].axvline(stationary_phase.stop, color=\"k\")\n",
    "\n",
    "    axs[0].set_title(\"Temporal evolution with stationary phase in black\")\n",
    "    axs[1].set_title(\"Mean over stationary phase\")\n",
    "\n",
    "    fig.suptitle(f\"Time slice {tslice.start} to {tslice.stop} s\")\n",
    "\n",
    "    fig.tight_layout()"
   ]
  },
  {
   "cell_type": "markdown",
   "metadata": {},
   "source": [
    "### Index by Superdroplet ID\n",
    "\n",
    "\n",
    "Analyse the "
   ]
  },
  {
   "cell_type": "code",
   "execution_count": null,
   "metadata": {},
   "outputs": [
    {
     "name": "stdout",
     "output_type": "stream",
     "text": [
      "---- Superdrop Properties -----\n",
      "RHO_L = 998.203 Kg/m^3\n",
      "RHO_SOL = 2016.5 Kg/m^3\n",
      "MR_SOL = 0.05844277 Kg/mol\n",
      "IONIC = 2.0\n",
      "-------------------------------\n",
      "Attribute coord1 not found in dataset\n",
      "Attribute coord2 not found in dataset\n",
      "CPU times: user 8.15 s, sys: 210 ms, total: 8.36 s\n",
      "Wall time: 8.38 s\n",
      "CPU times: user 8.66 s, sys: 1.15 s, total: 9.81 s\n",
      "Wall time: 9.85 s\n"
     ]
    }
   ],
   "source": [
    "\n",
    "# Use the SupersDataNew class to read the dataset\n",
    "dataset = supersdata.SupersDataNew(dataset=ds_zarr, consts=consts)\n",
    "\n",
    "%time dataset.set_attribute(dataset[\"sdId\"].attribute_to_indexer_unique())\n",
    "%time dataset.index_by_indexer(dataset[\"sdId\"])\n",
    "# print(dataset)"
   ]
  },
  {
   "cell_type": "code",
   "execution_count": null,
   "metadata": {},
   "outputs": [
    {
     "name": "stdout",
     "output_type": "stream",
     "text": [
      "Number of xi above zero: 34073370\n",
      "Number of xi equal to zero: 0\n",
      "Number of xi below zero: 0\n"
     ]
    }
   ],
   "source": [
    "number_above_zero = (ds_zarr[\"xi\"] > 0).sum().values\n",
    "number_equal_zero = (ds_zarr[\"xi\"] == 0).sum().values\n",
    "number_below_zero = (ds_zarr[\"xi\"] < 0).sum().values\n",
    "\n",
    "print(f\"Number of xi above zero: {number_above_zero}\")\n",
    "print(f\"Number of xi equal to zero: {number_equal_zero}\")\n",
    "print(f\"Number of xi below zero: {number_below_zero}\")"
   ]
  },
  {
   "cell_type": "code",
   "execution_count": null,
   "metadata": {},
   "outputs": [
    {
     "data": {
      "text/plain": [
       "array([137630, 137084,  60960,  81853,  49315])"
      ]
     },
     "execution_count": null,
     "metadata": {},
     "output_type": "execute_result"
    }
   ],
   "source": [
    "# number of droplets to plot\n",
    "N = 5\n",
    "\n",
    "data = dataset[\"sdId\"].data\n",
    "\n",
    "max_sdid = ak.max(data)\n",
    "# minimum number of timesteps a droplet has to exist\n",
    "min_existance_timesteps = 35\n",
    "mask = ak.num(data) >= min_existance_timesteps\n",
    "\n",
    "np.random.seed(45)\n",
    "selected_sdids = np.random.randint(0, sdtracing.get_awkward_shape(data[mask])[0], N)\n",
    "selected_sdids"
   ]
  },
  {
   "cell_type": "code",
   "execution_count": null,
   "metadata": {},
   "outputs": [
    {
     "data": {
      "text/plain": [
       "Text(0.5, 1.0, 'Cloud 384 Temporal evolution of 5 random droplets')"
      ]
     },
     "execution_count": null,
     "metadata": {},
     "output_type": "execute_result"
    }
   ],
   "source": [
    "N = len(selected_sdids)\n",
    "x_data = dataset[\"time\"].data[mask][selected_sdids]\n",
    "y_data = dataset[\"mass\"].data[mask][selected_sdids]\n",
    "color_data = dataset[\"xi\"].data[mask][selected_sdids]\n",
    "\n",
    "x_data = x_data - x_data[:, 0]\n",
    "y_data = y_data\n",
    "norm = mcolors.LogNorm(ak.min(color_data), ak.max(color_data))\n",
    "cmap = plt.cm.plasma.resampled(20)\n",
    "\n",
    "\n",
    "for i in range(N):\n",
    "    plt.plot(\n",
    "        x_data[i],\n",
    "        y_data[i],\n",
    "        alpha=0.5,\n",
    "        color=\"grey\",\n",
    "        linewidth=0.5,\n",
    "    )\n",
    "    plt.scatter(\n",
    "        x_data[i],\n",
    "        y_data[i],\n",
    "        c=color_data[i],\n",
    "        s=2,\n",
    "        cmap=cmap,\n",
    "        norm=norm,\n",
    "        alpha=1,\n",
    "        marker=\".\",\n",
    "    )\n",
    "plt.scatter([], [], c=[], cmap=cmap, norm=norm)\n",
    "plt.colorbar(label=\"Multiplicity $\\\\xi$\")\n",
    "plt.xlabel(\"Time since spawning in s\")\n",
    "plt.ylabel(\"Droplet mass in kg\")\n",
    "plt.yscale(\"log\")\n",
    "\n",
    "# plt.xlim(0, 1000)\n",
    "# plt.ylim(0, 1000)\n",
    "\n",
    "plt.title(f\"Cloud {cloud_id} Temporal evolution of {N} random droplets\")"
   ]
  },
  {
   "cell_type": "code",
   "execution_count": null,
   "metadata": {},
   "outputs": [
    {
     "data": {
      "text/plain": [
       "Text(0.5, 1.0, 'Cloud 384 Temporal evolution of 5 random droplets')"
      ]
     },
     "execution_count": null,
     "metadata": {},
     "output_type": "execute_result"
    }
   ],
   "source": [
    "N = len(selected_sdids)\n",
    "x_data = dataset[\"time\"].data[mask][selected_sdids]\n",
    "y_data = dataset[\"xi\"].data[mask][selected_sdids]\n",
    "color_data = dataset[\"mass\"].data[mask][selected_sdids]\n",
    "\n",
    "x_data = x_data - x_data[:, 0]\n",
    "y_data = y_data\n",
    "norm = mcolors.LogNorm(ak.min(color_data), ak.max(color_data))\n",
    "cmap = plt.cm.plasma.resampled(20)\n",
    "\n",
    "\n",
    "for i in range(N):\n",
    "    plt.plot(\n",
    "        x_data[i],\n",
    "        y_data[i],\n",
    "        alpha=0.5,\n",
    "        color=\"grey\",\n",
    "        linewidth=0.5,\n",
    "    )\n",
    "    plt.scatter(\n",
    "        x_data[i],\n",
    "        y_data[i],\n",
    "        c=color_data[i],\n",
    "        s=2,\n",
    "        cmap=cmap,\n",
    "        norm=norm,\n",
    "        alpha=1,\n",
    "        marker=\".\",\n",
    "    )\n",
    "plt.scatter([], [], c=[], cmap=cmap, norm=norm)\n",
    "plt.colorbar(label=\"Mass in kg\")\n",
    "plt.xlabel(\"Time since spawning in s\")\n",
    "plt.ylabel(\"Multiplicity $\\\\xi$\")\n",
    "\n",
    "plt.yscale(\"log\")\n",
    "\n",
    "# plt.xlim(0, 1000)\n",
    "# plt.ylim(0, 1000)\n",
    "\n",
    "plt.title(f\"Cloud {cloud_id} Temporal evolution of {N} random droplets\")"
   ]
  },
  {
   "cell_type": "code",
   "execution_count": null,
   "metadata": {},
   "outputs": [
    {
     "data": {
      "text/html": [
       "<pre>[[1.84e+03, 1.84e+03, 1.84e+03, 1.84e+03, 500, ..., 212, 212, 212, 212, 212],\n",
       " [907, 907, 907, 907, 907, 249, 249, ..., 256, 256, 268, 304, 326, 326, 332],\n",
       " [3e+03, 3e+03, 815, 223, 223, 223, ..., 96.8, 96.1, 95.5, 94.8, 94.2, 93.5],\n",
       " [706, 706, 706, 706, 706, 706, 715, ..., 106, 105, 105, 104, 103, 103, 102],\n",
       " [1.96e+03, 1.96e+03, 1.96e+03, 535, 535, 535, ..., 322, 322, 322, 322, 321]]\n",
       "-----------------------------------------------------------------------------\n",
       "type: 5 * var * float64</pre>"
      ],
      "text/plain": [
       "<Array [[1.84e+03, 1.84e+03, ..., 212, 212], ...] type='5 * var * float64'>"
      ]
     },
     "execution_count": null,
     "metadata": {},
     "output_type": "execute_result"
    }
   ],
   "source": [
    "dataset[\"radius\"].data[mask][selected_sdids]"
   ]
  },
  {
   "cell_type": "code",
   "execution_count": null,
   "metadata": {},
   "outputs": [
    {
     "data": {
      "text/plain": [
       "Text(0.5, 0.98, 'Cloud 384 Temporal evolution of 5 random droplets')"
      ]
     },
     "execution_count": null,
     "metadata": {},
     "output_type": "execute_result"
    }
   ],
   "source": [
    "N = len(selected_sdids)\n",
    "max_timesteps = 100\n",
    "x_data = dataset[\"radius\"].data[mask][selected_sdids][:, :max_timesteps]\n",
    "y_data = dataset[\"xi\"].data[mask][selected_sdids][:, :max_timesteps]\n",
    "color_data = dataset[\"time\"].data[mask][selected_sdids][:, :max_timesteps]\n",
    "color_data2 = dataset[\"sdId\"].data[mask][selected_sdids][:, :max_timesteps]\n",
    "\n",
    "color_data = color_data - color_data[:, 0]\n",
    "norm = mcolors.Normalize(ak.min(color_data), ak.max(color_data))\n",
    "time_colors = plt.cm.plasma\n",
    "\n",
    "id_colors = plt.cm.Set1.resampled(N)(np.linspace(0, 1, N))\n",
    "\n",
    "fig, axs = plt.subplots(ncols=2, figsize=(15, 4), sharey=True, sharex=True)\n",
    "\n",
    "for i in range(N):\n",
    "    axs[0].plot(\n",
    "        x_data[i],\n",
    "        y_data[i],\n",
    "        color=id_colors[i],\n",
    "        alpha=0.5,\n",
    "        # color = \"grey\",\n",
    "        linewidth=1,\n",
    "        markersize=1,\n",
    "        marker=\".\",\n",
    "        label=f\"sdId: {selected_sdids[i]}\",\n",
    "    )\n",
    "    axs[1].plot(\n",
    "        x_data[i],\n",
    "        y_data[i],\n",
    "        color=id_colors[i],\n",
    "        alpha=0.5,\n",
    "        # color = \"grey\",\n",
    "        linewidth=1,\n",
    "        markersize=1,\n",
    "        marker=\".\",\n",
    "        label=f\"sdId: {selected_sdids[i]}\",\n",
    "    )\n",
    "\n",
    "    axs[1].scatter(\n",
    "        x_data[i],\n",
    "        y_data[i],\n",
    "        c=color_data[i],\n",
    "        s=2,\n",
    "        cmap=time_colors,\n",
    "        norm=norm,\n",
    "        zorder=10,\n",
    "    )\n",
    "\n",
    "fig.colorbar(\n",
    "    plt.cm.ScalarMappable(norm=norm, cmap=time_colors), ax=axs[1], label=\"Time since spawning in s\"\n",
    ")\n",
    "for _ax in axs:\n",
    "    _ax.set_xlabel(\"Radius in µm\")\n",
    "    _ax.set_ylabel(\"Multiplication factor xi\")\n",
    "    _ax.set_xscale(\"log\")\n",
    "    _ax.set_yscale(\"log\")\n",
    "axs[0].legend(loc=\"lower left\")\n",
    "fig.suptitle(f\"Cloud {cloud_id} Temporal evolution of {N} random droplets\")"
   ]
  },
  {
   "cell_type": "markdown",
   "metadata": {},
   "source": [
    "### Time dataset"
   ]
  },
  {
   "cell_type": "code",
   "execution_count": null,
   "metadata": {},
   "outputs": [
    {
     "name": "stdout",
     "output_type": "stream",
     "text": [
      "---- Superdrop Properties -----\n",
      "RHO_L = 998.203 Kg/m^3\n",
      "RHO_SOL = 2016.5 Kg/m^3\n",
      "MR_SOL = 0.05844277 Kg/mol\n",
      "IONIC = 2.0\n",
      "-------------------------------\n",
      "Attribute coord1 not found in dataset\n",
      "Attribute coord2 not found in dataset\n"
     ]
    }
   ],
   "source": [
    "# Use the SupersDataNew class to read the dataset\n",
    "dataset_time = supersdata.SupersDataNew(dataset=ds_zarr, consts=consts)\n",
    "\n",
    "dataset_time.set_attribute(dataset_time[\"time\"].attribute_to_indexer_unique())\n",
    "dataset_time.set_attribute(dataset_time[\"sdgbxindex\"].attribute_to_indexer_unique())\n",
    "\n",
    "dataset_time.index_by_indexer(dataset_time[\"time\"])\n",
    "dataset_time.index_by_indexer(dataset_time[\"sdgbxindex\"])"
   ]
  },
  {
   "cell_type": "code",
   "execution_count": null,
   "metadata": {},
   "outputs": [],
   "source": [
    "# extract the awkward array from the dataset\n",
    "x_data = 1e3 * dataset_time[\"mass\"].data[1200]\n",
    "y_data = dataset_time[\"xi\"].data[1200]\n",
    "c_data = 1e3 * dataset_time[\"mass_represented\"].data[1200]"
   ]
  },
  {
   "cell_type": "code",
   "execution_count": null,
   "metadata": {},
   "outputs": [],
   "source": [
    "N = 35\n",
    "norm = mcolors.Normalize(ak.min(c_data[:N]), ak.max(c_data[:N]))\n",
    "gridboxes = [34, 30, 27, 23, 20, 10]\n",
    "colors = plt.cm.plasma.resampled(len(gridboxes))(np.linspace(0, 1, len(gridboxes)))\n",
    "\n",
    "fig, axs = plt.subplots(1, 4, figsize=(12, 4), width_ratios=[3, 0.5, 0.5, 0.5])\n",
    "\n",
    "for i, c in zip(gridboxes, colors):\n",
    "    axs[0].scatter(x_data[i], y_data[i], s=1, color=c, alpha=1, marker=\".\", label=f\"Gridbox {i}\")\n",
    "    for j, d in enumerate([x_data, y_data, c_data]):\n",
    "        axs[j + 1].scatter(\n",
    "            0,\n",
    "            ak.sum(d[i]),\n",
    "            color=c,\n",
    "        )\n",
    "        axs[j + 1].set_xticks([])\n",
    "axs[0].legend(loc=\"lower left\", fontsize=8)\n",
    "axs[0].set_yscale(\"log\")\n",
    "axs[0].set_xscale(\"log\")\n",
    "\n",
    "axs[0].set_xlim(1e-7, None)\n",
    "\n",
    "axs[0].set_xlabel(\"Individual droplet mass in g\")\n",
    "axs[0].set_ylabel(r\"Multiplicity $\\xi$\")\n",
    "axs[1].set_ylabel(r\"$\\sum m$ per GBX [g]\")\n",
    "axs[2].set_ylabel(r\"$\\sum \\xi$ per GBX\")\n",
    "axs[3].set_ylabel(r\"$\\sum m_{rep}$ per GBX [g]\")\n",
    "\n",
    "fig.suptitle(f\"Distribution of SDs mass and \")\n",
    "fig.tight_layout()"
   ]
  },
  {
   "cell_type": "code",
   "execution_count": null,
   "metadata": {},
   "outputs": [],
   "source": [
    "da_mass_represented = dataset_time.attribute_to_DataArray(\"mass_represented\")\n",
    "da_mass = dataset_time.attribute_to_DataArray(\"mass\")\n",
    "da_xi = dataset_time.attribute_to_DataArray(\"xi\")"
   ]
  },
  {
   "cell_type": "code",
   "execution_count": null,
   "metadata": {},
   "outputs": [],
   "source": [
    "stationary_phase = slice(1500, 3500)\n",
    "\n",
    "\n",
    "fig, axs = plt.subplots(ncols=2, figsize=(8, 4), sharey=True, width_ratios=[1, 0.5])\n",
    "data = da_xi.mean(\"ragged_dimension_2\") / (100**2 * 20)\n",
    "label = r\"Mean $\\xi$ $\\left[m^{-3} \\right]$\"\n",
    "\n",
    "data.sel(sdgbxindex=slice(0, 37)).plot(\n",
    "    ax=axs[0], x=\"time\", y=\"sdgbxindex\", cmap=\"plasma_r\", cbar_kwargs=dict(label=label)\n",
    ")\n",
    "data.sel(sdgbxindex=slice(0, 37)).sel(time=stationary_phase).mean(\"time\").plot(ax=axs[1], y=\"sdgbxindex\")\n",
    "# data.sel(sdgbxindex = slice(0, 37)).sel(time = stationary_phase).median(\"time\").plot(ax = axs[1], y=\"sdgbxindex\")\n",
    "axs[0].axvline(stationary_phase.start, color=\"k\")\n",
    "axs[0].axvline(stationary_phase.stop, color=\"k\")\n",
    "axs[0].set_title(\"Temporal evolution with stationary phase in black\")\n",
    "axs[1].set_title(\"Mean over stationary phase\")\n",
    "axs[1].set_xlabel(label)\n",
    "fig.tight_layout()\n",
    "\n",
    "\n",
    "fig, axs = plt.subplots(ncols=2, figsize=(8, 4), sharey=True, width_ratios=[1, 0.5])\n",
    "data = 1e3 * da_mass.mean(\"ragged_dimension_2\").sel(time=slice(500, None)) / (100**2 * 20)\n",
    "label = r\"Mean ind. droplet mass $\\left[ g m^{-3} \\right]$\"\n",
    "\n",
    "data.sel(sdgbxindex=slice(0, 37)).plot(\n",
    "    ax=axs[0], x=\"time\", y=\"sdgbxindex\", cmap=\"plasma_r\", cbar_kwargs=dict(label=label)\n",
    ")\n",
    "data.sel(sdgbxindex=slice(0, 37)).sel(time=stationary_phase).mean(\"time\").plot(ax=axs[1], y=\"sdgbxindex\")\n",
    "# data.sel(sdgbxindex = slice(0, 37)).sel(time = stationary_phase).median(\"time\").plot(ax = axs[1], y=\"sdgbxindex\")\n",
    "axs[0].axvline(stationary_phase.start, color=\"k\")\n",
    "axs[0].axvline(stationary_phase.stop, color=\"k\")\n",
    "axs[0].set_title(\"Temporal evolution with stationary phase in black\")\n",
    "axs[1].set_title(\"Mean over stationary phase\")\n",
    "axs[1].set_xlabel(label)\n",
    "fig.tight_layout()\n",
    "\n",
    "\n",
    "fig, axs = plt.subplots(ncols=2, figsize=(8, 4), sharey=True, width_ratios=[1, 0.5])\n",
    "data = 1e3 * da_mass_represented.sum(\"ragged_dimension_2\") / (100**2 * 20)\n",
    "label = r\"Total mass $\\left[ g m^{-3} \\right]$\"\n",
    "\n",
    "data.sel(sdgbxindex=slice(0, 37)).plot(\n",
    "    ax=axs[0], x=\"time\", y=\"sdgbxindex\", cmap=\"plasma_r\", cbar_kwargs=dict(label=label)\n",
    ")\n",
    "data.sel(sdgbxindex=slice(0, 37)).sel(time=stationary_phase).mean(\"time\").plot(ax=axs[1], y=\"sdgbxindex\")\n",
    "# data.sel(sdgbxindex = slice(0, 37)).sel(time = stationary_phase).median(\"time\").plot(ax = axs[1], y=\"sdgbxindex\")\n",
    "axs[0].axvline(stationary_phase.start, color=\"k\")\n",
    "axs[0].axvline(stationary_phase.stop, color=\"k\")\n",
    "axs[0].set_title(\"Temporal evolution with stationary phase in black\")\n",
    "axs[1].set_title(\"Mean over stationary phase\")\n",
    "axs[1].set_xlabel(label)\n",
    "fig.tight_layout()\n",
    "\n",
    "\n",
    "# plt.figure()\n",
    "# (1e3 * da_mass_represented.sum(\"ragged_dimension_2\") / (100 **2 * 20)).sel(sdgbxindex = slice(0, 37)).T.plot(cmap = \"plasma_r_r\", cbar_kwargs = dict(label = r\"Total mass $\\left[ g m^{-3} \\right]$\"))"
   ]
  },
  {
   "cell_type": "markdown",
   "metadata": {},
   "source": [
    "### Time,  and gridbox "
   ]
  },
  {
   "cell_type": "markdown",
   "metadata": {},
   "source": [
    "lets select only superdroplet which exist in the 30 to 20 gridbox and understand their behaviour there"
   ]
  },
  {
   "cell_type": "code",
   "execution_count": null,
   "metadata": {},
   "outputs": [
    {
     "name": "stdout",
     "output_type": "stream",
     "text": [
      "---- Superdrop Properties -----\n",
      "RHO_L = 998.203 Kg/m^3\n",
      "RHO_SOL = 2016.5 Kg/m^3\n",
      "MR_SOL = 0.05844277 Kg/mol\n",
      "IONIC = 2.0\n",
      "-------------------------------\n",
      "Attribute coord1 not found in dataset\n",
      "Attribute coord2 not found in dataset\n"
     ]
    },
    {
     "data": {
      "text/plain": [
       "<pySD.sdmout_src.supersdata.SupersDataNew at 0x7fff5b00a1e0>"
      ]
     },
     "execution_count": null,
     "metadata": {},
     "output_type": "execute_result"
    }
   ],
   "source": [
    "# Use the SupersDataNew class to read the dataset\n",
    "dataset_gridbox = supersdata.SupersDataNew(dataset=ds_zarr, consts=consts)\n",
    "\n",
    "dataset_gridbox.set_attribute(dataset_gridbox[\"sdgbxindex\"].attribute_to_indexer_unique())\n",
    "dataset_gridbox.set_attribute(dataset_gridbox[\"sdId\"].attribute_to_indexer_unique())\n",
    "\n",
    "dataset_gridbox.index_by_indexer(dataset_gridbox[\"sdId\"])\n",
    "dataset_gridbox.index_by_indexer(dataset_gridbox[\"sdgbxindex\"])\n",
    "\n",
    "dataset_gridbox"
   ]
  },
  {
   "cell_type": "code",
   "execution_count": null,
   "metadata": {},
   "outputs": [
    {
     "name": "stdout",
     "output_type": "stream",
     "text": [
      "Attributes:\n",
      "--------------\n",
      "mass (kg)\n",
      "139913 * var * float64\n",
      "xi ()\n",
      "139913 * var * float64\n",
      "radius (µm)\n",
      "139913 * var * float64\n",
      "time (s)\n",
      "139913 * var * float64\n",
      "sdId ()\n",
      "coord: [3, 52, 101, 168, 278, 303, ..., 1819629, 1819634, 1819979, 1820345, 1822268]\n",
      "139913 * var * uint32\n",
      "139913 * var * int64\n",
      "sdgbxindex ()\n",
      "139913 * var * uint32\n",
      "\n",
      "Indexes:\n",
      "--------------\n",
      "sdId\n",
      "[3, 52, 101, 168, 278, 303, ..., 1819629, 1819634, 1819979, 1820345, 1822268]\n",
      "\n"
     ]
    }
   ],
   "source": [
    "gridbox_slice = slice(20, 30)\n",
    "\n",
    "mask = ak.sum(ak.num(dataset_gridbox[\"mass\"].data[:, gridbox_slice, :], axis=-1), axis=1) > 10\n",
    "\n",
    "attrs_list = []\n",
    "\n",
    "units_dict = {\n",
    "    \"mass\": \"kg\",\n",
    "    \"xi\": \"\",\n",
    "    \"radius\": \"µm\",\n",
    "    \"time\": \"s\",\n",
    "    \"sdId\": \"\",\n",
    "    \"sdgbxindex\": \"\",\n",
    "}\n",
    "\n",
    "for variable in [\"mass\", \"xi\", \"radius\", \"time\", \"sdId\", \"sdgbxindex\"]:\n",
    "    data = ak.flatten(dataset_gridbox[variable].data[mask][:, gridbox_slice, :], axis=None)\n",
    "    attrs_list.append(\n",
    "        supersdata.SupersAttribute(\n",
    "            name=variable,\n",
    "            data=data,\n",
    "            units=units_dict[variable],\n",
    "        )\n",
    "    )\n",
    "\n",
    "dataset_gridbox_subset = supersdata.SupersDataSimple(\n",
    "    attributes=attrs_list,\n",
    ")\n",
    "\n",
    "dataset_gridbox_subset.set_attribute(dataset_gridbox_subset[\"sdId\"].attribute_to_indexer_unique())\n",
    "dataset_gridbox_subset.index_by_indexer(dataset_gridbox_subset[\"sdId\"])\n",
    "\n",
    "print(dataset_gridbox_subset)"
   ]
  },
  {
   "cell_type": "code",
   "execution_count": null,
   "metadata": {},
   "outputs": [],
   "source": [
    "da_mass = dataset_gridbox_subset.attribute_to_DataArray(\"mass\")\n",
    "da_xi = dataset_gridbox_subset.attribute_to_DataArray(\"xi\")\n",
    "da_radius = dataset_gridbox_subset.attribute_to_DataArray(\"radius\")\n",
    "da_time = dataset_gridbox_subset.attribute_to_DataArray(\"time\")\n",
    "da_time = np.round(da_time - da_time.min(\"ragged_dimension_1\"))\n",
    "da_sdId = dataset_gridbox_subset.attribute_to_DataArray(\"sdId\")\n",
    "da_gridbox = dataset_gridbox_subset.attribute_to_DataArray(\"sdgbxindex\")"
   ]
  },
  {
   "cell_type": "code",
   "execution_count": null,
   "metadata": {},
   "outputs": [
    {
     "data": {
      "text/plain": [
       "array([ 852598.,  373045., 1614861., 1374685.])"
      ]
     },
     "execution_count": null,
     "metadata": {},
     "output_type": "execute_result"
    }
   ],
   "source": [
    "# select some random sdIds\n",
    "# N = 5\n",
    "N = 4\n",
    "np.random.seed(42)\n",
    "selected_sdIds = np.random.choice(da_sdId[\"sdId\"], N, replace=False)\n",
    "selected_sdIds = np.random.choice(\n",
    "    da_sdId[\"sdId\"].where(da_radius.max(\"ragged_dimension_1\") > 500, drop=True), N, replace=False\n",
    ")\n",
    "selected_sdIds"
   ]
  },
  {
   "cell_type": "code",
   "execution_count": null,
   "metadata": {},
   "outputs": [],
   "source": [
    "for i in selected_sdIds:\n",
    "    plt.plot(\n",
    "        da_mass.sel(sdId=i).sortby(da_time.sel(sdId=i)),\n",
    "        da_xi.sel(sdId=i).sortby(da_time.sel(sdId=i)),\n",
    "        alpha=0.5,\n",
    "        color=\"grey\",\n",
    "        linewidth=0.5,\n",
    "    )\n",
    "plt.scatter(\n",
    "    da_mass.sel(sdId=selected_sdIds),\n",
    "    da_xi.sel(sdId=selected_sdIds),\n",
    "    c=da_gridbox.sel(sdId=selected_sdIds),\n",
    "    s=20,\n",
    "    cmap=sns.cubehelix_palette(start=0.5, rot=-0.5, as_cmap=True).resampled(9),\n",
    "    alpha=1,\n",
    "    marker=\".\",\n",
    ")\n",
    "plt.colorbar(label=\"Gridbox\")\n",
    "\n",
    "plt.xlabel(\"Mass in kg\")\n",
    "plt.ylabel(\"Multiplicity $\\\\xi$\")\n",
    "plt.yscale(\"log\")\n",
    "plt.xscale(\"log\")"
   ]
  },
  {
   "cell_type": "code",
   "execution_count": null,
   "metadata": {},
   "outputs": [],
   "source": [
    "for i in selected_sdIds:\n",
    "    plt.plot(\n",
    "        da_radius.sel(sdId=i).sortby(da_time.sel(sdId=i)),\n",
    "        da_xi.sel(sdId=i).sortby(da_time.sel(sdId=i)),\n",
    "        alpha=0.5,\n",
    "        color=\"grey\",\n",
    "        linewidth=0.5,\n",
    "    )\n",
    "plt.scatter(\n",
    "    da_radius.sel(sdId=selected_sdIds),\n",
    "    da_xi.sel(sdId=selected_sdIds),\n",
    "    c=da_gridbox.sel(sdId=selected_sdIds),\n",
    "    s=20,\n",
    "    cmap=sns.cubehelix_palette(start=0.5, rot=-0.5, as_cmap=True).resampled(9),\n",
    "    alpha=1,\n",
    "    marker=\".\",\n",
    ")\n",
    "plt.colorbar(label=\"Gridbox\")\n",
    "\n",
    "plt.xlabel(\"Radius in µm\")\n",
    "plt.ylabel(\"Multiplicity $\\\\xi$\")\n",
    "plt.yscale(\"log\")\n",
    "plt.xscale(\"log\")\n",
    "\n",
    "# plt.ylim(3e7, None)"
   ]
  },
  {
   "cell_type": "markdown",
   "metadata": {},
   "source": [
    "### Pseudo Lagrangian view to understand origin of droplets"
   ]
  },
  {
   "cell_type": "markdown",
   "metadata": {},
   "source": [
    "now we want to make sure to create an init radius"
   ]
  },
  {
   "cell_type": "code",
   "execution_count": null,
   "metadata": {},
   "outputs": [],
   "source": [
    "dataset_pseudo = supersdata.SupersDataNew(dataset=ds_zarr, consts=consts)\n",
    "dataset_pseudo.set_attribute(dataset_pseudo[\"sdId\"].attribute_to_indexer_unique())\n",
    "dataset_pseudo.set_attribute(dataset_pseudo[\"sdgbxindex\"].attribute_to_indexer_unique())\n",
    "dataset_pseudo.index_by_indexer(dataset_pseudo[\"sdId\"])\n",
    "dataset_pseudo.index_by_indexer(dataset_pseudo[\"sdgbxindex\"])\n",
    "\n",
    "print(dataset_pseudo)"
   ]
  },
  {
   "cell_type": "code",
   "execution_count": null,
   "metadata": {},
   "outputs": [],
   "source": [
    "radius = dataset_pseudo[\"radius\"].data\n",
    "radius_select = radius\n",
    "radius_init = ak.mean(radius_select, axis=2)[:, 20]\n",
    "radius_init = (\n",
    "    ak.fill_none(ak.nan_to_none(radius_init), 1e-3)[:, np.newaxis, np.newaxis] + radius_select * 0\n",
    ")\n",
    "dataset_pseudo.set_attribute(\n",
    "    supersdata.SupersAttribute(name=\"radius_init\", data=radius_init, units=\"micro-m\")\n",
    ")"
   ]
  },
  {
   "cell_type": "code",
   "execution_count": null,
   "metadata": {},
   "outputs": [],
   "source": [
    "radius_bins = np.geomspace(10, 4e3, 151)\n",
    "\n",
    "dataset_pseudo.flatten()\n",
    "print(dataset_pseudo)\n",
    "dataset_pseudo.set_attribute(dataset_pseudo[\"time\"].attribute_to_indexer_unique())\n",
    "dataset_pseudo.set_attribute(dataset_pseudo[\"sdgbxindex\"].attribute_to_indexer_unique())\n",
    "dataset_pseudo.set_attribute(\n",
    "    dataset_pseudo[\"radius_init\"].attribute_to_indexer_binned(bins=radius_bins, new_name=\"radius_bins\")\n",
    ")\n",
    "\n",
    "dataset_pseudo.index_by_indexer(dataset_pseudo[\"time\"])\n",
    "dataset_pseudo.index_by_indexer(dataset_pseudo[\"sdgbxindex\"])\n",
    "dataset_pseudo.index_by_indexer(dataset_pseudo[\"radius_bins\"])\n",
    "\n",
    "print(dataset_pseudo)"
   ]
  },
  {
   "cell_type": "code",
   "execution_count": null,
   "metadata": {},
   "outputs": [],
   "source": [
    "da_mass = dataset_pseudo.attribute_to_DataArray_reduction(\n",
    "    attribute_name=\"mass_represented\",\n",
    "    reduction_func=ak.sum,\n",
    ")\n",
    "da_mass = da_mass.rename({\"sdgbxindex\": \"gridbox\"})\n",
    "da_mass[\"radius_bins\"] = da_mass[\"radius_bins\"].where(da_mass[\"radius_bins\"] > 0, 1e-3)"
   ]
  },
  {
   "cell_type": "code",
   "execution_count": null,
   "metadata": {},
   "outputs": [
    {
     "data": {
      "text/plain": [
       "(array([1.0111676e+07, 8.8600000e+02, 1.2990000e+03, 1.7400000e+02,\n",
       "        1.9800000e+02, 1.3500000e+02, 1.3000000e+01, 1.2000000e+01,\n",
       "        1.5000000e+01, 8.0000000e+00]),\n",
       " array([0.        , 0.52142436, 1.04284872, 1.56427309, 2.08569745,\n",
       "        2.60712181, 3.12854617, 3.64997054, 4.1713949 , 4.69281926,\n",
       "        5.21424362]),\n",
       " <BarContainer object of 10 artists>)"
      ]
     },
     "execution_count": null,
     "metadata": {},
     "output_type": "execute_result"
    }
   ],
   "source": [
    "data = 1e3 * da_mass / ds_eulerian[\"gridbox_volume\"]\n",
    "data.plot()"
   ]
  },
  {
   "cell_type": "code",
   "execution_count": null,
   "metadata": {},
   "outputs": [
    {
     "data": {
      "text/plain": [
       "<matplotlib.colorbar.Colorbar at 0x7fff537d8800>"
      ]
     },
     "execution_count": null,
     "metadata": {},
     "output_type": "execute_result"
    }
   ],
   "source": [
    "plt.pcolormesh(\n",
    "    data[\"radius_bins\"],\n",
    "    data[\"gridbox\"],\n",
    "    data.sel(time=slice(2000, None)).mean(\"time\"),\n",
    "    cmap=\"Reds\",\n",
    "    vmax=data.quantile(0.99),\n",
    ")\n",
    "plt.xscale(\"log\")\n",
    "plt.xlim(1, 1e3)\n",
    "plt.colorbar()\n",
    "# plt.figure()\n",
    "# plt.plot(\n",
    "#     data.sum(\"radius_bins\").mean(\"time\"),\n",
    "#     ds_eulerian[\"gridbox\"],\n",
    "#     color = \"k\",\n",
    "#     linewidth = 0.5,\n",
    "#     alpha = 0.5,\n",
    "# )"
   ]
  }
 ],
 "metadata": {
  "kernelspec": {
   "display_name": "sdm_pysd_env312",
   "language": "python",
   "name": "python3"
  },
  "language_info": {
   "codemirror_mode": {
    "name": "ipython",
    "version": 3
   },
   "file_extension": ".py",
   "mimetype": "text/x-python",
   "name": "python",
   "nbconvert_exporter": "python",
   "pygments_lexer": "ipython3",
   "version": "3.12.1"
  }
 },
 "nbformat": 4,
 "nbformat_minor": 2
}
