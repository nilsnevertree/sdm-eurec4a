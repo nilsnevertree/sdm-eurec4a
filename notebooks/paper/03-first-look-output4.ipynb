{
 "cells": [
  {
   "cell_type": "code",
   "execution_count": null,
   "metadata": {},
   "outputs": [],
   "source": [
    "import numpy as np\n",
    "import xarray as xr\n",
    "from pathlib import Path\n",
    "\n",
    "from sdm_eurec4a.visulization import set_custom_rcParams, label_from_attrs\n",
    "from sdm_eurec4a.reductions import mean_and_stderror_of_mean\n",
    "\n",
    "set_custom_rcParams()\n",
    "\n",
    "import matplotlib.pyplot as plt\n",
    "import matplotlib.colors as mcolors\n",
    "import seaborn as sns\n",
    "\n",
    "from sdm_eurec4a import RepositoryPath\n",
    "\n",
    "repo_dir = RepositoryPath(\"levante\").repo_dir"
   ]
  },
  {
   "cell_type": "code",
   "execution_count": null,
   "metadata": {},
   "outputs": [],
   "source": [
    "def plot_one_one(ax, **kwargs):\n",
    "    # get current axis limits\n",
    "    lims = [\n",
    "        np.min([ax.get_xlim(), ax.get_ylim()]),  # min of both axes\n",
    "        np.max([ax.get_xlim(), ax.get_ylim()]),  # max of both axes\n",
    "    ]\n",
    "    ax.plot(lims, lims, **kwargs)"
   ]
  },
  {
   "cell_type": "code",
   "execution_count": null,
   "metadata": {},
   "outputs": [],
   "source": [
    "# microphysics = 'null_microphysics'\n",
    "# microphysics = 'condensation'\n",
    "# microphysics = 'collision_condensation'\n",
    "# microphysics = 'coalbure_condensation_small'\n",
    "microphysics = \"coalbure_condensation_large\"\n",
    "fig_dir = repo_dir / Path(f\"results/notebooks/paper/{microphysics}\")\n",
    "fig_dir.mkdir(exist_ok=True)\n",
    "microphysics_title = dict(\n",
    "    null_microphysics=\"Null Microphysics\",\n",
    "    condensation=\"Condensation\",\n",
    "    collision_condensation=\"Collision and Condensation\",\n",
    "    coalbure_condensation_small=\"Coalbure and Condensation (few particles)\",\n",
    "    coalbure_condensation_large=\"Coalbure and Condensation (many particles)\",\n",
    ")"
   ]
  },
  {
   "cell_type": "code",
   "execution_count": null,
   "metadata": {},
   "outputs": [],
   "source": [
    "data_dir = Path(\n",
    "    f\"/home/m/m301096/CLEO/data/output_v4.0/{microphysics}/combined/eulerian_dataset_combined.nc\"\n",
    ")\n",
    "full_ds = xr.open_dataset(data_dir)\n",
    "full_ds[\"radius_bins\"].attrs.update(long_name=\"Radius\", units=\"µm\")\n",
    "ds = full_ds.sel(time=slice(2000, 3500))\n",
    "ds[\"radius_bins\"] = ds[\"radius_bins\"].where(ds[\"radius_bins\"] > 0, 0)\n",
    "\n",
    "ds[\"mass_represented\"] = ds[\"mass_represented\"].fillna(0)\n",
    "ds[\"mass_represented\"].attrs.update(long_name=\"Mass represented\", units=\"kg m-3\")"
   ]
  },
  {
   "cell_type": "markdown",
   "metadata": {},
   "source": [
    "### Mass profile"
   ]
  },
  {
   "cell_type": "code",
   "execution_count": null,
   "metadata": {},
   "outputs": [],
   "source": [
    "mass_profile = 1e3 * (ds[\"mass_represented\"]).mean(dim=\"time\", keep_attrs=True, skipna=True).compute()\n",
    "mass_profile.attrs.update(long_name=\"Mass\", units=\"g m^{-3}\")\n",
    "\n",
    "total_mass_profile = (\n",
    "    1e3\n",
    "    * (ds[\"mass_represented\"])\n",
    "    .sum(dim=\"radius_bins\", keep_attrs=True, skipna=True)\n",
    "    .mean(dim=\"time\", keep_attrs=True, skipna=True)\n",
    "    .compute()\n",
    ")\n",
    "total_mass_profile.attrs.update(long_name=\"Total mass per gridbox\", units=\"g m^{-3}\")"
   ]
  },
  {
   "cell_type": "code",
   "execution_count": null,
   "metadata": {},
   "outputs": [],
   "source": [
    "sorted_cloud_ids = mass_profile[\"cloud_id\"].sortby(mass_profile.sel(gridbox=0).sum(\"radius_bins\"))"
   ]
  },
  {
   "cell_type": "code",
   "execution_count": null,
   "metadata": {},
   "outputs": [],
   "source": [
    "selected_clouds = [409, 95, 384, 385]\n",
    "\n",
    "fig, axs = plt.subplots(\n",
    "    ncols=len(selected_clouds), figsize=(4 * len(selected_clouds), 5), sharex=True, sharey=True\n",
    ")\n",
    "\n",
    "for i, cloud_id in enumerate(selected_clouds):\n",
    "\n",
    "    max_gridbox_cloud = ds[\"max_gridbox\"].sel(cloud_id=cloud_id)\n",
    "    mass_profile_cloud = mass_profile.sel(cloud_id=cloud_id).sel(gridbox=slice(0, max_gridbox_cloud))\n",
    "    ds_selected_cloud = ds.sel(cloud_id=cloud_id).sel(gridbox=slice(0, max_gridbox_cloud))\n",
    "\n",
    "    mappable = axs[i].pcolormesh(\n",
    "        ds_selected_cloud[\"radius_bins\"],\n",
    "        ds_selected_cloud[\"gridbox_coord3\"],\n",
    "        mass_profile_cloud / ds_selected_cloud[\"gridbox_volume\"],\n",
    "        shading=\"auto\",\n",
    "        # norm = mcolors.LogNorm(),\n",
    "        cmap=\"Blues\",\n",
    "    )\n",
    "    fig.colorbar(\n",
    "        mappable=mappable,\n",
    "        alpha=1,\n",
    "        ax=axs[i],\n",
    "        label=label_from_attrs(mass_profile),\n",
    "        orientation=\"horizontal\",\n",
    "    )\n",
    "    _ax_twiny = axs[i].twiny()\n",
    "    _ax_twiny.plot(\n",
    "        total_mass_profile.sel(cloud_id=cloud_id) / ds_selected_cloud[\"gridbox_volume\"],\n",
    "        ds_selected_cloud[\"gridbox_coord3\"],\n",
    "        color=\"k\",\n",
    "        lw=3,\n",
    "    )\n",
    "    _ax_twiny.tick_params(axis=\"x\", labelrotation=45)\n",
    "    _ax_twiny.set_xlabel(label_from_attrs(total_mass_profile) + \"\\n\")\n",
    "    _ax_twiny.set_title(f\"Cloud ID: {cloud_id}\")\n",
    "\n",
    "\n",
    "for _ax in axs.ravel():\n",
    "    _ax.set_xscale(\"log\")\n",
    "    _ax.set_xlim(1e0, 3e3)\n",
    "    # _ax.set_xlabel(label_from_attrs(ds['radius_bins']))\n",
    "\n",
    "fig.suptitle(f\"Mass distribution of selected clouds\\n{microphysics_title[microphysics]}\")\n",
    "fig.supylabel(label_from_attrs(ds[\"gridbox_coord3\"]))\n",
    "fig.supxlabel(label_from_attrs(ds[\"radius_bins\"]))\n",
    "fig.tight_layout()\n",
    "fig.savefig(f\"{fig_dir}/mass_distribution_selected_clouds_{microphysics}.png\", dpi=300)"
   ]
  },
  {
   "cell_type": "markdown",
   "metadata": {},
   "source": [
    "### Mass difference profiles"
   ]
  },
  {
   "cell_type": "code",
   "execution_count": null,
   "metadata": {},
   "outputs": [],
   "source": [
    "mass_diff_profile = (\n",
    "    1e6 * (ds[\"mass_difference_per_volume\"]).mean(dim=\"time\", keep_attrs=True, skipna=True).compute()\n",
    ")\n",
    "mass_diff_profile.attrs.update(long_name=\"Mass change\", units=\"mg m^{-3} s^{-1}\")\n",
    "\n",
    "total_mass_diff_profile = (\n",
    "    1e6\n",
    "    * (ds[\"mass_difference_per_volume\"])\n",
    "    .sum(dim=\"radius_bins\", keep_attrs=True, skipna=True)\n",
    "    .mean(dim=\"time\", keep_attrs=True, skipna=True)\n",
    "    .compute()\n",
    ")\n",
    "total_mass_diff_profile.attrs.update(long_name=\"Total mass change per gridbox\", units=\"mg m^{-3} s^{-1}\")"
   ]
  },
  {
   "cell_type": "code",
   "execution_count": null,
   "metadata": {},
   "outputs": [],
   "source": [
    "sorted_cloud_ids = mass_profile[\"cloud_id\"].sortby(mass_profile.sel(gridbox=0).sum(\"radius_bins\"))"
   ]
  },
  {
   "cell_type": "code",
   "execution_count": null,
   "metadata": {},
   "outputs": [],
   "source": [
    "selected_clouds = [409, 95, 384, 385]\n",
    "\n",
    "fig, axs = plt.subplots(\n",
    "    ncols=len(selected_clouds), figsize=(4 * len(selected_clouds), 5), sharex=True, sharey=True\n",
    ")\n",
    "\n",
    "for i, cloud_id in enumerate(selected_clouds):\n",
    "\n",
    "    max_gridbox_cloud = ds[\"max_gridbox\"].sel(cloud_id=cloud_id)\n",
    "    mass_diff_profile_cloud = mass_diff_profile.sel(cloud_id=cloud_id).sel(\n",
    "        gridbox=slice(0, max_gridbox_cloud)\n",
    "    )\n",
    "    ds_selected_cloud = ds.sel(cloud_id=cloud_id).sel(gridbox=slice(0, max_gridbox_cloud))\n",
    "\n",
    "    mappable = axs[i].pcolormesh(\n",
    "        ds_selected_cloud[\"radius_bins\"],\n",
    "        ds_selected_cloud[\"gridbox_coord3\"],\n",
    "        mass_diff_profile_cloud,\n",
    "        shading=\"auto\",\n",
    "        norm=mcolors.CenteredNorm(vcenter=0),\n",
    "        cmap=\"PuOr\",\n",
    "    )\n",
    "    fig.colorbar(\n",
    "        mappable=mappable,\n",
    "        alpha=1,\n",
    "        ax=axs[i],\n",
    "        label=label_from_attrs(mass_diff_profile),\n",
    "        orientation=\"horizontal\",\n",
    "    )\n",
    "    _ax_twiny = axs[i].twiny()\n",
    "    _ax_twiny.plot(\n",
    "        total_mass_diff_profile.sel(cloud_id=cloud_id).sel(gridbox=slice(0, max_gridbox_cloud)),\n",
    "        ds_selected_cloud[\"gridbox_coord3\"],\n",
    "        color=\"k\",\n",
    "        lw=3,\n",
    "    )\n",
    "    _ax_twiny.tick_params(axis=\"x\", labelrotation=45)\n",
    "    _ax_twiny.set_xlabel(label_from_attrs(total_mass_diff_profile) + \"\\n\")\n",
    "    _ax_twiny.set_title(f\"Cloud ID: {cloud_id}\")\n",
    "\n",
    "\n",
    "for _ax in axs.ravel():\n",
    "    _ax.set_xscale(\"log\")\n",
    "    _ax.set_xlim(1e0, 3e3)\n",
    "    # _ax.set_xlabel(label_from_attrs(ds['radius_bins']))\n",
    "\n",
    "fig.suptitle(f\"Mass distribution of selected clouds\\n{microphysics_title[microphysics]}\")\n",
    "fig.supylabel(label_from_attrs(ds[\"gridbox_coord3\"]))\n",
    "fig.supxlabel(label_from_attrs(ds[\"radius_bins\"]))\n",
    "fig.tight_layout()\n",
    "fig.savefig(f\"{fig_dir}/mass_diff_distribution_selected_clouds_{microphysics}.png\", dpi=300)"
   ]
  },
  {
   "cell_type": "markdown",
   "metadata": {},
   "source": [
    "### Profiles of all clouds"
   ]
  },
  {
   "cell_type": "code",
   "execution_count": null,
   "metadata": {},
   "outputs": [],
   "source": [
    "fig, axs = plt.subplots(nrows=2, figsize=(8, 6))\n",
    "\n",
    "for _ax in axs:\n",
    "    _ax.plot(\n",
    "        (total_mass_profile / ds[\"gridbox_volume\"]).T,\n",
    "        ds[\"gridbox_coord3\"].T,\n",
    "    )\n",
    "    _ax.set_ylabel(\"Height [m]\")\n",
    "    _ax.set_xlabel(\"Mass concentration [g/m³]\")\n",
    "\n",
    "axs[1].set_xscale(\"log\")\n",
    "\n",
    "fig.suptitle(f\"LWC profiles\\n{microphysics_title[microphysics]}\")\n",
    "fig.tight_layout()\n",
    "fig.savefig(f\"{fig_dir}/lwc_profiles.png\")"
   ]
  },
  {
   "cell_type": "code",
   "execution_count": null,
   "metadata": {},
   "outputs": [],
   "source": [
    "init_mass = total_mass_profile.sel(gridbox=ds[\"max_gridbox\"]) / ds[\"gridbox_volume\"].sel(\n",
    "    gridbox=ds[\"max_gridbox\"]\n",
    ")\n",
    "end_mass = total_mass_profile.sel(gridbox=1) / ds[\"gridbox_volume\"].sel(gridbox=1)\n",
    "ef = 100 - 1e2 * (end_mass / init_mass)\n",
    "ef.attrs.update(long_name=\"Evaporation fraction\", units=r\"\\%\")\n",
    "\n",
    "fig, ax = plt.subplots(figsize=(8, 3))\n",
    "\n",
    "ax.hist(\n",
    "    ef,\n",
    "    bins=np.arange(-75, 120, 5),\n",
    ")\n",
    "ax.axvline(0, color=\"k\", lw=1)\n",
    "ax.annotate(\n",
    "    \"LWC increase\\n(unrealistic)\",\n",
    "    xy=(-50, 20),\n",
    ")\n",
    "ax.annotate(\n",
    "    \"LWC decrease\\n(evaporation)\",\n",
    "    xy=(40, 20),\n",
    ")\n",
    "ax.set_xlabel(label_from_attrs(ef))\n",
    "ax.set_ylabel(\"Count\")\n",
    "\n",
    "fig.suptitle(f\"Evaporation fraction\\n{microphysics_title[microphysics]}\")\n",
    "fig.tight_layout()\n",
    "fig.savefig(f\"{fig_dir}/evaporation_fraction.png\")"
   ]
  },
  {
   "cell_type": "code",
   "execution_count": null,
   "metadata": {},
   "outputs": [],
   "source": [
    "ds[\"cloud_id\"].sortby((init_mass - end_mass))"
   ]
  },
  {
   "cell_type": "markdown",
   "metadata": {},
   "source": [
    "# PSD and MSD distributions"
   ]
  },
  {
   "cell_type": "markdown",
   "metadata": {},
   "source": [
    "plot the cloud and subcloud layer PSD and MSD"
   ]
  },
  {
   "cell_type": "code",
   "execution_count": null,
   "metadata": {},
   "outputs": [],
   "source": [
    "psd_cleo = ds[\"xi\"] / ds[\"gridbox_volume\"]\n",
    "psd_cleo.attrs.update(\n",
    "    {\n",
    "        \"long_name\": \"Particle size distribution\",\n",
    "        \"units\": \"m^{-3}\",\n",
    "        \"standard_name\": \"particle_size_distribution\",\n",
    "    }\n",
    ")\n",
    "msd_cleo = 1e3 * (ds[\"mass_represented\"] / ds[\"gridbox_volume\"])\n",
    "msd_cleo.attrs.update(\n",
    "    {\n",
    "        \"long_name\": \"Mass size distribution\",\n",
    "        \"units\": \"g m^{-3}\",\n",
    "        \"standard_name\": \"mass_size_distribution\",\n",
    "    }\n",
    ")"
   ]
  },
  {
   "cell_type": "code",
   "execution_count": null,
   "metadata": {},
   "outputs": [],
   "source": [
    "psd_cloud = psd_cleo.sel(gridbox=ds[\"max_gridbox\"]).mean(\"time\", keep_attrs=True)\n",
    "msd_cloud = msd_cleo.sel(gridbox=ds[\"max_gridbox\"]).mean(\"time\", keep_attrs=True)\n",
    "\n",
    "psd_sub_cloud = psd_cleo.sel(gridbox=ds[\"max_gridbox\"] - 1).mean(\"time\", keep_attrs=True)\n",
    "msd_sub_cloud = msd_cleo.sel(gridbox=ds[\"max_gridbox\"] - 1).mean(\"time\", keep_attrs=True)\n",
    "\n",
    "psd_surface = psd_cleo.sel(gridbox=1).mean(\"time\", keep_attrs=True)\n",
    "msd_surface = msd_cleo.sel(gridbox=1).mean(\"time\", keep_attrs=True)"
   ]
  },
  {
   "cell_type": "markdown",
   "metadata": {},
   "source": [
    "Cloud Layer"
   ]
  },
  {
   "cell_type": "code",
   "execution_count": null,
   "metadata": {},
   "outputs": [],
   "source": [
    "# fig, axs = plt.subplots(ncols=2, figsize=(8, 4))\n",
    "\n",
    "# # psd_m, psd_sem = mean_and_stderror_of_mean(psd, dims=('time',))\n",
    "\n",
    "# axs[0].plot(\n",
    "#     psd_cloud['radius_bins'],\n",
    "#     psd_cloud.T,\n",
    "#     alpha = 0.5,\n",
    "# );\n",
    "# axs[0].set_yscale('log')\n",
    "# axs[0].set_ylabel(label_from_attrs(psd_cloud))\n",
    "\n",
    "# axs[1].plot(\n",
    "#     msd_cloud['radius_bins'],\n",
    "#     msd_cloud.T\n",
    "# );\n",
    "# axs[1].set_ylabel(label_from_attrs(msd_cloud))\n",
    "\n",
    "# for _ax in axs:\n",
    "#     _ax.set_xlabel(label_from_attrs(ds['radius_bins']))\n",
    "#     _ax.set_xscale('log')\n",
    "\n",
    "# fig.tight_layout()"
   ]
  },
  {
   "cell_type": "markdown",
   "metadata": {},
   "source": [
    "Sub Cloud layer"
   ]
  },
  {
   "cell_type": "code",
   "execution_count": null,
   "metadata": {},
   "outputs": [],
   "source": [
    "fig, axs = plt.subplots(ncols=2, figsize=(8, 4))\n",
    "\n",
    "# psd_m, psd_sem = mean_and_stderror_of_mean(psd, dims=('time',))\n",
    "\n",
    "axs[0].plot(\n",
    "    psd_sub_cloud[\"radius_bins\"],\n",
    "    psd_sub_cloud.T,\n",
    "    alpha=0.5,\n",
    ")\n",
    "axs[0].set_yscale(\"log\")\n",
    "axs[0].set_ylabel(label_from_attrs(psd_sub_cloud))\n",
    "\n",
    "axs[1].plot(msd_sub_cloud[\"radius_bins\"], msd_sub_cloud.T)\n",
    "axs[1].set_ylabel(label_from_attrs(msd_sub_cloud))\n",
    "\n",
    "for _ax in axs:\n",
    "    _ax.set_xlabel(label_from_attrs(ds[\"radius_bins\"]))\n",
    "    _ax.set_xscale(\"log\")\n",
    "\n",
    "\n",
    "fig.suptitle(f\"Sub cloud PSD and MSD\\n{microphysics_title[microphysics]}\")\n",
    "fig.tight_layout()\n",
    "\n",
    "fig.savefig(f\"{fig_dir}/psd_msd_subcloud.png\")"
   ]
  },
  {
   "cell_type": "markdown",
   "metadata": {},
   "source": [
    "Surface"
   ]
  },
  {
   "cell_type": "code",
   "execution_count": null,
   "metadata": {},
   "outputs": [],
   "source": [
    "fig, axs = plt.subplots(ncols=2, figsize=(8, 4))\n",
    "\n",
    "# psd_m, psd_sem = mean_and_stderror_of_mean(psd, dims=('time',))\n",
    "\n",
    "axs[0].plot(\n",
    "    psd_surface[\"radius_bins\"],\n",
    "    psd_surface.T,\n",
    "    alpha=0.5,\n",
    ")\n",
    "axs[0].set_yscale(\"log\")\n",
    "axs[0].set_ylabel(label_from_attrs(psd_surface))\n",
    "\n",
    "axs[1].plot(msd_surface[\"radius_bins\"], msd_surface.T)\n",
    "axs[1].set_ylabel(label_from_attrs(msd_surface))\n",
    "\n",
    "for _ax in axs:\n",
    "    _ax.set_xlabel(label_from_attrs(ds[\"radius_bins\"]))\n",
    "    _ax.set_xscale(\"log\")\n",
    "\n",
    "fig.suptitle(f\"Surface PSD and MSD\\n{microphysics_title[microphysics]}\")\n",
    "fig.tight_layout()\n",
    "\n",
    "fig.savefig(f\"{fig_dir}/psd_msd_surface.png\")"
   ]
  },
  {
   "cell_type": "markdown",
   "metadata": {},
   "source": [
    "### Comparison of PSD and MSD at cloud base and surface"
   ]
  },
  {
   "cell_type": "markdown",
   "metadata": {},
   "source": [
    "compare PSD and MSDs"
   ]
  },
  {
   "cell_type": "code",
   "execution_count": null,
   "metadata": {},
   "outputs": [],
   "source": [
    "fig, axs = plt.subplots(ncols=2, figsize=(8, 4))\n",
    "\n",
    "# psd_m, psd_sem = mean_and_stderror_of_mean(psd, dims=('time',))\n",
    "\n",
    "axs[0].plot(psd_cloud.T, psd_sub_cloud.T, alpha=0.5, marker=\".\", linestyle=\"None\")\n",
    "plot_one_one(axs[0], color=\"k\")\n",
    "axs[0].set_yscale(\"log\")\n",
    "axs[0].set_xscale(\"log\")\n",
    "axs[0].set_ylabel(\"Top sub cloud layer\")\n",
    "axs[0].set_xlabel(\"Cloud layer\")\n",
    "axs[0].set_title(label_from_attrs(psd_cloud))\n",
    "\n",
    "\n",
    "axs[1].plot(msd_cloud.T, msd_sub_cloud.T, alpha=0.5, marker=\".\", linestyle=\"None\")\n",
    "plot_one_one(axs[1], color=\"k\")\n",
    "axs[1].set_yscale(\"log\")\n",
    "axs[1].set_xscale(\"log\")\n",
    "axs[1].set_ylabel(\"Top sub cloud layer\")\n",
    "axs[1].set_xlabel(\"Cloud layer\")\n",
    "axs[1].set_title(label_from_attrs(msd_cloud))\n",
    "\n",
    "fig.suptitle(f\"Particle size distribution comparison\\n{microphysics_title[microphysics]}\")\n",
    "fig.tight_layout()\n",
    "\n",
    "fig.savefig(f\"{fig_dir}/psd_comparison_cloud_subcloud_{microphysics}.png\", dpi=300)"
   ]
  },
  {
   "cell_type": "code",
   "execution_count": null,
   "metadata": {},
   "outputs": [],
   "source": [
    "fig, axs = plt.subplots(ncols=2, figsize=(8, 4))\n",
    "\n",
    "# psd_m, psd_sem = mean_and_stderror_of_mean(psd, dims=('time',))\n",
    "\n",
    "axs[0].plot(psd_cloud.T, psd_surface.T, alpha=0.5, marker=\".\", linestyle=\"None\")\n",
    "plot_one_one(axs[0], color=\"k\")\n",
    "axs[0].set_yscale(\"log\")\n",
    "axs[0].set_xscale(\"log\")\n",
    "axs[0].set_ylabel(\"Surface Gridbox\")\n",
    "axs[0].set_xlabel(\"Cloud layer\")\n",
    "axs[0].set_title(label_from_attrs(psd_cloud))\n",
    "\n",
    "\n",
    "axs[1].plot(msd_cloud.T, msd_surface.T, alpha=0.5, marker=\".\", linestyle=\"None\")\n",
    "plot_one_one(axs[1], color=\"k\")\n",
    "axs[1].set_yscale(\"log\")\n",
    "axs[1].set_xscale(\"log\")\n",
    "axs[1].set_ylabel(\"Surface Gridbox\")\n",
    "axs[1].set_xlabel(\"Cloud layer\")\n",
    "axs[1].set_title(label_from_attrs(msd_cloud))\n",
    "\n",
    "fig.suptitle(f\"Particle size distribution comparison\\n{microphysics_title[microphysics]}\")\n",
    "fig.tight_layout()\n",
    "fig.savefig(f\"{fig_dir}/psd_comparison_cloud_surface_{microphysics}.png\", dpi=300)"
   ]
  },
  {
   "cell_type": "markdown",
   "metadata": {},
   "source": [
    "### Load observarion dataset"
   ]
  },
  {
   "cell_type": "code",
   "execution_count": null,
   "metadata": {},
   "outputs": [],
   "source": [
    "from sdm_eurec4a.identifications import match_clouds_and_cloudcomposite\n",
    "from sdm_eurec4a import RepositoryPath\n",
    "from tqdm import tqdm\n",
    "\n",
    "RP = RepositoryPath(\"levante\")\n",
    "repo_dir = RP.repo_dir\n",
    "data_dir = RP.data_dir\n",
    "\n",
    "ds_clouds = xr.open_dataset(\n",
    "    repo_dir\n",
    "    / \"data/observation/cloud_composite/processed/identified_clusters/identified_clusters_rain_mask_5.nc\"\n",
    ")\n",
    "ds_clouds = ds_clouds.swap_dims({\"time\": \"cloud_id\"})\n",
    "ds_cloud_composite = xr.open_dataset(\n",
    "    repo_dir / \"data/observation/cloud_composite/processed/cloud_composite_SI_units_20241025.nc\"\n",
    ")"
   ]
  },
  {
   "cell_type": "code",
   "execution_count": null,
   "metadata": {},
   "outputs": [
    {
     "name": "stderr",
     "output_type": "stream",
     "text": [
      "  0%|          | 0/123 [00:00<?, ?it/s]\n",
      "/home/m/m301096/repositories/sdm-eurec4a/src/sdm_eurec4a/reductions.py:335: SyntaxWarning: invalid escape sequence '\\s'\n",
      "  \"\"\"\n"
     ]
    }
   ],
   "source": [
    "lwc_obs_mean_list = []\n",
    "lwc_obs_sem_list = []\n",
    "nbc_obs_mean_list = []\n",
    "nbc_obs_sem_list = []\n",
    "psd_obs_mean_list = []\n",
    "psd_obs_sem_list = []\n",
    "\n",
    "for cloud_id in tqdm(ds[\"cloud_id\"]):\n",
    "    ds_select = match_clouds_and_cloudcomposite(\n",
    "        ds_clouds=ds_clouds.sel(cloud_id=cloud_id),\n",
    "        ds_cloudcomposite=ds_cloud_composite.sel(radius=slice(50e-6, 3e-3)),\n",
    "    )\n",
    "    m, s = mean_and_stderror_of_mean(\n",
    "        (ds_select[\"mass_size_distribution\"] * ds_select[\"bin_width\"]).sum(\"radius\"), dims=(\"time\",)\n",
    "    )\n",
    "    m, s = m.expand_dims(dim=dict(cloud_id=[cloud_id])), s.expand_dims(dim=dict(cloud_id=[cloud_id]))\n",
    "    lwc_obs_mean_list.append(m)\n",
    "    lwc_obs_sem_list.append(s)\n",
    "\n",
    "    nbc = ds_select[\"particle_size_distribution_non_normalized\"].sum(\"radius\", keep_attrs=True)\n",
    "    m, s = mean_and_stderror_of_mean(nbc, dims=(\"time\",))\n",
    "    m, s = m.expand_dims(dim=dict(cloud_id=[cloud_id])), s.expand_dims(dim=dict(cloud_id=[cloud_id]))\n",
    "\n",
    "    nbc_obs_mean_list.append(m)\n",
    "    nbc_obs_sem_list.append(s)\n",
    "\n",
    "    psd = ds_select[\"particle_size_distribution_non_normalized\"]\n",
    "    m, s = mean_and_stderror_of_mean(psd, dims=(\"time\",))\n",
    "    m, s = m.expand_dims(dim=dict(cloud_id=[cloud_id])), s.expand_dims(dim=dict(cloud_id=[cloud_id]))\n",
    "\n",
    "    psd_obs_mean_list.append(m)\n",
    "    psd_obs_sem_list.append(s)\n",
    "\n",
    "\n",
    "lwc_obs_mean = xr.concat(lwc_obs_mean_list, dim=\"cloud_id\")\n",
    "lwc_obs_sem = xr.concat(lwc_obs_sem_list, dim=\"cloud_id\")\n",
    "nbc_obs_mean = xr.concat(nbc_obs_mean_list, dim=\"cloud_id\")\n",
    "nbc_obs_sem = xr.concat(nbc_obs_sem_list, dim=\"cloud_id\")\n",
    "psd_obs_mean = xr.concat(psd_obs_mean_list, dim=\"cloud_id\")\n",
    "psd_obs_sem = xr.concat(psd_obs_sem_list, dim=\"cloud_id\")"
   ]
  },
  {
   "cell_type": "code",
   "execution_count": null,
   "metadata": {},
   "outputs": [],
   "source": [
    "lwc_cleo = msd_cleo.sel(gridbox=ds[\"max_gridbox\"]).sum(\"radius_bins\")\n",
    "nbc_cleo = psd_cleo.sel(gridbox=ds[\"max_gridbox\"]).sum(\"radius_bins\")"
   ]
  },
  {
   "cell_type": "markdown",
   "metadata": {},
   "source": [
    "### comparison of observations and CLEO LWC and NBC"
   ]
  },
  {
   "cell_type": "code",
   "execution_count": null,
   "metadata": {},
   "outputs": [],
   "source": [
    "fig, axs = plt.subplots(ncols=2, figsize=(8, 4))\n",
    "\n",
    "axs[0].errorbar(\n",
    "    x=nbc_obs_mean,\n",
    "    xerr=2 * nbc_obs_sem,\n",
    "    y=nbc_cleo.mean(\"time\"),\n",
    "    yerr=2 * nbc_cleo.std(\"time\"),\n",
    "    linestyle=\"\",\n",
    "    marker=\".\",\n",
    "    color=\"b\",\n",
    "    label=\"Sub Cloud Layer\",\n",
    ")\n",
    "axs[0].set_xlabel(\"Observations\")\n",
    "axs[0].set_ylabel(\"CLEO\")\n",
    "axs[0].set_title(\"Total number concentration in [m$^{-3}$]\")\n",
    "\n",
    "\n",
    "axs[1].errorbar(\n",
    "    x=1e3 * lwc_obs_mean,\n",
    "    xerr=1e3 * 2 * lwc_obs_sem,\n",
    "    y=lwc_cleo.mean(\"time\"),\n",
    "    yerr=lwc_cleo.std(\"time\"),\n",
    "    linestyle=\"\",\n",
    "    marker=\".\",\n",
    "    color=\"b\",\n",
    "    label=\"Sub Cloud Layer\",\n",
    ")\n",
    "axs[1].set_xlabel(\"Observations\")\n",
    "axs[1].set_ylabel(\"CLEO\")\n",
    "axs[1].set_title(\"Liquid water content in [g m$^{-3}$]\")\n",
    "# axs[1].set_xlim(0, 1)\n",
    "# axs[1].set_ylim(0, 1)\n",
    "for _ax in axs.ravel():\n",
    "    _ax.legend()\n",
    "\n",
    "    plot_one_one(_ax, color=\"k\", linestyle=\"--\")\n",
    "\n",
    "fig.suptitle(f\"Observation vs. CLEO comparison\\n{microphysics_title[microphysics]}\")\n",
    "\n",
    "fig.tight_layout()\n",
    "\n",
    "fig.savefig(f\"{fig_dir}/obs_vs_cleo_comparison_{microphysics}.png\", dpi=300)"
   ]
  }
 ],
 "metadata": {
  "kernelspec": {
   "display_name": "sdm_pysd_env312",
   "language": "python",
   "name": "python3"
  },
  "language_info": {
   "codemirror_mode": {
    "name": "ipython",
    "version": 3
   },
   "file_extension": ".py",
   "mimetype": "text/x-python",
   "name": "python",
   "nbconvert_exporter": "python",
   "pygments_lexer": "ipython3",
   "version": "3.12.1"
  }
 },
 "nbformat": 4,
 "nbformat_minor": 2
}
