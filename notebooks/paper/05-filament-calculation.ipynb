{
 "cells": [
  {
   "cell_type": "code",
   "execution_count": null,
   "metadata": {},
   "outputs": [],
   "source": [
    "import numpy as np\n",
    "import xarray as xr"
   ]
  },
  {
   "cell_type": "code",
   "execution_count": null,
   "metadata": {},
   "outputs": [
    {
     "name": "stdout",
     "output_type": "stream",
     "text": [
      "radius = \t[ 500.  750. 1000. 2000. 3000.] µm\n",
      "radius_fil = \t[ 292.  439.  585. 1170. 1754.] µm\n"
     ]
    }
   ],
   "source": [
    "number_filaments = 5\n",
    "\n",
    "radius = np.array([0.5e3, 0.75e3, 1e3, 2e3, 3e3])\n",
    "\n",
    "\n",
    "def mass_func(radius: np.ndarray) -> np.ndarray:\n",
    "    \"\"\"\n",
    "    This function calculates the mass of a single droplet\n",
    "    \"\"\"\n",
    "\n",
    "    mass = 4 / 3 * np.pi * radius**3 * 1000\n",
    "\n",
    "    return mass\n",
    "\n",
    "\n",
    "def radius_func(mass: np.ndarray) -> np.ndarray:\n",
    "    \"\"\"\n",
    "    This function calculates the radius of a single droplet\n",
    "    \"\"\"\n",
    "\n",
    "    radius = (3 / 4 * mass / (np.pi * 1000)) ** (1 / 3)\n",
    "\n",
    "    return radius\n",
    "\n",
    "\n",
    "print(f\"radius = \\t{radius} µm\")\n",
    "print(\"radius_fil = \\t\" + f\"{np.round(radius * number_filaments**(-1/3))} µm\")"
   ]
  },
  {
   "cell_type": "code",
   "execution_count": null,
   "metadata": {},
   "outputs": [],
   "source": []
  }
 ],
 "metadata": {
  "kernelspec": {
   "display_name": "sdm_pysd_env312",
   "language": "python",
   "name": "python3"
  },
  "language_info": {
   "codemirror_mode": {
    "name": "ipython",
    "version": 3
   },
   "file_extension": ".py",
   "mimetype": "text/x-python",
   "name": "python",
   "nbconvert_exporter": "python",
   "pygments_lexer": "ipython3",
   "version": "3.12.1"
  }
 },
 "nbformat": 4,
 "nbformat_minor": 2
}
