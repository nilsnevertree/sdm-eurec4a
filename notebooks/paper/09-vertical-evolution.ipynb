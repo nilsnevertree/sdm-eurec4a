{
 "cells": [
  {
   "cell_type": "code",
   "execution_count": null,
   "metadata": {},
   "outputs": [],
   "source": [
    "import numpy as np\n",
    "import xarray as xr\n",
    "from pathlib import Path\n",
    "import matplotlib.pyplot as plt\n",
    "import matplotlib.colors as mcolors\n",
    "import seaborn as sns\n",
    "\n",
    "strength_cmap = sns.cubehelix_palette(start=0.5, rot=-0.5, as_cmap=True)\n",
    "\n",
    "from sdm_eurec4a.visulization import (\n",
    "    set_custom_rcParams,\n",
    "    label_from_attrs,\n",
    "    adjust_lightness_array,\n",
    "    plot_one_one,\n",
    "    handler_map_alpha,\n",
    ")\n",
    "from sdm_eurec4a.reductions import mean_and_stderror_of_mean\n",
    "\n",
    "from sdm_eurec4a import slurm_cluster as scluster\n",
    "\n",
    "default_colors = set_custom_rcParams()\n",
    "default_dark_colors = adjust_lightness_array(default_colors, 0.75)"
   ]
  },
  {
   "cell_type": "code",
   "execution_count": null,
   "metadata": {},
   "outputs": [],
   "source": [
    "data_dir = Path(\"/home/m/m301096/CLEO/data/output_v4.0/\")\n",
    "\n",
    "eulerian_data_path = lambda microphysics: data_dir / Path(\n",
    "    f\"{microphysics}/combined/eulerian_dataset_combined.nc\"\n",
    ")\n",
    "conservation_data_path = lambda microphysics: data_dir / Path(\n",
    "    f\"{microphysics}/combined/conservation_dataset_combined.nc\"\n",
    ")\n",
    "mean_radius_data_path = lambda microphysics: data_dir / Path(\n",
    "    f\"{microphysics}/combined/mean_radius_combined.nc\"\n",
    ")"
   ]
  },
  {
   "cell_type": "code",
   "execution_count": null,
   "metadata": {},
   "outputs": [],
   "source": [
    "microphysics = (\n",
    "    \"null_microphysics\",\n",
    "    \"condensation\",\n",
    "    \"collision_condensation\",\n",
    "    \"coalbure_condensation_small\",\n",
    "    \"coalbure_condensation_large\",\n",
    ")\n",
    "\n",
    "compare_microphysics = (\n",
    "    # \"null_microphysics\",\n",
    "    \"condensation\",\n",
    "    \"collision_condensation\",\n",
    "    \"coalbure_condensation_small\",\n",
    "    \"coalbure_condensation_large\",\n",
    ")\n",
    "\n",
    "labels: dict = dict(\n",
    "    zip(\n",
    "        microphysics,\n",
    "        [\n",
    "            \"Null\",\n",
    "            \"Evap only\",\n",
    "            \"Coll\",\n",
    "            \"CoalBuRe few\",\n",
    "            \"CoalBuRe many\",\n",
    "        ],\n",
    "    )\n",
    ")\n",
    "\n",
    "colors: dict = dict(\n",
    "    zip(\n",
    "        microphysics,\n",
    "        [\n",
    "            \"grey\",\n",
    "            \"purple\",\n",
    "            \"blue\",\n",
    "            \"red\",\n",
    "            \"orange\",\n",
    "            \"red\",\n",
    "            \"orange\",\n",
    "        ],\n",
    "    )\n",
    ")\n",
    "dark_colors: dict = dict(zip(microphysics, adjust_lightness_array(colors.values(), 0.75)))\n",
    "light_colors: dict = dict(zip(microphysics, adjust_lightness_array(colors.values(), 1.25)))\n",
    "markers: dict = dict(\n",
    "    zip(\n",
    "        microphysics,\n",
    "        [\n",
    "            \"$*$\",\n",
    "            \"1\",\n",
    "            \"x\",\n",
    "            \"+\",\n",
    "            \"2\",\n",
    "            \"3\",\n",
    "        ],\n",
    "    )\n",
    ")"
   ]
  },
  {
   "cell_type": "code",
   "execution_count": null,
   "metadata": {},
   "outputs": [
    {
     "name": "stderr",
     "output_type": "stream",
     "text": [
      "/work/um1487/m301096/conda/envs/sdm_pysd_python312/lib/python3.12/site-packages/distributed/node.py:187: UserWarning: Port 8989 is already in use.\n",
      "Perhaps you already have a cluster running?\n",
      "Hosting the HTTP server on port 36461 instead\n",
      "  warnings.warn(\n"
     ]
    },
    {
     "name": "stdout",
     "output_type": "stream",
     "text": [
      "#!/usr/bin/env bash\n",
      "\n",
      "#SBATCH -J dask-worker\n",
      "#SBATCH -e /scratch/m/m301096/dask_logs/dask-worker-%J.err\n",
      "#SBATCH -o /scratch/m/m301096/dask_logs/dask-worker-%J.out\n",
      "#SBATCH -p compute\n",
      "#SBATCH -A um1487\n",
      "#SBATCH -n 1\n",
      "#SBATCH --cpus-per-task=8\n",
      "#SBATCH --mem=30G\n",
      "#SBATCH -t 00:05:00\n",
      "\n",
      "/work/um1487/m301096/conda/envs/sdm_pysd_python312/bin/python -m distributed.cli.dask_worker tcp://10.128.6.250:34687 --name dummy-name --nthreads 1 --memory-limit 3.73GiB --nworkers 8 --nanny --death-timeout 60 --local-directory /scratch/m/m301096/dask_temp --interface ib0\n",
      "\n"
     ]
    }
   ],
   "source": [
    "client, cluster = scluster.init_dask_slurm_cluster(\n",
    "    scale=1, processes=8, walltime=\"00:05:00\", memory=\"32GB\"\n",
    ")"
   ]
  },
  {
   "cell_type": "markdown",
   "metadata": {},
   "source": [
    "## Data loading"
   ]
  },
  {
   "cell_type": "code",
   "execution_count": null,
   "metadata": {},
   "outputs": [
    {
     "name": "stdout",
     "output_type": "stream",
     "text": [
      "condensation\n"
     ]
    }
   ],
   "source": [
    "time_slice = slice(1500, 3490)\n",
    "chunks = dict(cloud_id=2, gridbox=1)\n",
    "\n",
    "l = []\n",
    "for microphysic in [\"condensation\"]:\n",
    "    print(microphysic)\n",
    "    ds_euler_org = xr.open_dataset(eulerian_data_path(microphysic), chunks=chunks)\n",
    "    ds_euler = ds_euler_org[\n",
    "        [\n",
    "            \"mass_represented\",\n",
    "            \"xi\",\n",
    "            \"gridbox_coord3\",\n",
    "            \"max_gridbox\",\n",
    "            \"liquid_water_content\",\n",
    "            \"number_superdroplets\",\n",
    "        ]\n",
    "    ]"
   ]
  },
  {
   "cell_type": "code",
   "execution_count": null,
   "metadata": {},
   "outputs": [
    {
     "data": {
      "text/plain": [
       "<seaborn.axisgrid.FacetGrid at 0x7ffb693aa240>"
      ]
     },
     "execution_count": null,
     "metadata": {},
     "output_type": "execute_result"
    }
   ],
   "source": [
    "cloud_id = np.random.choice(ds_euler[\"cloud_id\"].values, 1)\n",
    "ds_sel = ds_euler.sel(cloud_id=cloud_id)\n",
    "gridboxes = np.linspace(0, ds_sel[\"max_gridbox\"].values, 5)\n",
    "gridboxes = np.append(gridboxes, ds_sel[\"max_gridbox\"].values)\n",
    "ds_sel = ds_sel.sel(time=time_slice).sel(gridbox=gridboxes, method=\"nearest\").mean(\"time\").compute()\n",
    "\n",
    "da = ds_sel[[\"mass_represented\", \"xi\"]]\n",
    "da = da / da.quantile(0.99, \"radius_bins\")\n",
    "\n",
    "ylims = [0, 1]\n",
    "df = da.drop_vars(\"cloud_id\").to_dataframe()\n",
    "df = df.reset_index()\n",
    "\n",
    "\n",
    "# Initialize the FacetGrid object\n",
    "pal = sns.cubehelix_palette(len(da[\"gridbox\"]), rot=-0.25, light=0.7)\n",
    "g = sns.FacetGrid(\n",
    "    df,\n",
    "    row=\"gridbox\",\n",
    "    hue=\"gridbox\",\n",
    "    aspect=7,\n",
    "    height=0.9,\n",
    "    palette=pal,\n",
    "    row_order=np.flip(df[\"gridbox\"].unique()),\n",
    ")\n",
    "\n",
    "# Draw the densities in a few steps\n",
    "g.map(sns.lineplot, \"radius_bins\", \"mass_represented\", alpha=1, linewidth=1.5)\n",
    "g.map(sns.lineplot, \"radius_bins\", \"xi\", alpha=1, linewidth=1.5, linestyle=\"--\")\n",
    "\n",
    "# passing color=None to refline() uses the hue mapping\n",
    "g.refline(y=0, linewidth=2, linestyle=\"-\", color=None, clip_on=False)\n",
    "\n",
    "\n",
    "def fill_under_lines(x, color, label, ax=None, alpha=0.2):\n",
    "    if ax is None:\n",
    "        ax = plt.gca()\n",
    "    for line in ax.lines:\n",
    "        x, y = line.get_xydata().T\n",
    "        ax.fill_between(x, 0, y, color=line.get_color(), alpha=alpha)\n",
    "\n",
    "\n",
    "# Define and use a simple function to label the plot in axes coordinates\n",
    "def label(x, color, label):\n",
    "    ax = plt.gca()\n",
    "    ax.text(\n",
    "        -0.1, 0.2, label, fontweight=\"bold\", color=color, ha=\"left\", va=\"center\", transform=ax.transAxes\n",
    "    )\n",
    "\n",
    "\n",
    "# def xscale(x, color, label, lims) :\n",
    "#     ax = plt.gca()\n",
    "#     ax.set_xscale(\"log\")\n",
    "#     ax.set_xlim(1, None)\n",
    "#     ax.set_ylim(0, 1)\n",
    "\n",
    "g.map(label, \"radius_bins\")\n",
    "# g.map(fill_under_lines, \"radius_bins\")\n",
    "\n",
    "# Set the subplots to overlap\n",
    "g.figure.subplots_adjust(hspace=-0.15)\n",
    "g.figure.suptitle(f\"{cloud_id}\")\n",
    "# Remove axes details that don't play well with overlap\n",
    "g.set_titles(\"\")\n",
    "g.set(ylim=ylims, xlim=(10, None), xscale=\"log\")\n",
    "g.set(yticks=[], ylabel=\"\")\n",
    "g.despine(bottom=True, left=True)"
   ]
  },
  {
   "cell_type": "code",
   "execution_count": null,
   "metadata": {},
   "outputs": [],
   "source": []
  }
 ],
 "metadata": {
  "kernelspec": {
   "display_name": "sdm_pysd_python312",
   "language": "python",
   "name": "python3"
  },
  "language_info": {
   "codemirror_mode": {
    "name": "ipython",
    "version": 3
   },
   "file_extension": ".py",
   "mimetype": "text/x-python",
   "name": "python",
   "nbconvert_exporter": "python",
   "pygments_lexer": "ipython3",
   "version": "3.12.8"
  }
 },
 "nbformat": 4,
 "nbformat_minor": 2
}
