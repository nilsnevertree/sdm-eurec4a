{
 "cells": [
  {
   "cell_type": "code",
   "execution_count": null,
   "id": "46d626de-335d-4839-a9ce-ce81c939c9b6",
   "metadata": {},
   "outputs": [],
   "source": [
    "%config InlineBackend.figure_formats = ['png']\n",
    "import numpy as np\n",
    "import netCDF4\n",
    "import matplotlib.pyplot as plt\n",
    "from matplotlib.colors import LogNorm\n",
    "import glob\n",
    "from scipy.optimize import curve_fit\n",
    "import colorcet as cc\n",
    "import xarray as xr\n",
    "import pandas as pd\n",
    "import os\n",
    "from scipy.stats import linregress\n",
    "from numba import njit\n",
    "\n",
    "plt.style.use([\"default\"])\n",
    "plt.rcParams[\"axes.grid\"] = False\n",
    "plt.rcParams[\"pdf.fonttype\"] = 42  # fontes incorporées en pdf\n",
    "plt.rcParams[\"svg.fonttype\"] = (\n",
    "    \"none\"  # texte en fontes et pas en chemin (comportement par défaut de matplotlib) : il faut installer les polices latex pour pouvoir afficher le fichier correctement dans inkscape\n",
    ")\n",
    "plt.rcParams[\"figure.constrained_layout.use\"] = True\n",
    "plt.rcParams[\"figure.figsize\"] = [86 / 25.4, 86 / 25.4]  # 86 mm : largeur de colonne typique (+/- 6 mm)\n",
    "plt.rcParams[\"figure.dpi\"] = 160\n",
    "plt.rcParams[\"font.family\"] = \"sans-serif\"\n",
    "plt.rcParams[\"font.sans-serif\"] = \"Arial\"\n",
    "plt.rcParams[\"font.size\"] = 8\n",
    "plt.rcParams[\"mathtext.default\"] = \"it\"\n",
    "plt.rcParams[\"axes.linewidth\"] = 0.5\n",
    "plt.rcParams[\"xtick.minor.width\"] = 0.5\n",
    "plt.rcParams[\"xtick.major.width\"] = 0.5\n",
    "plt.rcParams[\"ytick.minor.width\"] = 0.5\n",
    "plt.rcParams[\"ytick.major.width\"] = 0.5\n",
    "plt.rcParams[\"mathtext.fontset\"] = \"cm\"\n",
    "plt.rcParams[\"lines.linewidth\"] = 0.5\n",
    "plt.rcParams[\"axes.labelpad\"] = 1\n",
    "plt.rcParams[\"xtick.minor.pad\"] = 1.4\n",
    "plt.rcParams[\"xtick.major.pad\"] = 1.5\n",
    "plt.rcParams[\"ytick.minor.pad\"] = 1.4\n",
    "plt.rcParams[\"ytick.major.pad\"] = 1.5\n",
    "plt.rcParams[\"legend.frameon\"] = False\n",
    "plt.rcParams[\"legend.fancybox\"] = False\n",
    "plt.rcParams[\"savefig.bbox\"] = \"tight\"\n",
    "plt.rcParams[\"savefig.pad_inches\"] = 0\n",
    "plt.rcParams[\"savefig.transparent\"] = False  # True for figure production\n",
    "plt.rcParams[\"axes.prop_cycle\"] = plt.cycler(\n",
    "    color=cc.cm.glasbey_bw_minc_20_maxl_70.colors\n",
    ")  # couleurs de colorcet et pas de matplotlib"
   ]
  },
  {
   "cell_type": "markdown",
   "id": "29986f9e-8652-425f-93dc-c533644c90ea",
   "metadata": {},
   "source": [
    "# CLEO data"
   ]
  },
  {
   "cell_type": "code",
   "execution_count": null,
   "id": "d6a0645c-3b16-4f79-8aba-a44c6fb45503",
   "metadata": {},
   "outputs": [],
   "source": [
    "d_ef_cleo = np.loadtxt(\"evaporation_fraction.txt\", delimiter=\",\")"
   ]
  },
  {
   "cell_type": "code",
   "execution_count": null,
   "id": "b47624c4-62ec-446f-86cb-53cd86a529bb",
   "metadata": {},
   "outputs": [],
   "source": [
    "vav = xr.open_dataset(\"veritcal_average_cleo_output_evaporation_only_setup.nc\")\n",
    "vav"
   ]
  },
  {
   "cell_type": "code",
   "execution_count": null,
   "id": "a7b6c6ee-5d5d-4559-87a9-d4d92e6215ac",
   "metadata": {},
   "outputs": [],
   "source": [
    "vav.relative_humidity.plot()\n",
    "vav.relative_humidity.mean()"
   ]
  },
  {
   "cell_type": "code",
   "execution_count": null,
   "id": "3e19bab3-c445-4066-b7dd-38c7117dd029",
   "metadata": {},
   "outputs": [],
   "source": [
    "vav.air_temperature.plot()\n",
    "vav.air_temperature.mean()"
   ]
  },
  {
   "cell_type": "code",
   "execution_count": null,
   "id": "ce7922bf-0297-4f0b-97b4-423889e88038",
   "metadata": {},
   "outputs": [],
   "source": [
    "se = xr.open_dataset(\"cleo_output_evaporation_only_setup.nc\")\n",
    "se"
   ]
  },
  {
   "cell_type": "code",
   "execution_count": null,
   "id": "c10ac6c5-6184-4b78-b414-25181a45b392",
   "metadata": {},
   "outputs": [
    {
     "data": {
      "text/plain": [
       "[<matplotlib.lines.Line2D at 0x438571250>]"
      ]
     },
     "execution_count": null,
     "metadata": {},
     "output_type": "execute_result"
    }
   ],
   "source": [
    "se.relative_humidity.mean(dim=\"cloud_id\").plot()"
   ]
  },
  {
   "cell_type": "code",
   "execution_count": null,
   "id": "8fdbab44-9691-43bc-8ce9-2e48e688c8fd",
   "metadata": {},
   "outputs": [
    {
     "data": {
      "text/plain": [
       "[<matplotlib.lines.Line2D at 0x439908f80>]"
      ]
     },
     "execution_count": null,
     "metadata": {},
     "output_type": "execute_result"
    }
   ],
   "source": [
    "se.gridbox_coord3.mean(axis=0).plot()"
   ]
  },
  {
   "cell_type": "code",
   "execution_count": null,
   "id": "33ce21bd-ea20-457c-9274-4046b7bc694b",
   "metadata": {},
   "outputs": [
    {
     "data": {
      "text/plain": [
       "<matplotlib.lines.Line2D at 0x1763445f0>"
      ]
     },
     "execution_count": null,
     "metadata": {},
     "output_type": "execute_result"
    }
   ],
   "source": [
    "plt.plot(se.gridbox_coord3.mean(axis=0), se.relative_humidity.mean(dim=\"cloud_id\"))\n",
    "plt.axvline(x=640)"
   ]
  },
  {
   "cell_type": "code",
   "execution_count": null,
   "id": "854a18de-38f7-4ef9-971f-69ab0c990192",
   "metadata": {},
   "outputs": [
    {
     "data": {
      "text/plain": [
       "<matplotlib.lines.Line2D at 0x42439d790>"
      ]
     },
     "execution_count": null,
     "metadata": {},
     "output_type": "execute_result"
    }
   ],
   "source": [
    "plt.plot(\n",
    "    se.gridbox_coord3.sel(gridbox=slice(0, 30)).mean(axis=0),\n",
    "    se.relative_humidity.sel(gridbox=slice(0, 30)).mean(dim=\"cloud_id\"),\n",
    ")\n",
    "plt.axvline(x=640)"
   ]
  },
  {
   "cell_type": "code",
   "execution_count": null,
   "id": "d07857d6-7e75-4ee2-8c5c-bf2cd81c163a",
   "metadata": {},
   "outputs": [
    {
     "name": "stdout",
     "output_type": "stream",
     "text": [
      "<xarray.DataArray 'relative_humidity' ()> Size: 8B\n",
      "array(76.41008964)\n",
      "Coordinates:\n",
      "    microphysics  <U12 48B ...\n",
      "<xarray.DataArray 'relative_humidity' ()> Size: 8B\n",
      "array(64.94911424)\n",
      "Coordinates:\n",
      "    microphysics  <U12 48B ...\n",
      "<xarray.DataArray 'relative_humidity' ()> Size: 8B\n",
      "array(82.32487039)\n",
      "Coordinates:\n",
      "    microphysics  <U12 48B ...\n",
      "<xarray.DataArray 'relative_humidity' (quantile: 2)> Size: 16B\n",
      "array([73.87724555, 79.58236078])\n",
      "Coordinates:\n",
      "  * quantile  (quantile) float64 16B 0.1 0.9\n"
     ]
    }
   ],
   "source": [
    "print(se.relative_humidity.sel(gridbox=slice(0, 1)).mean())\n",
    "print(se.relative_humidity.sel(gridbox=slice(0, 1)).min())\n",
    "print(se.relative_humidity.sel(gridbox=slice(0, 1)).max())\n",
    "\n",
    "print(se.relative_humidity.sel(gridbox=slice(0, 1)).quantile(q=(0.1, 0.9)))"
   ]
  },
  {
   "cell_type": "code",
   "execution_count": null,
   "id": "5842ba46-022e-4cdc-aad1-45e366d85aaf",
   "metadata": {},
   "outputs": [
    {
     "data": {
      "text/plain": [
       "<matplotlib.collections.QuadMesh at 0x1581ac560>"
      ]
     },
     "execution_count": null,
     "metadata": {},
     "output_type": "execute_result"
    }
   ],
   "source": [
    "se.relative_humidity.plot()"
   ]
  },
  {
   "cell_type": "markdown",
   "id": "f92cc720-113f-49f0-9d0e-87fc98b58d93",
   "metadata": {},
   "source": [
    "# Physical constants"
   ]
  },
  {
   "cell_type": "code",
   "execution_count": null,
   "id": "eb3724db-ea32-4ba9-abae-f1037082a183",
   "metadata": {},
   "outputs": [
    {
     "name": "stdout",
     "output_type": "stream",
     "text": [
      "3.5957635456780634\n"
     ]
    }
   ],
   "source": [
    "rhow = 0.998e3\n",
    "rhoa = 1.2\n",
    "eta = 1.85e-5\n",
    "g = 9.81\n",
    "nu = eta / rhoa\n",
    "T = 294.41807507\n",
    "p = 1e5\n",
    "Dv0 = 0.211 * (T / 273.15) ** (1.94) * (1013.25e2 / p) * 1e-4  # PK97 (13-3)\n",
    "Sc = 0.71  # nu/Dv0\n",
    "gamma = 73e-3\n",
    "Coo = 0.26\n",
    "Cgamma = 18.4\n",
    "lgamma = np.sqrt(gamma / (rhow * g))\n",
    "kb = 1.380649e-23\n",
    "Rconst = 8.314\n",
    "Rv = 461.5\n",
    "lv = 2.5e6\n",
    "ka = 26.19e-3\n",
    "\n",
    "\n",
    "def psat_water(T):\n",
    "    theta = T - 273.15\n",
    "    psat = 6.1121e2 * np.exp((18.678 - theta / 234.5) * (theta / (257.14 + theta)))\n",
    "    return psat\n",
    "\n",
    "\n",
    "def rhosat_water(T):\n",
    "    rho = psat_water(T) * 18.01528e-3 / (Rconst * T)\n",
    "    return rho\n",
    "\n",
    "\n",
    "Dv = Dv0 / (1 + lv * Dv0 * rhosat_water(T) / (ka * T) * (lv / (Rv * T) - 1))\n",
    "print(Dv0 / Dv)"
   ]
  },
  {
   "cell_type": "markdown",
   "id": "2dd1a330-8b88-4a1d-88bc-6e08dd750d5a",
   "metadata": {},
   "source": [
    "# Working code"
   ]
  },
  {
   "cell_type": "code",
   "execution_count": null,
   "id": "62f9b30e-1d50-4c8c-a820-ff3a5c14448e",
   "metadata": {},
   "outputs": [],
   "source": [
    "class solution:\n",
    "    \"\"\"Solution data structure\"\"\"\n",
    "\n",
    "    def __init__(self, t, y, x, evaporated, touched_ground):\n",
    "        self.t = t\n",
    "        self.y = y\n",
    "        self.x = x\n",
    "        self.evaporated = evaporated\n",
    "        self.touched_ground = touched_ground\n",
    "\n",
    "\n",
    "def event_evap(t, y):\n",
    "    \"\"\"Function that checks if the mass is below 5% of the initial mass.\n",
    "    If it is the case, the integration stops and the drop is assumed to be evaporated\"\"\"\n",
    "    if y[0] <= 0.05:\n",
    "        return True\n",
    "\n",
    "\n",
    "@njit\n",
    "def solve_ode(f, time_tuple, y0, dt, max_x, rhosat, rhov):\n",
    "    \"\"\"RK4 solver for right hand side f (must return a numpy array). The integration stops either when x reaches the value specified\n",
    "    by max_x or test_func returns True (evaporation happens)\"\"\"\n",
    "    tmin, tmax = time_tuple[0], time_tuple[1]\n",
    "    assert tmax > tmin\n",
    "    assert dt > 0\n",
    "    N = int((tmax - tmin) / dt)\n",
    "    y = np.zeros((N, len(y0)))\n",
    "    t = np.zeros(N)\n",
    "    x = np.zeros(N)\n",
    "    t[0] = tmin\n",
    "    y[0, :] = y0[:]\n",
    "    for i in range(N - 1):\n",
    "        # if test_func is not None:\n",
    "        # if test_func(t[i], y[i, :]):\n",
    "        if y[i, 0] / y0[0] < 1e-2:\n",
    "            return (t[:i], y[:i, :], x[:i], True, False)\n",
    "        if x[i] >= max_x:\n",
    "            return (t[:i], y[:i, :], x[:i], False, True)\n",
    "        k1 = f(t[i], y[i, :], rhosat, rhov)\n",
    "        k2 = f(t[i] + dt / 2, y[i, :] + dt * k1 / 2, rhosat, rhov)\n",
    "        k3 = f(t[i] + dt / 2, y[i, :] + dt * k2 / 2, rhosat, rhov)\n",
    "        k4 = f(t[i] + dt, y[i, :] + dt * k3, rhosat, rhov)\n",
    "        y[i + 1, :] = y[i, :] + dt * (k1 + 2 * k2 + 2 * k3 + k4) / 6\n",
    "        t[i + 1] = t[i] + dt\n",
    "        x[i + 1] = dt * y[i, 1] + x[i]\n",
    "        dt = 1e-8 + np.minimum(\n",
    "            1e-3 * np.abs(y[i, 0] / (-k1[0])), 1e-3 * np.abs(y[i, 1] / (1e-2 + k1[1]))\n",
    "        )\n",
    "    return (t, y, x, False, False)\n",
    "\n",
    "\n",
    "@njit\n",
    "def vt(a):\n",
    "    \"\"\"Terminal velocity in m/s\"\"\"\n",
    "    c1 = Coo ** (1 / 2) * (1 + Cgamma * (a / lgamma) ** 3) ** (1 / 6)\n",
    "    c2 = (12 * nu / a) ** (1 / 2)\n",
    "    c3 = (8 * rhow * g * a / (3 * rhoa)) ** (1 / 2)\n",
    "    return ((np.sqrt(c2**2 + 4 * c1 * c3) - c2) / (2 * c1)) ** 2\n",
    "\n",
    "\n",
    "@njit\n",
    "def vtlim(a):\n",
    "    \"\"\"Terminal velocity in m/s\"\"\"\n",
    "    c1 = Coo ** (1 / 2)\n",
    "    c2 = (12 * nu / a) ** (1 / 2)\n",
    "    c3 = (8 * rhow * g * a / (3 * rhoa)) ** (1 / 2)\n",
    "    return ((np.sqrt(c2**2 + 4 * c1 * c3) - c2) / (2 * c1)) ** 2\n",
    "\n",
    "\n",
    "@njit\n",
    "def Cd(a, v):\n",
    "    \"\"\"Arguments are the velocity in m/s and the radius in m\"\"\"\n",
    "    return 0.5  # (Coo**(1/2)*(1+Cgamma*(a/lgamma)**3)**(1/6)+(12*nu/(a*np.abs(v)))**(1/2))**2\n",
    "\n",
    "\n",
    "@njit\n",
    "def Cd_fullreal(a, v):\n",
    "    \"\"\"Arguments are the velocity in m/s and the radius in m\"\"\"\n",
    "    return (\n",
    "        Coo ** (1 / 2) * (1 + Cgamma * (a / lgamma) ** 3) ** (1 / 6)\n",
    "        + (12 * nu / (a * np.abs(v))) ** (1 / 2)\n",
    "    ) ** 2\n",
    "\n",
    "\n",
    "@njit\n",
    "def fv(a, v):\n",
    "    \"\"\"Arguments are mass and velocity\"\"\"\n",
    "    Re = 2 * a * np.abs(v) / nu\n",
    "    x = Sc ** (1 / 3) * Re ** (1 / 2)\n",
    "    if a < 60e-6:\n",
    "        return 1 + 0.108 * x**2\n",
    "    else:\n",
    "        return 0.78 + 0.308 * x\n",
    "\n",
    "\n",
    "@njit\n",
    "def func_rhs(t, y, rhosat, rhov):\n",
    "    \"\"\"Right hand side of the dynamical system. y[0] radius ; y[1] : v\"\"\"\n",
    "    m = 4 / 3 * np.pi * y[0] ** 3 * rhow\n",
    "    dr = -Dv * fv(y[0], y[1]) * (rhosat - rhov) / rhow / y[0]\n",
    "    dv = +g - (3 / 8) * Cd(y[0], y[1]) * (rhoa / rhow) * y[1] ** 2 / y[0]\n",
    "    return np.array([dr, dv])\n",
    "\n",
    "\n",
    "@njit\n",
    "def func_rhs_ideal(t, y, rhosat, rhov):\n",
    "    \"\"\"Right hand side of the dynamical system. y[0] radius ; y[1] : v\"\"\"\n",
    "    m = 4 / 3 * np.pi * y[0] ** 3 * rhow\n",
    "    dr = -Dv * (rhosat - rhov) / rhow / y[0]\n",
    "    dv = +g - (3 / 8) * 0.5 * (rhoa / rhow) * y[1] ** 2 / y[0]\n",
    "    return np.array([dr, dv])\n",
    "\n",
    "\n",
    "@njit\n",
    "def func_rhsrealreal(t, y, rhosat, rhov):\n",
    "    \"\"\"Right hand side of the dynamical system. y[0] radius ; y[1] : v\"\"\"\n",
    "    m = 4 / 3 * np.pi * y[0] ** 3 * rhow\n",
    "    dr = -Dv * (rhosat - rhov) / rhow / y[0]\n",
    "    dv = +g - (3 / 8) * Cd_fullreal(y[0], y[1]) * (rhoa / rhow) * y[1] ** 2 / y[0]\n",
    "    return np.array([dr, dv])\n",
    "\n",
    "\n",
    "class Simu:\n",
    "    \"\"\"Simulation run class. All values that are not dimensionless are in SI units.\"\"\"\n",
    "\n",
    "    def __init__(self, a0, rhosat, rhov):\n",
    "        # conditions initiales\n",
    "        self.a0 = a0\n",
    "        self.m0 = 4 * np.pi * rhow * a0**3 / 3\n",
    "        self.vt0 = vt(a0)\n",
    "        self.Cdvt = Cd(self.vt0, self.a0)\n",
    "        self.rhosat = rhosat\n",
    "        self.rhov = rhov\n",
    "\n",
    "    def solve(self, H, time, dt):\n",
    "        \"\"\"Solves until x = H (m)\"\"\"\n",
    "        self.solution = solution(\n",
    "            *solve_ode(func_rhs, (0, time), np.array([self.a0, self.vt0]), dt, H, self.rhosat, self.rhov)\n",
    "        )\n",
    "        return self.solution\n",
    "\n",
    "    def plot(self):\n",
    "        plt.plot(self.solution.t, self.solution.y[0], label=\"mass\")\n",
    "        plt.plot(self.solution.t, self.solution.y[1], label=\"vitesse\")\n",
    "        plt.legend(loc=\"best\")\n",
    "\n",
    "\n",
    "class Simu_ideal:\n",
    "    \"\"\"Simulation run class. All values that are not dimensionless are in SI units.\"\"\"\n",
    "\n",
    "    def __init__(self, a0, rhosat, rhov):\n",
    "        # conditions initiales\n",
    "        self.a0 = a0\n",
    "        self.m0 = 4 * np.pi * rhow * a0**3 / 3\n",
    "        self.vt0 = vt(a0)\n",
    "        self.Cdvt = 0.5\n",
    "        self.rhosat = rhosat\n",
    "        self.rhov = rhov\n",
    "\n",
    "    def solve(self, H, time, dt):\n",
    "        \"\"\"Solves until x = H (m)\"\"\"\n",
    "        self.solution = solution(\n",
    "            *solve_ode(\n",
    "                func_rhs_ideal, (0, time), np.array([self.a0, self.vt0]), dt, H, self.rhosat, self.rhov\n",
    "            )\n",
    "        )\n",
    "        return self.solution\n",
    "\n",
    "    def plot(self):\n",
    "        plt.plot(self.solution.t, self.solution.y[0], label=\"mass\")\n",
    "        plt.plot(self.solution.t, self.solution.y[1], label=\"vitesse\")\n",
    "        plt.legend(loc=\"best\")\n",
    "\n",
    "\n",
    "class Simurealreal:\n",
    "    \"\"\"Simulation run class. All values that are not dimensionless are in SI units.\"\"\"\n",
    "\n",
    "    def __init__(self, a0, rhosat, rhov):\n",
    "        # conditions initiales\n",
    "        self.a0 = a0\n",
    "        self.m0 = 4 * np.pi * rhow * a0**3 / 3\n",
    "        self.vt0 = vt(a0)\n",
    "        self.Cdvt = Cd(self.vt0, self.a0)\n",
    "        self.rhosat = rhosat\n",
    "        self.rhov = rhov\n",
    "\n",
    "    def solve(self, H, time, dt):\n",
    "        \"\"\"Solves until x = H (m)\"\"\"\n",
    "        self.solution = solution(\n",
    "            *solve_ode(\n",
    "                func_rhsrealreal, (0, time), np.array([self.a0, self.vt0]), dt, H, self.rhosat, self.rhov\n",
    "            )\n",
    "        )\n",
    "        return self.solution\n",
    "\n",
    "    def plot(self):\n",
    "        plt.plot(self.solution.t, self.solution.y[0], label=\"mass\")\n",
    "        plt.plot(self.solution.t, self.solution.y[1], label=\"vitesse\")\n",
    "        plt.legend(loc=\"best\")"
   ]
  },
  {
   "cell_type": "markdown",
   "id": "e12f1f18-343a-43ba-a824-bcb00dafde13",
   "metadata": {},
   "source": [
    "# Size dependance"
   ]
  },
  {
   "cell_type": "code",
   "execution_count": null,
   "id": "80cb96dd-9739-4edc-a850-9694bcee8202",
   "metadata": {},
   "outputs": [],
   "source": [
    "<xarray.DataArray 'relative_humidity' ()> Size: 8B\n",
    "array(76.41008964)\n",
    "Coordinates:\n",
    "    microphysics  <U12 48B ...\n",
    "<xarray.DataArray 'relative_humidity' ()> Size: 8B\n",
    "array(64.94911424)\n",
    "\n",
    "max 82.32487039\n",
    "Coordinates:\n",
    "    microphysics  <U12 48B ...\n",
    "<xarray.DataArray 'relative_humidity' (quantile: 2)> Size: 16B\n",
    "array([73.87724555, 79.58236078])\n",
    "Coordinates:\n",
    "  * quantile  (quantile) float64 16B 0.1 0.9"
   ]
  },
  {
   "cell_type": "code",
   "execution_count": null,
   "id": "0c390f05-2226-439d-a8b4-1e411aaf21d8",
   "metadata": {},
   "outputs": [],
   "source": [
    "H = 700  # 1200 #m\n",
    "RH = 76.41008964 / 100  # 85.61890708/100\n",
    "RHmin = 64.94911424 / 100\n",
    "RHmax = 82.32487039 / 100"
   ]
  },
  {
   "cell_type": "code",
   "execution_count": null,
   "id": "8e02d3cb-619e-4d55-83d5-8b62090d0413",
   "metadata": {},
   "outputs": [],
   "source": [
    "r0s = np.logspace(-4, -2.5, 500)\n",
    "rfs = np.zeros_like(r0s)\n",
    "list_simus = []\n",
    "dt = 1e-3\n",
    "time = 1e3\n",
    "for k, r0 in enumerate(r0s):\n",
    "    s = Simu(r0, rhosat_water(T), RH * rhosat_water(T))\n",
    "    s.solve(H, time, dt)\n",
    "    list_simus.append(s)\n",
    "    rfs[k] = s.solution.y[-1, 0]\n",
    "ef = (r0s**3 - rfs**3) / r0s**3"
   ]
  },
  {
   "cell_type": "code",
   "execution_count": null,
   "id": "edd956bb-fc08-4c63-ac9c-615a8ead722e",
   "metadata": {},
   "outputs": [
    {
     "data": {
      "text/plain": [
       "[]"
      ]
     },
     "execution_count": null,
     "metadata": {},
     "output_type": "execute_result"
    }
   ],
   "source": [
    "for k, r0 in enumerate(r0s):\n",
    "    s = list_simus[k]\n",
    "    plt.plot(s.solution.y[:, 0] * 1e6, H - s.solution.x)\n",
    "plt.semilogx()"
   ]
  },
  {
   "cell_type": "code",
   "execution_count": null,
   "id": "a83b22c4-d97b-4daa-9e6c-046811f8e9b1",
   "metadata": {},
   "outputs": [
    {
     "data": {
      "text/plain": [
       "[<matplotlib.lines.Line2D at 0x159e4ca70>]"
      ]
     },
     "execution_count": null,
     "metadata": {},
     "output_type": "execute_result"
    }
   ],
   "source": [
    "rfs = np.zeros_like(r0s)\n",
    "list_simus = []\n",
    "dt = 1e-3\n",
    "time = 1e3\n",
    "for k, r0 in enumerate(r0s):\n",
    "    s = Simu_ideal(r0, rhosat_water(T), RH * rhosat_water(T))\n",
    "    s.solve(H, time, dt)\n",
    "    list_simus.append(s)\n",
    "    rfs[k] = s.solution.y[-1, 0]\n",
    "ef_ideal = (r0s**3 - rfs**3) / r0s**3\n",
    "\n",
    "\n",
    "plt.plot(1 - rfs / r0s, ef)\n",
    "xplot = np.linspace(0, 1, 100)\n",
    "plt.plot(xplot, 0.59 * xplot + 0.18)"
   ]
  },
  {
   "cell_type": "code",
   "execution_count": null,
   "id": "99305b95-e413-45ae-9a35-e5d6fdf70b4b",
   "metadata": {},
   "outputs": [],
   "source": [
    "rfs = np.zeros_like(r0s)\n",
    "list_simus = []\n",
    "dt = 1e-3\n",
    "time = 1e3\n",
    "for k, r0 in enumerate(r0s):\n",
    "    s = Simu_ideal(r0, rhosat_water(T), RH * rhosat_water(T))\n",
    "    s.solve(H, time, dt)\n",
    "    list_simus.append(s)\n",
    "    rfs[k] = s.solution.y[-1, 0]\n",
    "ef_ideal = (r0s**3 - rfs**3) / r0s**3\n",
    "\n",
    "rfs = np.zeros_like(r0s)\n",
    "list_simus = []\n",
    "dt = 1e-3\n",
    "time = 1e3\n",
    "for k, r0 in enumerate(r0s):\n",
    "    s = Simu_ideal(r0, rhosat_water(T), RHmin * rhosat_water(T))\n",
    "    s.solve(H, time, dt)\n",
    "    list_simus.append(s)\n",
    "    rfs[k] = s.solution.y[-1, 0]\n",
    "ef_rhmin = (r0s**3 - rfs**3) / r0s**3\n",
    "\n",
    "rfs = np.zeros_like(r0s)\n",
    "list_simus = []\n",
    "dt = 1e-3\n",
    "time = 1e3\n",
    "for k, r0 in enumerate(r0s):\n",
    "    s = Simu_ideal(r0, rhosat_water(T), RHmax * rhosat_water(T))\n",
    "    s.solve(H, time, dt)\n",
    "    list_simus.append(s)\n",
    "    rfs[k] = s.solution.y[-1, 0]\n",
    "ef_rhmax = (r0s**3 - rfs**3) / r0s**3\n",
    "\n",
    "rfs = np.zeros_like(r0s)\n",
    "list_simus = []\n",
    "dt = 1e-3\n",
    "time = 1e3\n",
    "for k, r0 in enumerate(r0s):\n",
    "    s = Simurealreal(r0, rhosat_water(T), RH * rhosat_water(T))\n",
    "    s.solve(H, time, dt)\n",
    "    list_simus.append(s)\n",
    "    rfs[k] = s.solution.y[-1, 0]\n",
    "ef_realreal = (r0s**3 - rfs**3) / r0s**3"
   ]
  },
  {
   "cell_type": "code",
   "execution_count": null,
   "id": "02d61bb1-c6c8-4b2d-97ea-5bb1992256fd",
   "metadata": {},
   "outputs": [
    {
     "name": "stderr",
     "output_type": "stream",
     "text": [
      "/var/folders/t3/z98pfw6x1rx6pfr0z0s_shd40000gn/T/ipykernel_34930/1077798909.py:3: RuntimeWarning: invalid value encountered in power\n",
      "  efftheo = 1-(1-dr52/r0s**(5/2))**(6/5)\n",
      "'created' timestamp seems very low; regarding as unix timestamp\n",
      "'modified' timestamp seems very low; regarding as unix timestamp\n",
      "'created' timestamp seems very low; regarding as unix timestamp\n",
      "'modified' timestamp seems very low; regarding as unix timestamp\n"
     ]
    }
   ],
   "source": [
    "bU = np.sqrt(8 / 3 * rhow / rhoa * g / 0.5)\n",
    "dr52 = 5 / 2 * Dv * H / bU * (1 - RH) * rhosat_water(T) / rhow\n",
    "efftheo = 1 - (1 - dr52 / r0s ** (5 / 2)) ** (6 / 5)\n",
    "fvs = np.array([fv(r0, vtlim(r0)) for r0 in r0s])\n",
    "\n",
    "plt.plot(d_ef_cleo[:, 0], d_ef_cleo[:, 1], linestyle=\"\", marker=\"+\", markersize=3)\n",
    "plt.loglog(\n",
    "    r0s * 1e6,\n",
    "    100 * efftheo,\n",
    "    label=r\"analytic theory $f_v = 1$\",\n",
    "    linestyle=\"dashed\",\n",
    "    linewidth=1.5,\n",
    "    color=\"green\",\n",
    ")\n",
    "plt.loglog(r0s * 1e6, 100 * ef_ideal, label=r\"$f_v = 1$\", color=\"k\")\n",
    "\n",
    "plt.loglog(r0s * 1e6, 100 * ef_rhmin, label=r\"$f_v = 1$ , min. RH\", color=\"blue\")\n",
    "plt.loglog(r0s * 1e6, 100 * ef_rhmax, label=r\"$f_v = 1$ , max. RH\", color=\"red\")\n",
    "\n",
    "plt.loglog(r0s * 1e6, 100 * ef, label=r\"$f_v$ from PK97\", color=\"brown\")\n",
    "\n",
    "plt.loglog(\n",
    "    r0s * 1e6,\n",
    "    100 * ef_ideal * fvs,\n",
    "    label=r\"analytic theory $\\chi_{f_v = 1} f_v(r_0)$\",\n",
    "    linestyle=\"dotted\",\n",
    "    linewidth=1.5,\n",
    "    color=\"green\",\n",
    ")\n",
    "\n",
    "# plt.loglog(r0s*1e6, 100*ef_realreal, label = r\"$f_v = 1$, realistic $C_D$\", color = 'k', linestyle = \"dashed\")\n",
    "\n",
    "# plt.plot(r0s*1e6, 100*1e-9*r0s**(-5/2))\n",
    "# plt.plot(r0s*1e6, 100*8e-6*r0s**(-3/2))\n",
    "\n",
    "plt.ylim(0.1, 120)\n",
    "plt.xlim(6e1, 3e3)\n",
    "plt.legend()\n",
    "plt.xlabel(r\"$r_0 \\, (\\mathrm{\\mu m})$\")\n",
    "plt.ylabel(r\"$\\chi$ (%)\")\n",
    "plt.savefig(\"evapfraction_vs_r_onedropletmodel.pdf\")"
   ]
  },
  {
   "cell_type": "code",
   "execution_count": null,
   "id": "621cf690-490a-4d06-b448-44de80d69433",
   "metadata": {},
   "outputs": [],
   "source": [
    "plt.semilogx(r0s * 1e6, ef / ef_ideal, label=r\"EF ratio with/without\")\n",
    "rosplot = np.logspace(-4, -2.5, 1000)\n",
    "fvs = np.array([fv(r0, vtlim(r0)) for r0 in rosplot])\n",
    "plt.plot(rosplot * 1e6, fvs, label=r\"$f_v$\")\n",
    "plt.ylim(0, 20)\n",
    "plt.legend()\n",
    "plt.xlabel(r\"$r_0 \\, (\\mathrm{\\mu m})$\")\n",
    "plt.ylabel(r\"EF ratio\")\n",
    "plt.savefig(\"EFratio_vs_r_onedropletmodel.png\", dpi=600)"
   ]
  },
  {
   "cell_type": "markdown",
   "id": "3e399798-0bb0-481c-bb70-e735dbe7d3d6",
   "metadata": {},
   "source": [
    "# Fv approxmiation"
   ]
  },
  {
   "cell_type": "code",
   "execution_count": null,
   "id": "1d6dea0c-94a2-4593-a32a-88c2706ee036",
   "metadata": {},
   "outputs": [
    {
     "data": {
      "text/plain": [
       "<matplotlib.lines.Line2D at 0x159de5190>"
      ]
     },
     "execution_count": null,
     "metadata": {},
     "output_type": "execute_result"
    }
   ],
   "source": [
    "rosplot = np.logspace(-7, -2.5, 1000)\n",
    "fvs = np.array([fv(r0, vt(r0)) for r0 in rosplot])\n",
    "plt.plot(rosplot * 1e6, fvs)\n",
    "# fvs = np.array([fv(r0, vtlim(r0)) for r0 in rosplot])\n",
    "plt.plot(rosplot * 1e6, fvs)\n",
    "\n",
    "# plt.plot(rosplot*1e6, rosplot**(3/4)*1.5e3)\n",
    "# plt.plot(rosplot*1e6, 1/(1/(rosplot**3*1.1e12)+1/(rosplot**(3/4)*1.3e3)), color = 'k')\n",
    "plt.plot(rosplot * 1e6, (rosplot / 65e-6) ** (3 / 4), color=\"k\")\n",
    "\n",
    "plt.xlabel(r\"$r \\, (\\mathrm{\\mu m})$\")\n",
    "plt.ylabel(r\"$f_v$\")\n",
    "# plt.loglog()\n",
    "plt.xlim(0, 3200)\n",
    "plt.ylim(0, 20)\n",
    "plt.axhline(y=1, color=\"k\", linestyle=\"dashed\")\n",
    "# plt.semilogx()\n",
    "# plt.xlim(0, 3500)\n",
    "# plt.ylim(0, 17)\n",
    "# plt.loglog()\n",
    "# plt.savefig(\"fv.png\", dpi = 600)"
   ]
  },
  {
   "cell_type": "code",
   "execution_count": null,
   "id": "657d3c39-4eaa-431e-a139-e14c9a5db7be",
   "metadata": {},
   "outputs": [
    {
     "data": {
      "text/plain": [
       "15.938430606575267"
      ]
     },
     "execution_count": null,
     "metadata": {},
     "output_type": "execute_result"
    }
   ],
   "source": [
    "fv(2.2e-3, vtlim(2.2e-3))"
   ]
  },
  {
   "cell_type": "markdown",
   "id": "ea73519e-6f18-45a3-a73f-6b4f5f98c46a",
   "metadata": {},
   "source": [
    "# Terminal velocity?"
   ]
  },
  {
   "cell_type": "code",
   "execution_count": null,
   "id": "9ad2aeac-913b-415d-86a6-2b07ebed9046",
   "metadata": {},
   "outputs": [
    {
     "data": {
      "text/plain": [
       "[<matplotlib.lines.Line2D at 0x30d81e780>]"
      ]
     },
     "execution_count": null,
     "metadata": {},
     "output_type": "execute_result"
    }
   ],
   "source": [
    "rfs = np.zeros_like(r0s)\n",
    "list_simus = []\n",
    "dt = 1e-3\n",
    "time = 1e3\n",
    "for k, r0 in enumerate(r0s):\n",
    "    s = Simu_ideal(r0, rhosat_water(T), RH * rhosat_water(T))\n",
    "    s.solve(H, time, dt)\n",
    "    list_simus.append(s)\n",
    "    rfs[k] = s.solution.y[-1, 0]\n",
    "ef_ideal = (r0s**3 - rfs**3) / r0s**3\n",
    "\n",
    "plt.plot(d_ef_cleo[:, 0], d_ef_cleo[:, 1], linestyle=\"\", marker=\"+\", markersize=5)\n",
    "\n",
    "plt.loglog(r0s * 1e6, ef_ideal * 100)"
   ]
  },
  {
   "cell_type": "code",
   "execution_count": null,
   "id": "eae38f1c-0630-4e2f-b71e-defc430bf0b0",
   "metadata": {},
   "outputs": [
    {
     "data": {
      "text/plain": [
       "(0.0, 0.1)"
      ]
     },
     "execution_count": null,
     "metadata": {},
     "output_type": "execute_result"
    }
   ],
   "source": [
    "for k, r0 in enumerate(r0s):\n",
    "    s = list_simus[k]\n",
    "    plt.plot((s.solution.y[:, 1] / (bU * np.sqrt(s.solution.y[:, 0])) - 1) * 100, H - s.solution.x)\n",
    "dx = 1e-3\n",
    "plt.xlim(0, dx * 100)"
   ]
  },
  {
   "cell_type": "markdown",
   "id": "b2a9e248-91c3-43da-86e3-b76e5bd156bd",
   "metadata": {},
   "source": [
    "# OLD"
   ]
  },
  {
   "cell_type": "code",
   "execution_count": null,
   "id": "1d748602-0f92-401e-b3a1-e375bcb0433c",
   "metadata": {},
   "outputs": [],
   "source": [
    "# %% Solution for various initial radii and saturations\n",
    "list_a0 = np.logspace(-4, np.log10(5e-3), 20)\n",
    "list_S = np.linspace(0.4, 0.9, 5)\n",
    "\n",
    "list_simu = []\n",
    "rf = []  # mass when the drop reaches the ground\n",
    "\n",
    "dt = 1e-6\n",
    "time = 1\n",
    "H = 1000  # m\n",
    "\n",
    "\n",
    "for i, a0 in enumerate(list_a0):\n",
    "    list_simu.append([])\n",
    "    rf.append([])\n",
    "    for j, S in enumerate(list_S):\n",
    "        s = Simu(a0, rhosat_water(T), S * rhosat_water(T))\n",
    "        print(a0, S)\n",
    "        s.solve(H, time, dt)\n",
    "        list_simu[i].append(s)\n",
    "        if not s.solution.evaporated and s.solution.touched_ground:\n",
    "            rf[i].append(s.solution.y[-1, 0])\n",
    "        elif not s.solution.evaporated and not s.solution.touched_ground:\n",
    "            print(s.a0, s.S, \"not touched ground ! iterate more\")\n",
    "        else:\n",
    "            rf[i].append(0)"
   ]
  },
  {
   "cell_type": "code",
   "execution_count": null,
   "id": "a61f39d1-996b-4eee-bf4f-f299d5f5fd29",
   "metadata": {},
   "outputs": [
    {
     "data": {
      "text/plain": [
       "<matplotlib.legend.Legend at 0x35bf3bd40>"
      ]
     },
     "execution_count": null,
     "metadata": {},
     "output_type": "execute_result"
    }
   ],
   "source": [
    "# %% Plot the final mass as a function of a0 for different values of S\n",
    "for k, l in enumerate(np.transpose(rf)):\n",
    "    plt.semilogx(list_a0, l, label=list_S[k])\n",
    "plt.legend(loc=\"best\")"
   ]
  },
  {
   "cell_type": "code",
   "execution_count": null,
   "id": "c57be44c-c241-4e11-95bc-e65110916b36",
   "metadata": {},
   "outputs": [
    {
     "data": {
      "text/plain": [
       "[<matplotlib.lines.Line2D at 0x4242efb00>,\n",
       " <matplotlib.lines.Line2D at 0x424d07b00>]"
      ]
     },
     "execution_count": null,
     "metadata": {},
     "output_type": "execute_result"
    }
   ],
   "source": [
    "plt.plot(list_simu[0][0].solution.t, list_simu[0][0].solution.y)"
   ]
  },
  {
   "cell_type": "code",
   "execution_count": null,
   "id": "441f399e-8fee-403c-9017-844959794592",
   "metadata": {},
   "outputs": [
    {
     "data": {
      "text/plain": [
       "Text(0, 0.5, '$\\\\mathrm{RH}\\\\,(\\\\%)$')"
      ]
     },
     "execution_count": null,
     "metadata": {},
     "output_type": "execute_result"
    }
   ],
   "source": [
    "# %% Plot the results in the a0, S plane\n",
    "c = plt.contour(list_a0, 100 * (1 - list_S), np.transpose(rf) * 1e6, cmap=\"hsv\")\n",
    "plt.xscale(\"log\")\n",
    "plt.clabel(c)\n",
    "plt.xscale(\"log\")\n",
    "plt.xlabel(r\"$a_0\\,(\\mathrm{m})$\")\n",
    "plt.ylabel(r\"$\\mathrm{RH}\\,(\\%)$\")"
   ]
  },
  {
   "cell_type": "code",
   "execution_count": null,
   "id": "d1577feb-aa03-4358-8546-14da56d68555",
   "metadata": {},
   "outputs": [],
   "source": [
    "# %% Zeroth order solution for comparison\n",
    "mf_0 = []\n",
    "\n",
    "for i, a0 in enumerate(list_a0):\n",
    "    mf_0.append([])\n",
    "    for j, S in enumerate(list_S):\n",
    "        s = list_simu[i][j]\n",
    "        u = 2 * s.fv(1, 1) * Dv * Mmol * ns * S * H / (rhow * s.a0**2 * s.vt0)\n",
    "        if u >= 1:\n",
    "            mf_0[i].append(0)\n",
    "        else:\n",
    "            mf_0[i].append((1 - u) ** (3 / 2))"
   ]
  },
  {
   "cell_type": "code",
   "execution_count": null,
   "id": "5b3f0701-4791-4e09-8b7e-7e63a22b4771",
   "metadata": {},
   "outputs": [],
   "source": [
    "# %% Compare zeroth order and numerical solution\n",
    "levels = np.linspace(0.1, 0.95, 5)\n",
    "cmap = \"Dark2\"\n",
    "c = plt.contour(list_a0, 100 * (1 - list_S), np.transpose(mf), cmap=cmap, levels=levels)\n",
    "plt.xscale(\"log\")\n",
    "plt.clabel(c)\n",
    "c = plt.contour(\n",
    "    list_a0, 100 * (1 - list_S), np.transpose(mf_0), linestyles=\"dashed\", cmap=cmap, levels=levels\n",
    ")\n",
    "plt.xscale(\"log\")\n",
    "plt.xlabel(r\"$a_0\\,(\\mathrm{m})$\")\n",
    "plt.ylabel(r\"$\\mathrm{RH}\\,(\\%)$\")\n",
    "# plt.clabel(c)"
   ]
  },
  {
   "cell_type": "code",
   "execution_count": null,
   "id": "703efa47-649c-4c1d-808b-53326d54d973",
   "metadata": {},
   "outputs": [],
   "source": [
    "# %% Superterminal velocity comparison\n",
    "skip = 10  # skip points to display faster\n",
    "for s in np.array(list_simu).flatten()[::3]:\n",
    "    if not s.solution.evaporated and s.solution.touched_ground:\n",
    "        ts = 2 * rhow * s.a0**2 / (9 * eta)\n",
    "        a = (3 * s.solution.y[::skip, 0] * s.m0 / (4 * pi * rhow)) ** (1 / 3)\n",
    "        plt.semilogy(\n",
    "            s.solution.t[::skip],\n",
    "            s.solution.y[::skip, 1] * s.vt0 / s.vt(a) - 1,\n",
    "            label=\"S {:.2f} a0 {:.2e}\".format(s.S, s.a0),\n",
    "        )\n",
    "\n",
    "plt.legend(loc=\"best\")"
   ]
  }
 ],
 "metadata": {
  "kernelspec": {
   "display_name": "sdm_pysd_python312",
   "language": "python",
   "name": "python3"
  },
  "language_info": {
   "codemirror_mode": {
    "name": "ipython",
    "version": 3
   },
   "file_extension": ".py",
   "mimetype": "text/x-python",
   "name": "python",
   "nbconvert_exporter": "python",
   "pygments_lexer": "ipython3",
   "version": "3.12.8"
  }
 },
 "nbformat": 4,
 "nbformat_minor": 5
}
