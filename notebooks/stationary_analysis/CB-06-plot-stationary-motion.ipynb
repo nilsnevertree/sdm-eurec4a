{
 "cells": [
  {
   "cell_type": "code",
   "execution_count": null,
   "metadata": {},
   "outputs": [],
   "source": [
    "import sys\n",
    "import numpy as np\n",
    "import xarray as xr\n",
    "import awkward as ak\n",
    "import matplotlib.pyplot as plt\n",
    "import random\n",
    "import matplotlib\n",
    "\n",
    "# sys.path.append('/home/m/m300950/CLEO/')\n",
    "from pySD.sdmout_src import *\n",
    "from pySD.sdmout_src import sdtracing"
   ]
  },
  {
   "cell_type": "code",
   "execution_count": null,
   "metadata": {},
   "outputs": [
    {
     "name": "stdout",
     "output_type": "stream",
     "text": [
      "/home/m/m301096/CLEO/data/output_v3.5/condensation/clusters_18/\n"
     ]
    }
   ],
   "source": [
    "path2CLEO = \"/home/m/m301096/CLEO/\"\n",
    "datapath = path2CLEO + \"data/output_v3.5/condensation/clusters_18/\"\n",
    "# datapath = path2CLEO+'data/output/raw/no_aerosols_no_collision_many_1024/clusters_301/'\n",
    "dataset = datapath + \"/eurec4a1d_sol.zarr\"\n",
    "setuptxt = datapath + \"/config/eurec4a1d_setup.txt\"\n",
    "statsfile = datapath + \"/config/eurec4a1d_stats.txt\"\n",
    "gridfile = datapath + \"share/eurec4a1d_ddimlessGBxboundaries.dat\"\n",
    "print(datapath)"
   ]
  },
  {
   "cell_type": "code",
   "execution_count": null,
   "metadata": {},
   "outputs": [],
   "source": [
    "ds = pyzarr.get_rawdataset(dataset)\n",
    "ds"
   ]
  },
  {
   "cell_type": "code",
   "execution_count": null,
   "metadata": {},
   "outputs": [],
   "source": [
    "config = pysetuptxt.get_config(setuptxt, nattrs=3, isprint=True)\n",
    "consts = pysetuptxt.get_consts(setuptxt, isprint=True)\n",
    "gbxs = pygbxsdat.get_gridboxes(gridfile, consts[\"COORD0\"], isprint=True)"
   ]
  },
  {
   "cell_type": "code",
   "execution_count": null,
   "metadata": {},
   "outputs": [],
   "source": [
    "gbxs"
   ]
  },
  {
   "cell_type": "code",
   "execution_count": null,
   "metadata": {},
   "outputs": [
    {
     "name": "stdout",
     "output_type": "stream",
     "text": [
      "---- Superdrop Properties -----\n",
      "RHO_L = 998.203 Kg/m^3\n",
      "RHO_SOL = 2016.5 Kg/m^3\n",
      "MR_SOL = 0.05844277 Kg/mol\n",
      "IONIC = 2.0\n",
      "-------------------------------\n",
      "---- Superdrop Properties -----\n",
      "RHO_L = 998.203 Kg/m^3\n",
      "RHO_SOL = 2016.5 Kg/m^3\n",
      "MR_SOL = 0.05844277 Kg/mol\n",
      "IONIC = 2.0\n",
      "-------------------------------\n"
     ]
    }
   ],
   "source": [
    "time = pyzarr.get_time(ds)\n",
    "thermodata = pyzarr.get_thermodata(ds, config[\"ntime\"], gbxs[\"ndims\"], consts)\n",
    "sddata = pyzarr.get_supers(ds, consts)\n",
    "gbxindex = pyzarr.get_gbxindex(ds, gbxs[\"ndims\"])\n",
    "totnsupers = pyzarr.get_totnsupers(ds)\n",
    "# nsupers = pyzarr.get_nsupers(ds, config[\"ntime\"], gbxs[\"ndims\"])\n",
    "sdrain = pyzarr.get_rainsupers(ds, consts)\n",
    "massmoms = pyzarr.get_massmoms(ds, config[\"ntime\"], gbxs[\"ndims\"])\n",
    "rainmassmoms = pyzarr.get_rainmassmoms(dataset, config[\"ntime\"], gbxs[\"ndims\"])"
   ]
  },
  {
   "cell_type": "code",
   "execution_count": null,
   "metadata": {},
   "outputs": [],
   "source": [
    "nsample = 250\n",
    "\n",
    "fig, axs = plt.subplots(nrows=2, ncols=2, figsize=(12, 6))\n",
    "axs = axs.flatten()\n",
    "fig.suptitle(\"Random Sample of Superdroplets\")\n",
    "\n",
    "minid, maxid = 0, int(totnsupers[0])  # largest value of ids to sample\n",
    "ids2plot = random.sample(list(range(minid, maxid, 1)), nsample)\n",
    "\n",
    "attrs = [\"radius\", \"coord3\", \"xi\"]\n",
    "data = sdtracing.attrs_for_superdroplets_sample(sddata, attrs, ids=ids2plot)\n",
    "\n",
    "diam = data[\"radius\"] * 2 / 1e4  # [cm]\n",
    "axs[0].plot(time.mins, diam, linewidth=0.8)\n",
    "axs[0].set_xlabel(\"time /mins\")\n",
    "axs[0].set_ylabel(\"diameter /cm\")\n",
    "axs[0].set_yscale(\"log\")\n",
    "\n",
    "axs[1].plot(time.mins, data[\"xi\"], linewidth=0.8)\n",
    "axs[1].set_xlabel(\"time /mins\")\n",
    "axs[1].set_ylabel(\"multiplicity\")\n",
    "axs[1].set_yscale(\"log\")\n",
    "\n",
    "crd3 = data[\"coord3\"] / 1000  # [km]\n",
    "axs[2].plot(time.mins, crd3, linewidth=0.8)\n",
    "axs[2].set_xlabel(\"time /mins\")\n",
    "axs[2].set_ylabel(\"z /km\")\n",
    "\n",
    "axs[3].plot(diam, crd3, linewidth=0.8)\n",
    "axs[3].set_xlabel(\"diameter /cm\")\n",
    "axs[3].set_xscale(\"log\")\n",
    "axs[3].set_ylabel(\"z /km\")\n",
    "\n",
    "fig.tight_layout()"
   ]
  },
  {
   "cell_type": "code",
   "execution_count": null,
   "metadata": {},
   "outputs": [],
   "source": [
    "def initial_radius_colour(sdId, radius, id):\n",
    "    \"\"\"loop over sdIds until id is first found. When found, return radius of droplet\"\"\"\n",
    "\n",
    "    is_found, idx = False, 0\n",
    "    while is_found == False:\n",
    "        r0 = np.where(sdId[idx] == id, radius[idx], np.nan)\n",
    "        r0 = r0[~np.isnan(r0)]\n",
    "        if len(r0[~np.isnan(r0)]) == 1:\n",
    "            is_found = True\n",
    "            c = r0[0]\n",
    "        else:\n",
    "            idx += 1\n",
    "\n",
    "    return c\n",
    "\n",
    "\n",
    "def plot_against_coord3_forgbx(axs, t2plts, gbx2plt, gbxzlims, get_var, xlims, xlog):\n",
    "    radius0 = sddata.radius[0]\n",
    "    vmin, vmax = [np.amin(radius0), np.amax(radius0)]\n",
    "    norm = matplotlib.colors.LogNorm(vmin=vmin, vmax=vmax)\n",
    "\n",
    "    for ax, t in zip(axs, t2plts):\n",
    "        idx = np.argmin(abs(time.secs - t))\n",
    "        bools = np.where(sddata.sdgbxindex[idx] == gbx2plt, True, False)\n",
    "\n",
    "        sdId = sddata.sdId[idx][bools]\n",
    "        colours = []\n",
    "        for id in sdId:\n",
    "            colours.append(initial_radius_colour(sddata.sdId, sddata.radius, id))\n",
    "\n",
    "        coord3 = sddata.coord3[idx][bools]\n",
    "        var = get_var(sddata, idx, bools)\n",
    "        ax.scatter(var, coord3, c=colours, cmap=\"plasma\", norm=norm)\n",
    "        ax.set_title(\"t={:.0f}s\".format(time.secs[idx]))\n",
    "\n",
    "        ax.set_ylim(gbxzlims)\n",
    "        ax.set_yticks(np.arange(gbxzlims[0], gbxzlims[1], 10))\n",
    "        ax.set_xlim(xlims)\n",
    "        if xlog:\n",
    "            ax.set_xscale(\"log\")\n",
    "    axs[0].set_ylabel(\"z /m\")\n",
    "\n",
    "\n",
    "def scatter_against_coord3(t2plts, get_var, xlabel, xlims, xlog):\n",
    "    height_ratios = [gbxs[\"zhalf\"][-1] - gbxs[\"zhalf\"][-2], gbxs[\"zhalf\"][-2] - gbxs[\"zhalf\"][-3]]\n",
    "    fig, axs = plt.subplots(\n",
    "        nrows=2,\n",
    "        ncols=len(t2plts),\n",
    "        figsize=(12, 10),\n",
    "        sharex=True,\n",
    "        gridspec_kw={\"height_ratios\": height_ratios, \"hspace\": 0},\n",
    "    )\n",
    "\n",
    "    gbx2plt = ds.gbxindex.max().values  # highest gbx\n",
    "    gbxzlims = [gbxs[\"zhalf\"][-2], gbxs[\"zhalf\"][-1]]\n",
    "    plot_against_coord3_forgbx(axs[0, :], t2plts, gbx2plt, gbxzlims, get_var, xlims, xlog)\n",
    "\n",
    "    gbx2plt = ds.gbxindex.values[\n",
    "        ds.gbxindex.values != ds.gbxindex.max().values\n",
    "    ].max()  # second highest gbx\n",
    "    gbxzlims = [gbxs[\"zhalf\"][-3], gbxs[\"zhalf\"][-2]]\n",
    "    plot_against_coord3_forgbx(axs[1, :], t2plts, gbx2plt, gbxzlims, get_var, xlims, xlog)\n",
    "\n",
    "    for ax in axs[1]:\n",
    "        ax.set_xlabel(xlabel)\n",
    "        ax.set_title(\"\")\n",
    "\n",
    "    fig.suptitle(\"Super-Droplets Coloured by their Initial Radius in the Top Two Gridboxes\")\n",
    "    fig.tight_layout()\n",
    "\n",
    "    return fig, axs"
   ]
  },
  {
   "cell_type": "code",
   "execution_count": null,
   "metadata": {},
   "outputs": [],
   "source": [
    "t2plts = [0, 2, 4, 10, 20, 60]\n",
    "\n",
    "\n",
    "def radius_attime_forgbx(sddata, idx, bools):\n",
    "    return sddata.radius[idx][bools] * 1e-3  # [mm]\n",
    "\n",
    "\n",
    "fig, axs = scatter_against_coord3(t2plts, radius_attime_forgbx, \"radius /mm\", [1e-3, 100], True)"
   ]
  },
  {
   "cell_type": "code",
   "execution_count": null,
   "metadata": {},
   "outputs": [],
   "source": [
    "for ax in axs[0].flatten():\n",
    "    ax.set_ylim(550, None)\n",
    "# for ax in axs[1].flatten():\n",
    "#     ax.set_ylim(N, 660)\n",
    "\n",
    "fig"
   ]
  },
  {
   "cell_type": "code",
   "execution_count": null,
   "metadata": {},
   "outputs": [],
   "source": [
    "def xi_attime_forgbx(sddata, idx, bools):\n",
    "    return sddata.xi[idx][bools]\n",
    "\n",
    "\n",
    "fig, axs = scatter_against_coord3(t2plts, xi_attime_forgbx, \"xi\", [1, 1e15], True)"
   ]
  },
  {
   "cell_type": "code",
   "execution_count": null,
   "metadata": {},
   "outputs": [],
   "source": [
    "def msol_attime_forgbx(sddata, idx, bools):\n",
    "    return sddata.msol[idx][bools]\n",
    "\n",
    "\n",
    "fig, axs = scatter_against_coord3(t2plts, msol_attime_forgbx, \"solute mass / g\", [1e-22, 1e-20], False)"
   ]
  },
  {
   "cell_type": "code",
   "execution_count": null,
   "metadata": {},
   "outputs": [],
   "source": [
    "# def sdId_attime_forgbx(sddata, idx, bools):\n",
    "#     return sddata.sdId[idx][bools]\n",
    "# fig, axs = scatter_against_coord3(t2plts, sdId_attime_forgbx, \"sdId\", [2000, 2300], False)\n",
    "\n",
    "# def coord3_attime_forgbx(sddata, idx, bools):\n",
    "#     return sddata.coord3[idx][bools]\n",
    "# fig, axs = scatter_against_coord3(t2plts, coord3_attime_forgbx, \"coord3 /m\", [750, 900], False)\n",
    "\n",
    "# def coord1_attime_forgbx(sddata, idx, bools):\n",
    "#     return sddata.coord1[idx][bools]\n",
    "# fig, axs = scatter_against_coord3(t2plts, coord1_attime_forgbx, \"coord1 /m\", [-20, 20], False)\n",
    "\n",
    "# def coord2_attime_forgbx(sddata, idx, bools):\n",
    "#     return sddata.coord2[idx][bools]\n",
    "# fig, axs = scatter_against_coord3(t2plts, coord2_attime_forgbx, \"coord2 /m\", [-20, 20], False)"
   ]
  },
  {
   "cell_type": "code",
   "execution_count": null,
   "metadata": {},
   "outputs": [],
   "source": [
    "def plot_distrib_forcoord3range(axs, t2plts, zlims, get_wghts, rlims, nbins, ylog, xarea):\n",
    "    # create nbins evenly spaced in log10(r)\n",
    "    hedgs = np.linspace(np.log10(rlims[0]), np.log10(rlims[1]), nbins + 1)\n",
    "    hcens = (10 ** hedgs[1:] + 10 ** hedgs[:-1]) / 2 / 1000  # mm\n",
    "\n",
    "    # volume of region droplets are within\n",
    "    vol = xarea * (zlims[1] - zlims[0])\n",
    "\n",
    "    for ax, t in zip(axs, t2plts):\n",
    "        idx = np.argmin(abs(time.secs - t))\n",
    "        bools = np.where(sddata.coord3[idx] >= zlims[0], True, False)\n",
    "        bools = np.where(sddata.coord3[idx] < zlims[1], bools, False)\n",
    "\n",
    "        radius = sddata.radius[idx][bools]\n",
    "        wghts = get_wghts(sddata, idx, bools, vol)\n",
    "\n",
    "        hist, hedgs = np.histogram(np.log10(radius), bins=hedgs, weights=wghts, density=None)\n",
    "        print(\"Sum over histogram:\", np.sum(hist))\n",
    "\n",
    "        ax.plot(hcens, hist, color=\"blue\", linewidth=0.8)\n",
    "        ax.set_title(\"t={:.0f}s\".format(time.secs[idx]))\n",
    "\n",
    "        ax.set_xlim([hcens[0], hcens[-1]])\n",
    "        ax.set_xscale(\"log\")\n",
    "\n",
    "        if ylog:\n",
    "            ax.set_yscale(\"log\")\n",
    "\n",
    "\n",
    "def distrib_against_radius(t2plts, get_wghts, rlims, nbins, ylabel, ylog, xarea):\n",
    "    fig, axs = plt.subplots(\n",
    "        nrows=2, ncols=len(t2plts), figsize=(16, 5), sharex=True, sharey=True, gridspec_kw={\"hspace\": 0}\n",
    "    )\n",
    "\n",
    "    zlims = [gbxs[\"zhalf\"][-2], gbxs[\"zhalf\"][-1]]\n",
    "    plot_distrib_forcoord3range(axs[0, :], t2plts, zlims, get_wghts, rlims, nbins, ylog, xarea)\n",
    "\n",
    "    zlims = [gbxs[\"zhalf\"][-3], gbxs[\"zhalf\"][-2]]\n",
    "    plot_distrib_forcoord3range(axs[1, :], t2plts, zlims, get_wghts, rlims, nbins, ylog, xarea)\n",
    "\n",
    "    for ax in axs[:, 0]:\n",
    "        ax.set_ylabel(ylabel)\n",
    "\n",
    "    for ax in axs[1]:\n",
    "        ax.set_xlabel(\"radius /mm\")\n",
    "        ax.set_title(\"\")\n",
    "\n",
    "    fig.suptitle(\"Droplet Size Distribution in the Top Two Gridboxes\")\n",
    "    fig.tight_layout()\n",
    "\n",
    "    return fig, axs"
   ]
  },
  {
   "cell_type": "code",
   "execution_count": null,
   "metadata": {},
   "outputs": [
    {
     "ename": "NameError",
     "evalue": "name 'distrib_against_radius' is not defined",
     "output_type": "error",
     "traceback": [
      "\u001b[0;31m---------------------------------------------------------------------------\u001b[0m",
      "\u001b[0;31mNameError\u001b[0m                                 Traceback (most recent call last)",
      "Cell \u001b[0;32mIn[14], line 10\u001b[0m\n\u001b[1;32m      8\u001b[0m     \u001b[38;5;28;01mreturn\u001b[39;00m sddata\u001b[38;5;241m.\u001b[39mxi[idx][bools] \u001b[38;5;241m/\u001b[39m vol \u001b[38;5;241m/\u001b[39m \u001b[38;5;241m1e6\u001b[39m  \u001b[38;5;66;03m# [cm^-3]\u001b[39;00m\n\u001b[1;32m      9\u001b[0m ylabel \u001b[38;5;241m=\u001b[39m \u001b[38;5;124m\"\u001b[39m\u001b[38;5;124mnumber concentration\u001b[39m\u001b[38;5;124m\"\u001b[39m\n\u001b[0;32m---> 10\u001b[0m fig, axs \u001b[38;5;241m=\u001b[39m \u001b[43mdistrib_against_radius\u001b[49m(t2plts, numconc_attime_forgbx, rlims, nbins, ylabel, \u001b[38;5;28;01mFalse\u001b[39;00m, xarea)\n",
      "\u001b[0;31mNameError\u001b[0m: name 'distrib_against_radius' is not defined"
     ]
    }
   ],
   "source": [
    "t2plts = [0, 2, 4, 10, 20, 60]\n",
    "# rlims = [np.min(sddata.radius[0])/10, np.max(sddata.radius[0])*10]\n",
    "rlims = [1e-1, 1e6]  # microns\n",
    "nbins = 128\n",
    "xarea = (gbxs[\"xhalf\"][-1] - gbxs[\"xhalf\"][-2]) * (gbxs[\"yhalf\"][-1] - gbxs[\"yhalf\"][-2])\n",
    "\n",
    "\n",
    "def numconc_attime_forgbx(sddata, idx, bools, vol):\n",
    "    return sddata.xi[idx][bools] / vol / 1e6  # [cm^-3]\n",
    "\n",
    "\n",
    "ylabel = \"number concentration\"\n",
    "fig, axs = distrib_against_radius(t2plts, numconc_attime_forgbx, rlims, nbins, ylabel, False, xarea)"
   ]
  },
  {
   "cell_type": "code",
   "execution_count": null,
   "metadata": {},
   "outputs": [],
   "source": []
  },
  {
   "cell_type": "code",
   "execution_count": null,
   "metadata": {},
   "outputs": [],
   "source": []
  }
 ],
 "metadata": {
  "kernelspec": {
   "display_name": "sdm_pysd_env312",
   "language": "python",
   "name": "python3"
  },
  "language_info": {
   "codemirror_mode": {
    "name": "ipython",
    "version": 3
   },
   "file_extension": ".py",
   "mimetype": "text/x-python",
   "name": "python",
   "nbconvert_exporter": "python",
   "pygments_lexer": "ipython3",
   "version": "3.12.1"
  }
 },
 "nbformat": 4,
 "nbformat_minor": 2
}
