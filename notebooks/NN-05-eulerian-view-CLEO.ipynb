{
 "cells": [
  {
   "cell_type": "markdown",
   "metadata": {},
   "source": [
    "With this Notebook, the datasets which were created by CLEO of all clusters using rain mask with 5 timestep holes removed will be compared.\n"
   ]
  },
  {
   "cell_type": "code",
   "execution_count": null,
   "metadata": {},
   "outputs": [],
   "source": [
    "from pathlib import Path\n",
    "\n",
    "import matplotlib.pyplot as plt\n",
    "import matplotlib.colors as mcolors\n",
    "import matplotlib.animation as animation\n",
    "import numpy as np\n",
    "import xarray as xr\n",
    "import yaml\n",
    "\n",
    "from sdm_eurec4a.visulization import set_custom_rcParams, adjust_lightness_array, handler_map_alpha\n",
    "\n",
    "from sdm_eurec4a.identifications import (\n",
    "    match_clouds_and_cloudcomposite,\n",
    "    match_clouds_and_dropsondes,\n",
    "    select_individual_cloud_by_id,\n",
    ")\n",
    "\n",
    "from sdm_eurec4a import RepositoryPath\n",
    "from sdm_eurec4a.input_processing import transfer\n",
    "from sdm_eurec4a.reductions import shape_dim_as_dataarray\n",
    "from sdm_eurec4a.conversions import msd_from_psd"
   ]
  },
  {
   "cell_type": "code",
   "execution_count": null,
   "metadata": {},
   "outputs": [],
   "source": [
    "def adjust_spines(ax, visible_spines, position=(\"outward\", 5)):\n",
    "    ax.label_outer(remove_inner_ticks=False)\n",
    "\n",
    "    for loc, spine in ax.spines.items():\n",
    "        if loc in visible_spines:\n",
    "            spine.set_position(position)  # outward by 10 points\n",
    "        else:\n",
    "            spine.set_visible(False)"
   ]
  },
  {
   "cell_type": "code",
   "execution_count": null,
   "metadata": {},
   "outputs": [],
   "source": [
    "plt.style.use(\"default\")\n",
    "default_colors = set_custom_rcParams()\n",
    "darker_colors = adjust_lightness_array(default_colors, 0.75)\n",
    "\n",
    "REPOSITORY_ROOT = RepositoryPath(\"levante\").get_repo_dir()\n",
    "\n",
    "output_dir = REPOSITORY_ROOT / Path(\"data/model/input_examples/\")\n",
    "# output_dir.mkdir(parents=True, exist_ok=True)"
   ]
  },
  {
   "cell_type": "code",
   "execution_count": null,
   "metadata": {},
   "outputs": [],
   "source": [
    "config_yaml_filepath = REPOSITORY_ROOT / Path(\"data/model/input/new/clusters_18.yaml\")\n",
    "\n",
    "with open(config_yaml_filepath, \"r\") as file:\n",
    "    config_yaml = yaml.safe_load(file)\n",
    "\n",
    "identification_type = config_yaml[\"cloud\"][\"identification_type\"]\n",
    "cloud_id = config_yaml[\"cloud\"][\"cloud_id\"]\n",
    "path2CLEO = Path(\"/home/m/m301096/CLEO\")\n",
    "cleo_data_dir = path2CLEO / \"data/output\"\n",
    "cleo_dataset_dir = cleo_data_dir / \"processed/rain/\" f\"{identification_type}_{cloud_id}\"\n",
    "\n",
    "cleo_output_path = cleo_dataset_dir / \"full_dataset.nc\"\n",
    "\n",
    "fig_path = REPOSITORY_ROOT / Path(f\"results/CLEO_output/no_aerosols/{identification_type}_{cloud_id}\")\n",
    "fig_path.mkdir(parents=True, exist_ok=True)\n",
    "clusters = xr.open_dataset(\n",
    "    REPOSITORY_ROOT\n",
    "    / Path(\n",
    "        \"data/observation/cloud_composite/processed/identified_clouds/identified_clusters_rain_mask_5.nc\"\n",
    "    )\n",
    ")\n",
    "cluster = select_individual_cloud_by_id(clusters, cloud_id)\n",
    "\n",
    "distance_clusters = xr.open_dataset(\n",
    "    REPOSITORY_ROOT\n",
    "    / Path(f\"data/observation/combined/distance/distance_dropsondes_identified_clusters_rain_mask_5.nc\")\n",
    ")\n",
    "\n",
    "cloud_composite = xr.open_dataset(\n",
    "    REPOSITORY_ROOT / Path(\"data/observation/cloud_composite/processed/cloud_composite_si_units.nc\"),\n",
    "    chunks={\"time\": 1000},\n",
    ")\n",
    "\n",
    "cloud_composite = match_clouds_and_cloudcomposite(\n",
    "    ds_clouds=cluster,\n",
    "    ds_cloudcomposite=cloud_composite,\n",
    "    dim=\"time\",\n",
    ")\n",
    "\n",
    "drop_sondes = xr.open_dataset(\n",
    "    REPOSITORY_ROOT / Path(\"data/observation/dropsonde/processed/drop_sondes.nc\")\n",
    ")\n",
    "\n",
    "\n",
    "dt = config_yaml[\"cloud\"][\"dropsonde_distance\"][\"max_temporal_distance\"].split(\" \")\n",
    "max_temporal_distance = np.timedelta64(int(dt[0]), dt[1][0])\n",
    "max_spatial_distance = config_yaml[\"cloud\"][\"dropsonde_distance\"][\"max_spatial_distance\"]\n",
    "drop_sondes = match_clouds_and_dropsondes(\n",
    "    ds_clouds=cluster,\n",
    "    ds_sonde=drop_sondes,\n",
    "    ds_distance=distance_clusters,\n",
    "    max_temporal_distance=max_temporal_distance,\n",
    "    max_spatial_distance=max_spatial_distance,\n",
    ")"
   ]
  },
  {
   "cell_type": "markdown",
   "metadata": {},
   "source": [
    "\n",
    "### Load CLEO output and preprocess\n",
    "\n",
    "- Convert Multiplicity $\\xi$ from #/gridbox to #/m^3\n",
    "- calculate mass of each SD and mass represented in total by each SD "
   ]
  },
  {
   "cell_type": "code",
   "execution_count": null,
   "metadata": {},
   "outputs": [],
   "source": [
    "ds_cleo = xr.open_dataset(cleo_output_path)\n",
    "ds_cleo[\"radius\"] = ds_cleo[\"radius\"] * 1e-6\n",
    "ds_cleo[\"mass\"] = 4 / 3 * np.pi * ds_cleo[\"radius\"] ** 3 * 1000  # kg/m^3\n",
    "\n",
    "ds_cleo[\"xi_per_gridbox\"] = ds_cleo[\"xi\"]\n",
    "ds_cleo[\"xi\"] = ds_cleo[\"xi_per_gridbox\"] / 20**3\n",
    "# create total represented mass\n",
    "ds_cleo[\"mass_represented\"] = ds_cleo[\"mass\"] * ds_cleo[\"xi\"]"
   ]
  },
  {
   "cell_type": "markdown",
   "metadata": {},
   "source": [
    "Reconstruct the fitted distribution"
   ]
  },
  {
   "cell_type": "code",
   "execution_count": null,
   "metadata": {},
   "outputs": [],
   "source": [
    "parameters = config_yaml[\"particle_size_distribution\"][\"parameters\"]\n",
    "\n",
    "psd = transfer.PSD_LnNormal(\n",
    "    geometric_means=parameters[\"geometric_means\"],\n",
    "    geometric_sigmas=parameters[\"geometric_sigmas\"],\n",
    "    scale_factors=parameters[\"scale_factors\"],\n",
    ")\n",
    "\n",
    "cloud_base = config_yaml[\"thermodynamics\"][\"air_temperature\"][\"parameters\"][\"x_split\"][0]"
   ]
  },
  {
   "cell_type": "markdown",
   "metadata": {},
   "source": [
    "Calculate the mass size distribution"
   ]
  },
  {
   "cell_type": "code",
   "execution_count": null,
   "metadata": {},
   "outputs": [],
   "source": [
    "cloud_composite[\"mass_size_distribution\"] = msd_from_psd(cloud_composite)\n",
    "cloud_composite[\"particle_size_distribution_fit\"] = psd.eval_func(cloud_composite.radius)\n",
    "cloud_composite[\"mass_size_distribution_fit\"] = msd_from_psd(\n",
    "    cloud_composite, psd_name=\"particle_size_distribution_fit\"\n",
    ")\n",
    "# get the 2D radius\n",
    "cloud_composite[\"radius_2D\"] = shape_dim_as_dataarray(\n",
    "    cloud_composite[\"particle_size_distribution\"], output_dim=\"radius\"\n",
    ")"
   ]
  },
  {
   "cell_type": "markdown",
   "metadata": {},
   "source": [
    "### Create variable of $r_{init}$, $r_{max}$, $r_{final}$ and corresponding $m$ and $t$ values"
   ]
  },
  {
   "cell_type": "code",
   "execution_count": null,
   "metadata": {},
   "outputs": [],
   "source": [
    "ds_cleo[\"mass_represented\"] = ds_cleo[\"mass\"] * ds_cleo[\"xi\"]\n",
    "ds_cleo[\"mass_represented\"] = ds_cleo[\"mass_represented\"].assign_attrs(\n",
    "    units=\"kg\",\n",
    "    long_name=\"Mass represented by the superdroplet\",\n",
    ")"
   ]
  },
  {
   "cell_type": "code",
   "execution_count": null,
   "metadata": {},
   "outputs": [],
   "source": [
    "# only use drolets which reach the lowest gridbox. So where the minimum of the coord3 is smaller than 20 m.\n",
    "ds_cleo = ds_cleo  # .where(ds_cleo[\"coord3\"].min(\"time\") <= 20, drop=True)\n",
    "# ds_cleo = ds_cleo.sortby(ds_cleo[\"radius\"].isel(time = 0))\n",
    "ds_cleo[\"minimum_coord3\"] = ds_cleo[\"coord3\"].min(\"time\")\n",
    "ds_cleo[\"minimum_coord3\"].assign_attrs(\n",
    "    units=\"m\",\n",
    "    long_name=\"Minimum height of the droplet in the domain\",\n",
    ")\n",
    "\n",
    "ds_cleo[\"time_domain_leave\"] = ds_cleo.isel(time=ds_cleo[\"coord3\"].argmin(\"time\")).time\n",
    "ds_cleo[\"time_domain_leave\"] = ds_cleo[\"time_domain_leave\"].assign_attrs(\n",
    "    units=\"s\",\n",
    "    long_name=\"Time when droplet leaves the domain\",\n",
    ")\n",
    "ds_cleo[\"time_at_cloud_base\"] = ds_cleo[\"time\"].where(ds_cleo[\"coord3\"] <= cloud_base).min(\"time\")\n",
    "ds_cleo[\"time_at_cloud_base\"] = ds_cleo[\"time_at_cloud_base\"].assign_attrs(\n",
    "    units=\"s\",\n",
    "    long_name=\"Time when droplet reaches cloud base\",\n",
    ")\n",
    "\n",
    "ds_cleo[\"time_at_maximum_radius\"] = ds_cleo.where(\n",
    "    ds_cleo[\"time\"] == ds_cleo[\"radius\"].argmax(\"time\")\n",
    ").time\n",
    "ds_cleo[\"time_at_maximum_radius\"] = ds_cleo[\"time_at_maximum_radius\"].assign_attrs(\n",
    "    units=\"s\",\n",
    "    long_name=\"Time when droplet reaches maximum radius\",\n",
    ")\n",
    "\n",
    "ds_cleo[\"radius_at_init\"] = ds_cleo[\"radius\"].isel(time=0)\n",
    "ds_cleo[\"radius_at_init\"] = ds_cleo[\"radius_at_init\"].assign_attrs(\n",
    "    units=\"m\",\n",
    "    long_name=\"Initial radius of the droplet\",\n",
    ")\n",
    "\n",
    "ds_cleo[\"radius_at_cloud_base\"] = ds_cleo[\"radius\"].where(\n",
    "    ds_cleo[\"time\"] == ds_cleo[\"time_at_cloud_base\"]\n",
    ")\n",
    "ds_cleo[\"radius_at_cloud_base\"] = ds_cleo[\"radius_at_cloud_base\"].assign_attrs(\n",
    "    units=\"m\",\n",
    "    long_name=\"Radius of the droplet at cloud base\",\n",
    ")\n",
    "\n",
    "ds_cleo[\"radius_at_domain_leave\"] = ds_cleo[\"radius\"].where(\n",
    "    ds_cleo[\"time\"] == ds_cleo[\"time_domain_leave\"]\n",
    ")\n",
    "ds_cleo[\"radius_at_domain_leave\"] = ds_cleo[\"radius_at_domain_leave\"].assign_attrs(\n",
    "    units=\"m\",\n",
    "    long_name=\"Radius of the droplet when it leaves the domain\",\n",
    ")\n",
    "\n",
    "ds_cleo[\"radius_maximum\"] = ds_cleo[\"radius\"].where(ds_cleo[\"time\"] == ds_cleo[\"time_at_maximum_radius\"])\n",
    "ds_cleo[\"radius_maximum\"] = ds_cleo[\"radius_maximum\"].assign_attrs(\n",
    "    units=\"m\",\n",
    "    long_name=\"Maximum radius of the droplet\",\n",
    ")\n",
    "\n",
    "ds_cleo[\"mass_init\"] = ds_cleo[\"mass\"].isel(time=0)\n",
    "ds_cleo[\"mass_init\"] = ds_cleo[\"mass_init\"].assign_attrs(\n",
    "    units=\"kg\",\n",
    "    long_name=\"Initial mass of the droplet\",\n",
    ")\n",
    "\n",
    "ds_cleo[\"mass_cloud_base\"] = ds_cleo[\"mass\"].where(ds_cleo[\"time\"] == ds_cleo[\"time_at_cloud_base\"])\n",
    "ds_cleo[\"mass_cloud_base\"] = ds_cleo[\"mass_cloud_base\"].assign_attrs(\n",
    "    units=\"kg\",\n",
    "    long_name=\"Mass of the droplet at cloud base\",\n",
    ")\n",
    "\n",
    "ds_cleo[\"mass_at_domain_leave\"] = ds_cleo[\"mass\"].where(ds_cleo[\"time\"] == ds_cleo[\"time_domain_leave\"])\n",
    "ds_cleo[\"mass_at_domain_leave\"] = ds_cleo[\"mass_at_domain_leave\"].assign_attrs(\n",
    "    units=\"kg\",\n",
    "    long_name=\"Mass of the droplet when it leaves the domain\",\n",
    ")\n",
    "\n",
    "ds_cleo[\"mass_maximum\"] = ds_cleo[\"mass\"].where(ds_cleo[\"time\"] == ds_cleo[\"time_at_maximum_radius\"])\n",
    "ds_cleo[\"mass_maximum\"] = ds_cleo[\"mass_maximum\"].assign_attrs(\n",
    "    units=\"kg\",\n",
    "    long_name=\"Maximum mass of the droplet\",\n",
    ")\n",
    "# ds_cleo[\"droplet_growth\"] = ds_cleo[\"radius_at_domain_leave\"] - ds_cleo[\"radius_at_init\"]\n",
    "# ds_cleo[\"droplet_growth_above_cloud\"] = ds_cleo[\"radius_at_cloud_base\"] - ds_cleo[\"radius_at_init\"]\n",
    "# ds_cleo[\"droplet_growth_below_cloud\"] = ds_cleo[\"radius_at_domain_leave\"] - ds_cleo[\"radius_at_cloud_base\"]"
   ]
  },
  {
   "cell_type": "markdown",
   "metadata": {},
   "source": [
    "# Eulerian view on PSD and MSD\n",
    "\n",
    "To change from a Lagrangian point of view \n",
    "````\n",
    "dimensions = (\"time\", \"sd_id\")\n",
    "````\n",
    "to a more or less Eulerian point of view, enables to plot e.g. PSD and MSD at specific time steps and heights.\n",
    "For the PSD and MSD can be retireved from the multiplicity $\\xi$, radius $r$ and spehrical mass $m$ of the $N$ SDs\n",
    "For a given timestep $\\tilde{t}$ we can bin by radius and altitude bins giving new dimensions:\n",
    "````\n",
    "dimensions = (\"time\", \"radius_bins\", \"altitude_bins\")\n",
    "````\n",
    "- PSD : $\\sum_{id = 0}^{N} \\xi_{id}^{binned}$\n",
    "- MSD : $\\sum_{id = 0}^{N} \\xi_{id}^{binned} \\cdot m_{id}^{binned}$"
   ]
  },
  {
   "cell_type": "markdown",
   "metadata": {},
   "source": [
    "#### Using xarray groupby which is super slow."
   ]
  },
  {
   "cell_type": "code",
   "execution_count": null,
   "metadata": {},
   "outputs": [],
   "source": [
    "def calculate_psd_cleo(ds):\n",
    "    r_bins = np.logspace(-7, -3, 100)\n",
    "    groups = dict(ds.groupby(ds[\"sdgbxindex\"]))\n",
    "    interval_mean = np.vectorize(lambda x: x.mid)\n",
    "    result_list = []\n",
    "    for key, ds_test in groups.items():\n",
    "        result = ds_test[\"xi\"].groupby_bins(ds_test[\"radius\"], bins=r_bins).sum()\n",
    "        result[\"radius_bins_mid\"] = (\"radius_bins\", interval_mean(result[\"radius_bins\"]))\n",
    "        result = result.swap_dims({\"radius_bins\": \"radius_bins_mid\"})\n",
    "        result_list.append(result)\n",
    "    res = xr.concat(objs=result_list, dim=\"sdgbxindex\")\n",
    "    res = res.assign_coords(sdgbxindex=res[\"sdgbxindex\"])\n",
    "    return res"
   ]
  },
  {
   "cell_type": "markdown",
   "metadata": {},
   "source": [
    "### Use the 2D binning with a 2 for loops."
   ]
  },
  {
   "cell_type": "code",
   "execution_count": null,
   "metadata": {},
   "outputs": [],
   "source": [
    "# Define the radius and altitude bins\n",
    "r_bins = np.logspace(-7, -3, 100)\n",
    "h_bins = np.arange(0, 1200, 20)\n",
    "\n",
    "# Find the bin indices for r and h\n",
    "# In other words digitize the continous values of r and h into the bins\n",
    "r_bin_indices = np.digitize(ds_cleo[\"radius\"], r_bins) - 1\n",
    "h_bin_indices = np.digitize(ds_cleo[\"coord3\"], h_bins) - 1\n",
    "\n",
    "# Initialize the arrays to store the results\n",
    "m, i, j = len(ds_cleo[\"time\"]), len(r_bins - 1), len(h_bins - 1)\n",
    "psd = np.zeros((m, i, j))\n",
    "msd = np.zeros((m, i, j))\n",
    "xi = np.zeros((m, i, j))\n",
    "\n",
    "# Loop over the unique bin combinations\n",
    "for r_bin in range(i):\n",
    "    for h_bin in range(j):\n",
    "        # Find the indices where r and h fall into this bin\n",
    "        indices = (r_bin_indices == r_bin) & (h_bin_indices == h_bin)\n",
    "        # Sum the corresponding values xi along the sd_id dimension and store the result of the\n",
    "        # Particle size distribution\n",
    "        res = np.where(indices, ds_cleo[\"xi\"], np.nan)\n",
    "        psd[:, r_bin, h_bin] = np.nansum(res, axis=1)\n",
    "        # Sum the corresponding values the represented mass along the sd_id dimension and store the result of the\n",
    "        # Particle size distribution\n",
    "        res = np.where(indices, ds_cleo[\"mass_represented\"], np.nan)\n",
    "        msd[:, r_bin, h_bin] = np.nansum(res, axis=1)\n",
    "\n",
    "        xi = np.where(indices, ds_cleo[\"xi\"], np.nan)\n",
    "         = np.nansum(xi, axis=1)"
   ]
  },
  {
   "cell_type": "markdown",
   "metadata": {},
   "source": [
    "Create the eulerian Dataset"
   ]
  },
  {
   "cell_type": "code",
   "execution_count": null,
   "metadata": {},
   "outputs": [],
   "source": [
    "ds_euler = xr.Dataset(\n",
    "    data_vars=dict(\n",
    "        particle_size_distribution=(\n",
    "            [\"time\", \"radius_bins\", \"height_bins\"],\n",
    "            psd,\n",
    "            {\"long_name\": \"Particle size distribution\", \"units\": \"1/m^3\"},\n",
    "        ),\n",
    "        mass_size_distribution=(\n",
    "            [\"time\", \"radius_bins\", \"height_bins\"],\n",
    "            msd,\n",
    "            {\"long_name\": \"Mass size distribution\", \"units\": \"kg/m^3\"},\n",
    "        ),\n",
    "    ),\n",
    "    coords={\n",
    "        \"time\": ds_cleo[\"time\"],\n",
    "        \"radius_bins\": r_bins,\n",
    "        \"height_bins\": h_bins,\n",
    "    },\n",
    ")"
   ]
  },
  {
   "cell_type": "markdown",
   "metadata": {},
   "source": [
    "Animate the evolution"
   ]
  },
  {
   "cell_type": "code",
   "execution_count": null,
   "metadata": {},
   "outputs": [],
   "source": [
    "t_select"
   ]
  },
  {
   "cell_type": "code",
   "execution_count": null,
   "metadata": {},
   "outputs": [
    {
     "name": "stderr",
     "output_type": "stream",
     "text": [
      "MovieWriter imagemagick unavailable; using Pillow instead.\n"
     ]
    }
   ],
   "source": [
    "t_select = ds_cleo[\"time\"][::3].data\n",
    "t = t_select[0]\n",
    "fig, axs = plt.subplots(ncols=2, figsize=(16, 9))\n",
    "\n",
    "quad_psd = axs[0].pcolormesh(\n",
    "    ds_euler[\"radius_bins\"],\n",
    "    ds_euler[\"height_bins\"],\n",
    "    ds_euler[\"particle_size_distribution\"].sel(time=t, method=\"nearest\").T,\n",
    "    shading=\"nearest\",\n",
    "    cmap=\"Reds\",\n",
    "    norm=mcolors.LogNorm(vmin=1e-4, vmax=1e4),\n",
    ")\n",
    "quad_msd = axs[1].pcolormesh(\n",
    "    ds_euler[\"radius_bins\"],\n",
    "    ds_euler[\"height_bins\"],\n",
    "    ds_euler[\"mass_size_distribution\"].sel(time=t, method=\"nearest\").T,\n",
    "    shading=\"nearest\",\n",
    "    cmap=\"Reds\",\n",
    "    norm=mcolors.LogNorm(vmin=1e-18, vmax=1e0),\n",
    ")\n",
    "\n",
    "axs[0].set_title(f\"Particle size distribution\")\n",
    "axs[1].set_title(f\"Mass size distribution\")\n",
    "\n",
    "\n",
    "cbar_psd = fig.colorbar(quad_psd, ax=axs[0], orientation=\"vertical\")\n",
    "cbar_msd = fig.colorbar(quad_msd, ax=axs[1], orientation=\"vertical\")\n",
    "\n",
    "cbar_psd.set_label(\"PSD $\\\\#/m^3$\")\n",
    "cbar_msd.set_label(\"MSD $kg/m^3$\")\n",
    "\n",
    "for ax in axs.flatten():\n",
    "    ax.set_ylabel(f\"Altitude $m$\")\n",
    "    ax.set_xlabel(f\"Radius $m$\")\n",
    "    # ax.set_title(f\"{t}\")\n",
    "    ax.set_xscale(\"log\")\n",
    "    ax.set_xlim((6e-08, 2e-03))\n",
    "title = fig.suptitle(\"Time: \")\n",
    "\n",
    "\n",
    "def draw(t):\n",
    "    z = ds_euler[\"particle_size_distribution\"].sel(time=t).T.data\n",
    "    quad_psd.set_array(z.ravel())\n",
    "    z = ds_euler[\"mass_size_distribution\"].sel(time=t).T.data\n",
    "    quad_msd.set_array(z.ravel())\n",
    "    minutes, seconds = np.round(t / 60, decimals=0), np.round(t % 60, decimals=1)\n",
    "    title.set_text(f\"Time : {minutes:02.0f} min {seconds:02.0f} s\")\n",
    "    return quad_psd, quad_msd, title\n",
    "\n",
    "\n",
    "def init():\n",
    "    iter = 1\n",
    "    t = t_select[iter]\n",
    "    return draw(t)\n",
    "\n",
    "\n",
    "def animate(iter):\n",
    "    t = t_select[iter]\n",
    "    return draw(t)\n",
    "\n",
    "\n",
    "anim = animation.FuncAnimation(fig, animate, frames=len(t_select), interval=50, blit=False, repeat=False)\n",
    "anim.save(fig_path / \"animation.gif\", writer=\"imagemagick\", fps=10)"
   ]
  },
  {
   "cell_type": "markdown",
   "metadata": {},
   "source": [
    "## Looking at the evaporating droplets"
   ]
  },
  {
   "cell_type": "code",
   "execution_count": null,
   "metadata": {},
   "outputs": [],
   "source": [
    "ds_cleo.where(ds_cleo[\"mass_at_domain_leave\"] <= ds_cleo[\"mass_at_cloud_base\"])"
   ]
  },
  {
   "cell_type": "code",
   "execution_count": null,
   "metadata": {},
   "outputs": [
    {
     "data": {
      "text/plain": [
       "[<matplotlib.lines.Line2D at 0x7fff29598230>]"
      ]
     },
     "execution_count": null,
     "metadata": {},
     "output_type": "execute_result"
    }
   ],
   "source": [
    "ds_cleo[\"time_at_cloud_base\"].plot()"
   ]
  },
  {
   "cell_type": "code",
   "execution_count": null,
   "metadata": {},
   "outputs": [
    {
     "data": {
      "text/plain": [
       "Text(0.5, 0.98, 'Cloud 18 at 2020-01-26 - Random sample of SD\\nTop: Whole CLEO output.   Bottom: SDs which show decrease in $r$  ')"
      ]
     },
     "execution_count": null,
     "metadata": {},
     "output_type": "execute_result"
    }
   ],
   "source": [
    "# %%\n",
    "style = dict(\n",
    "    marker=\"None\",\n",
    "    linestyle=\"-\",\n",
    "    # markersize = 1,\n",
    "    alpha=0.8,\n",
    ")\n",
    "\n",
    "fig, ax = plt.subplots(ncols=1, figsize=(16, 9))\n",
    "ax.plot(ds_cleo.time, ds_cleo.coord3, **style)\n",
    "ax.set_title(\"Time\")\n",
    "ax.set_ylabel(\"ALtitude $[m]$\")\n",
    "ax.axhline(cloud_base, color=\"k\", linestyle=\"--\", label=\"cloud base\")\n",
    "ax.legend(loc=\"lower left\")\n",
    "# ax.grid(True)\n",
    "\n",
    "fig.suptitle(\n",
    "    f\"Cloud {cloud_id} at {cluster.time.dt.date.astype(str).values[0]} - Random sample of SD\\nTop: Whole CLEO output.   Bottom: SDs which show decrease in $r$  \"\n",
    ")"
   ]
  }
 ],
 "metadata": {
  "kernelspec": {
   "display_name": "sdm_eurec4a_env312",
   "language": "python",
   "name": "python3"
  },
  "language_info": {
   "codemirror_mode": {
    "name": "ipython",
    "version": 3
   },
   "file_extension": ".py",
   "mimetype": "text/x-python",
   "name": "python",
   "nbconvert_exporter": "python",
   "pygments_lexer": "ipython3",
   "version": "3.12.1"
  }
 },
 "nbformat": 4,
 "nbformat_minor": 2
}
