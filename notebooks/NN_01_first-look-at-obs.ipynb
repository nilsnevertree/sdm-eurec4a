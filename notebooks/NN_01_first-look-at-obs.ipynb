{
 "cells": [
  {
   "cell_type": "code",
   "execution_count": null,
   "metadata": {},
   "outputs": [],
   "source": [
    "import numpy as np\n",
    "import xarray as xr\n",
    "from pathlib import Path\n",
    "import matplotlib.pyplot as plt\n",
    "from shapely.geometry import Polygon\n",
    "import cartopy.crs as ccrs\n",
    "import cartopy.feature as cfeature\n",
    "\n",
    "from sdm_eurec4a.reductions import polygon2mask\n",
    "from sdm_eurec4a.visulization import set_custom_rcParams, plot_colors, gen_color"
   ]
  },
  {
   "cell_type": "code",
   "execution_count": null,
   "metadata": {},
   "outputs": [],
   "source": [
    "# Set custom colors\n",
    "\n",
    "plt.style.use(\"dark_background\")\n",
    "colors = set_custom_rcParams()\n",
    "plot_colors(colors)\n",
    "\n",
    "figure_dir = Path(\"../results/first-data-analysis/rain_mask\")\n",
    "figure_dir.mkdir(exist_ok=True, parents=True)"
   ]
  },
  {
   "cell_type": "code",
   "execution_count": null,
   "metadata": {},
   "outputs": [],
   "source": [
    "def select_region(\n",
    "    ds: xr.Dataset, area: list, lon_name: str = \"lon\", lat_name: str = \"lat\"\n",
    ") -> xr.Dataset:\n",
    "    \"\"\"\n",
    "    Select a region from a xarray dataset based on a given area.\n",
    "\n",
    "    Parameters\n",
    "    ----------\n",
    "    ds : xarray.Dataset\n",
    "        Dataset to select from.\n",
    "    area : list\n",
    "        List of four values [lon_min, lon_max, lat_min, lat_max].\n",
    "    lon_name : str, optional\n",
    "        Name of the longitude variable. The default is 'lon'.\n",
    "    lat_name : str, optional\n",
    "        Name of the latitude variable. The default is 'lat'.\n",
    "    Returns\n",
    "    -------\n",
    "    ds : xarray.Dataset\n",
    "        Dataset with the selected region.\n",
    "    \"\"\"\n",
    "\n",
    "    return (\n",
    "        (ds[lon_name] > area[0])\n",
    "        & (ds[lon_name] < area[1])\n",
    "        & (ds[lat_name] > area[2])\n",
    "        & (ds[lat_name] < area[3])\n",
    "    )"
   ]
  },
  {
   "cell_type": "markdown",
   "metadata": {},
   "source": [
    "## 1. Load datasets"
   ]
  },
  {
   "cell_type": "code",
   "execution_count": null,
   "metadata": {},
   "outputs": [
    {
     "name": "stderr",
     "output_type": "stream",
     "text": [
      "/work/mh1126/m301096/conda/envs/sdm_eurec4a_env/lib/python3.12/site-packages/xarray/coding/times.py:254: RuntimeWarning: invalid value encountered in cast\n",
      "  flat_num_dates_ns_int = (flat_num_dates * _NS_PER_TIME_DELTA[delta]).astype(\n"
     ]
    }
   ],
   "source": [
    "FILEPATH = Path(\"../data/observation/cloud_composite/processed/cloud_composite.nc\")\n",
    "cloud_composite = xr.open_dataset(FILEPATH)\n",
    "display(cloud_composite)\n",
    "\n",
    "FILEPATH = Path(r\"../data/observation/dropsonde/Level_3/EUREC4A_JOANNE_Dropsonde-RD41_Level_3_v2.0.0.nc\")\n",
    "drop_sondes = xr.open_dataset(FILEPATH)\n",
    "drop_sondes = drop_sondes.rename({\"launch_time\": \"time\"})\n",
    "drop_sondes = drop_sondes.swap_dims({\"sonde_id\": \"time\"})\n",
    "drop_sondes = drop_sondes.sortby(\"time\")\n",
    "display(drop_sondes)"
   ]
  },
  {
   "cell_type": "markdown",
   "metadata": {},
   "source": [
    "## 2. Get a first idea of the combined datasets"
   ]
  },
  {
   "cell_type": "code",
   "execution_count": null,
   "metadata": {},
   "outputs": [],
   "source": [
    "selection_area = [-58.75, -58.25, 13.5, 14]\n",
    "selection_polygon = Polygon(\n",
    "    [\n",
    "        [selection_area[0], selection_area[2]],\n",
    "        [selection_area[0], selection_area[3]],\n",
    "        [selection_area[1], selection_area[3]],\n",
    "        [selection_area[1], selection_area[2]],\n",
    "        [selection_area[0], selection_area[2]],\n",
    "    ]\n",
    ")"
   ]
  },
  {
   "cell_type": "code",
   "execution_count": null,
   "metadata": {},
   "outputs": [],
   "source": [
    "sonde_ids = drop_sondes.sonde_id.values\n",
    "\n",
    "halo_ids = sonde_ids[[\"HALO\" in v for v in sonde_ids]]\n",
    "p3_ids = sonde_ids[[\"P3\" in v for v in sonde_ids]]\n",
    "# make sure no flight is used twice\n",
    "assert sorted(np.concatenate([halo_ids, p3_ids])) == sorted(sonde_ids)\n",
    "\n",
    "halo_launches = drop_sondes.time.where(drop_sondes.sonde_id.isin(halo_ids), drop=True)\n",
    "p3_launches = drop_sondes.time.where(drop_sondes.sonde_id.isin(p3_ids), drop=True)"
   ]
  },
  {
   "cell_type": "code",
   "execution_count": null,
   "metadata": {},
   "outputs": [
    {
     "data": {
      "text/plain": [
       "Text(0.5, 1.0, 'Dropsonde and ART locations overview')"
      ]
     },
     "execution_count": null,
     "metadata": {},
     "output_type": "execute_result"
    }
   ],
   "source": [
    "# Draw a map of all dropsondes released during the campaign\n",
    "\n",
    "\n",
    "fig = plt.figure(figsize=(10, 10), layout=\"constrained\")\n",
    "ax = plt.axes(projection=ccrs.PlateCarree())\n",
    "# ax.coastlines()\n",
    "# ax.add_feature(cfeature.LAND)\n",
    "# ax.add_feature(cfeature.OCEAN, color=\"navy\", alpha=0.2)\n",
    "# ax.add_feature(cfeature.BORDERS, linestyle=\":\")\n",
    "ax.gridlines(draw_labels=True)\n",
    "ax.set_extent([-60, -56, 12, 15])\n",
    "\n",
    "xx, yy = selection_polygon.exterior.xy\n",
    "ax.plot(xx, yy, transform=ccrs.PlateCarree(), color=\"red\", linewidth=2, label=\"selected area\")\n",
    "\n",
    "ax.scatter(\n",
    "    cloud_composite.lon,\n",
    "    cloud_composite.lat,\n",
    "    transform=ccrs.PlateCarree(),\n",
    "    # color = 'b',\n",
    "    marker=\".\",\n",
    "    alpha=0.7,\n",
    "    label=\"ART\",\n",
    ")\n",
    "\n",
    "ax.scatter(\n",
    "    drop_sondes.sel(time=halo_launches).flight_lon,\n",
    "    drop_sondes.sel(time=halo_launches).flight_lat,\n",
    "    transform=ccrs.PlateCarree(),\n",
    "    label=\"HALO\",\n",
    "    marker=\"o\",\n",
    "    alpha=0.7,\n",
    ")\n",
    "\n",
    "ax.scatter(\n",
    "    drop_sondes.sel(time=p3_launches).flight_lon,\n",
    "    drop_sondes.sel(time=p3_launches).flight_lat,\n",
    "    transform=ccrs.PlateCarree(),\n",
    "    label=\"P3\",\n",
    "    marker=\"o\",\n",
    "    alpha=0.7,\n",
    ")\n",
    "\n",
    "\n",
    "ax.legend()\n",
    "ax.set_title(\"Dropsonde and ART locations overview\")\n",
    "# fig.savefig(figure_dir / \"sonde_art_locations_overview.png\", dpi=300, transparent=False)"
   ]
  },
  {
   "cell_type": "markdown",
   "metadata": {},
   "source": [
    "# 2. Selection criteria"
   ]
  },
  {
   "cell_type": "markdown",
   "metadata": {},
   "source": [
    "Contraints on how to choose individual profiles\n",
    "\n",
    "- Temporal contraint :\n",
    "    RF15 as Raphaela told us\n",
    "- Spatial constraint :\n",
    "    - Altitude\n",
    "    - Position\n",
    "- Physical constraints\n",
    "    - rain existence\n",
    "    - high liquid water content"
   ]
  },
  {
   "cell_type": "markdown",
   "metadata": {},
   "source": [
    "### Temporal constraint: Use Flight number RF15 / 15"
   ]
  },
  {
   "cell_type": "markdown",
   "metadata": {},
   "source": [
    "For an ART measurement to be considered, \n",
    "all the following criteria need to be met:\n",
    "- flight number 14, 15, 16\n",
    "- altitude below 1000 m\n",
    "- small region given by\n",
    "    - -58.75 E <> -58.25 E\n",
    "    -  13.5 N <> 14 N\n",
    "- provided cloud mask applied\n"
   ]
  },
  {
   "cell_type": "code",
   "execution_count": null,
   "metadata": {},
   "outputs": [
    {
     "name": "stderr",
     "output_type": "stream",
     "text": [
      "/work/mh1126/m301096/conda/envs/sdm_eurec4a_env/lib/python3.12/site-packages/xarray/coding/times.py:254: RuntimeWarning: invalid value encountered in cast\n",
      "  flat_num_dates_ns_int = (flat_num_dates * _NS_PER_TIME_DELTA[delta]).astype(\n",
      "/work/mh1126/m301096/conda/envs/sdm_eurec4a_env/lib/python3.12/site-packages/xarray/coding/times.py:254: RuntimeWarning: invalid value encountered in cast\n",
      "  flat_num_dates_ns_int = (flat_num_dates * _NS_PER_TIME_DELTA[delta]).astype(\n",
      "/work/mh1126/m301096/conda/envs/sdm_eurec4a_env/lib/python3.12/site-packages/xarray/coding/times.py:254: RuntimeWarning: invalid value encountered in cast\n",
      "  flat_num_dates_ns_int = (flat_num_dates * _NS_PER_TIME_DELTA[delta]).astype(\n",
      "/work/mh1126/m301096/conda/envs/sdm_eurec4a_env/lib/python3.12/site-packages/xarray/coding/times.py:254: RuntimeWarning: invalid value encountered in cast\n",
      "  flat_num_dates_ns_int = (flat_num_dates * _NS_PER_TIME_DELTA[delta]).astype(\n"
     ]
    }
   ],
   "source": [
    "#  constraints\n",
    "\n",
    "flight_constraint = cloud_composite.flight_number.isin([14, 15, 16])\n",
    "altitude_constraint = cloud_composite.alt < 1100\n",
    "spatial_constraint = select_region(cloud_composite, [-58.75, -58.25, 13.5, 14])\n",
    "drop_sondes_spatial_constraint = select_region(drop_sondes, [-58.75, -58.25, 13.5, 14])\n",
    "\n",
    "\n",
    "mask_constraint = cloud_composite.rain_mask == 1\n",
    "# liquid_water_content_constraint = cloud_composite.liquid_water_content > cloud_composite.liquid_water_content.quantile(dim=\"time\", q=0.9)\n",
    "full_constraint = (\n",
    "    # flight_constraint #& liquid_water_content_constraint\n",
    "    altitude_constraint\n",
    "    & spatial_constraint\n",
    "    & mask_constraint\n",
    ")\n",
    "time_values_of_constraint = cloud_composite.time.where(full_constraint, drop=True)"
   ]
  },
  {
   "cell_type": "code",
   "execution_count": null,
   "metadata": {},
   "outputs": [
    {
     "name": "stderr",
     "output_type": "stream",
     "text": [
      "/work/mh1126/m301096/conda/envs/sdm_eurec4a_env/lib/python3.12/site-packages/xarray/coding/times.py:254: RuntimeWarning: invalid value encountered in cast\n",
      "  flat_num_dates_ns_int = (flat_num_dates * _NS_PER_TIME_DELTA[delta]).astype(\n"
     ]
    },
    {
     "name": "stdout",
     "output_type": "stream",
     "text": [
      "143 ART measurments are selected by the constraint\n",
      "6 dropsondes are selected by the constraint\n"
     ]
    }
   ],
   "source": [
    "# For the cloud composite data set it is sufficient to use the time values of the constraint to select the data\n",
    "cc_constraint = cloud_composite.sel(time=time_values_of_constraint)\n",
    "\n",
    "\n",
    "# For the dropsonde data set we need to drop all sondes that do not match the spatial constraint\n",
    "ds_constraint = drop_sondes.where(drop_sondes_spatial_constraint, drop=True)\n",
    "# Then we need to drop all time values that do not match the time constraint\n",
    "# Only unqiue values are kept\n",
    "drop_sondes_time_constraint_all = ds_constraint.time.sel(\n",
    "    time=time_values_of_constraint, method=\"nearest\"\n",
    ")\n",
    "drop_sondes_time_constraint = np.unique(drop_sondes_time_constraint_all)\n",
    "ds_constraint = ds_constraint.sel(time=drop_sondes_time_constraint)\n",
    "\n",
    "# plt.scatter(\n",
    "#     cc_constraint.time,\n",
    "#     cc_constraint.alt,\n",
    "#     c = cc_constraint.flight_number,\n",
    "# )\n",
    "# plt.colorbar()\n",
    "\n",
    "print(f\"{len(time_values_of_constraint)} ART measurments are selected by the constraint\")\n",
    "print(f\"{len(drop_sondes_time_constraint)} dropsondes are selected by the constraint\")"
   ]
  },
  {
   "cell_type": "code",
   "execution_count": null,
   "metadata": {},
   "outputs": [],
   "source": [
    "fig, ax = plt.subplots(figsize=(10, 2))\n",
    "ax.plot(\n",
    "    time_values_of_constraint,\n",
    "    time_values_of_constraint.astype(int) * 0 + 0.1,\n",
    "    marker=\"+\",\n",
    "    linestyle=\"\",\n",
    "    label=f\"{len(time_values_of_constraint)} ART measurments\",\n",
    ")\n",
    "\n",
    "ax.plot(\n",
    "    drop_sondes_time_constraint,\n",
    "    drop_sondes_time_constraint.astype(int) * 0,\n",
    "    marker=\"x\",\n",
    "    linestyle=\"\",\n",
    "    label=f\"{len(drop_sondes_time_constraint)} dropsondes\",\n",
    ")\n",
    "ax.legend(ncol=2, loc=\"upper center\")\n",
    "ax.set_ylim(-0.1, 0.2)\n",
    "ax.set_yticks([0.1, 0], [\"ART\", \"Dropsondes\"])\n",
    "# ax.set_xticks(rotation=-45, ha=\"left\");\n",
    "ax.set_title(\n",
    "    \"Measurement times of ART fitting the conditions.\\nAnd temporal 'nearest' dropsondes in the selcted area.\"\n",
    ")\n",
    "fig.tight_layout()\n",
    "fig.savefig(figure_dir / \"conditions_art_sonde_times.png\", dpi=300, transparent=False)"
   ]
  },
  {
   "cell_type": "code",
   "execution_count": null,
   "metadata": {},
   "outputs": [
    {
     "name": "stderr",
     "output_type": "stream",
     "text": [
      "/tmp/ipykernel_574011/274716882.py:12: MatplotlibDeprecationWarning: The get_cmap function was deprecated in Matplotlib 3.7 and will be removed two minor releases later. Use ``matplotlib.colormaps[name]`` or ``matplotlib.colormaps.get_cmap(obj)`` instead.\n",
      "  cm = plt.cm.get_cmap(\"RdYlBu\")\n"
     ]
    }
   ],
   "source": [
    "# Draw a map of all dropsondes released during the campaign\n",
    "\n",
    "\n",
    "fig = plt.figure(figsize=(10, 10))\n",
    "ax = plt.axes(projection=ccrs.PlateCarree())\n",
    "# ax.coastlines()\n",
    "# ax.add_feature(cfeature.LAND)\n",
    "# ax.add_feature(cfeature.OCEAN, color=\"navy\", alpha=0.2)\n",
    "# ax.add_feature(cfeature.BORDERS, linestyle=\":\")\n",
    "ax.gridlines(draw_labels=True)\n",
    "ax.set_extent([-60, -56, 12, 15])\n",
    "cm = plt.cm.get_cmap(\"RdYlBu\")\n",
    "\n",
    "xx, yy = selection_polygon.exterior.xy\n",
    "ax.plot(xx, yy, transform=ccrs.PlateCarree(), color=\"red\", linewidth=2, label=\"selected area\")\n",
    "\n",
    "mpl = ax.scatter(\n",
    "    cc_constraint.lon,\n",
    "    cc_constraint.lat,\n",
    "    transform=ccrs.PlateCarree(),\n",
    "    # c = cc_constraint.flight_number.values,\n",
    "    marker=\"+\",\n",
    "    # alpha= 0.1,\n",
    "    label=\"ART\",\n",
    "    # cmap=\"jet\"\n",
    ")\n",
    "\n",
    "ax.scatter(\n",
    "    ds_constraint.flight_lon,\n",
    "    ds_constraint.flight_lat,\n",
    "    transform=ccrs.PlateCarree(),\n",
    "    label=\"Dropsondes\",\n",
    "    marker=\"x\",\n",
    ")\n",
    "\n",
    "ax.legend()\n",
    "ax.set_title(\"ART locations fitting conditions and related dropsondes\")\n",
    "fig.savefig(figure_dir / \"art_sonde_locations_condition.png\", dpi=300, transparent=False)"
   ]
  },
  {
   "cell_type": "code",
   "execution_count": null,
   "metadata": {},
   "outputs": [
    {
     "name": "stderr",
     "output_type": "stream",
     "text": [
      "/tmp/ipykernel_574011/2914745317.py:64: UserWarning: set_ticklabels() should only be used with a fixed number of ticks, i.e. after set_ticks() or using a FixedLocator.\n",
      "  axs.set_xticklabels(axs.get_xticklabels(), rotation=-45, ha=\"left\")\n"
     ]
    }
   ],
   "source": [
    "fig, axs = plt.subplots(1, 1, figsize=(15, 5))\n",
    "\n",
    "\n",
    "xx, yy = np.meshgrid(\n",
    "    ds_constraint.time,\n",
    "    ds_constraint.alt,\n",
    ")\n",
    "\n",
    "mpl = axs.scatter(\n",
    "    xx,\n",
    "    yy,\n",
    "    c=ds_constraint.theta.T,\n",
    "    marker=\".\",\n",
    "    s=1,\n",
    "    # alpha= 0.1,\n",
    "    zorder=1,\n",
    "    vmin=297,\n",
    "    vmax=305,\n",
    "    cmap=\"Greens\",\n",
    "    label=\"Dropsondes\",\n",
    ")\n",
    "\n",
    "plt.colorbar(mpl, label=\"Potential temperature (K)\", orientation=\"vertical\")\n",
    "\n",
    "all_measurments = len(cc_constraint.time)\n",
    "axs.plot(\n",
    "    cc_constraint.time,\n",
    "    cc_constraint.alt,\n",
    "    marker=\".\",\n",
    "    markersize=8,\n",
    "    linestyle=\"\",\n",
    "    # alpha= 0.1,\n",
    "    zorder=2,\n",
    "    label=f\"ART all (#{all_measurments})\",\n",
    ")\n",
    "cloud_mask_measurements = (cc_constraint.cloud_mask == 1).sum().values\n",
    "axs.plot(\n",
    "    cc_constraint.time.where(cc_constraint.cloud_mask == 1),\n",
    "    cc_constraint.alt.where(cc_constraint.cloud_mask == 1),\n",
    "    marker=\"x\",\n",
    "    markersize=8,\n",
    "    linestyle=\"\",\n",
    "    alpha=1,\n",
    "    zorder=3,\n",
    "    label=f\"ART cloud masked (#{cloud_mask_measurements})\",\n",
    ")\n",
    "\n",
    "rain_mask_measurements = (cc_constraint.rain_mask == 1).sum().values\n",
    "axs.plot(\n",
    "    cc_constraint.time.where(cc_constraint.rain_mask == 1),\n",
    "    cc_constraint.alt.where(cc_constraint.rain_mask == 1),\n",
    "    marker=\"o\",\n",
    "    linestyle=\"\",\n",
    "    markersize=8,\n",
    "    alpha=1,\n",
    "    zorder=4,\n",
    "    label=f\"ART rain masked (#{rain_mask_measurements})\",\n",
    ")\n",
    "\n",
    "axs.set_ylim(0, 2000)\n",
    "axs.set_xlabel(\"Time\")\n",
    "axs.set_ylabel(\"Altitude (m)\")\n",
    "axs.legend()\n",
    "axs.set_xticklabels(axs.get_xticklabels(), rotation=-45, ha=\"left\")\n",
    "\n",
    "axs.set_title(\"Potential temperature of dropsondes and ART measurements\\n\")\n",
    "fig.tight_layout()\n",
    "fig.savefig(figure_dir / \"art_sonde_potential_temperature.png\", dpi=300, transparent=False)"
   ]
  },
  {
   "cell_type": "code",
   "execution_count": null,
   "metadata": {},
   "outputs": [],
   "source": [
    "cc_constraint = cloud_composite.sel(time=time_values_of_constraint)\n",
    "\n",
    "fig, axs = plt.subplots(figsize=(15, 7.5), ncols=2, sharex=True)\n",
    "\n",
    "#  Plot the particle_size_distribution for all and for the selected sondes\n",
    "\n",
    "axs[0].plot(\n",
    "    cc_constraint.diameter,\n",
    "    cc_constraint.particle_size_distribution,\n",
    "    color=colors[0],\n",
    "    alpha=0.1,\n",
    "    linewidth=0,\n",
    "    marker=\".\",\n",
    "    # label = f'individual measurements {q*100:.0f}ths percentile based on LWC'\n",
    ")\n",
    "\n",
    "axs[0].set_xscale(\"log\")\n",
    "axs[0].plot(\n",
    "    cloud_composite.diameter,\n",
    "    cloud_composite.particle_size_distribution.mean(dim=\"time\", skipna=True),\n",
    "    color=\"r\",\n",
    "    alpha=1,\n",
    "    linewidth=2,\n",
    "    # marker = '.',\n",
    "    label=f\"mean\",\n",
    ")\n",
    "\n",
    "axs[0].set_xlabel(\"Particle diameter [µm]\")\n",
    "axs[0].set_ylabel(\"Particle size distribution [#/L]\")\n",
    "axs[0].set_title(\"Particle size distribution\")\n",
    "#  Plot the particle_size_distribution for all and for the selected sondes\n",
    "\n",
    "axs[1].plot(\n",
    "    cc_constraint.diameter,\n",
    "    cc_constraint.mass_size_distribution,\n",
    "    color=colors[0],\n",
    "    alpha=0.1,\n",
    "    linewidth=0,\n",
    "    marker=\".\",\n",
    "    # label = f'individual measurements {q*100:.0f}th percentile based on LWC'\n",
    ")\n",
    "\n",
    "axs[1].set_xscale(\"log\")\n",
    "axs[1].plot(\n",
    "    cloud_composite.diameter,\n",
    "    cloud_composite.mass_size_distribution.mean(dim=\"time\", skipna=True),\n",
    "    color=\"r\",\n",
    "    alpha=1,\n",
    "    linewidth=2,\n",
    "    label=f\"mean\",\n",
    ")\n",
    "\n",
    "axs[1].set_xlabel(\"Particle diameter [µm]\")\n",
    "axs[1].set_ylabel(\"Mass size distribution [g/L/µm]\")\n",
    "axs[1].set_title(\"Mass size distribution\")\n",
    "\n",
    "for ax in axs.flatten():\n",
    "    ax.legend()\n",
    "    ax.set_yscale(\"log\")\n",
    "\n",
    "fig.suptitle(f\"Particle size distribution and mass size distribution from ART measurements.\")\n",
    "fig.savefig(figure_dir / \"art_sonde_particle_size_distribution.png\", dpi=300, transparent=False)"
   ]
  },
  {
   "cell_type": "code",
   "execution_count": null,
   "metadata": {},
   "outputs": [],
   "source": [
    "n, a = ds_constraint.theta.shape\n",
    "# Create a color dict with individual colors for each day of the year which is present in the data set\n",
    "color_n = np.unique([ds_constraint.time.dt.date]).astype(str)\n",
    "color_list = gen_color(\"tab10\", n=color_n.size)\n",
    "plot_colors(color_list)\n",
    "color_dict = dict(zip(color_n, color_list))"
   ]
  },
  {
   "cell_type": "code",
   "execution_count": null,
   "metadata": {},
   "outputs": [],
   "source": [
    "# Set style\n",
    "style = dict(linewidth=1, marker=\".\", s=1, linestyle=\"-\", alpha=1, cmap=\"Set2\")\n",
    "\n",
    "\n",
    "# Plot the temperature profiles for the selected sondes and color them by their day of the year value\n",
    "fig, axs = plt.subplots(1, 1, figsize=(7.5, 7.5))\n",
    "\n",
    "xx = np.tile(ds_constraint.alt, (n, 1))\n",
    "cc = np.tile(ds_constraint.time.dt.day, (a, 1)).T\n",
    "# ds_constraint.theta.shape\n",
    "# mpl = axs.scatter(\n",
    "#     ds_constraint.theta,\n",
    "#     xx,\n",
    "#     c = cc,\n",
    "#     **style)\n",
    "old_day = None\n",
    "for i, t in enumerate(ds_constraint.time):\n",
    "    day = str(t.dt.date.values)\n",
    "    color = color_dict[day]\n",
    "    if old_day != day:\n",
    "        axs.plot(\n",
    "            ds_constraint.theta.sel(time=t),\n",
    "            ds_constraint.alt,\n",
    "            color=color,\n",
    "            label=f\"{day}\",\n",
    "        )\n",
    "    else:\n",
    "        axs.plot(\n",
    "            ds_constraint.theta.sel(time=t),\n",
    "            ds_constraint.alt,\n",
    "            color=color,\n",
    "        )\n",
    "    old_day = day\n",
    "axs.legend(loc=\"lower right\")\n",
    "\n",
    "axs.set_ylim(0, 2000)\n",
    "axs.set_xlim(297, 305)\n",
    "plt.colorbar(mpl)\n",
    "axs.set_xlabel(\"Potential Temperature [K]\")\n",
    "axs.set_ylabel(\"Altitude [m]\")\n",
    "axs.set_title(\"Temperature profiles of realted dropsondes\\nColored by date\")\n",
    "fig.savefig(figure_dir / \"art_sonde_temperature_profiles.png\", dpi=300, transparent=False)"
   ]
  }
 ],
 "metadata": {
  "kernelspec": {
   "display_name": "climNum",
   "language": "python",
   "name": "python3"
  },
  "language_info": {
   "codemirror_mode": {
    "name": "ipython",
    "version": 3
   },
   "file_extension": ".py",
   "mimetype": "text/x-python",
   "name": "python",
   "nbconvert_exporter": "python",
   "pygments_lexer": "ipython3",
   "version": "3.12.0"
  }
 },
 "nbformat": 4,
 "nbformat_minor": 2
}
