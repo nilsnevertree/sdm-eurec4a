{
 "cells": [
  {
   "cell_type": "code",
   "execution_count": null,
   "metadata": {},
   "outputs": [],
   "source": [
    "import os\n",
    "\n",
    "from pathlib import Path\n",
    "\n",
    "import matplotlib.pyplot as plt\n",
    "import matplotlib as mpl\n",
    "import numpy as np\n",
    "import xarray as xr\n",
    "\n",
    "from sdm_eurec4a.visulization import set_custom_rcParams"
   ]
  },
  {
   "cell_type": "code",
   "execution_count": null,
   "metadata": {},
   "outputs": [
    {
     "name": "stdout",
     "output_type": "stream",
     "text": [
      "/home/m/m301096/repositories/sdm-eurec4a/scripts/CLEO/initalize\n",
      "/home/m/m301096/repositories/sdm-eurec4a\n"
     ]
    }
   ],
   "source": [
    "plt.style.use(\"default\")\n",
    "default_colors = set_custom_rcParams()\n",
    "from matplotlib import rc\n",
    "\n",
    "# rc('font',**{'family':'sans-serif','sans-serif':['Helvetica']})\n",
    "## for Palatino and other serif fonts use:\n",
    "# rc('font',**{'family':'serif','serif':['Palatino']})\n",
    "rc(\"text\", usetex=False)\n",
    "\n",
    "# THE PATH TO THE SCRIPT DIRECTORY\n",
    "script_dir = os.path.abspath(\"/home/m/m301096/repositories/sdm-eurec4a/scripts/CLEO/initalize\")\n",
    "print(script_dir)\n",
    "\n",
    "REPOSITORY_ROOT = Path(script_dir).parents[2]\n",
    "print(REPOSITORY_ROOT)\n",
    "\n",
    "fig_path = REPOSITORY_ROOT / Path(\"results/CLEO/initilization/fitting_psd\")\n",
    "fig_path.mkdir(parents=True, exist_ok=True)"
   ]
  },
  {
   "cell_type": "code",
   "execution_count": null,
   "metadata": {},
   "outputs": [
    {
     "name": "stdout",
     "output_type": "stream",
     "text": [
      "(8,)\n",
      "(8,)\n",
      "[0 0 0 0 1 1 1 1]\n",
      "[0 1 2 3 4 5 6 7]\n",
      "(8,)\n",
      "(8,)\n",
      "[0 0 1 1 2 2 3 3]\n",
      "[ 0  2  6  8 12 14 18 20]\n"
     ]
    }
   ],
   "source": [
    "import numpy as np\n",
    "import xarray as xr\n",
    "from sdm_eurec4a.reductions import x_y_flatten\n",
    "\n",
    "da = xr.DataArray(\n",
    "    np.arange(2 * 4).reshape(2, 4),\n",
    "    dims=(\"dim_0\", \"dim_1\"),\n",
    "    coords={\n",
    "        \"dim_0\": np.arange(2),\n",
    "        \"dim_1\": np.arange(4),\n",
    "    },\n",
    ")\n",
    "x, y = x_y_flatten(da, \"dim_0\")\n",
    "print(x.shape)\n",
    "print(y.shape)\n",
    "print(x)\n",
    "print(y)\n",
    "\n",
    "\n",
    "da = xr.DataArray(\n",
    "    np.arange(24).reshape(4, 3, 2),\n",
    "    dims=(\"lon\", \"lat\", \"time\"),\n",
    "    coords={\n",
    "        \"time\": np.arange(2),\n",
    "        \"lat\": np.arange(3),\n",
    "        \"lon\": np.arange(4),\n",
    "    },\n",
    ")\n",
    "x, y = x_y_flatten(da, \"lon\")\n",
    "print(x.shape)\n",
    "print(y.shape)\n",
    "\n",
    "print(x)\n",
    "print(y)"
   ]
  },
  {
   "cell_type": "markdown",
   "metadata": {},
   "source": [
    "### Load datasets"
   ]
  },
  {
   "cell_type": "code",
   "execution_count": null,
   "metadata": {},
   "outputs": [],
   "source": [
    "# Load data\n",
    "# mask_name = \"cloud_mask\"\n",
    "# chosen_id = 1421\n",
    "mask_name = \"rain_mask\"\n",
    "chosen_id = 77\n",
    "\n",
    "identified_clouds = xr.open_dataset(\n",
    "    REPOSITORY_ROOT\n",
    "    / Path(\n",
    "        f\"data/observation/cloud_composite/processed/identified_clouds/identified_clouds_{mask_name}.nc\"\n",
    "    )\n",
    ")\n",
    "# select only clouds which are between 800 and 1100 m\n",
    "identified_clouds = identified_clouds.where(\n",
    "    (identified_clouds.alt >= 800) & (identified_clouds.alt <= 1100), drop=True\n",
    ")\n",
    "\n",
    "distance_IC_DS = xr.open_dataset(\n",
    "    REPOSITORY_ROOT\n",
    "    / Path(f\"data/observation/combined/distance/distance_dropsondes_clouds_{mask_name}.nc\")\n",
    ")\n",
    "\n",
    "cloud_composite = xr.open_dataset(\n",
    "    REPOSITORY_ROOT / Path(\"data/observation/cloud_composite/processed/cloud_composite.nc\"),\n",
    "    chunks={\"time\": 1000},\n",
    ")\n",
    "\n",
    "drop_sondes = xr.open_dataset(\n",
    "    REPOSITORY_ROOT\n",
    "    / Path(\"data/observation/dropsonde/Level_3/EUREC4A_JOANNE_Dropsonde-RD41_Level_3_v2.0.0.nc\")\n",
    ")\n",
    "drop_sondes = drop_sondes.rename({\"launch_time\": \"time\"})\n",
    "drop_sondes = drop_sondes.swap_dims({\"sonde_id\": \"time\"})\n",
    "drop_sondes = drop_sondes.sortby(\"time\")\n",
    "drop_sondes = drop_sondes.chunk({\"time\": -1})"
   ]
  },
  {
   "cell_type": "markdown",
   "metadata": {},
   "source": [
    "Chose an individual cloud to handle.\n",
    "Use ``chosen_id = 77`` for the rain_mask case\n",
    "Use ``chosen_id = 1421`` for the cloud_mask case"
   ]
  },
  {
   "cell_type": "code",
   "execution_count": null,
   "metadata": {},
   "outputs": [],
   "source": [
    "# select a single cloud\n",
    "ds_cloud = select_individual_cloud(identified_clouds, chosen_id)\n",
    "ds_sonde = match_clouds_and_dropsondes(\n",
    "    ds_cloud=ds_cloud,\n",
    "    ds_sonde=drop_sondes,\n",
    "    ds_distance=distance_IC_DS,\n",
    "    max_temporal_distance=np.timedelta64(1, \"h\"),\n",
    "    max_spatial_distance=100,\n",
    ")\n",
    "\n",
    "ds_cloudcomposite = match_clouds_and_cloudcomposite(\n",
    "    ds_cloud=ds_cloud,\n",
    "    ds_cloudcomposite=cloud_composite,\n",
    ")\n",
    "ds_cloudcomposite"
   ]
  },
  {
   "cell_type": "markdown",
   "metadata": {},
   "source": [
    "#### Plot the distributions in linear and lognormal space"
   ]
  },
  {
   "cell_type": "markdown",
   "metadata": {},
   "source": [
    "Compare Particle Size Distribution **WITH and WITHOUT normalized** by bin width"
   ]
  },
  {
   "cell_type": "code",
   "execution_count": null,
   "metadata": {},
   "outputs": [],
   "source": [
    "style = dict(\n",
    "    marker=\".\",\n",
    "    linestyle=\"none\",\n",
    "    color=\"k\",\n",
    "    alpha=0.5,\n",
    ")\n",
    "fig, axs = plt.subplots(\n",
    "    nrows=1, ncols=2, figsize=(10, 5), sharex=True, sharey=True, layout=\"constrained\"\n",
    ")\n",
    "\n",
    "fig.suptitle(f\"Cloud ID: {chosen_id} - Particle Size Distribution - Norm and NOT Norm\")\n",
    "\n",
    "psd = ds_cloudcomposite[\"particle_size_distribution\"]\n",
    "symlog = symlog_from_array(psd, axes=axs[0])\n",
    "axs[0].plot(\n",
    "    psd[\"diameter\"],\n",
    "    psd,\n",
    "    **style,\n",
    ")\n",
    "axs[0].set_title(\"Counts  #/l/µm\\nnormalization by bin width\")\n",
    "axs[0].set_xscale(\"log\")\n",
    "axs[0].set_yscale(symlog)\n",
    "axs[0].set_xlabel(\"Diameter x [µm]\")\n",
    "axs[0].set_ylabel(\"Counts [#/l/µm]\")\n",
    "\n",
    "psd = ds_cloudcomposite[\"particle_size_distribution\"] * ds_cloudcomposite[\"bin_width\"]\n",
    "symlog = symlog_from_array(psd, axes=axs[1])\n",
    "axs[1].plot(\n",
    "    psd[\"diameter\"],\n",
    "    psd,\n",
    "    **style,\n",
    ")\n",
    "axs[1].set_title(\"Total Counts #/l \\nwithout normalization by bin width\")\n",
    "axs[1].set_xscale(\"log\")\n",
    "axs[1].set_yscale(symlog)\n",
    "axs[1].set_xlabel(\"Diameter x [µm]\")\n",
    "axs[1].set_ylabel(\"Counts [#/l]\")\n",
    "\n",
    "for ax in axs.flatten():\n",
    "    ax.set_ylim(0, None)\n",
    "    ax.grid(True)"
   ]
  },
  {
   "cell_type": "code",
   "execution_count": null,
   "metadata": {},
   "outputs": [
    {
     "data": {
      "text/plain": [
       "{'Long_name': 'Particle Size Distribution',\n",
       " 'unit': '#/L/micrometer',\n",
       " 'comment': 'histogram: each bin gives the number of droplets per liter of air, normalized by the bin width (see \"bw\")'}"
      ]
     },
     "execution_count": null,
     "metadata": {},
     "output_type": "execute_result"
    }
   ],
   "source": [
    "ds_cloudcomposite[\"particle_size_distribution\"].attrs"
   ]
  },
  {
   "cell_type": "markdown",
   "metadata": {},
   "source": [
    "Particle Size Distribution **NOT normalized** by bin width"
   ]
  },
  {
   "cell_type": "code",
   "execution_count": null,
   "metadata": {},
   "outputs": [],
   "source": [
    "style = dict(\n",
    "    marker=\".\",\n",
    "    linestyle=\"none\",\n",
    "    color=\"k\",\n",
    "    alpha=0.5,\n",
    ")\n",
    "psd = ds_cloudcomposite[\"particle_size_distribution\"] * ds_cloudcomposite[\"bin_width\"]\n",
    "fig, axs = plt.subplots(3, 1, figsize=(10, 7), layout=\"constrained\")\n",
    "\n",
    "fig.suptitle(f\"Cloud ID: {chosen_id} - Particle Size Distribution - different xscales\")\n",
    "\n",
    "axs[0].plot(\n",
    "    psd[\"diameter\"],\n",
    "    psd,\n",
    "    **style,\n",
    ")\n",
    "axs[0].set_xlabel(\"Linear of x\")\n",
    "axs[0].set_xlabel(\"Diameter x [µm]\")\n",
    "axs[0].set_ylabel(\"Counts [#/m^3]\")\n",
    "axs[1].plot(\n",
    "    psd[\"diameter\"],\n",
    "    psd,\n",
    "    **style,\n",
    ")\n",
    "axs[1].set_xscale(\"log\")\n",
    "axs[1].set_title(\"Linear of x on log10 scale\")\n",
    "axs[1].set_xlabel(\"Diameter x [µm]\")\n",
    "axs[1].set_ylabel(\"Counts [#/m^3]\")\n",
    "\n",
    "axs[2].plot(\n",
    "    np.log(psd[\"diameter\"]),\n",
    "    psd,\n",
    "    **style,\n",
    ")\n",
    "axs[2].set_title(\"Linear of Ln(x)\")\n",
    "axs[2].set_xlabel(\"Diameter Ln(x) [Ln(µm)]\")\n",
    "axs[2].set_ylabel(\"Counts [#/m^3]\")\n",
    "\n",
    "for ax in axs.flatten():\n",
    "    ax.set_ylabel(\"#/l/µm (binwidth)\")"
   ]
  },
  {
   "cell_type": "code",
   "execution_count": null,
   "metadata": {},
   "outputs": [],
   "source": [
    "import warnings\n",
    "\n",
    "\n",
    "def vsd_from_psd(\n",
    "    ds: xr.Dataset,\n",
    "    psd_name: str = \"particle_size_distribution\",\n",
    "    psd_factor: float = 1e-3,\n",
    "    scale_name: str = \"diameter\",\n",
    "    scale_factor: float = 1e-6,\n",
    "    radius_given: bool = False,\n",
    ") -> xr.DataArray:\n",
    "    \"\"\"\n",
    "    Calculate the volume size distribution from the particle size distribution.\n",
    "    VSD = PSD * 4/3 * pi * r^3\n",
    "\n",
    "    Note\n",
    "    ----\n",
    "    - If the diameter is given, set radius to False.\n",
    "    - Make sure, the units are correct.\n",
    "    - If PSD is normalized by bin width (given in .../µm), the VSD is normalized by bin width (given in .../µm).\n",
    "    - For instance given are:\n",
    "        - PSD in #/l (#/(1e3m^3))\n",
    "        - Diameter in µm (1e-6m)\n",
    "    - Then set:\n",
    "        - psd_factor to 1e-3\n",
    "        - scale_factor to 1e-6\n",
    "        - radius_given = False\n",
    "\n",
    "    Parameters\n",
    "    ----------\n",
    "    ds : xr.Dataset\n",
    "        Dataset containing the particle size distribution (``psd_name``) and the diameter or radius (``scale_name``).\n",
    "    psd_name : str, optional\n",
    "        The name of the particle size distribution. Default is \"particle_size_distribution\".\n",
    "        Assumed to have units of 1/m^3.\n",
    "    scale_name : str, optional\n",
    "        The name of the scale. Default is \"diameter\".\n",
    "    scale_factor : float, optional\n",
    "        The scale factor. Default is 1e-6.\n",
    "    radius_given : bool, optional\n",
    "        If set to True, it is assumed, that under ``scale_name`` the radius is stored.\n",
    "        If set to False, it is assumed, that under ``scale_name`` the diameter is stored.\n",
    "        Default is False.\n",
    "\n",
    "    Returns\n",
    "    -------\n",
    "    xr.DataArray\n",
    "        The volume size distribution.\n",
    "        Make sure to check the units and otherwise set the value!\n",
    "\n",
    "    \"\"\"\n",
    "    psd = ds[psd_name] * psd_factor\n",
    "\n",
    "    if radius_given == True:\n",
    "        radius = ds[scale_name] * scale_factor\n",
    "    else:\n",
    "        radius = 0.5 * ds[scale_name] * scale_factor\n",
    "\n",
    "    vsd = psd * 4 / 3 * np.pi * radius**3\n",
    "    vsd.attrs = dict(\n",
    "        units=\"m^3/m^3\",\n",
    "        long_name=\"Volume size distribution\",\n",
    "        description=\"Volume size distribution calculated from the particle size distribution. VSD = PSD * 4/3 * pi * radius^3\",\n",
    "    )\n",
    "    vsd.name = \"volume_size_distribution\"\n",
    "    warnings.warn(\"units is set to m^3/m^3. Make sure to check the units and otherwise set the value!\")\n",
    "    return vsd"
   ]
  },
  {
   "cell_type": "markdown",
   "metadata": {},
   "source": [
    "# Ideas on how to fit a normal distribution"
   ]
  },
  {
   "cell_type": "code",
   "execution_count": null,
   "metadata": {},
   "outputs": [
    {
     "data": {
      "text/plain": [
       "<matplotlib.legend.Legend at 0x7fffa4782f60>"
      ]
     },
     "execution_count": null,
     "metadata": {},
     "output_type": "execute_result"
    }
   ],
   "source": [
    "ax = plt.subplot(111)\n",
    "\n",
    "psd = ds_cloudcomposite[\"particle_size_distribution\"]\n",
    "\n",
    "symlog = symlog_from_array(psd, ax)\n",
    "ax.plot(\n",
    "    psd.diameter,\n",
    "    psd.diameter * 0,\n",
    "    marker=\"+\",\n",
    "    label=\"with zeros\",\n",
    "    linestyle=\"None\",\n",
    ")\n",
    "ax.set_xscale(\"log\")\n",
    "\n",
    "ax.legend()"
   ]
  },
  {
   "cell_type": "markdown",
   "metadata": {},
   "source": [
    "### Lets make a simple test, if one can use the 2 dim array to use a a fitting."
   ]
  },
  {
   "cell_type": "markdown",
   "metadata": {},
   "source": [
    "#### Chose an individual psd"
   ]
  },
  {
   "cell_type": "markdown",
   "metadata": {},
   "source": [
    "#### Use Astropy "
   ]
  },
  {
   "cell_type": "code",
   "execution_count": null,
   "metadata": {},
   "outputs": [
    {
     "name": "stdout",
     "output_type": "stream",
     "text": [
      "[4.03916544e+04 8.11481775e+00 2.53643375e+00]\n",
      "('amplitude', 'mean', 'stddev')\n"
     ]
    }
   ],
   "source": [
    "from astropy.modeling import models, fitting\n",
    "\n",
    "# Fit the data using a box model.\n",
    "# Bounds are not really needed but included here to demonstrate usage.\n",
    "# Fit the data using a Gaussian\n",
    "x, y = x_y_flatten(psd, \"diameter\")\n",
    "\n",
    "g_init_log = models.Gaussian1D(amplitude=10.0, mean=2, stddev=1.0)\n",
    "g_init = models.Gaussian1D(amplitude=1e5, mean=1e1, stddev=1e1)\n",
    "fit_g = fitting.LevMarLSQFitter()\n",
    "x_new = np.log(x)\n",
    "y_new = y.copy()\n",
    "g_log = fit_g(g_init, x_new, y_new)\n",
    "g = fit_g(g_init, x, y_new)\n",
    "# # Plot the data with the best-fit model\n",
    "plt.figure(figsize=(8, 5))\n",
    "plt.xscale(\"log\")\n",
    "plt.yscale(symlog)\n",
    "plt.plot(x, y_new, \"ko\")\n",
    "plt.plot(x, g_log(x_new), label=\"Gaussian xlog\")\n",
    "plt.plot(x, g(x), label=\"Gaussian\")\n",
    "plt.xlabel(\"Diameter\")\n",
    "plt.ylabel(\"Count\")\n",
    "plt.legend()\n",
    "\n",
    "print(g.parameters)\n",
    "print(g.param_names)"
   ]
  },
  {
   "cell_type": "markdown",
   "metadata": {},
   "source": [
    "#### Use scipy curve fitting \n",
    "https://docs.scipy.org/doc/scipy/reference/generated/scipy.optimize.curve_fit.html#scipy.optimize.curve_fit"
   ]
  },
  {
   "cell_type": "code",
   "execution_count": null,
   "metadata": {},
   "outputs": [],
   "source": [
    "import numpy as np\n",
    "import matplotlib.pyplot as plt\n",
    "from scipy.optimize import curve_fit\n",
    "\n",
    "\n",
    "def func(x, a, b, c):\n",
    "    return a * np.exp(-b * x) + c\n",
    "\n",
    "\n",
    "def gaussian(x: np.ndarray, amplitude: float = 1, mean: float = 0, sigma: float = 1):\n",
    "    res = amplitude * 1 / np.sqrt(2 * np.pi) / sigma * np.exp(-0.5 * ((x - mean) / sigma) ** 2)\n",
    "    return res\n",
    "\n",
    "\n",
    "# def gaussian_log(x : np.ndarray, amplitude : float = 1, mean : float = 0, sigma : float= 1):\n",
    "#     res = amplitude * 1/np.sqrt(2*np.pi) /sigma * np.exp(-0.5 * ((np.log(x) - mean) / sigma)**2)\n",
    "#     return res\n",
    "\n",
    "\n",
    "def double_gaussian(\n",
    "    x: np.ndarray,\n",
    "    amplitude_1: float = 1,\n",
    "    mean_1: float = 0,\n",
    "    sigma_1: float = 1,\n",
    "    amplitude_2: float = 1,\n",
    "    mean_2: float = 0,\n",
    "    sigma_2: float = 1,\n",
    "):\n",
    "    res = gaussian(x, amplitude_1, mean_1, sigma_1) + gaussian(x, amplitude_2, mean_2, sigma_2)\n",
    "    return res"
   ]
  },
  {
   "cell_type": "code",
   "execution_count": null,
   "metadata": {},
   "outputs": [
    {
     "data": {
      "text/plain": [
       "-13.815510557964274"
      ]
     },
     "execution_count": null,
     "metadata": {},
     "output_type": "execute_result"
    }
   ],
   "source": [
    "x, y = x_y_flatten(psd, \"diameter\")\n",
    "\n",
    "plt.xscale(\"log\")\n",
    "plt.yscale(symlog)\n",
    "plt.plot(\n",
    "    x,\n",
    "    y,\n",
    "    marker=\"+\",\n",
    "    linestyle=\"None\",\n",
    ")\n",
    "np.log(1e-6)"
   ]
  },
  {
   "cell_type": "code",
   "execution_count": null,
   "metadata": {},
   "outputs": [
    {
     "data": {
      "text/plain": [
       "[<matplotlib.lines.Line2D at 0x7ffd08525d90>]"
      ]
     },
     "execution_count": null,
     "metadata": {},
     "output_type": "execute_result"
    }
   ],
   "source": [
    "x, y = x_y_flatten(psd, \"diameter\")\n",
    "\n",
    "# x, y = x_y_flatten(psd.where(psd != 0, drop = True), \"diameter\")\n",
    "\n",
    "xdata = np.log(x)\n",
    "np.nan_to_num(xdata, copy=False, nan=0)\n",
    "ydata = y.copy()\n",
    "np.nan_to_num(ydata, copy=False, nan=0)\n",
    "x_split = 4.5\n",
    "plt.yscale(symlog)\n",
    "plt.plot(\n",
    "    xdata,\n",
    "    ydata,\n",
    "    marker=\"+\",\n",
    "    linestyle=\"None\",\n",
    ")\n",
    "plt.axvline(x_split, color=\"k\", linestyle=\"--\")\n",
    "\n",
    "sigma = ydata == 0\n",
    "sigma = sigma.astype(float)\n",
    "sigma = sigma * 1e5 + 1e-10\n",
    "# sigma[ydata == 0] = 0\n",
    "\n",
    "idx_low = np.where(xdata <= x_split)\n",
    "idx_high = np.where(xdata > x_split)\n",
    "xdata_low = xdata[idx_low]\n",
    "ydata_low = ydata[idx_low]\n",
    "xdata_high = xdata[idx_high]\n",
    "ydata_high = ydata[idx_high]\n",
    "sigma_low = sigma[idx_low]\n",
    "sigma_high = sigma[idx_high]\n",
    "plt.plot(xdata_low, sigma_low, marker=\"x\", linestyle=\"None\")\n",
    "plt.plot(xdata_high, sigma_high, marker=\"x\", linestyle=\"None\")"
   ]
  },
  {
   "cell_type": "code",
   "execution_count": null,
   "metadata": {},
   "outputs": [
    {
     "name": "stdout",
     "output_type": "stream",
     "text": [
      "[3.48004290e+04 2.01895369e+00 3.21150244e-01]\n"
     ]
    }
   ],
   "source": [
    "popt_low, pcov_low = curve_fit(gaussian, xdata_low, ydata_low, p0=[1e5, -11, 3], sigma=sigma_low)\n",
    "popt_high, pcov_high = curve_fit(gaussian, xdata_high, ydata_high, p0=[1e-1, -8.5, 5], sigma=sigma_high)\n",
    "\n",
    "popt = np.concatenate((popt_low, popt_high))\n",
    "pcov = np.concatenate((pcov_low, pcov_high))\n",
    "plt.xscale(\"linear\")\n",
    "\n",
    "x_new = np.arange(0.5, 9, 0.01)\n",
    "\n",
    "\n",
    "plt.plot(xdata, ydata, \"k.\", alpha=0.5, label=\"data\")\n",
    "plt.plot(np.log(psd.diameter), psd.median(dim=\"time\"), \"k-\", label=\"Median\")\n",
    "plt.plot(xdata_low, ydata_low, \".\", alpha=0.5, label=\"data low\")\n",
    "plt.plot(xdata_high, ydata_high, \".\", alpha=0.5, label=\"data high\")\n",
    "\n",
    "plt.plot(x_new, gaussian(x_new, *popt_low), \"-\", label=\"low\")\n",
    "plt.plot(x_new, gaussian(x_new, *popt_high), \"-\", label=\"high\")\n",
    "plt.plot(x_new, double_gaussian(x_new, *popt), \"r--\", label=\"total\")\n",
    "# plt.yscale(symlog)\n",
    "\n",
    "plt.legend()\n",
    "# plt.ylim(1e-3, 1e5)\n",
    "\n",
    "print(popt_low)\n",
    "# print(popt_high)\n",
    "# print(np.linalg.cond(pcov_low))\n",
    "# print(np.linalg.cond(pcov_high))"
   ]
  },
  {
   "cell_type": "code",
   "execution_count": null,
   "metadata": {},
   "outputs": [
    {
     "name": "stdout",
     "output_type": "stream",
     "text": [
      "[34800.42903134127, 7.530441621654451, 1.378712708056673]\n"
     ]
    }
   ],
   "source": [
    "popt_low, pcov_low = curve_fit(gaussian, xdata_low, ydata_low, p0=[1e5, -11, 3], sigma=sigma_low)\n",
    "popt_high, pcov_high = curve_fit(gaussian, xdata_high, ydata_high, p0=[1e-1, -8.5, 5], sigma=sigma_high)\n",
    "\n",
    "popt = np.concatenate((popt_low, popt_high))\n",
    "pcov = np.concatenate((pcov_low, pcov_high))\n",
    "plt.xscale(\"linear\")\n",
    "\n",
    "x_new = np.arange(0.5, 9, 0.01)\n",
    "\n",
    "x_new = np.exp(x_new)\n",
    "popt_low = list(popt_to_meter(*popt_low).values())\n",
    "\n",
    "plt.xscale(\"log\")\n",
    "plt.plot(x, ydata, \"k.\", alpha=0.5, label=\"data\")\n",
    "# plt.plot(psd.diameter, psd, 'k.', alpha = 0.1)\n",
    "plt.plot(psd.diameter, psd.median(dim=\"time\"), \"k-\", label=\"Median\")\n",
    "plt.plot(x[idx_low], ydata_low, \".\", alpha=0.5, label=\"data low\")\n",
    "plt.plot(x[idx_high], ydata_high, \".\", alpha=0.5, label=\"data high\")\n",
    "\n",
    "plt.plot(x_new, gaussian(x_new, *popt_low), \"-\", label=\"low\")\n",
    "# plt.plot(x_new, gaussian(x_new, *popt_high), '-', label = 'high')\n",
    "# plt.plot(x_new, double_gaussian(x_new, *popt), 'r--', label = 'total')\n",
    "# plt.yscale(symlog)\n",
    "\n",
    "plt.legend()\n",
    "# plt.ylim(1e-3, 1e5)\n",
    "\n",
    "print(popt_low)\n",
    "# print(popt_high)\n",
    "# print(np.linalg.cond(pcov_low))\n",
    "# print(np.linalg.cond(pcov_high))"
   ]
  },
  {
   "cell_type": "code",
   "execution_count": null,
   "metadata": {},
   "outputs": [
    {
     "data": {
      "text/plain": [
       "[inf, 1863.9284729985998, 3.9697880606869833]"
      ]
     },
     "execution_count": null,
     "metadata": {},
     "output_type": "execute_result"
    }
   ],
   "source": [
    "def popt_to_meter(amplitude, mean, sigma):\n",
    "    \"\"\"\n",
    "    Converts the units of amplitude, mean and sigma to the correct type.\n",
    "\n",
    "    Parameters\n",
    "    ----------\n",
    "    amplitude : float\n",
    "        The amplitude of the gaussian.\n",
    "        It is assumed to be given in #/l thus #/dm^3\n",
    "    mean : float\n",
    "        The mean of the gaussian.\n",
    "        It is assumed to be given in ln(m).\n",
    "    sigma : float\n",
    "        The standard deviation of the gaussian.\n",
    "        It is assumed to be given in ln(m).\n",
    "\n",
    "    Returns\n",
    "    -------\n",
    "    dict\n",
    "        A dictionary containing the amplitude, mean and sigma in the correct units.\n",
    "        The amplitude is given in #/cm^3, the mean and sigma are given in m.\n",
    "    \"\"\"\n",
    "    amplitude = amplitude\n",
    "    mean = np.exp(mean)\n",
    "    sigma = np.exp(sigma)\n",
    "    return dict(\n",
    "        amplitude=amplitude,\n",
    "        mean=mean,\n",
    "        sigma=sigma,\n",
    "    )\n",
    "\n",
    "\n",
    "list(popt_to_meter(*popt_low).values())\n",
    "\n",
    "# plt.plot(x_new, gaussian(x_new, *popt_high), '-', label = 'high')"
   ]
  },
  {
   "cell_type": "markdown",
   "metadata": {},
   "source": [
    "Double gaussian curve fit"
   ]
  },
  {
   "cell_type": "code",
   "execution_count": null,
   "metadata": {},
   "outputs": [
    {
     "data": {
      "text/plain": [
       "[<matplotlib.lines.Line2D at 0x7fff2075cec0>]"
      ]
     },
     "execution_count": null,
     "metadata": {},
     "output_type": "execute_result"
    }
   ],
   "source": [
    "xdata = np.linspace(0, 15, 100)\n",
    "y1 = gaussian(xdata, 2.5, 1.3, 0.5)\n",
    "y2 = gaussian(xdata, 2.5, 10.3, 1.5)\n",
    "y = y1 + y2\n",
    "rng = np.random.default_rng()\n",
    "y_noise = 0.01 * rng.normal(size=xdata.size)\n",
    "ydata = y + y_noise\n",
    "\n",
    "plt.plot(xdata, ydata, \"b-\", label=\"data\")\n",
    "popt, pcov = curve_fit(gaussian, xdata, ydata, p0=[11, 1, 1])\n",
    "plt.plot(xdata, gaussian(xdata, *popt), \"r-\")\n",
    "x_split = 5\n",
    "idx_low = np.where(xdata > x_split)\n",
    "idx_high = np.where(xdata <= x_split)\n",
    "xdata_low = xdata[idx_low]\n",
    "ydata_low = ydata[idx_low]\n",
    "xdata_high = xdata[idx_high]\n",
    "ydata_high = ydata[idx_high]\n",
    "\n",
    "popt_low, pcov_low = curve_fit(gaussian, xdata_low, ydata_low, p0=[11, 1, 1])\n",
    "popt_high, pcov_high = curve_fit(gaussian, xdata_high, ydata_high, p0=[11, 1, 1])\n",
    "\n",
    "popt = np.concatenate((popt_low, popt_high))\n",
    "\n",
    "plt.plot(xdata, ydata, \"b-\", label=\"data\")\n",
    "plt.plot(xdata, double_gaussian(xdata, *popt), \"r-\")"
   ]
  },
  {
   "cell_type": "code",
   "execution_count": null,
   "metadata": {},
   "outputs": [
    {
     "data": {
      "text/plain": [
       "[<matplotlib.lines.Line2D at 0x7ffe9057da00>]"
      ]
     },
     "execution_count": null,
     "metadata": {},
     "output_type": "execute_result"
    }
   ],
   "source": [
    "xdata = np.linspace(0, 15, 100)\n",
    "\n",
    "y1 = gaussian(xdata, 2.5, 1.3, 0.5)\n",
    "y2 = gaussian(xdata, 2.5, 10.3, 1.5)\n",
    "y = y1 + y2\n",
    "rng = np.random.default_rng()\n",
    "y_noise = 0.01 * rng.normal(size=xdata.size)\n",
    "ydata = y + y_noise\n",
    "ydata = np.exp(ydata)\n",
    "\n",
    "\n",
    "x_split = 5\n",
    "idx_low = np.where(xdata > x_split)\n",
    "idx_high = np.where(xdata <= x_split)\n",
    "xdata_low = xdata[idx_low]\n",
    "ydata_low = ydata[idx_low]\n",
    "xdata_high = xdata[idx_high]\n",
    "ydata_high = ydata[idx_high]\n",
    "\n",
    "popt_low, pcov_low = curve_fit(gaussian, xdata_low, ydata_low, p0=[11, 1, 1])\n",
    "popt_high, pcov_high = curve_fit(gaussian, xdata_high, ydata_high, p0=[11, 1, 1])\n",
    "\n",
    "popt = np.concatenate((popt_low, popt_high))\n",
    "\n",
    "\n",
    "plt.plot(xdata, ydata, \"b-\", label=\"data\")\n",
    "plt.plot(xdata, ydata, \"b-\", label=\"data\")\n",
    "plt.plot(xdata, double_gaussian(xdata, *popt), \"r-\")"
   ]
  }
 ],
 "metadata": {
  "kernelspec": {
   "display_name": "sdm_eurec4a_env312",
   "language": "python",
   "name": "python3"
  },
  "language_info": {
   "codemirror_mode": {
    "name": "ipython",
    "version": 3
   },
   "file_extension": ".py",
   "mimetype": "text/x-python",
   "name": "python",
   "nbconvert_exporter": "python",
   "pygments_lexer": "ipython3",
   "version": "3.12.1"
  }
 },
 "nbformat": 4,
 "nbformat_minor": 2
}
