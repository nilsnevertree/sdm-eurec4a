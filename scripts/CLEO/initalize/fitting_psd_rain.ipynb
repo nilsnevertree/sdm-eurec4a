{
 "cells": [
  {
   "cell_type": "code",
   "execution_count": null,
   "metadata": {},
   "outputs": [],
   "source": [
    "import os\n",
    "\n",
    "from pathlib import Path\n",
    "\n",
    "import matplotlib.pyplot as plt\n",
    "import matplotlib as mpl\n",
    "import numpy as np\n",
    "import xarray as xr\n",
    "\n",
    "from sdm_eurec4a.visulization import set_custom_rcParams, symlog_from_array\n",
    "from sdm_eurec4a.identifications import (\n",
    "    select_individual_cloud_by_id,\n",
    "    match_clouds_and_cloudcomposite,\n",
    "    match_clouds_and_dropsondes,\n",
    ")\n",
    "from sdm_eurec4a.reductions import x_y_flatten\n",
    "from sdm_eurec4a.pySD import probdists\n",
    "\n",
    "from sdm_eurec4a.conversions import msd_from_psd"
   ]
  },
  {
   "cell_type": "code",
   "execution_count": null,
   "metadata": {},
   "outputs": [
    {
     "name": "stdout",
     "output_type": "stream",
     "text": [
      "/home/m/m301096/repositories/sdm-eurec4a/scripts/CLEO/initalize\n",
      "/home/m/m301096/repositories/sdm-eurec4a\n"
     ]
    }
   ],
   "source": [
    "plt.style.use(\"default\")\n",
    "default_colors = set_custom_rcParams()\n",
    "from matplotlib import rc\n",
    "\n",
    "# rc('font',**{'family':'sans-serif','sans-serif':['Helvetica']})\n",
    "## for Palatino and other serif fonts use:\n",
    "# rc('font',**{'family':'serif','serif':['Palatino']})\n",
    "rc(\"text\", usetex=False)\n",
    "\n",
    "# THE PATH TO THE SCRIPT DIRECTORY\n",
    "script_dir = os.path.abspath(\"/home/m/m301096/repositories/sdm-eurec4a/scripts/CLEO/initalize\")\n",
    "print(script_dir)\n",
    "\n",
    "REPOSITORY_ROOT = Path(script_dir).parents[2]\n",
    "print(REPOSITORY_ROOT)\n",
    "\n",
    "fig_path = REPOSITORY_ROOT / Path(\"results/CLEO/initilization/fitting_psd\")\n",
    "fig_path.mkdir(parents=True, exist_ok=True)"
   ]
  },
  {
   "cell_type": "markdown",
   "metadata": {},
   "source": [
    "### Load datasets"
   ]
  },
  {
   "cell_type": "code",
   "execution_count": null,
   "metadata": {},
   "outputs": [],
   "source": [
    "# Load data\n",
    "# mask_name = \"cloud_mask\"\n",
    "# chosen_id = 1421\n",
    "\n",
    "mask_name = \"rain_mask\"\n",
    "chosen_id = 77\n",
    "\n",
    "# chosen_id = None\n",
    "\n",
    "subfig_path = fig_path / Path(f\"{mask_name}_{chosen_id}\")\n",
    "subfig_path.mkdir(parents=True, exist_ok=True)\n",
    "\n",
    "identified_clouds = xr.open_dataset(\n",
    "    REPOSITORY_ROOT\n",
    "    / Path(\n",
    "        f\"data/observation/cloud_composite/processed/identified_clouds/identified_clouds_{mask_name}.nc\"\n",
    "    )\n",
    ")\n",
    "# select only clouds which are between 800 and 1100 m\n",
    "identified_clouds = identified_clouds.where(\n",
    "    (identified_clouds.alt >= 800) & (identified_clouds.alt <= 1100), drop=True\n",
    ")\n",
    "\n",
    "distance_IC_DS = xr.open_dataset(\n",
    "    REPOSITORY_ROOT\n",
    "    / Path(f\"data/observation/combined/distance/distance_dropsondes_clouds_{mask_name}.nc\")\n",
    ")\n",
    "\n",
    "cloud_composite = xr.open_dataset(\n",
    "    REPOSITORY_ROOT / Path(\"data/observation/cloud_composite/processed/cloud_composite.nc\"),\n",
    "    chunks={\"time\": 1000},\n",
    ")\n",
    "\n",
    "drop_sondes = xr.open_dataset(\n",
    "    REPOSITORY_ROOT\n",
    "    / Path(\"data/observation/dropsonde/Level_3/EUREC4A_JOANNE_Dropsonde-RD41_Level_3_v2.0.0.nc\")\n",
    ")\n",
    "drop_sondes = drop_sondes.rename({\"launch_time\": \"time\"})\n",
    "drop_sondes = drop_sondes.swap_dims({\"sonde_id\": \"time\"})\n",
    "drop_sondes = drop_sondes.sortby(\"time\")\n",
    "drop_sondes = drop_sondes.chunk({\"time\": -1})"
   ]
  },
  {
   "cell_type": "markdown",
   "metadata": {},
   "source": [
    "### Use Total number concentration"
   ]
  },
  {
   "cell_type": "markdown",
   "metadata": {},
   "source": [
    "Chose an individual cloud to handle.\n",
    "Use ``chosen_id = 77`` for the rain_mask case\n",
    "Use ``chosen_id = 1421`` for the cloud_mask case"
   ]
  },
  {
   "cell_type": "code",
   "execution_count": null,
   "metadata": {},
   "outputs": [],
   "source": [
    "# select a single cloud\n",
    "if chosen_id is not None:\n",
    "    ds_cloud = select_individual_cloud_by_id(identified_clouds, chosen_id)\n",
    "else:\n",
    "    ds_cloud = identified_clouds\n",
    "\n",
    "ds_cloudcomposite = match_clouds_and_cloudcomposite(\n",
    "    ds_clouds=ds_cloud,\n",
    "    ds_cloudcomposite=cloud_composite,\n",
    ")\n",
    "\n",
    "\n",
    "# Make sure to have the total number of particles in the cloud See also #28 on GitHub\n",
    "attrs = ds_cloudcomposite[\"particle_size_distribution\"].attrs\n",
    "attrs.update(\n",
    "    {\n",
    "        \"unit\": \"#/L\",\n",
    "        \"comment\": \"histogram: each bin gives the number of droplets per liter of air, NOT normalized by the bin width\",\n",
    "    }\n",
    ")\n",
    "ds_cloudcomposite[\"particle_size_distribution\"] = (\n",
    "    ds_cloudcomposite[\"particle_size_distribution\"] * ds_cloudcomposite[\"bin_width\"]\n",
    ")\n",
    "ds_cloudcomposite[\"particle_size_distribution\"].attrs = attrs\n",
    "\n",
    "ds_cloudcomposite"
   ]
  },
  {
   "cell_type": "markdown",
   "metadata": {},
   "source": [
    "#### Plot the distributions in linear and lognormal space"
   ]
  },
  {
   "cell_type": "code",
   "execution_count": null,
   "metadata": {},
   "outputs": [],
   "source": [
    "style = dict(\n",
    "    marker=\".\",\n",
    "    linestyle=\"none\",\n",
    "    color=\"k\",\n",
    "    alpha=0.5,\n",
    ")\n",
    "psd = ds_cloudcomposite[\"particle_size_distribution\"]\n",
    "symlog = symlog_from_array(psd)\n",
    "\n",
    "fig, axss = plt.subplots(3, 2, figsize=(10, 7), layout=\"constrained\")\n",
    "\n",
    "\n",
    "fig.suptitle(f\"Cloud ID: {chosen_id} - Particle Size Distribution - Different xscales\")\n",
    "\n",
    "for axs in axss.T:\n",
    "    axs[0].plot(\n",
    "        psd[\"diameter\"],\n",
    "        psd,\n",
    "        **style,\n",
    "    )\n",
    "    # axs[0].set_title(\"Linear of x\")\n",
    "    axs[0].set_xlabel(\"Diameter [µm]\")\n",
    "    axs[0].set_ylabel(\"Counts [#/l]\")\n",
    "    axs[1].plot(\n",
    "        psd[\"diameter\"],\n",
    "        psd,\n",
    "        **style,\n",
    "    )\n",
    "    axs[1].set_xscale(\"log\")\n",
    "    # axs[1].set_title(\"Linear of x on log10 scale\")\n",
    "    axs[1].set_xlabel(\"Diameter [µm]\")\n",
    "    axs[1].set_ylabel(\"Counts [#/l]\")\n",
    "\n",
    "    axs[2].plot(\n",
    "        np.log(psd[\"diameter\"]),\n",
    "        psd,\n",
    "        **style,\n",
    "    )\n",
    "    # axs[2].set_title(\"Linear of Ln(x)\")\n",
    "    axs[2].set_xlabel(\"Ln(Diameter) [Ln(µm)]\")\n",
    "    axs[2].set_ylabel(\"Counts [#/l]\")\n",
    "\n",
    "for axs in axss.T[1]:\n",
    "    axs.set_yscale(symlog)\n",
    "\n",
    "for ax in axss.flatten():\n",
    "    ax.set_ylabel(\"#/l\")\n",
    "    ax.set_ylim(0, None)\n",
    "\n",
    "fig.savefig(subfig_path / Path(f\"all_scales_psd_{mask_name}_cloud_{chosen_id}.png\"), dpi=300)\n",
    "fig.savefig(subfig_path / Path(f\"all_scales_psd_{mask_name}_cloud_{chosen_id}.svg\"))"
   ]
  },
  {
   "cell_type": "markdown",
   "metadata": {},
   "source": [
    "# Ideas on how to fit a normal distribution"
   ]
  },
  {
   "cell_type": "markdown",
   "metadata": {},
   "source": [
    "#### Use scipy curve fitting \n",
    "https://docs.scipy.org/doc/scipy/reference/generated/scipy.optimize.curve_fit.html#scipy.optimize.curve_fit\n",
    "\n",
    "https://github.com/nilsnevertree/sdm-eurec4a/blob/c990ed160365230515fb583505a0514630339ef4/src/sdm_eurec4a/pySD/probdists.py#L224"
   ]
  },
  {
   "cell_type": "markdown",
   "metadata": {},
   "source": [
    "# Combination of fitted cloud droplet distribution and aerosol distribution"
   ]
  },
  {
   "cell_type": "markdown",
   "metadata": {},
   "source": [
    "## Make sure we use the same units\n",
    "\n",
    "At the moment we have\n",
    "- PSD in $\\# l^{-1}$\n",
    "- Diameter in $µm$\n",
    "\n",
    "We want\n",
    "- PSD in $\\# m^{-3}$\n",
    "- Radius in $m$\n",
    "- Total number concentration $N_a$ in $\\#$ (this is also the ``scalefacs``)"
   ]
  },
  {
   "cell_type": "markdown",
   "metadata": {},
   "source": [
    "So the PSD is in #/dm^3, we want it in #/m^3"
   ]
  },
  {
   "cell_type": "code",
   "execution_count": null,
   "metadata": {},
   "outputs": [],
   "source": [
    "ds_SI_Units = ds_cloudcomposite.copy()\n",
    "# Convert from #/l to #/m^3 -> 1e3\n",
    "ds_SI_Units[\"particle_size_distribution\"] = ds_cloudcomposite[\"particle_size_distribution\"] * 1e3\n",
    "ds_SI_Units[\"particle_size_distribution\"].attrs.update(\n",
    "    unit=\"#/m^3\",\n",
    "    comment=\"histogram: each bin gives the number of droplets per cubic meter of air, NOT normalized by the bin width\",\n",
    ")\n",
    "# Convert from µm to m -> 1e-6\n",
    "ds_SI_Units[\"radius\"] = ds_SI_Units[\"diameter\"] / 2 * 1e-6\n",
    "ds_SI_Units[\"radius\"].attrs.update(long_name=\"Radius\", unit=\"m\", comment=\"radius of the droplets\")\n",
    "# Use radius as new dimension\n",
    "ds_SI_Units = ds_SI_Units.swap_dims({\"diameter\": \"radius\"})\n",
    "# display(ds_SI_Units)"
   ]
  },
  {
   "cell_type": "markdown",
   "metadata": {},
   "source": [
    "Same plot as before but in SI units"
   ]
  },
  {
   "cell_type": "code",
   "execution_count": null,
   "metadata": {},
   "outputs": [],
   "source": [
    "style = dict(\n",
    "    marker=\".\",\n",
    "    linestyle=\"none\",\n",
    "    color=\"k\",\n",
    "    alpha=0.5,\n",
    ")\n",
    "psd = ds_SI_Units[\"particle_size_distribution\"]\n",
    "symlog = symlog_from_array(psd)\n",
    "\n",
    "fig, axss = plt.subplots(3, 2, figsize=(10, 7), layout=\"constrained\")\n",
    "\n",
    "\n",
    "fig.suptitle(f\"Cloud ID: {chosen_id} - Particle Size Distribution - Different xscales\")\n",
    "\n",
    "for axs in axss.T:\n",
    "    axs[0].plot(\n",
    "        psd[\"radius\"],\n",
    "        psd,\n",
    "        **style,\n",
    "    )\n",
    "    # axs[0].set_title(\"Linear of x\")\n",
    "    axs[0].set_xlabel(\"Radius [m]\")\n",
    "    axs[0].set_ylabel(\"Counts [#/m^3]\")\n",
    "    axs[1].plot(\n",
    "        psd[\"radius\"],\n",
    "        psd,\n",
    "        **style,\n",
    "    )\n",
    "    axs[1].set_xscale(\"log\")\n",
    "    # axs[1].set_title(\"Linear of x on log10 scale\")\n",
    "    axs[1].set_xlabel(\"Radius [m]\")\n",
    "    axs[1].set_ylabel(\"Counts [#/m^3]\")\n",
    "\n",
    "    axs[2].plot(\n",
    "        np.log(psd[\"radius\"]),\n",
    "        psd,\n",
    "        **style,\n",
    "    )\n",
    "    # axs[2].set_title(\"Linear of Ln(x)\")\n",
    "    axs[2].set_xlabel(\"Ln(Radius) [Ln(m)]\")\n",
    "    axs[2].set_ylabel(\"Counts [#/m^3]\")\n",
    "\n",
    "for axs in axss.T[1]:\n",
    "    axs.set_yscale(symlog)\n",
    "\n",
    "for ax in axss.flatten():\n",
    "    ax.set_ylabel(\"#/m^3\")\n",
    "    ax.set_ylim(0, None)\n",
    "\n",
    "fig.savefig(subfig_path / Path(f\"SI_all_scales_psd_{mask_name}_cloud_{chosen_id}.png\"), dpi=300)\n",
    "fig.savefig(subfig_path / Path(f\"SI_all_scales_psd_{mask_name}_cloud_{chosen_id}.svg\"))"
   ]
  },
  {
   "cell_type": "markdown",
   "metadata": {},
   "source": [
    "lets get some total number of droplets per timestep to get $N_a$ as in 5.2 from Lohmann et al.\n",
    "\n",
    "The values of the PSD are NOT normalized by the bin width, thus we do NOT need to multiply by them again!\n",
    "\n",
    "We can use the median of the $N_a$ as a scaling factor later during the fitting."
   ]
  },
  {
   "cell_type": "markdown",
   "metadata": {},
   "source": [
    "# Split data into cloud and rain"
   ]
  },
  {
   "cell_type": "code",
   "execution_count": null,
   "metadata": {},
   "outputs": [],
   "source": [
    "def create_LnNormal_from_ds(\n",
    "    ds: xr.Dataset,\n",
    "    initial_guess: list,\n",
    "    total_number_concentration: float,\n",
    "    psd_name: str = \"particle_size_distribution\",\n",
    "    radius_name: str = \"radius\",\n",
    "    use_sigma: bool = True,\n",
    "    **kwargs,\n",
    ") -> probdists.LnNormal:\n",
    "    \"\"\"\n",
    "    Create a LnNormal distribution from a dataset.\n",
    "\n",
    "    Parameters\n",
    "    ----------\n",
    "    ds : xr.Dataset\n",
    "        Dataset containing the PSD and radius.\n",
    "    initial_guess : list\n",
    "        Initial guess for the parameters\n",
    "        - scale factor (total count of droplets),\n",
    "        - geometrical mean,\n",
    "        - geometrical standard deviation.\n",
    "    total_number_concentration : float\n",
    "        Total number of droplets in the cloud.\n",
    "        If the cloud consists of multiple timesteps, use the median.\n",
    "    psd_name : str, optional\n",
    "        Name of the PSD variable, by default \"particle_size_distribution\"\n",
    "    radius_name : str, optional\n",
    "        Name of the radius variable, by default \"radius\"\n",
    "    use_sigma : bool, optional\n",
    "        Use sigma as uncertainty, by default True\n",
    "    **kwargs\n",
    "        Additional keyword arguments for the fit_parameters function.\n",
    "\n",
    "    Returns\n",
    "    -------\n",
    "    probdists.LnNormal\n",
    "        The fitted distribution.\n",
    "    \"\"\"\n",
    "\n",
    "    xdata, ydata = x_y_flatten(ds[psd_name], radius_name)\n",
    "\n",
    "    # make sure no nans in the dataset\n",
    "    np.nan_to_num(xdata, copy=False, nan=0)\n",
    "    np.nan_to_num(ydata, copy=False, nan=0)\n",
    "\n",
    "    if use_sigma:\n",
    "        # Use some default uncertainties for the data.\n",
    "        # Tell the function, that 0 values are very uncertain.\n",
    "        sigma = ydata == 0\n",
    "        sigma = sigma.astype(float)\n",
    "        sigma = sigma * 1e5 + 1e-18\n",
    "    else:\n",
    "        sigma = np.ones_like(ydata) * 1e5\n",
    "\n",
    "    # Fit the parameters\n",
    "    # initialize the cloud distribution using 1.0\n",
    "    dist_cloud = probdists.LnNormal(\n",
    "        geomeans=[1e0],\n",
    "        geosigs=[1e0],\n",
    "        scalefacs=[1e0],\n",
    "    )\n",
    "\n",
    "    # Fit the parameters\n",
    "    dist_cloud.fit_parameters(xdata, ydata, p0=initial_guess, sigma=sigma, **kwargs)\n",
    "    # Make sure to set the scaling factor of the cloud distribution to the total number of particles.\n",
    "    # Here we use the median of the total number of particles from the ATR measurments.\n",
    "    dist_cloud.scalefacs = [total_number_concentration]\n",
    "    return dist_cloud"
   ]
  },
  {
   "cell_type": "code",
   "execution_count": null,
   "metadata": {},
   "outputs": [],
   "source": [
    "split_radius = 4e-5\n",
    "\n",
    "ds_cloud = ds_SI_Units.sel(radius=slice(None, split_radius))\n",
    "ds_rain = ds_SI_Units.sel(radius=slice(split_radius, None))\n",
    "\n",
    "if chosen_id is None:\n",
    "    ds_cloud = ds_cloud.median(dim=\"time\")\n",
    "    ds_rain = ds_rain.median(dim=\"time\")\n",
    "\n",
    "# calculate the total number of droplets in the cloud\n",
    "# calculate total number concentration\n",
    "ds_cloud[\"N_a\"] = ds_cloud[\"particle_size_distribution\"].sum(dim=\"radius\")\n",
    "ds_cloud[\"N_a\"].attrs.update(\n",
    "    long_name=\"N_a total number of particles\",\n",
    "    unit=\"#\",\n",
    "    comment=\"total number of particles per cubic meter of air\",\n",
    ")\n",
    "\n",
    "# calculate the total number of droplets in the rain\n",
    "# calculate total number concentration\n",
    "ds_rain[\"N_a\"] = ds_rain[\"particle_size_distribution\"].sum(dim=\"radius\")\n",
    "ds_rain[\"N_a\"].attrs.update(\n",
    "    long_name=\"N_a total number of particles\",\n",
    "    unit=\"#\",\n",
    "    comment=\"total number of particles per cubic meter of air\",\n",
    ")"
   ]
  },
  {
   "cell_type": "markdown",
   "metadata": {},
   "source": [
    "### Cloud "
   ]
  },
  {
   "cell_type": "code",
   "execution_count": null,
   "metadata": {},
   "outputs": [
    {
     "name": "stderr",
     "output_type": "stream",
     "text": [
      "/home/m/m301096/repositories/sdm-eurec4a/src/sdm_eurec4a/pySD/probdists.py:187: RuntimeWarning: invalid value encountered in log\n",
      "  mutilda = np.log(geomean)\n"
     ]
    }
   ],
   "source": [
    "if chosen_id is None:\n",
    "    N_a_median_cloud = ds_cloud[\"N_a\"].data\n",
    "else:\n",
    "    N_a_median_cloud = ds_cloud[\"N_a\"].median(\"time\").data\n",
    "\n",
    "dist_cloud = create_LnNormal_from_ds(\n",
    "    ds_cloud,\n",
    "    initial_guess=[N_a_median_cloud, 2e-5, 1.38e00],\n",
    "    total_number_concentration=N_a_median_cloud,\n",
    "    use_sigma=True,\n",
    ")"
   ]
  },
  {
   "cell_type": "code",
   "execution_count": null,
   "metadata": {},
   "outputs": [
    {
     "data": {
      "text/plain": [
       "Text(0.5, 1.0, 'Cloud PSD and fitted distribution')"
      ]
     },
     "execution_count": null,
     "metadata": {},
     "output_type": "execute_result"
    }
   ],
   "source": [
    "radii = np.logspace(-8, -3, 100)\n",
    "\n",
    "# Compare the original data to the fit\n",
    "fig, ax = plt.subplots(figsize=(5, 3.5), layout=\"constrained\")\n",
    "ax.plot(ds_SI_Units.radius, ds_SI_Units[\"particle_size_distribution\"], \"k.\", alpha=0.5)\n",
    "ax.plot(radii, dist_cloud(radii) * np.sum(dist_cloud.scalefacs), label=\"Fitted distribution\")\n",
    "ax.set_xscale(\"log\")\n",
    "ax.set_yscale(symlog)\n",
    "ax.set_ylim(0, None)\n",
    "ax.legend()\n",
    "ax.set_xlabel(\"Radius [m]\")\n",
    "ax.set_ylabel(\"Counts [#/m3]\")\n",
    "ax.set_title(\"Cloud PSD and fitted distribution\")"
   ]
  },
  {
   "cell_type": "markdown",
   "metadata": {},
   "source": [
    "### Cloud "
   ]
  },
  {
   "cell_type": "code",
   "execution_count": null,
   "metadata": {},
   "outputs": [
    {
     "name": "stdout",
     "output_type": "stream",
     "text": [
      "nmodes = 1.00e+00\n",
      "geomeans = [6.25e-05, ]\n",
      "geosigs = [8.86e+00, ]\n",
      "scalefacs = [2.67e+02, ]\n",
      "numconc = 2.67e+02\n",
      "nmodes = 1.00e+00\n",
      "geomeans = [6.25e-05, ]\n",
      "geosigs = [8.86e+00, ]\n",
      "scalefacs = [5.35e+03, ]\n",
      "numconc = 5.35e+03\n"
     ]
    }
   ],
   "source": [
    "N_a_median_rain = ds_rain[\"N_a\"].median(\"time\").data\n",
    "\n",
    "dist_rain = create_LnNormal_from_ds(\n",
    "    ds_rain,\n",
    "    initial_guess=[N_a_median_rain, 2e-5, 1.38e00],\n",
    "    total_number_concentration=N_a_median_rain,\n",
    "    use_sigma=True,\n",
    ")\n",
    "print(dist_rain)\n",
    "dist_rain.scalefacs[0] = dist_rain.scalefacs[0] * 2e1\n",
    "print(dist_rain)"
   ]
  },
  {
   "cell_type": "code",
   "execution_count": null,
   "metadata": {},
   "outputs": [
    {
     "data": {
      "text/plain": [
       "Text(0.5, 1.0, 'Cloud PSD and fitted distribution')"
      ]
     },
     "execution_count": null,
     "metadata": {},
     "output_type": "execute_result"
    }
   ],
   "source": [
    "radii = np.logspace(-8, -3, 100)\n",
    "\n",
    "# Compare the original data to the fit\n",
    "fig, ax = plt.subplots(figsize=(5, 3.5), layout=\"constrained\")\n",
    "ax.plot(ds_SI_Units.radius, ds_SI_Units[\"particle_size_distribution\"], \"k.\", alpha=0.5)\n",
    "ax.plot(radii, dist_rain(radii) * np.sum(dist_rain.scalefacs), label=\"Fitted distribution\")\n",
    "ax.set_xscale(\"log\")\n",
    "ax.set_yscale(symlog)\n",
    "ax.set_ylim(0, None)\n",
    "ax.legend()\n",
    "ax.set_xlabel(\"Radius [m]\")\n",
    "ax.set_ylabel(\"Counts [#/m3]\")\n",
    "ax.set_title(\"Cloud PSD and fitted distribution\")"
   ]
  },
  {
   "cell_type": "markdown",
   "metadata": {},
   "source": [
    "Give a first estimate of the fitting"
   ]
  },
  {
   "cell_type": "markdown",
   "metadata": {},
   "source": [
    "### Important for correct plotting\n",
    "Multiply by the scaling factor. It ``scalefacs`` is an array the use its sum! "
   ]
  },
  {
   "cell_type": "code",
   "execution_count": null,
   "metadata": {},
   "outputs": [
    {
     "name": "stderr",
     "output_type": "stream",
     "text": [
      "/home/m/m301096/repositories/sdm-eurec4a/src/sdm_eurec4a/conversions.py:69: UserWarning: units is set to m^3/m^3. Make sure to check the units and otherwise set the value!\n",
      "  warnings.warn(\"units is set to m^3/m^3. Make sure to check the units and otherwise set the value!\")\n",
      "/home/m/m301096/repositories/sdm-eurec4a/src/sdm_eurec4a/conversions.py:146: UserWarning: units is set to kg/m^3. Make sure to check the units and otherwise set the value!\n",
      "  warnings.warn(\"units is set to kg/m^3. Make sure to check the units and otherwise set the value!\")\n"
     ]
    }
   ],
   "source": [
    "radii = np.logspace(-8, -3, 100)\n",
    "\n",
    "# Same Aerosol distribution as given by CLEO example\n",
    "dist_aerosol = probdists.LnNormal(\n",
    "    geomeans=[0.02e-6, 0.2e-6],\n",
    "    geosigs=[1.55, 2.3],\n",
    "    scalefacs=[1e9, 0.3e9],\n",
    ")\n",
    "\n",
    "# COMBINE THE DISTRIBUTIONS\n",
    "dist_combined = (dist_aerosol + dist_cloud) + dist_rain\n",
    "\n",
    "# Create dataset\n",
    "\n",
    "ds_combined = xr.Dataset(\n",
    "    data_vars={\n",
    "        \"particle_size_distribution\": (\"radius\", dist_combined(radii) * np.sum(dist_combined.scalefacs)),\n",
    "    },\n",
    "    coords={\"radius\": radii},\n",
    "    attrs={\n",
    "        \"name\": \"atr\",\n",
    "    },\n",
    ")\n",
    "\n",
    "ds_cloud = xr.Dataset(\n",
    "    data_vars={\n",
    "        \"particle_size_distribution\": (\"radius\", dist_cloud(radii) * np.sum(dist_cloud.scalefacs)),\n",
    "    },\n",
    "    coords={\"radius\": radii},\n",
    "    attrs={\n",
    "        \"name\": \"atr\",\n",
    "    },\n",
    ")\n",
    "\n",
    "ds_aerosol = xr.Dataset(\n",
    "    data_vars={\n",
    "        \"particle_size_distribution\": (\"radius\", dist_aerosol(radii) * np.sum(dist_aerosol.scalefacs)),\n",
    "    },\n",
    "    coords={\"radius\": radii},\n",
    "    attrs={\n",
    "        \"name\": \"atr\",\n",
    "    },\n",
    ")\n",
    "\n",
    "\n",
    "def add_msd(ds):\n",
    "    ds[\"mass_size_distribution\"] = msd_from_psd(\n",
    "        ds=ds,\n",
    "        psd_name=\"particle_size_distribution\",\n",
    "        psd_factor=1e6,\n",
    "        scale_name=\"radius\",\n",
    "        radius_given=True,\n",
    "        scale_factor=1e0,\n",
    "    )\n",
    "\n",
    "\n",
    "add_msd(ds_SI_Units)\n",
    "add_msd(ds_combined)\n",
    "add_msd(ds_cloud)\n",
    "add_msd(ds_aerosol)"
   ]
  },
  {
   "cell_type": "code",
   "execution_count": null,
   "metadata": {},
   "outputs": [],
   "source": [
    "style = dict(linewidth=3.5, alpha=0.7)\n",
    "\n",
    "\n",
    "fig, axs = plt.subplots(nrows=2, ncols=1, figsize=(7, 7), layout=\"constrained\", sharex=True)\n",
    "ax_psd = axs[0]\n",
    "ax_msd = axs[1]\n",
    "\n",
    "for ax in axs.flatten():\n",
    "    ax.set_xscale(\"log\")\n",
    "    ax.set_xlabel(\"Radius [m]\")\n",
    "\n",
    "\n",
    "ax_psd.plot(\n",
    "    ds_SI_Units.radius,\n",
    "    ds_SI_Units[\"particle_size_distribution\"],\n",
    "    linestyle=\"none\",\n",
    "    marker=\".\",\n",
    "    color=\"k\",\n",
    "    alpha=0.5,\n",
    ")\n",
    "ax_psd.plot(ds_aerosol.radius, ds_aerosol[\"particle_size_distribution\"], label=f\"Aersol PSD\", **style)\n",
    "ax_psd.plot(ds_cloud.radius, ds_cloud[\"particle_size_distribution\"], label=f\"Cloud PSD\", **style)\n",
    "ax_psd.plot(\n",
    "    ds_combined.radius,\n",
    "    ds_combined[\"particle_size_distribution\"],\n",
    "    label=f\"Combined PSD\",\n",
    "    linestyle=\"--\",\n",
    "    color=\"g\",\n",
    "    **style,\n",
    ")\n",
    "\n",
    "ax_msd.plot(\n",
    "    ds_SI_Units.radius,\n",
    "    ds_SI_Units[\"mass_size_distribution\"],\n",
    "    linestyle=\"none\",\n",
    "    marker=\".\",\n",
    "    color=\"k\",\n",
    "    alpha=0.5,\n",
    ")\n",
    "ax_msd.plot(ds_aerosol.radius, ds_aerosol[\"mass_size_distribution\"], label=f\"Aersol PSD\", **style)\n",
    "ax_msd.plot(ds_cloud.radius, ds_cloud[\"mass_size_distribution\"], label=f\"Cloud PSD\", **style)\n",
    "\n",
    "ax_msd.plot(\n",
    "    ds_combined.radius,\n",
    "    ds_combined[\"mass_size_distribution\"],\n",
    "    label=f\"Combined PSD\",\n",
    "    linestyle=\"--\",\n",
    "    color=\"g\",\n",
    "    **style,\n",
    ")\n",
    "\n",
    "ax_psd.set_ylabel(\"Counts [#/m3]\")\n",
    "ax_msd.set_ylabel(\"Mass [kg/m3]\")\n",
    "ax_psd.set_title(\"Particle Size Distribution\")\n",
    "ax_msd.set_title(\"Mass Size Distribution\")\n",
    "\n",
    "for ax in axs.flatten():\n",
    "    ax.legend()\n",
    "    ax.set_yscale(symlog)\n",
    "\n",
    "fig.suptitle(\n",
    "    f\"Aerosol distribution as in Lohmann et al. 2016 (Fig. 5.5) \\n ATR measurment from Cloud {chosen_id}\"\n",
    ")\n",
    "fig.savefig(subfig_path / Path(f\"psd_msd_cloud_and_aerosol.png\"), dpi=300)\n",
    "fig.savefig(subfig_path / Path(f\"psd_msd_cloud_and_aerosol.svg\"))"
   ]
  },
  {
   "cell_type": "code",
   "execution_count": null,
   "metadata": {},
   "outputs": [
    {
     "data": {
      "text/plain": [
       "PosixPath('/home/m/m301096/repositories/sdm-eurec4a/results/CLEO/initilization/fitting_psd/rain_mask_77')"
      ]
     },
     "execution_count": null,
     "metadata": {},
     "output_type": "execute_result"
    }
   ],
   "source": [
    "subfig_path"
   ]
  },
  {
   "cell_type": "code",
   "execution_count": null,
   "metadata": {},
   "outputs": [
    {
     "name": "stdout",
     "output_type": "stream",
     "text": [
      "nmodes = 4.00e+00\n",
      "geomeans = [2.00e-08, 2.00e-07, 6.87e-06, 6.25e-05, ]\n",
      "geosigs = [1.55e+00, 2.30e+00, 1.05e+00, 8.86e+00, ]\n",
      "scalefacs = [1.00e+09, 3.00e+08, 1.29e+08, 5.35e+03, ]\n",
      "numconc = 1.43e+09\n"
     ]
    }
   ],
   "source": [
    "print(dist_combined)"
   ]
  },
  {
   "cell_type": "code",
   "execution_count": null,
   "metadata": {},
   "outputs": [],
   "source": [
    "geomeans = [\n",
    "    3.77e-06,\n",
    "]\n",
    "geosigs = [\n",
    "    1.38e00,\n",
    "]\n",
    "scalefacs = [\n",
    "    2.73e08,\n",
    "]\n",
    "numconc = 2.73e08"
   ]
  },
  {
   "cell_type": "code",
   "execution_count": null,
   "metadata": {},
   "outputs": [
    {
     "name": "stdout",
     "output_type": "stream",
     "text": [
      "nmodes = 1.00e+00\n",
      "geomeans = [6.25e-05, ]\n",
      "geosigs = [8.86e+00, ]\n",
      "scalefacs = [5.35e+03, ]\n",
      "numconc = 5.35e+03\n"
     ]
    }
   ],
   "source": [
    "print(dist_rain)"
   ]
  },
  {
   "cell_type": "code",
   "execution_count": null,
   "metadata": {},
   "outputs": [
    {
     "name": "stdout",
     "output_type": "stream",
     "text": [
      "nmodes = 2.00e+00\n",
      "geomeans = [3.77e-06, 6.25e-05, ]\n",
      "geosigs = [1.38e+00, 8.86e+00, ]\n",
      "scalefacs = [2.73e+08, 5.35e+03, ]\n",
      "numconc = 2.73e+08\n"
     ]
    }
   ],
   "source": [
    "dist_cloud_1421 = probdists.LnNormal(\n",
    "    geomeans=[\n",
    "        3.77e-06,\n",
    "    ],\n",
    "    geosigs=[\n",
    "        1.38e00,\n",
    "    ],\n",
    "    scalefacs=[\n",
    "        2.73e08,\n",
    "    ],\n",
    ")\n",
    "dist_better_cloud_77 = dist_cloud_1421 + dist_rain\n",
    "print(dist_better_cloud_77)\n",
    "\n",
    "ds_better = xr.Dataset(\n",
    "    data_vars={\n",
    "        \"particle_size_distribution\": (\n",
    "            \"radius\",\n",
    "            dist_better_cloud_77(radii) * np.sum(dist_better_cloud_77.scalefacs),\n",
    "        ),\n",
    "    },\n",
    "    coords={\"radius\": radii},\n",
    "    attrs={\n",
    "        \"name\": \"atr\",\n",
    "    },\n",
    ")\n",
    "ds_cloud_1421 = xr.Dataset(\n",
    "    data_vars={\n",
    "        \"particle_size_distribution\": (\n",
    "            \"radius\",\n",
    "            dist_cloud_1421(radii) * np.sum(dist_cloud_1421.scalefacs),\n",
    "        ),\n",
    "    },\n",
    "    coords={\"radius\": radii},\n",
    "    attrs={\n",
    "        \"name\": \"atr\",\n",
    "    },\n",
    ")\n",
    "\n",
    "ds_rain_fit = xr.Dataset(\n",
    "    data_vars={\n",
    "        \"particle_size_distribution\": (\"radius\", dist_rain(radii) * np.sum(dist_rain.scalefacs)),\n",
    "    },\n",
    "    coords={\"radius\": radii},\n",
    "    attrs={\n",
    "        \"name\": \"atr\",\n",
    "    },\n",
    ")\n",
    "\n",
    "add_msd(ds_better)\n",
    "add_msd(ds_cloud_1421)\n",
    "add_msd(ds_rain_fit)"
   ]
  },
  {
   "cell_type": "code",
   "execution_count": null,
   "metadata": {},
   "outputs": [],
   "source": [
    "style = dict(linewidth=3.5, alpha=0.7)\n",
    "\n",
    "\n",
    "fig, axs = plt.subplots(nrows=2, ncols=1, figsize=(7, 7), layout=\"constrained\", sharex=True)\n",
    "ax_psd = axs[0]\n",
    "ax_msd = axs[1]\n",
    "\n",
    "for ax in axs.flatten():\n",
    "    ax.set_xscale(\"log\")\n",
    "    ax.set_xlabel(\"Radius [m]\")\n",
    "\n",
    "\n",
    "ax_psd.plot(\n",
    "    ds_SI_Units.radius,\n",
    "    ds_SI_Units[\"particle_size_distribution\"],\n",
    "    linestyle=\"none\",\n",
    "    marker=\".\",\n",
    "    color=\"k\",\n",
    "    alpha=0.5,\n",
    ")\n",
    "ax_psd.plot(ds_rain_fit.radius, ds_rain_fit[\"particle_size_distribution\"], label=f\"Rain PSD\", **style)\n",
    "ax_psd.plot(\n",
    "    ds_cloud_1421.radius,\n",
    "    ds_cloud_1421[\"particle_size_distribution\"],\n",
    "    label=f\"Cloud fit from 1421 PSD\",\n",
    "    **style,\n",
    ")\n",
    "\n",
    "ax_psd.plot(\n",
    "    ds_better.radius,\n",
    "    ds_better[\"particle_size_distribution\"],\n",
    "    label=f\"Combined PSD\",\n",
    "    linestyle=\"--\",\n",
    "    color=\"g\",\n",
    "    **style,\n",
    ")\n",
    "\n",
    "ax_msd.plot(\n",
    "    ds_SI_Units.radius,\n",
    "    ds_SI_Units[\"mass_size_distribution\"],\n",
    "    linestyle=\"none\",\n",
    "    marker=\".\",\n",
    "    color=\"k\",\n",
    "    alpha=0.5,\n",
    ")\n",
    "ax_msd.plot(ds_rain_fit.radius, ds_rain_fit[\"mass_size_distribution\"], label=f\"Rain MSD\", **style)\n",
    "ax_msd.plot(ds_cloud_1421.radius, ds_cloud_1421[\"mass_size_distribution\"], label=f\"Cloud MSD\", **style)\n",
    "\n",
    "ax_msd.plot(\n",
    "    ds_better.radius,\n",
    "    ds_better[\"mass_size_distribution\"],\n",
    "    label=f\"Combined MSD\",\n",
    "    linestyle=\"--\",\n",
    "    color=\"g\",\n",
    "    **style,\n",
    ")\n",
    "\n",
    "ax_psd.set_ylabel(\"Counts [#/m3]\")\n",
    "ax_msd.set_ylabel(\"Mass [kg/m3]\")\n",
    "ax_psd.set_title(\"Particle Size Distribution\")\n",
    "ax_msd.set_title(\"Mass Size Distribution\")\n",
    "\n",
    "for ax in axs.flatten():\n",
    "    ax.legend()\n",
    "    ax.set_yscale(symlog)\n",
    "\n",
    "fig.suptitle(f\"ATR measurment from Cloud {chosen_id}\")\n",
    "fig.savefig(subfig_path / Path(f\"1421and77_psd_msd_cloud_and_aerosol.png\"), dpi=300)\n",
    "fig.savefig(subfig_path / Path(f\"1421and77_psd_msd_cloud_and_aerosol.svg\"))"
   ]
  },
  {
   "cell_type": "code",
   "execution_count": null,
   "metadata": {},
   "outputs": [
    {
     "name": "stdout",
     "output_type": "stream",
     "text": [
      "nmodes = 2.00e+00\n",
      "geomeans = [3.77e-06, 6.25e-05, ]\n",
      "geosigs = [1.38e+00, 8.86e+00, ]\n",
      "scalefacs = [2.73e+08, 5.35e+03, ]\n",
      "numconc = 2.73e+08\n"
     ]
    }
   ],
   "source": [
    "print(dist_better_cloud_77)"
   ]
  },
  {
   "cell_type": "code",
   "execution_count": null,
   "metadata": {},
   "outputs": [],
   "source": [
    "msd_from_psd(ds_rain, \"particle_size_distribution\").sum(dim=\"radius\", keep_attrs=True).sum(\n",
    "    dim=\"time\", keep_attrs=True\n",
    ")"
   ]
  },
  {
   "cell_type": "code",
   "execution_count": null,
   "metadata": {},
   "outputs": [
    {
     "data": {
      "text/plain": [
       "[<matplotlib.lines.Line2D at 0x7fff4a195e20>]"
      ]
     },
     "execution_count": null,
     "metadata": {},
     "output_type": "execute_result"
    }
   ],
   "source": [
    "fig, ax = plt.subplots(figsize=(5, 3.5), layout=\"constrained\")\n",
    "\n",
    "symlog = symlog_from_array(ds_rain[\"particle_size_distribution\"], offset=0, linthresh=4e1)\n",
    "\n",
    "ax.set_xscale(\"log\")\n",
    "ax.set_yscale(symlog)\n",
    "ax.plot(\n",
    "    ds_rain.radius,\n",
    "    ds_rain[\"particle_size_distribution\"],\n",
    "    label=f\"Rain PSD\",\n",
    "    marker=\".\",\n",
    "    linestyle=\"none\",\n",
    "    alpha=0.5,\n",
    ")\n",
    "ax.plot(ds_rain_fit.radius, ds_rain_fit[\"particle_size_distribution\"], label=f\"Rain fit PSD\", **style)"
   ]
  },
  {
   "cell_type": "code",
   "execution_count": null,
   "metadata": {},
   "outputs": [],
   "source": []
  },
  {
   "cell_type": "code",
   "execution_count": null,
   "metadata": {},
   "outputs": [],
   "source": []
  },
  {
   "cell_type": "code",
   "execution_count": null,
   "metadata": {},
   "outputs": [],
   "source": []
  }
 ],
 "metadata": {
  "kernelspec": {
   "display_name": "sdm_eurec4a_env312",
   "language": "python",
   "name": "python3"
  },
  "language_info": {
   "codemirror_mode": {
    "name": "ipython",
    "version": 3
   },
   "file_extension": ".py",
   "mimetype": "text/x-python",
   "name": "python",
   "nbconvert_exporter": "python",
   "pygments_lexer": "ipython3",
   "version": "3.12.1"
  }
 },
 "nbformat": 4,
 "nbformat_minor": 2
}
