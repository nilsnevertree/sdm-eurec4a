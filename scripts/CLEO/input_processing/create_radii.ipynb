{
 "cells": [
  {
   "cell_type": "code",
   "execution_count": null,
   "metadata": {},
   "outputs": [],
   "source": [
    "import matplotlib.pyplot as plt\n",
    "import numpy as np\n",
    "import sdm_eurec4a.pySD.probdists as probdists\n",
    "import sdm_eurec4a.pySD.rgens as rgens"
   ]
  },
  {
   "cell_type": "code",
   "execution_count": null,
   "metadata": {},
   "outputs": [],
   "source": [
    "rspan = [5e-9, 5e-5]  # min and max range of radii to sample [m]\n",
    "radiigen = rgens.SampleLog10RadiiGen(rspan)  # radii are sampled from rspan [m]\n",
    "distributions = dict()\n",
    "\n",
    "# ### --- Choice of Superdroplet Radii Generator --- ###\n",
    "# monor = 0.05e-6  # all SDs have this same radius [m]\n",
    "# radiigen_monor = rgens.MonoAttrGen(monor)  # all SDs have the same radius [m]\n",
    "\n",
    "# [ 0.0306321  -8.08286251  1.13333363]\n",
    "### --- Choice of Droplet Radius Probability Distribution --- ###\n",
    "geomeans = [0.02e-6, 0.2e-6, 3.5e-6, 7.53e-06]\n",
    "geosigs = [1.55, 2.3, 2, 1.13]\n",
    "scalefacs = [1e6, 0.3e6, 0.5e6, 0.72]\n",
    "# geomeans             = [0.02e-6, 0.15e-6]\n",
    "# geosigs              = [1.4, 1.6]\n",
    "# scalefacs            = [6e6, 4e6]\n",
    "distributions[\"LnNormal\"] = probdists.LnNormal(geomeans, geosigs, scalefacs)\n",
    "\n",
    "# dirac0 = monor  # radius in sample closest to this value is dirac delta peak\n",
    "# numconc = 1e6  # total no. conc of real droplets [m^-3]\n",
    "# numconc = 512e6  # total no. conc of real droplets [m^-3]\n",
    "# distributions[\"DiracDelta\"] = probdists.DiracDelta(dirac0)\n",
    "\n",
    "# volexpr0 = 30.531e-6  # peak of volume exponential distribution [m]\n",
    "# numconc = 2 ** (23)  # total no. conc of real droplets [m^-3]\n",
    "# distributions[\"VolExponential\"] = probdists.VolExponential(volexpr0, rspan)\n",
    "\n",
    "# reff = 7e-6  # effective radius [m]\n",
    "# nueff = 0.08  # effective variance\n",
    "# # xiprobdist = probdists.ClouddropsHansenGamma(reff, nueff)\n",
    "# rdist1 = probdists.ClouddropsHansenGamma(reff, nueff)\n",
    "# nrain = 3000  # raindrop concentration [m^-3]\n",
    "# qrain = 0.9  # rainwater content [g/m^3]\n",
    "# dvol = 8e-4  # mean volume diameter [m]\n",
    "# # xiprobdist = probdists.RaindropsGeoffroyGamma(nrain, qrain, dvol)\n",
    "# rdist2 = probdists.RaindropsGeoffroyGamma(nrain, qrain, dvol)\n",
    "# numconc = 1e9  # [m^3]\n",
    "# distribs = [rdist1, rdist2]\n",
    "# scalefacs = [1000, 1]\n",
    "# distributions[\"CombinedRadiiProbDistribs\"] = probdists.CombinedRadiiProbDistribs(distribs, scalefacs)\n",
    "\n",
    "#\n",
    "\n",
    "n_axs = len(distributions)\n",
    "fig, axs = plt.subplots(nrows=1, ncols=n_axs, figsize=(13, 4))\n",
    "\n",
    "if not isinstance(axs, np.ndarray):\n",
    "    axs = [axs]\n",
    "else:\n",
    "    axs = axs.flatten()\n",
    "\n",
    "for name, ax in zip(distributions, axs):\n",
    "    N_C = 100\n",
    "    radii = radiigen(nsupers=N_C)\n",
    "    dist = distributions[name](radiigen(nsupers=N_C))\n",
    "\n",
    "    ax.set_title(name)\n",
    "    ax.set_xscale(\"log\")\n",
    "    ax.plot(radii, dist, marker=\".\", linestyle=\"none\", label=\"lognormal\")"
   ]
  },
  {
   "cell_type": "code",
   "execution_count": null,
   "metadata": {},
   "outputs": [],
   "source": []
  }
 ],
 "metadata": {
  "kernelspec": {
   "display_name": "sdm_eurec4a_env312",
   "language": "python",
   "name": "python3"
  },
  "language_info": {
   "codemirror_mode": {
    "name": "ipython",
    "version": 3
   },
   "file_extension": ".py",
   "mimetype": "text/x-python",
   "name": "python",
   "nbconvert_exporter": "python",
   "pygments_lexer": "ipython3",
   "version": "3.12.1"
  }
 },
 "nbformat": 4,
 "nbformat_minor": 2
}
