{
 "cells": [
  {
   "cell_type": "code",
   "execution_count": null,
   "metadata": {},
   "outputs": [],
   "source": [
    "import os\n",
    "\n",
    "from pathlib import Path\n",
    "\n",
    "import matplotlib.pyplot as plt\n",
    "import matplotlib as mpl\n",
    "import numpy as np\n",
    "import xarray as xr\n",
    "\n",
    "from sdm_eurec4a.visulization import set_custom_rcParams\n",
    "from sdm_eurec4a.visulization import symlog_from_array\n",
    "from sdm_eurec4a.identifications import (\n",
    "    match_clouds_and_dropsondes,\n",
    "    match_clouds_and_cloudcomposite,\n",
    "    select_individual_cloud,\n",
    ")"
   ]
  },
  {
   "cell_type": "code",
   "execution_count": null,
   "metadata": {},
   "outputs": [
    {
     "name": "stdout",
     "output_type": "stream",
     "text": [
      "/home/m/m301096/repositories/sdm-eurec4a/scripts/issues\n",
      "/home/m/m301096/repositories/sdm-eurec4a\n"
     ]
    }
   ],
   "source": [
    "plt.style.use(\"default\")\n",
    "default_colors = set_custom_rcParams()\n",
    "\n",
    "# THE PATH TO THE SCRIPT DIRECTORY\n",
    "script_dir = Path(os.path.abspath(\"/home/m/m301096/repositories/sdm-eurec4a/scripts/issues\"))\n",
    "print(script_dir)\n",
    "\n",
    "REPOSITORY_ROOT = Path(script_dir).parents[1]\n",
    "print(REPOSITORY_ROOT)\n",
    "\n",
    "fig_path = script_dir\n",
    "fig_path.mkdir(parents=True, exist_ok=True)"
   ]
  },
  {
   "cell_type": "markdown",
   "metadata": {},
   "source": [
    "### Load datasets"
   ]
  },
  {
   "cell_type": "code",
   "execution_count": null,
   "metadata": {},
   "outputs": [],
   "source": [
    "# Load data\n",
    "# mask_name = \"cloud_mask\"\n",
    "# chosen_id = 1421\n",
    "mask_name = \"rain_mask\"\n",
    "chosen_id = 77\n",
    "\n",
    "identified_clouds = xr.open_dataset(\n",
    "    REPOSITORY_ROOT\n",
    "    / Path(\n",
    "        f\"data/observation/cloud_composite/processed/identified_clouds/identified_clouds_{mask_name}.nc\"\n",
    "    )\n",
    ")\n",
    "# select only clouds which are between 800 and 1100 m\n",
    "identified_clouds = identified_clouds.where(\n",
    "    (identified_clouds.alt >= 800) & (identified_clouds.alt <= 1100), drop=True\n",
    ")\n",
    "\n",
    "distance_IC_DS = xr.open_dataset(\n",
    "    REPOSITORY_ROOT\n",
    "    / Path(f\"data/observation/combined/distance/distance_dropsondes_clouds_{mask_name}.nc\")\n",
    ")\n",
    "\n",
    "cloud_composite = xr.open_dataset(\n",
    "    REPOSITORY_ROOT / Path(\"data/observation/cloud_composite/processed/cloud_composite.nc\"),\n",
    "    chunks={\"time\": 1000},\n",
    ")\n",
    "\n",
    "drop_sondes = xr.open_dataset(\n",
    "    REPOSITORY_ROOT\n",
    "    / Path(\"data/observation/dropsonde/Level_3/EUREC4A_JOANNE_Dropsonde-RD41_Level_3_v2.0.0.nc\")\n",
    ")\n",
    "drop_sondes = drop_sondes.rename({\"launch_time\": \"time\"})\n",
    "drop_sondes = drop_sondes.swap_dims({\"sonde_id\": \"time\"})\n",
    "drop_sondes = drop_sondes.sortby(\"time\")\n",
    "drop_sondes = drop_sondes.chunk({\"time\": -1})"
   ]
  },
  {
   "cell_type": "markdown",
   "metadata": {},
   "source": [
    "Chose an individual cloud to handle.\n",
    "Use ``chosen_id = 77`` for the rain_mask case\n",
    "Use ``chosen_id = 1421`` for the cloud_mask case"
   ]
  },
  {
   "cell_type": "code",
   "execution_count": null,
   "metadata": {},
   "outputs": [],
   "source": [
    "# select a single cloud\n",
    "ds_cloud = select_individual_cloud(identified_clouds, chosen_id)\n",
    "ds_sonde = match_clouds_and_dropsondes(\n",
    "    ds_cloud=ds_cloud,\n",
    "    ds_sonde=drop_sondes,\n",
    "    ds_distance=distance_IC_DS,\n",
    "    max_temporal_distance=np.timedelta64(1, \"h\"),\n",
    "    max_spatial_distance=100,\n",
    ")\n",
    "\n",
    "ds_cloudcomposite = match_clouds_and_cloudcomposite(\n",
    "    ds_cloud=ds_cloud,\n",
    "    ds_cloudcomposite=cloud_composite,\n",
    ")"
   ]
  },
  {
   "cell_type": "markdown",
   "metadata": {},
   "source": [
    "#### Plot the distributions in linear and lognormal space"
   ]
  },
  {
   "cell_type": "markdown",
   "metadata": {},
   "source": [
    "Compare Particle Size Distribution **WITH and WITHOUT normalized** by bin width"
   ]
  },
  {
   "cell_type": "code",
   "execution_count": null,
   "metadata": {},
   "outputs": [],
   "source": [
    "style = dict(\n",
    "    marker=\".\",\n",
    "    linestyle=\"none\",\n",
    "    color=\"k\",\n",
    "    alpha=0.5,\n",
    ")\n",
    "fig, axs = plt.subplots(\n",
    "    nrows=1, ncols=2, figsize=(10, 5), sharex=True, sharey=True, layout=\"constrained\"\n",
    ")\n",
    "\n",
    "fig.suptitle(f\"Impact of normalization by bin width on Particle Size Distribution\")\n",
    "\n",
    "psd = ds_cloudcomposite[\"particle_size_distribution\"]\n",
    "symlog = symlog_from_array(psd, axes=axs[0])\n",
    "axs[0].plot(\n",
    "    psd[\"diameter\"],\n",
    "    psd,\n",
    "    **style,\n",
    ")\n",
    "axs[0].set_title(\"Counts  #/l/µm\\nnormalization by bin width\")\n",
    "axs[0].set_xscale(\"log\")\n",
    "axs[0].set_yscale(symlog)\n",
    "axs[0].set_xlabel(\"Diameter x [µm]\")\n",
    "axs[0].set_ylabel(\"Counts [#/l/µm]\")\n",
    "\n",
    "psd = ds_cloudcomposite[\"particle_size_distribution\"] * ds_cloudcomposite[\"bin_width\"]\n",
    "symlog = symlog_from_array(psd, axes=axs[1])\n",
    "axs[1].plot(\n",
    "    psd[\"diameter\"],\n",
    "    psd,\n",
    "    **style,\n",
    ")\n",
    "axs[1].set_title(\"Total Counts #/l \\nwithout normalization by bin width\")\n",
    "axs[1].set_xscale(\"log\")\n",
    "axs[1].set_yscale(symlog)\n",
    "axs[1].set_xlabel(\"Diameter x [µm]\")\n",
    "axs[1].set_ylabel(\"Counts [#/l]\")\n",
    "\n",
    "for ax in axs.flatten():\n",
    "    ax.set_ylim(0, None)\n",
    "    ax.grid(True)\n",
    "\n",
    "fig.savefig(\n",
    "    fig_path / f\"28_psd_normalization_cloud_{chosen_id}_{mask_name}.png\", dpi=300, bbox_inches=\"tight\"\n",
    ")"
   ]
  },
  {
   "cell_type": "markdown",
   "metadata": {},
   "source": [
    "Use NOT normalized data and plot all scale options"
   ]
  },
  {
   "cell_type": "code",
   "execution_count": null,
   "metadata": {},
   "outputs": [],
   "source": [
    "style = dict(\n",
    "    marker=\".\",\n",
    "    linestyle=\"none\",\n",
    "    color=\"k\",\n",
    "    alpha=0.5,\n",
    ")\n",
    "psd = ds_cloudcomposite[\"particle_size_distribution\"] * ds_cloudcomposite[\"bin_width\"]\n",
    "symlog = symlog_from_array(psd)\n",
    "\n",
    "fig, axss = plt.subplots(3, 2, figsize=(10, 7), layout=\"constrained\")\n",
    "\n",
    "\n",
    "fig.suptitle(f\"Cloud ID: {chosen_id} - Particle Size Distribution - different xscales\")\n",
    "\n",
    "for axs in axss.T:\n",
    "    axs[0].plot(\n",
    "        psd[\"diameter\"],\n",
    "        psd,\n",
    "        **style,\n",
    "    )\n",
    "    # axs[0].set_title(\"Linear of x\")\n",
    "    axs[0].set_xlabel(\"Diameter x [µm]\")\n",
    "    axs[0].set_ylabel(\"Counts [#/l]\")\n",
    "    axs[1].plot(\n",
    "        psd[\"diameter\"],\n",
    "        psd,\n",
    "        **style,\n",
    "    )\n",
    "    axs[1].set_xscale(\"log\")\n",
    "    # axs[1].set_title(\"Linear of x on log10 scale\")\n",
    "    axs[1].set_xlabel(\"Diameter x [µm]\")\n",
    "    axs[1].set_ylabel(\"Counts [#/l]\")\n",
    "\n",
    "    axs[2].plot(\n",
    "        np.log(psd[\"diameter\"]),\n",
    "        psd,\n",
    "        **style,\n",
    "    )\n",
    "    # axs[2].set_title(\"Linear of Ln(x)\")\n",
    "    axs[2].set_xlabel(\"Diameter Ln(x) [Ln(µm)]\")\n",
    "    axs[2].set_ylabel(\"Counts [#/l]\")\n",
    "\n",
    "for axs in axss.T[1]:\n",
    "    axs.set_yscale(symlog)\n",
    "\n",
    "for ax in axss.flatten():\n",
    "    ax.set_ylabel(\"#/l\")\n",
    "    ax.set_ylim(0, None)"
   ]
  }
 ],
 "metadata": {
  "kernelspec": {
   "display_name": "sdm_eurec4a_env312",
   "language": "python",
   "name": "python3"
  },
  "language_info": {
   "codemirror_mode": {
    "name": "ipython",
    "version": 3
   },
   "file_extension": ".py",
   "mimetype": "text/x-python",
   "name": "python",
   "nbconvert_exporter": "python",
   "pygments_lexer": "ipython3",
   "version": "3.12.1"
  }
 },
 "nbformat": 4,
 "nbformat_minor": 2
}
